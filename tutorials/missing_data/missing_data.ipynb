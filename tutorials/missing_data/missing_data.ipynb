{
 "cells": [
  {
   "cell_type": "markdown",
   "metadata": {
    "id": "6t-Cb3fpFAGm"
   },
   "source": [
    "# Tutorial: O-ring Failure Rates Prior to the Challenger Shuttle Loss\n",
    "## Coping with missing information\n",
    "\n",
    "In this tutorial, we will use a real data set where unwise interpretation of incomplete data had serious consequences to illustrate how such selection effects could be modeled. You will\n",
    "\n",
    "* implement and fit a simple model for the probability of O-ring failure as a function of ambient temperature, assuming a complete data set;\n",
    "* modify the model to account for censoring of the data;\n",
    "* compare the inferences form the complete data with those of the censored data with \"vague\" and \"specific\" prior information."
   ]
  },
  {
   "cell_type": "code",
   "execution_count": null,
   "metadata": {
    "id": "x42O-i3_FAGs"
   },
   "outputs": [],
   "source": [
    "# !pip install emcee incredible pygtc\n",
    "\n",
    "from os import getcwd\n",
    "from os.path import exists as file_exists\n",
    "from yaml import safe_load\n",
    "import numpy as np\n",
    "import scipy.stats as st\n",
    "import matplotlib.pyplot as plt\n",
    "%matplotlib inline\n",
    "\n",
    "import emcee\n",
    "import incredible as cr\n",
    "from pygtc import plotGTC"
   ]
  },
  {
   "cell_type": "code",
   "execution_count": null,
   "metadata": {
    "deletable": false,
    "editable": false,
    "id": "lwHffoqaFAGu",
    "nbgrader": {
     "cell_type": "code",
     "checksum": "2fc00d7d651016a598379417cec38506",
     "grade": true,
     "grade_id": "datapath",
     "locked": true,
     "points": 0,
     "schema_version": 3,
     "solution": false,
     "task": false
    },
    "tags": []
   },
   "outputs": [],
   "source": [
    "thisTutorial = 'missing_data'\n",
    "if getcwd() == '/content':\n",
    "    # assume we are in Colab, and the user's data directory is linked to their drive/Physics267_data\n",
    "    from google.colab import drive\n",
    "    drive.mount('/content/drive')\n",
    "    datapath = '/content/drive/MyDrive/Physics267_data/' + thisTutorial + '/'\n",
    "else:\n",
    "    # assume we are running locally somewhere and have the data under ./data/\n",
    "    datapath = 'data/'"
   ]
  },
  {
   "cell_type": "markdown",
   "metadata": {
    "id": "889Kgkb1FAGv"
   },
   "source": [
    "## Background\n",
    "\n",
    "On January 28, 1986, the Space Shuttle Challenger was destroyed in an explosion during launch. The cause was eventually found to be the failure of an O-ring seal that normally prevents hot gas from leaking between two segments of the solid rocket motors during their burn. The ambient atmospheric temperature of just 36 degrees Fahrenheit,  significantly colder than any previous launch, was determined to be a significant factor in the failure.\n",
    "\n",
    "A relevant excerpt from the [Report of the Presidential Commission on the Space Shuttle Challenger Accident](https://history.nasa.gov/rogersrep/genindex.htm) reads:\n",
    "\n",
    "> #### Temperature Effects\n",
    "\n",
    "> The record of the fateful series of NASA and Thiokol meetings, telephone conferences, notes, and facsimile transmissions on January 27th, the night before the launch of flight 51L, shows that only limited consideration was given to the past history of O-ring damage in terms of temperature. The managers compared as a function of temperature the flights for which thermal distress of O-rings had been observed-not the frequency of occurrence based on all flights (Figure 6). In such a comparison, there is nothing irregular in the distribution of O-ring \"distress\" over the spectrum of joint temperatures at launch between 53 degrees Fahrenheit and 75 degrees Fahrenheit. When the entire history of flight experience is considered, including\"normal\" flights with no erosion or blow-by, the comparison is substantially different (Figure 7).\n",
    "\n",
    "> This comparison of flight history indicates that only three incidents of O-ring thermal distress occurred out of twenty flights with O-ring temperatures at 66 degrees Fahrenheit or above, whereas, all four flights with O-ring temperatures at 63 degrees Fahrenheit or below experienced O-ring thermal distress.\n",
    "\n",
    "> Consideration of the entire launch temperature history indicates that the probability of O-ring distress is increased to almost a certainty if the temperature of the joint is less than 65.\n",
    "\n",
    "**Note:** if you don't see the figure below in your notebook, check it out on the corresponding page of the course website.\n",
    "\n",
    "<table>\n",
    "    <tr>\n",
    "        <td><img src=\"v1p146.jpg\" width=60% alt=\"Top: number of incidents as a function of temperature, showing only launches with at least 1 incident; Bottom: same, including launches that suffered 0 incidents\"></td>\n",
    "    </tr>\n",
    "</table>"
   ]
  },
  {
   "cell_type": "markdown",
   "metadata": {
    "id": "eWgxvcLLFAGw"
   },
   "source": [
    "The data above show the number of incidences of O-ring damage found in previous missions as a function of the temperature at launch."
   ]
  },
  {
   "cell_type": "markdown",
   "metadata": {
    "id": "SSataf5lFAGw"
   },
   "source": [
    "For this notebook, we will simplify the data for each launch from integer (how many incidents of O-ring damage) to boolean (was there any damage, or not). The temperatures corresponding to \"failure\" (any incidents) and \"success\" (no incidents) are:"
   ]
  },
  {
   "cell_type": "code",
   "execution_count": null,
   "metadata": {
    "id": "6MYLlr7CFAGw"
   },
   "outputs": [],
   "source": [
    "failure_temps = np.array([53., 56., 57., 63., 70., 70., 75.])\n",
    "success_temps = np.array([66., 67., 67., 67., 68., 69., 70., 70., 72., 73., 75., 76., 76., 78., 79., 80., 81.])"
   ]
  },
  {
   "cell_type": "markdown",
   "metadata": {
    "id": "uQA_HN5fFAGx"
   },
   "source": [
    "The above cell is provided for convenience, if you want to see how this analysis works out for the real pre-Challenger data (it is also used in the public solutions). As usual, we also provide enrolled students with their own realistic but randomly generated data. Lucky you! (Note: it's consequently possible that you won't reach the same conclusions as others and/or the public solutions. Some of the commentary below may not be applicable.)"
   ]
  },
  {
   "cell_type": "code",
   "execution_count": null,
   "metadata": {
    "id": "WwxwF2nQFAGx"
   },
   "outputs": [],
   "source": [
    "data = safe_load(open(datapath+'data.yaml', 'r').read())\n",
    "failure_temps = np.array(data['failure'])\n",
    "success_temps = np.array(data['success'])\n",
    "print(\"Failure temperatures:\", failure_temps)\n",
    "print(\"Success temperatures:\", success_temps)"
   ]
  },
  {
   "cell_type": "markdown",
   "metadata": {
    "id": "zor0vTU0FAGy"
   },
   "source": [
    "To get a more visual feel, below we plot the data similarly to how they are shown above (a small amount of vertical jitter is included so that points don't cover one another completely)."
   ]
  },
  {
   "cell_type": "code",
   "execution_count": null,
   "metadata": {
    "id": "XKOMC_KvFAGy"
   },
   "outputs": [],
   "source": [
    "plt.rcParams['figure.figsize'] = (6, 4)\n",
    "plt.plot(success_temps, st.norm.rvs(success_temps*0.0, 0.05), 'o', label='Successes');\n",
    "plt.plot(failure_temps, st.norm.rvs(failure_temps*0.0+1.0, 0.05), 'o', label='Failures');\n",
    "plt.xlim(45,85); plt.ylim(-1,2); plt.xlabel('Temperature (F)'); plt.yticks([]); plt.legend();"
   ]
  },
  {
   "cell_type": "markdown",
   "metadata": {
    "id": "ggM6K4x-FAGz"
   },
   "source": [
    "## 1. Defining a model\n",
    "\n",
    "Before worrying about missing data, let's define a model that we might want to fit to the complete data. We're interested in whether the probability of having zero O-ring incidents (or non-zero incidents, conversely) is a function of temperature. One possible parametrization that allows this is the [logistic function](https://en.wikipedia.org/wiki/Logistic_function), which squeezes the real line onto the range (0,1).\n",
    "\n",
    "For reasons that may be clear later, I suggest defining the model in terms of the probability of success (zero incidents)\n",
    "\n",
    "$P_\\mathrm{success}(T|T_0,\\beta,P_\\mathrm{cold},P_\\mathrm{hot}) = P_\\mathrm{cold} + \\frac{P_\\mathrm{hot} - P_\\mathrm{cold}}{1 + e^{-\\beta(T-T_0)}}$,\n",
    "\n",
    "with parameters $T_0$ and $\\beta$ respectively determining the center and width of the logistic function, and $P_\\mathrm{cold}$ and $P_\\mathrm{hot}$ determine the probabilities of success at very low and high temperatures (which need not be 0 or 1).\n",
    "\n",
    "As we'll see in a moment, a model like this provides a smooth, linear-ish transition between two extreme values, without imposing the strong prior that $P_\\mathrm{success}$ _must_ drop to zero at some point, for example."
   ]
  },
  {
   "cell_type": "markdown",
   "metadata": {
    "id": "_ril-8pMFAGz"
   },
   "source": [
    "### 1a. Implement this function and have a look"
   ]
  },
  {
   "cell_type": "code",
   "execution_count": null,
   "metadata": {
    "deletable": false,
    "id": "V8rxP3YxFAG0",
    "nbgrader": {
     "cell_type": "code",
     "checksum": "b3ac97ca95e58471738c5e3de846b5a0",
     "grade": false,
     "grade_id": "Psuccess_func",
     "locked": false,
     "schema_version": 3,
     "solution": true,
     "task": false
    },
    "tags": []
   },
   "outputs": [],
   "source": [
    "def P_success(T, T0, beta, Pcold, Phot):\n",
    "    \"\"\"\n",
    "    Evaluate Psuccess as given above, as a function of T, for parameters T0, beta, Pcold, Phot.\n",
    "    \"\"\"\n",
    "    # YOUR CODE HERE\n",
    "    raise NotImplementedError()"
   ]
  },
  {
   "cell_type": "markdown",
   "metadata": {
    "id": "6lh7HsNdFAG0"
   },
   "source": [
    "Below we plot the function for a few different parameter values. If you've never worked with the logistic function (or a similar _sigmoid_ function) before, this will give you an idea of how flexible it is and isn't."
   ]
  },
  {
   "cell_type": "code",
   "execution_count": null,
   "metadata": {
    "deletable": false,
    "editable": false,
    "id": "a8B4UKJwFAG1",
    "nbgrader": {
     "cell_type": "code",
     "checksum": "2bc87176614e16c5304dfd2074593eac",
     "grade": true,
     "grade_id": "Psuccess_test",
     "locked": true,
     "points": 1,
     "schema_version": 3,
     "solution": false,
     "task": false
    },
    "tags": []
   },
   "outputs": [],
   "source": [
    "plt.rcParams['figure.figsize'] = (6, 4)\n",
    "T_axis = np.arange(32., 100.)\n",
    "plt.plot(T_axis, P_success(T_axis, 70.0, 0.3, 0.0, 1.0));\n",
    "plt.plot(T_axis, P_success(T_axis, 65.0, 0.1, 0.4, 0.9));\n",
    "plt.plot(T_axis, P_success(T_axis, 45.0, 1.0, 0.1, 0.5));\n",
    "plt.plot(T_axis, P_success(T_axis, 80.0, 0.5, 0.9, 0.2));\n",
    "plt.xlabel('temperature (F)');\n",
    "plt.ylabel('probability of a clean launch');"
   ]
  },
  {
   "cell_type": "markdown",
   "metadata": {
    "id": "EgbdliamFAG2"
   },
   "source": [
    "### 1b. PGM and priors\n",
    "\n",
    "Given the definition of the data and model above, draw the PGM for this problem, write down the corresponding probability expressions, and write down the likelihood (all assuming we have the complete data set)."
   ]
  },
  {
   "cell_type": "markdown",
   "metadata": {
    "id": "g0AYuGqzFAG2"
   },
   "source": [
    "> Space for your PGM etc."
   ]
  },
  {
   "cell_type": "markdown",
   "metadata": {
    "id": "wbvxWq-qFAG3"
   },
   "source": [
    "Choosing priors is a little tricky because we're interested in the model's predictions at $T=36$ degrees F, which is an extrapolation even for the complete data set.\n",
    "\n",
    "We'd like our model to be consistent with no trend a priori - that way we can see relatively straightforwardly whether the _data_ require there to be a trend. A pleasingly symmetric way to allow this is to put identical, independent priors on $P_\\mathrm{cold}$ and $P_\\mathrm{hot}$, in particular including the possibility that $P_\\mathrm{cold} > P_\\mathrm{hot}$ even though that isn't what we're looking for. Thus, a solution with $P_\\mathrm{cold}=P_\\mathrm{hot}$, i.e. no trend, is perfectly allowed.\n",
    "\n",
    "Our temperature data are given in integer degrees, so it doesn't make sense to allow values of $\\beta$ too much greater than 1, since the data would not resolve such a sudden change (which would increasingly make $P_\\mathrm{success}$ resemble a step function). By definition, $\\beta>0$ (it's a \"rate\" parameter).\n",
    "\n",
    "In principle, we might allow $T_0$ to take any value. But, arguably, the most sensible thing we can do with such limited information is test whether there is evidence for a trend in the probability of O-ring failure _within the range of the available data_ (or, a little more casually, the range of the figure from the report, above). Given the flexibility already provided by the choices above, there's little obvious benefit to allowing $T_0$ to vary more than this.\n",
    "\n",
    "As usual, **note: in class we will discuss this more and agree on a common set of priors that everyone should use**. Once we have done so, implement the log-prior function below."
   ]
  },
  {
   "cell_type": "code",
   "execution_count": null,
   "metadata": {
    "deletable": false,
    "id": "6ndSzzYPFAG3",
    "nbgrader": {
     "cell_type": "code",
     "checksum": "0552e091afc9af2395b11c9db5948ed0",
     "grade": false,
     "grade_id": "priors_func",
     "locked": false,
     "schema_version": 3,
     "solution": true,
     "task": false
    },
    "tags": []
   },
   "outputs": [],
   "source": [
    "def ln_prior(T0, beta, Pcold, Phot):\n",
    "    \"\"\"\n",
    "    Return the log-prior density for parameters T0, beta, Pcold, Phot\n",
    "    \"\"\"\n",
    "    # YOUR CODE HERE\n",
    "    raise NotImplementedError()"
   ]
  },
  {
   "cell_type": "markdown",
   "metadata": {
    "id": "yhdECw0qFAG4"
   },
   "source": [
    "Let's make sure the parameter space that _definitely_ should be excluded by the prior is:"
   ]
  },
  {
   "cell_type": "code",
   "execution_count": null,
   "metadata": {
    "deletable": false,
    "editable": false,
    "id": "vBHJyCoDFAG4",
    "nbgrader": {
     "cell_type": "code",
     "checksum": "22f3eb4b0e184947bae3d5d5a1bc0687",
     "grade": true,
     "grade_id": "priors_test0",
     "locked": true,
     "points": 1,
     "schema_version": 3,
     "solution": false,
     "task": false
    },
    "tags": []
   },
   "outputs": [],
   "source": [
    "assert ln_prior(-70.0, 0.3, 0.0, 1.0) == -np.inf\n",
    "assert ln_prior(70.0, -0.3, 0.0, 1.0) == -np.inf\n",
    "assert ln_prior(70.0, 0.3, -0.1, 1.0) == -np.inf\n",
    "assert ln_prior(70.0, 0.3, 1.1, 1.0) == -np.inf\n",
    "assert ln_prior(70.0, 0.3, 0.0, -1.0) == -np.inf\n",
    "assert ln_prior(70.0, 0.3, 0.0, 2.0) == -np.inf"
   ]
  },
  {
   "cell_type": "markdown",
   "metadata": {
    "id": "8VsakcQqFAG4"
   },
   "source": [
    "Finally, let's check what your prior implies for the failure probability at a temperature of 36 degrees. This is a good idea whenever we are interesting in inferring a quantity whose prior is \"indirect\" (usually because it is not itself a sampled parameter). We'll need a function that samples our free parameters from the prior:"
   ]
  },
  {
   "cell_type": "code",
   "execution_count": null,
   "metadata": {
    "deletable": false,
    "id": "DZfJ_3p-FAG5",
    "nbgrader": {
     "cell_type": "code",
     "checksum": "4cfeb2b999589f685bc02e54ff6dc80c",
     "grade": false,
     "grade_id": "prior_sample",
     "locked": false,
     "schema_version": 3,
     "solution": true,
     "task": false
    },
    "tags": []
   },
   "outputs": [],
   "source": [
    "def prior_sample():\n",
    "    \"\"\" Return a dictionary with keys T0, beta, Pcold, Phot containing a random draw from the prior \"\"\"\n",
    "    # YOUR CODE HERE\n",
    "    raise NotImplementedError()"
   ]
  },
  {
   "cell_type": "markdown",
   "metadata": {
    "id": "cVHPjsRgFAG5"
   },
   "source": [
    "Have a look:"
   ]
  },
  {
   "cell_type": "code",
   "execution_count": null,
   "metadata": {
    "deletable": false,
    "editable": false,
    "id": "GFBwx_j9FAG6",
    "nbgrader": {
     "cell_type": "code",
     "checksum": "115a3dfd66c3a601bde63b8dfa5a96f9",
     "grade": true,
     "grade_id": "prior_sam_test",
     "locked": true,
     "points": 1,
     "schema_version": 3,
     "solution": false,
     "task": false
    },
    "tags": []
   },
   "outputs": [],
   "source": [
    "plt.rcParams['figure.figsize'] = (5,3)\n",
    "prior_samples = [1.0 - P_success(T=36., **prior_sample()) for i in range(5000)]\n",
    "plt.hist(prior_samples, density=True); plt.xlabel('Prior probability of failure at 36F');"
   ]
  },
  {
   "cell_type": "markdown",
   "metadata": {
    "id": "5io621HbFAG6"
   },
   "source": [
    "Is this distribution as expected based on the priors for the explicit model parameters? Any surprises?"
   ]
  },
  {
   "cell_type": "code",
   "execution_count": null,
   "metadata": {
    "deletable": false,
    "id": "QH76VTuQFAG7",
    "nbgrader": {
     "cell_type": "code",
     "checksum": "3fe6ea254f042cdce304eed2a24a6548",
     "grade": false,
     "grade_id": "sense1",
     "locked": false,
     "schema_version": 3,
     "solution": true,
     "task": false
    },
    "tags": []
   },
   "outputs": [],
   "source": [
    "I_have_thought_about_this_and_it_makes_sense = False # change to True when true\n",
    "# YOUR CODE HERE\n",
    "raise NotImplementedError()"
   ]
  },
  {
   "cell_type": "code",
   "execution_count": null,
   "metadata": {
    "deletable": false,
    "editable": false,
    "id": "ntMnswjsFAG7",
    "nbgrader": {
     "cell_type": "code",
     "checksum": "46769198a7c3f273e44d806e7d2b8a6b",
     "grade": true,
     "grade_id": "prsamp_test",
     "locked": true,
     "points": 1,
     "schema_version": 3,
     "solution": false,
     "task": false
    },
    "tags": []
   },
   "outputs": [],
   "source": [
    "assert I_have_thought_about_this_and_it_makes_sense"
   ]
  },
  {
   "cell_type": "markdown",
   "metadata": {
    "id": "UCLnufCDFAG7"
   },
   "source": [
    "### 1c. Model fitting code\n",
    "\n",
    "Since the point of this tutorial is model design rather than carrying out a fit, a bunch of code is given below. Naturally, you should ensure that you understand what the code is doing, even though there's nothing to add.\n",
    "\n",
    "Here we follow a similar, though simpler, approach to the object oriented code used in the model evaluation notebook, since the models we'll compare all have the same set of free parameters. The `Model` object will take log-prior and log-likelihood functions as inputs in its constructor (instead of deriving new classes corresponding to different likelihoods), and will deal with the computational aspects of fitting the parameters. It will also provide a posterior prediction for the thing we actually care about, the failure probability at a given temperature. To do this, we need to marginalize over the model parameters; that is, we compute the posterior-weighted average of $1-P_\\mathrm{success}$, at some temperature of interest, over the parameter space."
   ]
  },
  {
   "cell_type": "code",
   "execution_count": null,
   "metadata": {
    "deletable": false,
    "editable": false,
    "id": "mdIV_deiFAG8",
    "nbgrader": {
     "cell_type": "code",
     "checksum": "77d1bac2666385abf660fad639699ef7",
     "grade": true,
     "grade_id": "priors_test",
     "locked": true,
     "points": 1,
     "schema_version": 3,
     "solution": false,
     "task": false
    },
    "tags": []
   },
   "outputs": [],
   "source": [
    "class Model:\n",
    "    def __init__(self, log_prior, log_likelihood):\n",
    "        self.log_prior = log_prior\n",
    "        self.log_likelihood = log_likelihood\n",
    "        self.param_names = ['T0', 'beta', 'Pcold', 'Phot']\n",
    "        self.param_labels = [r'$T_0$', r'$\\beta$', r'$P_\\mathrm{cold}$', r'$P_\\mathrm{hot}$']\n",
    "        self.sampler = None\n",
    "        self.samples = None\n",
    "    def log_posterior(self, pvec=None, **params):\n",
    "        '''\n",
    "        Our usual log-posterior function, able to take a vector argument to satisfy emcee\n",
    "        '''\n",
    "        if pvec is not None:\n",
    "            pdict = {k:pvec[i] for i,k in enumerate(self.param_names)}\n",
    "            return self.log_posterior(**pdict)\n",
    "        lnp = self.log_prior(**params)\n",
    "        if lnp != -np.inf:\n",
    "            lnp += self.log_likelihood(**params)\n",
    "        return lnp\n",
    "    def sample_posterior(self, nwalkers=8, nsteps=10000, guess=[65.0, 0.1, 0.25, 0.75], threads=1):\n",
    "        # use emcee to sample the posterior\n",
    "        npars = len(self.param_names)\n",
    "        self.sampler = emcee.EnsembleSampler(nwalkers, npars, self.log_posterior, threads=threads)\n",
    "        start = np.array([np.array(guess)*(1.0 + 0.01*np.random.randn(npars)) for j in range(nwalkers)])\n",
    "        self.sampler.run_mcmc(start, nsteps)\n",
    "        plt.rcParams['figure.figsize'] = (16.0, 3.0*npars)\n",
    "        fig, ax = plt.subplots(npars, 1);\n",
    "        cr.plot_traces(self.sampler.chain[:min(8,nwalkers),:,:], ax, labels=self.param_labels);\n",
    "    def check_chains(self, burn=500, maxlag=500):\n",
    "        '''\n",
    "        Ignoring `burn` samples from the front of each chain, compute convergence criteria and\n",
    "        effective number of samples.\n",
    "        '''\n",
    "        nwalk, nsteps, npars = self.sampler.chain.shape\n",
    "        if burn < 1 or burn >= nsteps:\n",
    "            return\n",
    "        tmp_samples = [self.sampler.chain[i,burn:,:] for i in range(nwalk)]\n",
    "        R = cr.GelmanRubinR(tmp_samples)\n",
    "        print('R =', R)\n",
    "        neff = cr.effective_samples(tmp_samples, maxlag=maxlag, throw=True)\n",
    "        print('neff =', neff)\n",
    "        print('NB: Since walkers are not independent, these will be optimistic!')\n",
    "        return R,neff\n",
    "    def remove_burnin(self, burn=500):\n",
    "        '''\n",
    "        Remove `burn` samples from the front of each chain, and concatenate.\n",
    "        Store the result in self.samples.\n",
    "        '''\n",
    "        nwalk, nsteps, npars = self.sampler.chain.shape\n",
    "        if burn < 1 or burn >= nsteps:\n",
    "            return\n",
    "        self.samples = self.sampler.chain[:,burn:,:].reshape(nwalk*(nsteps-burn), npars)\n",
    "    def posterior_prediction_Pfailure(self, temperatures=np.arange(30., 85.), probs=[0.5, 0.16, 0.84]):\n",
    "        '''\n",
    "        For the given temperatures, compute and store quantiles of the posterior predictive distribution for O-ring failure.\n",
    "        By default, return the median and a 68% credible interval (defined via quantiles).\n",
    "        '''\n",
    "        Pfail = np.array([1.0-P_success(T, self.samples[:,0], self.samples[:,1], self.samples[:,2], self.samples[:,3]) for T in temperatures])\n",
    "        res = {'T':temperatures, 'p':[str(p) for p in probs]}\n",
    "        for p in probs:\n",
    "            res[str(p)] = np.quantile(Pfail, p, axis=1)\n",
    "        self.post_failure = res\n",
    "    def plot_Pfailure(self, ax, color, label):\n",
    "        '''\n",
    "        Plot summaries of the posterior predictive distribution for O-ring failure.\n",
    "        Show the center as a solid line and credible interval(s) bounded by dashed lines.\n",
    "        '''\n",
    "        ax.plot(self.post_failure['T'], self.post_failure[self.post_failure['p'][0]], color+'-', label=label)\n",
    "        n = len(self.post_failure['p'])\n",
    "        if n > 1:\n",
    "            for j in range(1,n):\n",
    "                ax.plot(self.post_failure['T'], self.post_failure[self.post_failure['p'][j]], color+'--')\n",
    "        ax.set_xlabel('T (F)');\n",
    "        ax.set_ylabel(r'$P_\\mathrm{failure}(T)$');\n",
    "        ax.legend();\n",
    "    def post1d_Pfailure(self, T):\n",
    "        self.whist = cr.whist(1.0-P_success(T, *self.samples.T))"
   ]
  },
  {
   "cell_type": "markdown",
   "metadata": {
    "id": "9AZnZ9ipFAG9"
   },
   "source": [
    "## 2. Solution for complete data\n",
    "\n",
    "First, let's see what the solution looks like when there are no missing data. Complete the likelihood function appropriate for a complete data set below."
   ]
  },
  {
   "cell_type": "code",
   "execution_count": null,
   "metadata": {
    "deletable": false,
    "id": "TD4x4hDqFAG-",
    "nbgrader": {
     "cell_type": "code",
     "checksum": "ef8ca088863802c5e407dbc65f755e8c",
     "grade": false,
     "grade_id": "like_complete",
     "locked": false,
     "schema_version": 3,
     "solution": true,
     "task": false
    },
    "tags": []
   },
   "outputs": [],
   "source": [
    "def ln_like_complete(T0, beta, Pcold, Phot):\n",
    "    \"\"\"\n",
    "    Return the log-likelihood corresponding to a complete data set\n",
    "    (Go ahead and access `failure_temps' and `success_temps' from global scope, even though this is not good programming practice)\n",
    "    \"\"\"\n",
    "    # YOUR CODE HERE\n",
    "    raise NotImplementedError()"
   ]
  },
  {
   "cell_type": "markdown",
   "metadata": {
    "id": "dg2V75lvFAG-"
   },
   "source": [
    "Now we put the `Model` code to work. The defaults below _should_ work well enough, but do keep an eye the usual basic diagnostics as provided below, and make any necessary changes."
   ]
  },
  {
   "cell_type": "code",
   "execution_count": null,
   "metadata": {
    "id": "lgh4lqteFAG_"
   },
   "outputs": [],
   "source": [
    "guess = [65.0, 0.1, 0.25, 0.75] # starting position\n",
    "burn = 1000 # burn-in\n",
    "maxlag = 1500 # max lag for Neffective estimate\n",
    "nsteps = 15000"
   ]
  },
  {
   "cell_type": "markdown",
   "metadata": {
    "id": "KMPtgHCDFAHA"
   },
   "source": [
    "First we instantiate the model..."
   ]
  },
  {
   "cell_type": "code",
   "execution_count": null,
   "metadata": {
    "deletable": false,
    "editable": false,
    "id": "QE1XnpjjFAHB",
    "nbgrader": {
     "cell_type": "code",
     "checksum": "8917b6f2b334da9f3dbe55fb365e5a8a",
     "grade": true,
     "grade_id": "like_compl_test",
     "locked": true,
     "points": 1,
     "schema_version": 3,
     "solution": false,
     "task": false
    },
    "tags": []
   },
   "outputs": [],
   "source": [
    "complete_model = Model(ln_prior, ln_like_complete)"
   ]
  },
  {
   "cell_type": "markdown",
   "metadata": {
    "id": "5GmNed_iFAHC"
   },
   "source": [
    "... and run the fit. Note that the parameters are not likely to be individually well contrained by the data, compared with the prior. We don't necessarily care about this - the important question is what the posterior predictive distribution for the probability of failure at a given temperature looks like. (We do, or course, need the chains to be converged and adequately sampled, however.)"
   ]
  },
  {
   "cell_type": "code",
   "execution_count": null,
   "metadata": {
    "id": "n50xi4VCFAHC"
   },
   "outputs": [],
   "source": [
    "%%time\n",
    "complete_model.sample_posterior(nwalkers=8, nsteps=nsteps, guess=guess)"
   ]
  },
  {
   "cell_type": "markdown",
   "metadata": {
    "id": "UIbp50JzFAHD"
   },
   "source": [
    "Check the usual diagnostics (note: autocorrection is likely to be relatively high):"
   ]
  },
  {
   "cell_type": "code",
   "execution_count": null,
   "metadata": {
    "deletable": false,
    "editable": false,
    "id": "ewmHJYa2FAHE",
    "nbgrader": {
     "cell_type": "code",
     "checksum": "d01f817ad28c5088045d399576f964db",
     "grade": true,
     "grade_id": "convergence1",
     "locked": true,
     "points": 1,
     "schema_version": 3,
     "solution": false,
     "task": false
    },
    "tags": []
   },
   "outputs": [],
   "source": [
    "R,neff = complete_model.check_chains(burn=burn, maxlag=maxlag)\n",
    "assert np.all(R < 1.05)\n",
    "assert np.all(neff > 400)"
   ]
  },
  {
   "cell_type": "markdown",
   "metadata": {
    "id": "iba2yQ00FAHF"
   },
   "source": [
    "Finally, remove burn-in and plot the marginal posteriors:"
   ]
  },
  {
   "cell_type": "code",
   "execution_count": null,
   "metadata": {
    "id": "dDukWcadFAHG"
   },
   "outputs": [],
   "source": [
    "complete_model.remove_burnin(burn=burn)\n",
    "plotGTC(complete_model.samples, paramNames=complete_model.param_labels,\n",
    "       figureSize=6, customLabelFont={'size':12}, customTickFont={'size':12}, customLegendFont={'size':16});"
   ]
  },
  {
   "cell_type": "markdown",
   "metadata": {
    "id": "6GdO9YEJFAHG"
   },
   "source": [
    "There's a good chance that the chains and posterior look considerably uglier than you're used to in this course. (See comments in earlier notes about the difference between convergence and having tight constraints.) Again, this is a situation where we are less concerned with constraints on individual parameters than with predictions for the predicted failure probability as a function of temperature. So let's visualize that. The solid and dashed lines below-left show the posterior-predictive median and and percentile-based 68% credible interval for $P_\\mathrm{failure} = 1 - P_\\mathrm{success}$ at each temperature. The right panel shows the posterior for $P_\\mathrm{failure}$ at a temperature of 36 F specifically. Note that this is a case where the median and mode of the posterior are quite different."
   ]
  },
  {
   "cell_type": "code",
   "execution_count": null,
   "metadata": {
    "id": "BrC5QdiUFAHH"
   },
   "outputs": [],
   "source": [
    "complete_model.posterior_prediction_Pfailure()\n",
    "complete_model.post1d_Pfailure(36.)\n",
    "\n",
    "plt.rcParams['figure.figsize'] = (12., 4.)\n",
    "fig, ax = plt.subplots(1, 2);\n",
    "complete_model.plot_Pfailure(ax[0], 'C0', 'complete')\n",
    "ax[1].plot(complete_model.whist['x'], complete_model.whist['density']);\n",
    "ax[1].set_xlabel(r'$P_\\mathrm{failure}(T=36$ F$)$'); ax[1].set_ylabel('posterior density');"
   ]
  },
  {
   "cell_type": "markdown",
   "metadata": {
    "id": "qDXVfltcFAHH"
   },
   "source": [
    "Does this outcome make sense compared with inspection of the data and the prior? Does, as the report concludes, \"the probability of O-ring distress [increase] to almost a certainty\" at temperatures below 65F based on these data?"
   ]
  },
  {
   "cell_type": "code",
   "execution_count": null,
   "metadata": {
    "deletable": false,
    "id": "lymNUFyjFAHH",
    "nbgrader": {
     "cell_type": "code",
     "checksum": "fb7192ce4dde0bf0e692e8ed88deccf6",
     "grade": false,
     "grade_id": "sense2",
     "locked": false,
     "schema_version": 3,
     "solution": true,
     "task": false
    },
    "tags": []
   },
   "outputs": [],
   "source": [
    "I_have_thought_about_these_questions = False # change to True when true\n",
    "# YOUR CODE HERE\n",
    "raise NotImplementedError()"
   ]
  },
  {
   "cell_type": "code",
   "execution_count": null,
   "metadata": {
    "deletable": false,
    "editable": false,
    "id": "c-S-Ls2UFAHI",
    "nbgrader": {
     "cell_type": "code",
     "checksum": "63ef8787e4bc88781a3d327a11c30dad",
     "grade": true,
     "grade_id": "sens2test",
     "locked": true,
     "points": 1,
     "schema_version": 3,
     "solution": false,
     "task": false
    },
    "tags": []
   },
   "outputs": [],
   "source": [
    "assert I_have_thought_about_these_questions"
   ]
  },
  {
   "cell_type": "markdown",
   "metadata": {
    "id": "LWEhjAtFFAHI"
   },
   "source": [
    "## 3. Censored (but somewhat informed) success temperatures\n",
    "\n",
    "Imagine we are in a slightly better situation than that shown in the top panel of Figure 6 from the report. Namely, we are given\n",
    "1. the temperatures of launches where there were O-ring failures (`failure_temps` above),\n",
    "2. the number of launches with no failures,\n",
    "3. a range of temperatures containing the successful launches, but **not** the precise temperatures of each.\n",
    "\n",
    "For (3), we'll just use the actual min and max of `success_temps`. In the next section, we'll look at the results with even less information about the success temperatures."
   ]
  },
  {
   "cell_type": "code",
   "execution_count": null,
   "metadata": {
    "id": "ED2Xzta0FAHJ"
   },
   "outputs": [],
   "source": [
    "success_Tmin = np.min(success_temps)\n",
    "success_Tmax = np.max(success_temps)\n",
    "Nsuccess = len(success_temps)"
   ]
  },
  {
   "cell_type": "markdown",
   "metadata": {
    "id": "jWyxfN4bFAHK"
   },
   "source": [
    "We will now discard `success_temps` entirely, to remove any temptation."
   ]
  },
  {
   "cell_type": "code",
   "execution_count": null,
   "metadata": {
    "deletable": false,
    "editable": false,
    "id": "jZxGl_mHFAHK",
    "nbgrader": {
     "cell_type": "code",
     "checksum": "8d6c6a30cbb0ec3157e6106966f974a6",
     "grade": false,
     "grade_id": "censor",
     "locked": true,
     "schema_version": 3,
     "solution": false,
     "task": false
    },
    "tags": []
   },
   "outputs": [],
   "source": [
    "del success_temps"
   ]
  },
  {
   "cell_type": "markdown",
   "metadata": {
    "id": "-Dyg7FRLFAHL"
   },
   "source": [
    "### 3a. Censored model definition\n",
    "\n",
    "Adjust your PGM and expression for the likelihood to reflect our ignorance of the temperatures of successful launches. Since they are now unknown and not dictated by anything in our previous model, the success temperatures will need a prior distribution, which we will take to be uniform over the range `[success_Tmin, success_Tmax]`."
   ]
  },
  {
   "cell_type": "markdown",
   "metadata": {
    "id": "MToW1_4NFAHL"
   },
   "source": [
    "> Space for your censored PGM, etc."
   ]
  },
  {
   "cell_type": "markdown",
   "metadata": {
    "id": "4yvORxHNFAHM"
   },
   "source": [
    "We will need to marginalize over the parameters corresponding with the success temperatures, since they are no longer fixed data. We _could_ do so by MCMC sampling them, but in this case direct integration is simpler. To be explicit, if $\\theta$ abbreviates the 4 model parameters we had previously and $\\phi$ stands for all the success temperatures, this marginalization looks like\n",
    "\n",
    "$p(\\theta|\\mathrm{data}) = \\int d\\phi \\, p(\\theta,\\phi|\\mathrm{data}) \\propto p(\\theta) \\int d\\phi \\, p(\\phi) \\, p(\\mathrm{data}|\\theta,\\phi) \\equiv p(\\theta) \\, p(\\mathrm{data}|\\theta)$.\n",
    "\n",
    "As the last equivalence indicates, the integral of the sampling distribution, $p(\\mathrm{data}|\\theta,\\phi)$, over the prior for the success temperatures will function as our _marginalized_ likelihood.\n",
    "\n",
    "The reason for marginalizing this way is that, for our particular definition of $P_\\mathrm{success}$ and a uniform prior $p(\\phi)$, the integral is analytic ([see Wikipedia](https://en.wikipedia.org/wiki/Logistic_function)). Take advantage of this when implementing the marginalized likelihood function below."
   ]
  },
  {
   "cell_type": "code",
   "execution_count": null,
   "metadata": {
    "deletable": false,
    "id": "61sM9AJSFAHM",
    "nbgrader": {
     "cell_type": "code",
     "checksum": "ac9cedc22ca27d8add0a53fa3a542ede",
     "grade": false,
     "grade_id": "like_cens",
     "locked": false,
     "schema_version": 3,
     "solution": true,
     "task": false
    },
    "tags": []
   },
   "outputs": [],
   "source": [
    "def ln_like_censored(T0, beta, Pcold, Phot):\n",
    "    \"\"\"\n",
    "    Return the log-likelihood for the case of censored success temperatures.\n",
    "    This prototype assumes the success temperatures will be marginalized over within this function; otherwise\n",
    "    they would need to be additional parameters to be sampled.\n",
    "\n",
    "    (Go ahead and access `failure_temps', `Nsuccess', `success_Tmin' and `success_Tmax' from global scope, even though this is poor programming practice)\n",
    "    \"\"\"\n",
    "# YOUR CODE HERE\n",
    "raise NotImplementedError()"
   ]
  },
  {
   "cell_type": "markdown",
   "metadata": {
    "id": "-JbvmB-hFAHM"
   },
   "source": [
    "### 3b. Censored model fit\n",
    "\n",
    "We can now carry out the usual steps. Again, the choices made below will _probably_ work, but change them if need be."
   ]
  },
  {
   "cell_type": "code",
   "execution_count": null,
   "metadata": {
    "id": "JR5gZy1TFAHN"
   },
   "outputs": [],
   "source": [
    "guess = [65.0, 0.1, 0.25, 0.75] # starting position\n",
    "burn = 1000 # burn-in\n",
    "maxlag = 1500 # max lag for Neffective estimate\n",
    "nsteps = 15000"
   ]
  },
  {
   "cell_type": "code",
   "execution_count": null,
   "metadata": {
    "deletable": false,
    "editable": false,
    "id": "TbvOJcpwFAHN",
    "nbgrader": {
     "cell_type": "code",
     "checksum": "85eb80b9833421e6379f352a7af31987",
     "grade": true,
     "grade_id": "censored_test",
     "locked": true,
     "points": 1,
     "schema_version": 3,
     "solution": false,
     "task": false
    },
    "tags": []
   },
   "outputs": [],
   "source": [
    "censored_model = Model(ln_prior, ln_like_censored)"
   ]
  },
  {
   "cell_type": "code",
   "execution_count": null,
   "metadata": {
    "id": "HwPV0hQlFAHN"
   },
   "outputs": [],
   "source": [
    "%%time\n",
    "censored_model.sample_posterior(nwalkers=8, nsteps=nsteps, guess=guess)"
   ]
  },
  {
   "cell_type": "code",
   "execution_count": null,
   "metadata": {
    "deletable": false,
    "editable": false,
    "id": "01aLGKfzFAHO",
    "nbgrader": {
     "cell_type": "code",
     "checksum": "61fe1e3ecea5e3b427808798be125110",
     "grade": true,
     "grade_id": "diag2",
     "locked": true,
     "points": 1,
     "schema_version": 3,
     "solution": false,
     "task": false
    },
    "tags": []
   },
   "outputs": [],
   "source": [
    "R,neff = censored_model.check_chains(burn=burn, maxlag=maxlag)\n",
    "assert np.all(R < 1.05)\n",
    "assert np.all(neff > 400)"
   ]
  },
  {
   "cell_type": "code",
   "execution_count": null,
   "metadata": {
    "id": "Dty02LJUFAHO"
   },
   "outputs": [],
   "source": [
    "censored_model.remove_burnin(burn=burn)\n",
    "plotGTC([complete_model.samples, censored_model.samples], paramNames=complete_model.param_labels,\n",
    "        chainLabels=['complete', 'censored'],\n",
    "        figureSize=6, customLabelFont={'size':12}, customTickFont={'size':12}, customLegendFont={'size':16});"
   ]
  },
  {
   "cell_type": "markdown",
   "metadata": {
    "id": "xUUScNbjFAHP"
   },
   "source": [
    "Now let's compare the posterior predictions to the previous result."
   ]
  },
  {
   "cell_type": "code",
   "execution_count": null,
   "metadata": {
    "id": "sWHX-jOkFAHP"
   },
   "outputs": [],
   "source": [
    "censored_model.posterior_prediction_Pfailure()\n",
    "censored_model.post1d_Pfailure(36.)\n",
    "\n",
    "plt.rcParams['figure.figsize'] = (12., 4.)\n",
    "fig, ax = plt.subplots(1, 2);\n",
    "complete_model.plot_Pfailure(ax[0], 'C0', 'complete')\n",
    "censored_model.plot_Pfailure(ax[0], 'C1', 'censored')\n",
    "ax[1].plot(complete_model.whist['x'], complete_model.whist['density']);\n",
    "ax[1].plot(censored_model.whist['x'], censored_model.whist['density']);\n",
    "ax[1].set_xlabel(r'$P_\\mathrm{failure}(T=36$ F$)$'); ax[1].set_ylabel('posterior density');"
   ]
  },
  {
   "cell_type": "markdown",
   "metadata": {
    "id": "DVKOpcSzFAHP"
   },
   "source": [
    "Questions to ponder:\n",
    "* Does your censored model manage to make consistent predictions to the model fitted to the complete data?\n",
    "* If there are clear differences, do they make sense in light of what information has been hidden?\n",
    "* Is there still evidence for a temperature-dependent failure rate?\n",
    "* Does, as the report concludes, \"the probability of O-ring distress [increase] to almost a certainty\" at temperatures below 65F based on these (censored) data?"
   ]
  },
  {
   "cell_type": "code",
   "execution_count": null,
   "metadata": {
    "deletable": false,
    "id": "xQhR2ToiFAHQ",
    "nbgrader": {
     "cell_type": "code",
     "checksum": "bde652e3aea98aed247bfe8d89e7c9c5",
     "grade": false,
     "grade_id": "sense3",
     "locked": false,
     "schema_version": 3,
     "solution": true,
     "task": false
    },
    "tags": []
   },
   "outputs": [],
   "source": [
    "I_have_pondered_them = False # change to True when true\n",
    "# YOUR CODE HERE\n",
    "raise NotImplementedError()"
   ]
  },
  {
   "cell_type": "code",
   "execution_count": null,
   "metadata": {
    "deletable": false,
    "editable": false,
    "id": "NRmNbqSMFAHQ",
    "nbgrader": {
     "cell_type": "code",
     "checksum": "cffe490b10b01d374bf04ce5173c956f",
     "grade": true,
     "grade_id": "sense3test",
     "locked": true,
     "points": 1,
     "schema_version": 3,
     "solution": false,
     "task": false
    },
    "tags": []
   },
   "outputs": [],
   "source": [
    "assert I_have_pondered_them"
   ]
  },
  {
   "cell_type": "markdown",
   "metadata": {
    "id": "xoj1FaM6FAHR"
   },
   "source": [
    "## 4. Censored (less informed) success temperatures\n",
    "\n",
    "As a point of comparison, let's fit a model in which the temperature range for the censored (success) data is much less well constrained. This is arguably more analogous to what we might do by eye if presented with the first figure in this notebook, knowing that successful launches were absent from the figure, but without the context that those launches has all taken place in warm weather.\n",
    "\n",
    "In particular, let's take the prior on the success temperatures to be uniform over the range shown in the figure. We followed poor practice by defining `success_Tmin` and `success_Tmax` at global scope earlier and then using them from global scope in `ln_like_censored`, and will continue to do so by reusing those variables below. The upshot is that all of the functions you've already completed should work as-is, as long as the notebook is never run out of order."
   ]
  },
  {
   "cell_type": "code",
   "execution_count": null,
   "metadata": {
    "id": "3qLpKmeEFAHR"
   },
   "outputs": [],
   "source": [
    "success_Tmin = 45.0\n",
    "success_Tmax = 80.0"
   ]
  },
  {
   "cell_type": "markdown",
   "metadata": {
    "id": "n5zSV8t8FAHS"
   },
   "source": [
    "Once again, we expect that the defaults below will work, but be alert and change them if needed."
   ]
  },
  {
   "cell_type": "code",
   "execution_count": null,
   "metadata": {
    "id": "UVnwHqGLFAHS"
   },
   "outputs": [],
   "source": [
    "guess = [65.0, 0.1, 0.25, 0.75] # starting position\n",
    "burn = 1000 # burn-in\n",
    "maxlag = 1500 # max lag for Neffective estimate\n",
    "nsteps = 15000"
   ]
  },
  {
   "cell_type": "markdown",
   "metadata": {
    "id": "veOJbllBFAHT"
   },
   "source": [
    "We proceed just as before, reusing `ln_like_censored`, since it looks up `success_Tmin` and `success_Tmax` at global scope."
   ]
  },
  {
   "cell_type": "code",
   "execution_count": null,
   "metadata": {
    "id": "8k0GnbKeFAHT"
   },
   "outputs": [],
   "source": [
    "verycensored_model = Model(ln_prior, ln_like_censored)"
   ]
  },
  {
   "cell_type": "code",
   "execution_count": null,
   "metadata": {
    "id": "dkv6ba8pFAHU"
   },
   "outputs": [],
   "source": [
    "%%time\n",
    "verycensored_model.sample_posterior(nwalkers=8, nsteps=nsteps, guess=guess)"
   ]
  },
  {
   "cell_type": "code",
   "execution_count": null,
   "metadata": {
    "deletable": false,
    "editable": false,
    "id": "6Q0AmFlZFAHU",
    "nbgrader": {
     "cell_type": "code",
     "checksum": "da35d3d76b53f627b933af53e63f826a",
     "grade": true,
     "grade_id": "diags3",
     "locked": true,
     "points": 1,
     "schema_version": 3,
     "solution": false,
     "task": false
    },
    "tags": []
   },
   "outputs": [],
   "source": [
    "R,neff = verycensored_model.check_chains(burn=burn, maxlag=maxlag)\n",
    "assert np.all(R < 1.05)\n",
    "assert np.all(neff > 400)"
   ]
  },
  {
   "cell_type": "code",
   "execution_count": null,
   "metadata": {
    "id": "1L64hFCCFAHU"
   },
   "outputs": [],
   "source": [
    "verycensored_model.remove_burnin(burn=burn)\n",
    "plotGTC([complete_model.samples, censored_model.samples, verycensored_model.samples], paramNames=complete_model.param_labels,\n",
    "        chainLabels=['complete', 'censored', 'very censored'],\n",
    "        figureSize=6, customLabelFont={'size':12}, customTickFont={'size':12}, customLegendFont={'size':16});"
   ]
  },
  {
   "cell_type": "markdown",
   "metadata": {
    "id": "Jp72XgJiFAHV"
   },
   "source": [
    "This seems like it will lead to somewhat different posterior predictions. Let's check."
   ]
  },
  {
   "cell_type": "code",
   "execution_count": null,
   "metadata": {
    "id": "9xXhHfHqFAHV"
   },
   "outputs": [],
   "source": [
    "verycensored_model.posterior_prediction_Pfailure()\n",
    "verycensored_model.post1d_Pfailure(36.)\n",
    "\n",
    "plt.rcParams['figure.figsize'] = (12., 4.)\n",
    "fig, ax = plt.subplots(1, 2);\n",
    "complete_model.plot_Pfailure(ax[0], 'C0', 'complete')\n",
    "censored_model.plot_Pfailure(ax[0], 'C1', 'censored')\n",
    "verycensored_model.plot_Pfailure(ax[0], 'C2', 'very censored')\n",
    "ax[1].plot(complete_model.whist['x'], complete_model.whist['density']);\n",
    "ax[1].plot(censored_model.whist['x'], censored_model.whist['density']);\n",
    "ax[1].plot(verycensored_model.whist['x'], verycensored_model.whist['density']);\n",
    "ax[1].set_xlabel(r'$P_\\mathrm{failure}(T=36$ F$)$'); ax[1].set_ylabel('posterior density');"
   ]
  },
  {
   "cell_type": "markdown",
   "metadata": {
    "id": "XLOfYm1cFAHV"
   },
   "source": [
    "Ruminate upon the same questions as before:\n",
    "* Does this more censored model manage to make consistent predictions to the model fitted to the complete data and/or the less censored data?\n",
    "* If there are clear differences, do they make sense in light of what information has been hidden?\n",
    "* Is there still evidence for a temperature-dependent failure rate?\n",
    "* Does, as the report concludes, \"the probability of O-ring distress [increase] to almost a certainty\" at temperatures below 65F based on these (very censored) data?"
   ]
  },
  {
   "cell_type": "code",
   "execution_count": null,
   "metadata": {
    "deletable": false,
    "id": "-6MdzeazFAHW",
    "nbgrader": {
     "cell_type": "code",
     "checksum": "57daa37249e145ddb4ce0c0318668786",
     "grade": false,
     "grade_id": "sense4",
     "locked": false,
     "schema_version": 3,
     "solution": true,
     "task": false
    },
    "tags": []
   },
   "outputs": [],
   "source": [
    "I_have_ruminated_sufficiently = False # change to True when true\n",
    "# YOUR CODE HERE\n",
    "raise NotImplementedError()"
   ]
  },
  {
   "cell_type": "code",
   "execution_count": null,
   "metadata": {
    "deletable": false,
    "editable": false,
    "id": "nwzWBmWwFAHW",
    "nbgrader": {
     "cell_type": "code",
     "checksum": "f73eef76bb3e8e82071d9f14207fc32c",
     "grade": true,
     "grade_id": "sense4test",
     "locked": true,
     "points": 1,
     "schema_version": 3,
     "solution": false,
     "task": false
    },
    "tags": []
   },
   "outputs": [],
   "source": [
    "assert I_have_ruminated_sufficiently"
   ]
  },
  {
   "cell_type": "markdown",
   "metadata": {
    "id": "EPSqIo4eFAHX"
   },
   "source": [
    "## Parting thoughts\n",
    "\n",
    "We approached this problem backwards in a sense, knowing the answer provided by the complete data set, and progressively hiding information to find out what it would take to avoid the conclusion that O-ring failure probability increases significantly at lower temperatures. One could argue about whether the simplified model we fit above is ideal, but (we promise) it isn't contrived to reach the following conclusion: even without knowing the specific temperatures of successful launches, it's hard to avoid concluding that a low-temperature launch is less likely to succeed. One also needs to ignore the much less specific (and presumably widely known) fact that every incident-free launch had occured in much warmer weather than Challenger, while, conversely, every launch in remotely chilly weather had had an O-ring incident. This is, effectively, the distinction between the less and more censored versions of the data that you analyzed above.\n",
    "\n",
    "In this notebook, we didn't look at the case of _truncated_ data, where the number of missing points is itself unknown. Something to think about: how would our results above change if we didn't know the number of successful launches, in addition to not knowing their temperatures?"
   ]
  }
 ],
 "metadata": {
  "colab": {
   "provenance": [],
   "toc_visible": true
  },
  "kernelspec": {
   "display_name": "Python 3 (ipykernel)",
   "language": "python",
   "name": "python3"
  },
  "language_info": {
   "codemirror_mode": {
    "name": "ipython",
    "version": 3
   },
   "file_extension": ".py",
   "mimetype": "text/x-python",
   "name": "python",
   "nbconvert_exporter": "python",
   "pygments_lexer": "ipython3",
   "version": "3.12.5"
  }
 },
 "nbformat": 4,
 "nbformat_minor": 4
}
