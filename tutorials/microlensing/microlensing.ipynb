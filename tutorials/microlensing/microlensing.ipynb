{
 "cells": [
  {
   "cell_type": "markdown",
   "metadata": {
    "id": "o9GtMlRnC_ik"
   },
   "source": [
    "# Tutorial: Microlensing Lightcurve\n",
    "\n",
    "In this notebook, we'll be looking at data from the Optical Gravitational Lensing Experiment (OGLE), which monitors stars in our galaxy in the hopes of detecting gravitational microlensing events that occur when a compact mass (e.g. a fainter star) passes in front of the monitored star. Data are available through the [OGLE Early Warning System](http://ogle.astrouw.edu.pl/ogle4/ews/ews.html), which can be fun to browse through.\n",
    "\n",
    "We will use this exercise as an excuse to work through calculation of the evidence using nested sampling, with the idea that we will use it for detection - that is, we will compare a model where there is a microlensing event with one where there is not. This is a little hacky, since the lightcurves available have _already_ been selected to contain lensing events (using a different method), but we'll do it anyway. This is also a case where everyone will be using real rather than simulated data, with all of the interesting features that sometimes implies.\n",
    "\n",
    "You will\n",
    "* perform a standard MCMC fit of a microlensing model, as a baseline;\n",
    "* use nested sampling to find constraints on the model parameters and compute the evidence;\n",
    "* perform nested sampling on a lensing-free (i.e. constant) model, and compare the posterior probability of the two models."
   ]
  },
  {
   "cell_type": "code",
   "execution_count": null,
   "metadata": {
    "id": "HXzugZk6C_in"
   },
   "outputs": [],
   "source": [
    "# !pip install dynesty emcee incredible pygtc\n",
    "\n",
    "from os import getcwd\n",
    "from os.path import exists as file_exists\n",
    "from yaml import safe_load\n",
    "import numpy as np\n",
    "from scipy.optimize import minimize\n",
    "import scipy.stats as st\n",
    "import matplotlib.pyplot as plt\n",
    "%matplotlib inline\n",
    "\n",
    "import dynesty\n",
    "from dynesty import plotting as dyplot\n",
    "import emcee\n",
    "import incredible as cr\n",
    "from pygtc import plotGTC"
   ]
  },
  {
   "cell_type": "code",
   "execution_count": null,
   "metadata": {
    "deletable": false,
    "editable": false,
    "id": "RtL0ig91C_iq",
    "nbgrader": {
     "cell_type": "code",
     "checksum": "730294aa3ba4f3b42c169982a38b136a",
     "grade": true,
     "grade_id": "datapath",
     "locked": true,
     "points": 0,
     "schema_version": 3,
     "solution": false,
     "task": false
    },
    "tags": []
   },
   "outputs": [],
   "source": [
    "thisTutorial = 'microlensing'\n",
    "if getcwd() == '/content':\n",
    "    # assume we are in Colab, and the user's data directory is linked to their drive/Physics267_data\n",
    "    from google.colab import drive\n",
    "    drive.mount('/content/drive')\n",
    "    datapath = '/content/drive/MyDrive/Physics267_data/' + thisTutorial + '/'\n",
    "else:\n",
    "    # assume we are running locally somewhere and have the data under ./data/\n",
    "    datapath = 'data/'"
   ]
  },
  {
   "cell_type": "markdown",
   "metadata": {
    "id": "C5FzQ3sEC_ir"
   },
   "source": [
    "## Data\n",
    "\n",
    "Let's first read in your data and take a look at it. The data are provided in the form of a simple table."
   ]
  },
  {
   "cell_type": "code",
   "execution_count": null,
   "metadata": {
    "id": "tLy1CZO5C_is"
   },
   "outputs": [],
   "source": [
    "dat = np.loadtxt(datapath+'phot.dat.gz')\n",
    "dat.shape"
   ]
  },
  {
   "cell_type": "markdown",
   "metadata": {
    "id": "igkku4kRC_it"
   },
   "source": [
    "As described on the OGLE page, the columns of this text file are\n",
    "\n",
    "`Hel.JD, I magnitude, magnitude error, seeing estimation (in pixels - 0.26\"/pixel),  sky level`\n",
    "\n",
    "1. Heliocentric Julian Date. This is time, measured in days, since a fixed reference. The \"heliocentric\" part means that it has been corrected to the reference frame of the Sun, i.e. the few minutes of light travel time that would affect photon arrivals at different parts of the Earth's year have been subtracted off.\n",
    "\n",
    "2. Measurements of magnitude in the $I$ band (a near infrared band). If you're not already familiar (lucky you): astronomical apparent magnitude, relative to a given reference source, is given by the relationship $m = m_\\mathrm{ref} - 2.5\\,\\log_{10}\\left(\\frac{F}{F_\\mathrm{ref}}\\right)$, where $F$ is flux. So apparent magnitude is a logarithmic measure of flux, with the very annoying bonus feature that _higher_ fluxes correspond to _lower_ magnitudes.\n",
    "\n",
    "3. Measurement uncertainty on the $I$ magnitude, defined in some unspecified way (digging through papers might elucidate this).\n",
    "\n",
    "4. Some estimate of the seeing (the width of the PSF) during the observation. (Since these are ground-based observatios, the PSF varies with time, depending on the weather.)\n",
    "\n",
    "5. An estimate of the brightness of the sky (the primary background) in $I$ band during the observation."
   ]
  },
  {
   "cell_type": "markdown",
   "metadata": {
    "id": "g4Yg6F3gC_iu"
   },
   "source": [
    "Let's extract the first 3 columns. We'll ignore the others, since the seeing and sky background have been accounted for already in the magnitude measurements, according to the OGLE site.\n",
    "\n",
    "As you can be inspection or in any  of the lightcurve figures on the OGLE website, HJD is a huge number. Let's follow their lead by subtracting a big constant from it, so that we're left with a number of order only thousands. We'll also organize the useful columns of the table into a dictionary for later convenience."
   ]
  },
  {
   "cell_type": "code",
   "execution_count": null,
   "metadata": {
    "deletable": false,
    "editable": false,
    "id": "_8KD1XhQC_iv",
    "nbgrader": {
     "cell_type": "code",
     "checksum": "d32aefe17e5866cfb1d02de2eb70915e",
     "grade": true,
     "grade_id": "readmask",
     "locked": true,
     "points": 0,
     "schema_version": 3,
     "solution": false,
     "task": false
    },
    "tags": []
   },
   "outputs": [],
   "source": [
    "data = {'t':dat[:,0],    # date\n",
    "        'I':dat[:,1],    # I magnitude\n",
    "        'Ierr':dat[:,2], # I magnitude uncertainty\n",
    "        't0':2450000.}   # reference time\n",
    "data['t'] -= data['t0']"
   ]
  },
  {
   "cell_type": "markdown",
   "metadata": {
    "id": "MAQ1r9rkC_iy"
   },
   "source": [
    "This should produce a plot similar to those shown on the webpage for each event. Note the inverted Y axis, such that higher means brighter (smaller $I$)."
   ]
  },
  {
   "cell_type": "code",
   "execution_count": null,
   "metadata": {
    "id": "BI7EhfbeC_iz"
   },
   "outputs": [],
   "source": [
    "plt.rcParams['figure.figsize'] = (20.0, 4.0)\n",
    "plt.errorbar(data['t'], data['I'], yerr=data['Ierr'], fmt='.');\n",
    "plt.xlabel('HJD - '+str(data['t0']));\n",
    "plt.ylabel('I magnitude');\n",
    "plt.gca().invert_yaxis();"
   ]
  },
  {
   "cell_type": "markdown",
   "metadata": {
    "id": "yfShMFa0C_iz"
   },
   "source": [
    "Details vary, but you should see a lightcurve with some gaps in it, and some indication of a transient increase (usually these show up near the end, for some reason). The points tend to be jumbled together, but it's probably clear that there's a bit of variation in the measurements, even when the lightcurve is essentially constant. You might also see one or a few points that are scattered **very** far away from all of their neighbors. That is, some points seem unlikely to be explicable by a smooth model with added noise, microlensing or not. If you're not sure you can see any of these in your data, consider the lightcurve below, which is used in the public solutions.\n",
    "\n",
    "<table>\n",
    "    <tr>\n",
    "        <td><img src=\"https://ogle.astrouw.edu.pl/ogle4/ews/2014/data/2014/blg-0017/lcurve.gif\" width=60%></td>\n",
    "    </tr>\n",
    "</table>\n",
    "\n",
    "So, assuming there are such outliers, what are we going to do about them?\n",
    "* The purist (and purest) approach would be to _leave the data alone_ and adjust the model such that it can produce occasional outliers like those seen. That is, the sampling distribution would need to have heavy tails or be a mixture model of some kind, and we would learn something about how common and how extreme the outliers are. The downside to this is that we might spend a lot of time doing model comparison to come up with something that fits the data, and if we don't have many outliers than we probably won't learn very much about them. We'll have just gone to great effort to remove the influence of a few points that we could probably have identified and deleted by eye unamiguously enough.\n",
    "* The opposite approach would correspond to saying something like: I _know_ that this point or points is _obviously_ wrong, and I will just remove it. You can think of this as the previous strategy, but with a really strong prior that bypasses the modeling process. There are clearly objections that one could make to this on the basis that it is so ad hoc/subjective/not independently reproducible.\n",
    "\n",
    "You can imagine other approaches, e.g. iteratively fitting and throwing away points that are \"too far away\" (as in sigma clipping), as living somewhere between these two extremes."
   ]
  },
  {
   "cell_type": "markdown",
   "metadata": {
    "id": "_6UlxQd7C_iz"
   },
   "source": [
    "Because we will normally have plenty of data covering the time that the star being observed is essentially constant, I suggest that the practical option is to leave in any weird looking data points, even if we don't quite belive that our model sampling distribution is a perfect description... except for any that are really, egregiously, unambiguously, in no uncertain terms and without argument unrepresentative of the models we're fitting. Like the one at time ~6800 in the OGLE figure above.\n",
    "\n",
    "Programatically, one way to implement this is by creating a mask. This will be a boolean array of the same length as the data, with `False` meaning we should use a given point and `True` meaning it should be ignored (note that the true/false convention varies, but this is consistent with how we'll use the mask array below). Then we just need a logical expression that isolates the points we want to keep. For example, I used `~np.logical_and(data['t'] > 6700, data['I'] < 16.6)` for 2014-BLG-0017, above. (The `~` is a logical NOT.) Define a mask below; if you don't want to remove any data, it's fine for the mask to be all `True` values."
   ]
  },
  {
   "cell_type": "code",
   "execution_count": null,
   "metadata": {
    "deletable": false,
    "id": "VBZzHzS_C_i0",
    "nbgrader": {
     "cell_type": "code",
     "checksum": "d549e54927a61a07ee9f055f1c5bafa9",
     "grade": false,
     "grade_id": "mask",
     "locked": false,
     "schema_version": 3,
     "solution": true,
     "task": false
    },
    "tags": []
   },
   "outputs": [],
   "source": [
    "# bad_data = ...\n",
    "# YOUR CODE HERE\n",
    "raise NotImplementedError()"
   ]
  },
  {
   "cell_type": "markdown",
   "metadata": {
    "id": "1e4_iuZbC_i1"
   },
   "source": [
    "Let's plot your data again, showing the points you decided to mask as big red diamonds:"
   ]
  },
  {
   "cell_type": "code",
   "execution_count": null,
   "metadata": {
    "id": "8eifPLYpC_i1"
   },
   "outputs": [],
   "source": [
    "plt.rcParams['figure.figsize'] = (20.0, 4.0)\n",
    "plt.errorbar(data['t'][~bad_data], data['I'][~bad_data], yerr=data['Ierr'][~bad_data], fmt='.');\n",
    "plt.errorbar(data['t'][bad_data], data['I'][bad_data], yerr=data['Ierr'][bad_data], fmt='rD');\n",
    "plt.xlabel('HJD - '+str(data['t0']));\n",
    "plt.ylabel('I magnitude');\n",
    "plt.gca().invert_yaxis();"
   ]
  },
  {
   "cell_type": "markdown",
   "metadata": {
    "id": "WKR2hLL1C_i2"
   },
   "source": [
    "There are applications where we would want to keep the original data arrays as they are and use the mask to limit our likelihood calculations to the desired subset. Image analysis is one example, since we generally want the images to remain as 2D arrays, even if there are specific pixels we should ignore. However, in this case, it seems harmless to simply redefine the arrays in `data` to exclude the points we want to remove."
   ]
  },
  {
   "cell_type": "code",
   "execution_count": null,
   "metadata": {
    "id": "jOUgXhU_C_i2"
   },
   "outputs": [],
   "source": [
    "for k in ['I', 'Ierr', 't']:\n",
    "    data[k] = data[k][~bad_data]\n",
    "    # below is in principle a more elegant option, but it slowed down the notebook by a factor >2, so no\n",
    "    #data[k] = np.ma.masked_array(data=data[k], mask=bad_data)"
   ]
  },
  {
   "cell_type": "markdown",
   "metadata": {
    "id": "aIZakxhzC_i3"
   },
   "source": [
    "## Model\n",
    "\n",
    "An excellent resource for gravitational lensing background (among other things) is [Peter Schneider's _Extragalactic Astronomy and Cosmology_](http://www.springer.com/us/book/9783642540820).[$^1$](#Note-1) In the 2015 edition, the relevant section for Galactic microlensing is 2.5 (page 77), and the equations defining the microlensing model lightcurve are 2.92 and 2.93. You don't actually need to read all this, but it can be nice to get some intuition about what's underneath the data.\n",
    "\n",
    "A source's flux as a function of time, as enhanced by a microlensing event, is given by\n",
    "\n",
    "$F(t) = F_0 \\frac{y(t)^2 + 2}{y(t)\\sqrt{y(t)^2+4}}$,\n",
    "\n",
    "where\n",
    "\n",
    "$y(t) = \\sqrt{p^2 + \\left( \\frac{t-t_\\mathrm{max}}{t_\\mathrm{E}} \\right)^2}$.\n",
    "\n",
    "The parameters can be broadly interpreted as follows:\n",
    "* $F_0$ is the flux in the absence of microlensing;\n",
    "* $p$ is the impact parameter (in projection) of the lens as is passes in front of the star, in units of its Einstein radius;\n",
    "* $t_\\mathrm{max}$ is the time of maximum magnification;\n",
    "* $t_\\mathrm{E}$ sets the width of the enhancement in the lightcurve."
   ]
  },
  {
   "cell_type": "markdown",
   "metadata": {
    "id": "Uk9DmTMuC_i4"
   },
   "source": [
    "In practice, you'll also need the transformation between flux and magnitude, given above. For convenience, let's parameterize the normalization of the model lightcurve in magnitudes rather than flux, transforming $F(t)$ to $I(t)$ using the conversion above (with $I$ rather than $m$). We'll have $I_0$ rather than $F_0$ as a normalization parameter; this way, all of the \"ref\" quantities in the magnitude definition are absorbed into this new parameter and we won't have to worry about them explicitly. With that substitution, the model parameters are $I_0$, $p$, $t_\\mathrm{max}$ and $t_\\mathrm{E}$."
   ]
  },
  {
   "cell_type": "code",
   "execution_count": null,
   "metadata": {
    "id": "kvfs3ozAC_i4"
   },
   "outputs": [],
   "source": [
    "paramnames = ['I0', 'p', 'tmax', 'tE']\n",
    "param_labels = [r'$I_0$', r'$p$', r'$t_{max}$', r'$t_E$']"
   ]
  },
  {
   "cell_type": "markdown",
   "metadata": {
    "id": "ajZ749JeC_i5"
   },
   "source": [
    "Using the equations above, implement a function predicting the $I$-band magnitude for a microlensing event as a function of $t$ given $I_0$, $p$, $t_\\mathrm{max}$ and $t_\\mathrm{E}$."
   ]
  },
  {
   "cell_type": "code",
   "execution_count": null,
   "metadata": {
    "deletable": false,
    "id": "ojvUt8_JC_i5",
    "nbgrader": {
     "cell_type": "code",
     "checksum": "289cfcbf794bbc0f4d2fe1cfd26410b3",
     "grade": false,
     "grade_id": "modelI_func",
     "locked": false,
     "schema_version": 3,
     "solution": true,
     "task": false
    },
    "tags": []
   },
   "outputs": [],
   "source": [
    "def model_I(t, I0, p, tmax, tE):\n",
    "    \"\"\"\n",
    "    Return the model lightcurve in magnitude units, I(t), where t can be an array.\n",
    "    \"\"\"\n",
    "    # YOUR CODE HERE\n",
    "    raise NotImplementedError()"
   ]
  },
  {
   "cell_type": "markdown",
   "metadata": {
    "id": "Vcgys2W4C_i6"
   },
   "source": [
    "Most of the parameters enter the model in an easily interpretable way. $I_0$ sets the constant level of the unlensed lightcurve, $t_\\mathrm{max}$ translates the microlensing event in time, and $t_\\mathrm{E}$ determines how long the event lasts. $p$ is a little less straightforward, so it helps to plot a few different values:"
   ]
  },
  {
   "cell_type": "code",
   "execution_count": null,
   "metadata": {
    "deletable": false,
    "editable": false,
    "id": "opc6vSNbC_i7",
    "nbgrader": {
     "cell_type": "code",
     "checksum": "43118638af5e381ab7c00218ee0808b3",
     "grade": true,
     "grade_id": "model__test",
     "locked": true,
     "points": 1,
     "schema_version": 3,
     "solution": false,
     "task": false
    },
    "tags": []
   },
   "outputs": [],
   "source": [
    "plt.rcParams['figure.figsize'] = (6.0, 4.0)\n",
    "plt.xlabel(r'$(t-t_\\mathrm{max})/t_\\mathrm{E}$');\n",
    "plt.ylabel(r'$I-I_0$');\n",
    "plt.gca().invert_yaxis();\n",
    "tgrid = np.linspace(-3.0, 3.0, 1000)\n",
    "plt.plot(tgrid, model_I(tgrid, I0=0.0, p=0.1, tmax=0.0, tE=1.0), label='p=0.1');\n",
    "plt.plot(tgrid, model_I(tgrid, I0=0.0, p=0.5, tmax=0.0, tE=1.0), label='p=0.5');\n",
    "plt.plot(tgrid, model_I(tgrid, I0=0.0, p=1.0, tmax=0.0, tE=1.0), label='p=1.0');\n",
    "plt.plot(tgrid, model_I(tgrid, I0=0.0, p=2.0, tmax=0.0, tE=1.0), label='p=2.0');\n",
    "plt.plot(tgrid, model_I(tgrid, I0=0.0, p=10.0, tmax=0.0, tE=1.0), label='p=10.0');\n",
    "plt.legend();"
   ]
  },
  {
   "cell_type": "markdown",
   "metadata": {
    "id": "qeEb9eLUC_i7"
   },
   "source": [
    "Remember that $p$ is proportional to the impact parameter, so smaller $p$ means that the lens passes closer to the star, and hence causes more magnification."
   ]
  },
  {
   "cell_type": "markdown",
   "metadata": {
    "id": "jo7CMA8CC_i7"
   },
   "source": [
    "Now that the domain-specific calculations that we'll need are in hand, let's turn to specifying the generative model for these data. Lacking any better information, we'll assume that the sampling distributions for the magnitude measurements (the \"magnitude\" column) are Gaussian and independent, with means given by the model $I(t)$ and standard deviations given by the \"magnitude error\" column, and that the time stamps are exact. As usual, **we will discuss and collectively decide on priors for the parameters in class**. This includes prior probabilities for whether or not there is a microlensing event in the data, since we will do model selection to decide between these possibilities. (As mentioned above, this is a little silly because the OGLE pipeline has already decided the lightcurve has a probable even in it. Nevertheless, we will decide on prior probabilities and work through the exercise.)\n",
    "\n",
    "Draw the PGM and write out the generative model here:"
   ]
  },
  {
   "cell_type": "markdown",
   "metadata": {
    "id": "SL1C4zVKC_i8"
   },
   "source": [
    "> Space for your generative model"
   ]
  },
  {
   "cell_type": "markdown",
   "metadata": {
    "id": "p156IojsC_i8"
   },
   "source": [
    "For simplicity, we will want independent prior distributions for each parameter - this is typical anyway, but it especially affects the implementation in this case. Below, specify the priors using `scipy.stats` distribution objects, or something with equivalent functionality:"
   ]
  },
  {
   "cell_type": "code",
   "execution_count": null,
   "metadata": {
    "deletable": false,
    "id": "XgDAtS2HC_i8",
    "nbgrader": {
     "cell_type": "code",
     "checksum": "68adb80f436c8608b7849676333d4f5a",
     "grade": false,
     "grade_id": "priors",
     "locked": false,
     "schema_version": 3,
     "solution": true,
     "task": false
    },
    "tags": []
   },
   "outputs": [],
   "source": [
    "#priors = {'I0':...,\n",
    "#           'p':...,\n",
    "#           'tmax':...,\n",
    "#           'tE':...}\n",
    "# YOUR CODE HERE\n",
    "raise NotImplementedError()"
   ]
  },
  {
   "cell_type": "markdown",
   "metadata": {
    "id": "p19xXIZyC_i9"
   },
   "source": [
    "Finally, the prior probability of a microlensing vs constant model:"
   ]
  },
  {
   "cell_type": "code",
   "execution_count": null,
   "metadata": {
    "deletable": false,
    "id": "BMeQBVTPC_i9",
    "nbgrader": {
     "cell_type": "code",
     "checksum": "ba3c7f83e45861e57967cbbf6500d6c3",
     "grade": false,
     "grade_id": "morepriors",
     "locked": false,
     "schema_version": 3,
     "solution": true,
     "task": false
    },
    "tags": []
   },
   "outputs": [],
   "source": [
    "# P_microlens = ...\n",
    "# YOUR CODE HERE\n",
    "raise NotImplementedError()\n",
    "P_constant = 1.0 - P_microlens"
   ]
  },
  {
   "cell_type": "markdown",
   "metadata": {
    "id": "PbMi8tA-C_i-"
   },
   "source": [
    "## Fit the microlensing model using standard MCMC\n",
    "\n",
    "The first thing we'll do is fit the microlensing model using methods you're already familiar with, to establish some results that we're confident in."
   ]
  },
  {
   "cell_type": "markdown",
   "metadata": {
    "id": "I1mr4WMNC_i_"
   },
   "source": [
    "For both of the methods we'll use in this notebook, we will need a log-likelihood function defined in the usual way. For convenience, given the packages we'll be using, make it a function of a parameter array (in the order `I0`, `p`, `tmax`, `tE`), rather than with separate, explicit arguments, as we usually do. Remember that we will be computing the evidence, so we want all the normalizing factors correctly included in the sampling and prior distributions."
   ]
  },
  {
   "cell_type": "code",
   "execution_count": null,
   "metadata": {
    "deletable": false,
    "id": "j0bnGLXiC_i_",
    "nbgrader": {
     "cell_type": "code",
     "checksum": "dbb67a91eceea9eac2156d10e5e9049a",
     "grade": false,
     "grade_id": "loglike",
     "locked": false,
     "schema_version": 3,
     "solution": true,
     "task": false
    },
    "tags": []
   },
   "outputs": [],
   "source": [
    "def log_like(params):\n",
    "    # params is a 1D array of values, whose order is given by paramnames\n",
    "    # YOUR CODE HERE\n",
    "    raise NotImplementedError()"
   ]
  },
  {
   "cell_type": "markdown",
   "metadata": {
    "id": "e81NBnoMC_i_"
   },
   "source": [
    "Let's check that this gives us a finite answer for a bad (but not absurd) guess at the parameter values."
   ]
  },
  {
   "cell_type": "code",
   "execution_count": null,
   "metadata": {
    "deletable": false,
    "editable": false,
    "id": "8PwuRWtNC_jA",
    "nbgrader": {
     "cell_type": "code",
     "checksum": "7b12e67ccaa9c468baa12ccf5a5a30c2",
     "grade": true,
     "grade_id": "loglike_test",
     "locked": true,
     "points": 1,
     "schema_version": 3,
     "solution": false,
     "task": false
    },
    "tags": []
   },
   "outputs": [],
   "source": [
    "guess = [np.mean(data['I']), 1.0, np.mean(data['t']), 100.]\n",
    "print(log_like(guess))\n",
    "assert(np.isfinite(log_like(guess)))"
   ]
  },
  {
   "cell_type": "markdown",
   "metadata": {
    "id": "ZImfQdqqC_jB"
   },
   "source": [
    "Here is our usual log-posterior function, using your definition of the priors and log-likelihood:"
   ]
  },
  {
   "cell_type": "code",
   "execution_count": null,
   "metadata": {
    "deletable": false,
    "editable": false,
    "id": "UNfHF_DDC_jC",
    "nbgrader": {
     "cell_type": "code",
     "checksum": "a47bd302f5aa0fc8d6157b27f87c9b70",
     "grade": true,
     "grade_id": "priors_test",
     "locked": true,
     "points": 1,
     "schema_version": 3,
     "solution": false,
     "task": false
    },
    "tags": []
   },
   "outputs": [],
   "source": [
    "def log_posterior(pvec):\n",
    "    '''\n",
    "    Our usual log-posterior function, able to take a vector argument to satisfy emcee\n",
    "    '''\n",
    "    lnp = 0.0\n",
    "    for i,p in enumerate(paramnames):\n",
    "        lnp += priors[p].logpdf(pvec[i])\n",
    "    if lnp != -np.inf:\n",
    "        lnp += log_like(pvec)\n",
    "    return lnp"
   ]
  },
  {
   "cell_type": "markdown",
   "metadata": {
    "id": "ImBbTo2mC_jC"
   },
   "source": [
    "We'll be using `emcee`, which will work much better if we start it out near the posterior maximum. Define a parameter vector, `start`, that looks like a decent fit - it does not need to be perfect. You can use the commented code below to maximize the log-posterior using `scipy.optimize.minimize`, or just change values by hand until the curve in the figure below looks broadly reasonable. In the former case, you might still need to adjust the minimizer's starting point (`guess`) to get it to find the best fit."
   ]
  },
  {
   "cell_type": "code",
   "execution_count": null,
   "metadata": {
    "deletable": false,
    "id": "wYoRQrbPC_jC",
    "nbgrader": {
     "cell_type": "code",
     "checksum": "bcf48ae213f4ab3a9f3c80b81240fb22",
     "grade": false,
     "grade_id": "optimize",
     "locked": false,
     "schema_version": 3,
     "solution": true,
     "task": false
    },
    "tags": []
   },
   "outputs": [],
   "source": [
    "# start = ...\n",
    "# or, e.g.\n",
    "# def objective(pvec):\n",
    "#     return -log_posterior(pvec)\n",
    "# guess = ...\n",
    "# opt = minimize(objective, guess, method='Nelder-Mead') # (I used Nelder-Mead because I was too lazy to encode the prior boundaries on the parameters)\n",
    "# print(opt)\n",
    "# assert opt.success\n",
    "# start = opt.x\n",
    "# YOUR CODE HERE\n",
    "raise NotImplementedError()"
   ]
  },
  {
   "cell_type": "code",
   "execution_count": null,
   "metadata": {
    "id": "xHUIQcwzC_jD"
   },
   "outputs": [],
   "source": [
    "plt.rcParams['figure.figsize'] = (20.0, 4.0)\n",
    "plt.errorbar(data['t'], data['I'], yerr=data['Ierr'], fmt='.', zorder=0);\n",
    "tgrid = np.linspace(data['t'].min(), data['t'].max(), 1000)\n",
    "plt.plot(tgrid, model_I(tgrid, *start));\n",
    "plt.xlabel('HJD - '+str(data['t0']));\n",
    "plt.ylabel('I magnitude');\n",
    "plt.gca().invert_yaxis();"
   ]
  },
  {
   "cell_type": "markdown",
   "metadata": {
    "id": "DUjn4muRC_jE"
   },
   "source": [
    "From here, the code to actually perform the MCMC is given. As always, you are responsible for tweaking things and/or adjusting the burn-in length etc. as needed. Note that I had to set the starting ensemble to be quite tight in parameter space to make this work (you can adjust this if necessary), which suggests that you may have trouble if the starting guess is not good enough."
   ]
  },
  {
   "cell_type": "code",
   "execution_count": null,
   "metadata": {
    "id": "NWTYjiJxC_jE"
   },
   "outputs": [],
   "source": [
    "npars = len(paramnames)\n",
    "nwalkers = 2 * npars\n",
    "esampler = emcee.EnsembleSampler(nwalkers, npars, log_posterior)\n",
    "estart = np.array([np.array(start)*(1.0 + 0.001*np.random.randn(npars)) for j in range(nwalkers)])"
   ]
  },
  {
   "cell_type": "code",
   "execution_count": null,
   "metadata": {
    "id": "_QstfSHsC_jF",
    "tags": []
   },
   "outputs": [],
   "source": [
    "%%time\n",
    "esampler.run_mcmc(estart, 5000); # run for longer if you want/need"
   ]
  },
  {
   "cell_type": "markdown",
   "metadata": {
    "id": "dthm8NFvC_jG"
   },
   "source": [
    "Don't forget the usual diagnostics!"
   ]
  },
  {
   "cell_type": "code",
   "execution_count": null,
   "metadata": {
    "id": "ryMYfxgHC_jH"
   },
   "outputs": [],
   "source": [
    "plt.rcParams['figure.figsize'] = (16.0, 3.0*npars)\n",
    "fig, ax = plt.subplots(npars, 1);\n",
    "cr.plot_traces(esampler.chain[:min(8,nwalkers),:,:], ax, labels=param_labels);"
   ]
  },
  {
   "cell_type": "code",
   "execution_count": null,
   "metadata": {
    "id": "Jwa65w3HC_jH"
   },
   "outputs": [],
   "source": [
    "burn = 500 # adjust as needed\n",
    "echain = esampler.chain[:,burn:,:]"
   ]
  },
  {
   "cell_type": "code",
   "execution_count": null,
   "metadata": {
    "deletable": false,
    "editable": false,
    "id": "jpCo4AgNC_jI",
    "nbgrader": {
     "cell_type": "code",
     "checksum": "cee0ee9c9a052997091f56e8334c5c25",
     "grade": true,
     "grade_id": "convergence",
     "locked": true,
     "points": 1,
     "schema_version": 3,
     "solution": false,
     "task": false
    },
    "tags": []
   },
   "outputs": [],
   "source": [
    "R = cr.GelmanRubinR(echain)\n",
    "print(R)\n",
    "assert R.max() < 1.1"
   ]
  },
  {
   "cell_type": "code",
   "execution_count": null,
   "metadata": {
    "deletable": false,
    "editable": false,
    "id": "A9VSphBKC_jI",
    "nbgrader": {
     "cell_type": "code",
     "checksum": "d0f547bb7c454ef5287432f1f4155bc5",
     "grade": true,
     "grade_id": "neff",
     "locked": true,
     "points": 1,
     "schema_version": 3,
     "solution": false,
     "task": false
    },
    "tags": []
   },
   "outputs": [],
   "source": [
    "neff = cr.effective_samples(echain, maxlag=750, throw=True)\n",
    "print(neff)\n",
    "assert neff.min() > 300 # this is fewer than we would normally like, but we only want these results to compare to nested sampling"
   ]
  },
  {
   "cell_type": "markdown",
   "metadata": {
    "id": "xzGPdPasC_jJ"
   },
   "source": [
    "We may as well have a look at the posterior, although we'll forgo computing credible intervals:"
   ]
  },
  {
   "cell_type": "code",
   "execution_count": null,
   "metadata": {
    "id": "rA2R2FfAC_jK"
   },
   "outputs": [],
   "source": [
    "echain = np.concatenate(echain, axis=0)\n",
    "plotGTC(echain, paramNames=param_labels, figureSize=6, customLabelFont={'size':10}, customTickFont={'size':10});"
   ]
  },
  {
   "cell_type": "markdown",
   "metadata": {
    "id": "rrcoAWujC_jL"
   },
   "source": [
    "## Fit the microlensing model using nested sampling\n",
    "\n",
    "Now that we have an estimate of the posterior from a familiar, albeit not foolproof method, let's see how results from nested sampling compare. Recall that nested sampling is not MCMC, but it will provide what are effectively samples from the posterior, as well as an estimate of the evidence.\n",
    "\n",
    "Rather than a log-posterior function, we will need to provide the sampler with a log-likelihood function (already done!) and a function that evaluates the quantiles of the prior distributions. This is why we particularly wanted the priors to be independent; one can do this with non-independent priors, but the implementation becomes more complicated.\n",
    "\n",
    "To be more explicit, we need to write a function that, for each parameter, transforms a number between 0 and 1 to the corresponding quantile of the parameter's prior distribution. (Recall that the quantile function is the inverse of the cumulative distribution function, so it maps cumulative probability onto parameter values.) If your `priors` dictionary consists of `scipy.stats` distribution objects, the `ppf` method is your friend here."
   ]
  },
  {
   "cell_type": "code",
   "execution_count": null,
   "metadata": {
    "deletable": false,
    "id": "30M3gTunC_jL",
    "nbgrader": {
     "cell_type": "code",
     "checksum": "853668f54abe1a6379ae1ee52def1a0d",
     "grade": false,
     "grade_id": "ptform",
     "locked": false,
     "schema_version": 3,
     "solution": true,
     "task": false
    },
    "tags": []
   },
   "outputs": [],
   "source": [
    "def ptform(u):\n",
    "    '''\n",
    "    Input: a vector in the unit cube, 0 <= u[i] <= 1.\n",
    "    Output: a vector in our parameter space, output[i] = quantile_i(u[i]).\n",
    "    '''\n",
    "    # YOUR CODE HERE\n",
    "    raise NotImplementedError()"
   ]
  },
  {
   "cell_type": "markdown",
   "metadata": {
    "id": "U71zmdLJC_jL"
   },
   "source": [
    "The lines below should respectively print the 25th, 50th and 75th percentiles of each parameter's prior, in order:"
   ]
  },
  {
   "cell_type": "code",
   "execution_count": null,
   "metadata": {
    "deletable": false,
    "editable": false,
    "id": "E1uqmUVAC_jL",
    "nbgrader": {
     "cell_type": "code",
     "checksum": "513af5584071af847a251abce97b30f9",
     "grade": true,
     "grade_id": "ptform_test",
     "locked": true,
     "points": 1,
     "schema_version": 3,
     "solution": false,
     "task": false
    },
    "tags": []
   },
   "outputs": [],
   "source": [
    "print(ptform([0.25]*len(paramnames)))\n",
    "print(ptform([0.5]*len(paramnames)))\n",
    "print(ptform([0.75]*len(paramnames)))"
   ]
  },
  {
   "cell_type": "markdown",
   "metadata": {
    "id": "YsTfov-wC_jM"
   },
   "source": [
    "These cells show the basic setup and running of nested sampling using the `dynesty` package. This will probably take a few minutes, but pretty soon you should see the `dlogz` output steadily making its way towards zero."
   ]
  },
  {
   "cell_type": "code",
   "execution_count": null,
   "metadata": {
    "id": "YmuOjeHgC_jM"
   },
   "outputs": [],
   "source": [
    "sampler = dynesty.NestedSampler(log_like, ptform, len(paramnames))"
   ]
  },
  {
   "cell_type": "code",
   "execution_count": null,
   "metadata": {
    "id": "ZOYfEp9GC_jM",
    "tags": []
   },
   "outputs": [],
   "source": [
    "%%time\n",
    "sampler.run_nested()"
   ]
  },
  {
   "cell_type": "markdown",
   "metadata": {
    "id": "eQkGg6rVC_jN"
   },
   "source": [
    "The cells below show some standard summaries of the `dynesty` results, which [their documentation](https://dynesty.readthedocs.io/en/stable/) says a little more about. ($\\ln X$ is the volume of the parameter space allowed by the prior that the algorithm is working in, so you can read increasing $-\\ln X$ as the nested sampler making its way to the peak of the posterior.)"
   ]
  },
  {
   "cell_type": "code",
   "execution_count": null,
   "metadata": {
    "id": "RoHIzm0AC_jN",
    "tags": []
   },
   "outputs": [],
   "source": [
    "results = sampler.results\n",
    "results.summary()"
   ]
  },
  {
   "cell_type": "code",
   "execution_count": null,
   "metadata": {
    "id": "xiRPYpaqC_jQ"
   },
   "outputs": [],
   "source": [
    "try:\n",
    "    dynesty.plotting.runplot(results); # this sometimes fails for no identifiable reason; don't worry about it if so\n",
    "except:\n",
    "    pass"
   ]
  },
  {
   "cell_type": "markdown",
   "metadata": {
    "id": "Ha5xvubQC_jQ"
   },
   "source": [
    "It's not unusual in my limited experience for the evidence plot above to display a flat line, so we plot below the log evidence in the second half of the run. You should be able to see it climbing towards its final value."
   ]
  },
  {
   "cell_type": "code",
   "execution_count": null,
   "metadata": {
    "id": "vYlsMMDoC_jQ"
   },
   "outputs": [],
   "source": [
    "plt.rcParams['figure.figsize'] = (12.0, 4.0)\n",
    "Ndiscard = len(results['logz']) // 2\n",
    "plt.plot(results['logz'][Ndiscard:]);\n",
    "plt.xlabel(\"Iteration - \"+str(Ndiscard), fontsize=12);\n",
    "plt.ylabel(\"Log Evidence\", fontsize=12);"
   ]
  },
  {
   "cell_type": "markdown",
   "metadata": {
    "id": "ROg6onIVC_jR"
   },
   "source": [
    "Some more `dynesty` plots showing how the sampler evolves form exploring the entire prior space towards the posterior maximum."
   ]
  },
  {
   "cell_type": "code",
   "execution_count": null,
   "metadata": {
    "id": "EGCyLBYcC_jR"
   },
   "outputs": [],
   "source": [
    "fig, axes = dyplot.traceplot(results, quantiles=st.norm.cdf([-1,1]), labels=param_labels)"
   ]
  },
  {
   "cell_type": "markdown",
   "metadata": {
    "id": "M5EZnsW_C_jT"
   },
   "source": [
    "We can extract a set of \"equally weighted\" samples (i.e. samples we can treat the same way as MCMC samples) using `results.samples_equal()`. The cell below compares their distribution to the `emcee` chains. If everything is working well, they should look essentially identical, up to monte carlo noise."
   ]
  },
  {
   "cell_type": "code",
   "execution_count": null,
   "metadata": {
    "id": "SjKYChLnC_jW"
   },
   "outputs": [],
   "source": [
    "dchain = results.samples_equal()\n",
    "plotGTC([echain, dchain], paramNames=param_labels, figureSize=6, customLabelFont={'size':10}, customTickFont={'size':10});"
   ]
  },
  {
   "cell_type": "markdown",
   "metadata": {
    "id": "AOXujf4xC_jY"
   },
   "source": [
    "Here is an unsophisticated check that nested sampling did, in fact, give us compatible results to MCMC:"
   ]
  },
  {
   "cell_type": "code",
   "execution_count": null,
   "metadata": {
    "deletable": false,
    "editable": false,
    "id": "oHQAFBiFC_jY",
    "nbgrader": {
     "cell_type": "code",
     "checksum": "30fa6d40d3f0c9678e067fe0b252c817",
     "grade": true,
     "grade_id": "emcee_agree",
     "locked": true,
     "points": 1,
     "schema_version": 3,
     "solution": false,
     "task": false
    },
    "tags": []
   },
   "outputs": [],
   "source": [
    "assert np.allclose(echain.mean(axis=0), dchain.mean(axis=0), rtol=0.01)\n",
    "assert np.allclose(echain.std(axis=0), dchain.std(axis=0), rtol=0.1)"
   ]
  },
  {
   "cell_type": "markdown",
   "metadata": {
    "id": "bZ01BcawC_jZ"
   },
   "source": [
    "## Fit a constant model using nested sampling\n",
    "\n",
    "Ok, we are halfway to being able to test whether the Bayesian evidence \"detects\" a microlensing event in these data. The logical model to compare to is a constant flux from the star, with all the variation attributed to the sampling distribution. Don't worry, this fit will take less time to run.\n",
    "\n",
    "For our constant model, we have just one free parameter, $I_0$."
   ]
  },
  {
   "cell_type": "code",
   "execution_count": null,
   "metadata": {
    "id": "SfVgEMxzC_jZ"
   },
   "outputs": [],
   "source": [
    "paramnames2 = paramnames[:1]\n",
    "param_labels2 = param_labels[:1]"
   ]
  },
  {
   "cell_type": "markdown",
   "metadata": {
    "id": "WSie9EK1C_ja"
   },
   "source": [
    "To make the evidence comparison fair, it makes sense for $I_0$ to have the same prior in both models."
   ]
  },
  {
   "cell_type": "code",
   "execution_count": null,
   "metadata": {
    "id": "jNXSfy6mC_ja"
   },
   "outputs": [],
   "source": [
    "priors2 = {k:priors[k] for k in paramnames2}"
   ]
  },
  {
   "cell_type": "markdown",
   "metadata": {
    "id": "H4oKiZNNC_ja"
   },
   "source": [
    "Your implementation for the prior quantile function can be completely analogous to the one you wrote earlier, but operating on this 1D parameter space:"
   ]
  },
  {
   "cell_type": "code",
   "execution_count": null,
   "metadata": {
    "deletable": false,
    "id": "qNnENYJsC_ja",
    "nbgrader": {
     "cell_type": "code",
     "checksum": "3ea249ed758da8136cf758ffd0139d2d",
     "grade": false,
     "grade_id": "ptform2",
     "locked": false,
     "schema_version": 3,
     "solution": true,
     "task": false
    },
    "tags": []
   },
   "outputs": [],
   "source": [
    "def ptform2(u):\n",
    "    '''\n",
    "    Input: a vector in the unit cube, 0 <= u[i] <= 1.\n",
    "    Output: a vector in our parameter space, output[i] = quantile_i(u[i]).\n",
    "    '''\n",
    "    # YOUR CODE HERE\n",
    "    raise NotImplementedError()"
   ]
  },
  {
   "cell_type": "markdown",
   "metadata": {
    "id": "6GkQjQwaC_jb"
   },
   "source": [
    "We also need a new likelihood function that compares the data to a constant model."
   ]
  },
  {
   "cell_type": "code",
   "execution_count": null,
   "metadata": {
    "deletable": false,
    "id": "ELMbKiedC_jb",
    "nbgrader": {
     "cell_type": "code",
     "checksum": "9d9d92e140ccecf87c38fa090dba2cdd",
     "grade": false,
     "grade_id": "loglike2",
     "locked": false,
     "schema_version": 3,
     "solution": true,
     "task": false
    },
    "tags": []
   },
   "outputs": [],
   "source": [
    "def log_like2(params):\n",
    "    # params is a 1D array of length 1, containing I0\n",
    "    # YOUR CODE HERE\n",
    "    raise NotImplementedError()"
   ]
  },
  {
   "cell_type": "markdown",
   "metadata": {
    "id": "Y8WVUYqgC_jc"
   },
   "source": [
    "For completeness, let's do the same checks of these functions as above."
   ]
  },
  {
   "cell_type": "code",
   "execution_count": null,
   "metadata": {
    "deletable": false,
    "editable": false,
    "id": "qZMF6NtSC_jc",
    "nbgrader": {
     "cell_type": "code",
     "checksum": "8e79306d22ec6f76cc3828f16bd6f526",
     "grade": true,
     "grade_id": "ptform2_test",
     "locked": true,
     "points": 1,
     "schema_version": 3,
     "solution": false,
     "task": false
    },
    "tags": []
   },
   "outputs": [],
   "source": [
    "print(ptform2([0.25]))\n",
    "print(ptform2([0.5]))\n",
    "print(ptform2([0.75]))\n",
    "assert np.isfinite(log_like2(guess[:1]))"
   ]
  },
  {
   "cell_type": "markdown",
   "metadata": {
    "id": "LI8T-yb-C_jd"
   },
   "source": [
    "Let us patiently run the nested sampler for this model..."
   ]
  },
  {
   "cell_type": "code",
   "execution_count": null,
   "metadata": {
    "id": "f6sdpOZGC_jd"
   },
   "outputs": [],
   "source": [
    "sampler2 = dynesty.NestedSampler(log_like2, ptform2, len(paramnames2))"
   ]
  },
  {
   "cell_type": "code",
   "execution_count": null,
   "metadata": {
    "id": "3p5ycV0vC_jd"
   },
   "outputs": [],
   "source": [
    "%%time\n",
    "sampler2.run_nested()"
   ]
  },
  {
   "cell_type": "markdown",
   "metadata": {
    "id": "SYWkNgvfC_je"
   },
   "source": [
    "... and gaze upon the results."
   ]
  },
  {
   "cell_type": "code",
   "execution_count": null,
   "metadata": {
    "id": "ePmTMvmyC_je"
   },
   "outputs": [],
   "source": [
    "results2 = sampler2.results\n",
    "results2.summary()"
   ]
  },
  {
   "cell_type": "code",
   "execution_count": null,
   "metadata": {
    "id": "1XXi60G2C_jf"
   },
   "outputs": [],
   "source": [
    "try:\n",
    "    dynesty.plotting.runplot(results2);\n",
    "except:\n",
    "    pass"
   ]
  },
  {
   "cell_type": "code",
   "execution_count": null,
   "metadata": {
    "id": "0cHWADG8C_jg"
   },
   "outputs": [],
   "source": [
    "dyplot.traceplot(results2, quantiles=st.norm.cdf([-1,1]), labels=param_labels2);"
   ]
  },
  {
   "cell_type": "markdown",
   "metadata": {
    "id": "M7jKKXW-C_jg"
   },
   "source": [
    "Let's extract the final evidence values from the two model fits and compare them:"
   ]
  },
  {
   "cell_type": "code",
   "execution_count": null,
   "metadata": {
    "id": "rcjpQwc8C_jh"
   },
   "outputs": [],
   "source": [
    "print(\"Microlensing model: logz =\", results.logz[-1], \"+/-\", results.logzerr[-1])\n",
    "print(\"Constant model: logz =\", results2.logz[-1], \"+/-\", results2.logzerr[-1])\n",
    "print(\"Difference in logz =\", results.logz[-1]-results2.logz[-1], \"+/-\", np.sqrt(results.logzerr[-1]**2+results2.logzerr[-1]**2))"
   ]
  },
  {
   "cell_type": "markdown",
   "metadata": {
    "id": "C6SHMXwVC_jh"
   },
   "source": [
    "Chances are this difference will be an overwhelming evidence ratio when exponentiated. But maybe it isn't for one of the data sets! So let's go ahead and form the posterior ratio for the models (microlensing over constant), not being surprised if it turns out to be numerically infinite."
   ]
  },
  {
   "cell_type": "code",
   "execution_count": null,
   "metadata": {
    "id": "Qy_tXzfPC_ji"
   },
   "outputs": [],
   "source": [
    "print(\"Prior ratio:\", P_microlens / P_constant)\n",
    "print(\"Evidence ratio:\", np.exp(results.logz[-1]-results2.logz[-1]))\n",
    "print(\"Posterior ratio:\", np.exp(results.logz[-1]-results2.logz[-1]) * P_microlens / P_constant)"
   ]
  },
  {
   "cell_type": "markdown",
   "metadata": {
    "id": "htFppu5sC_ji"
   },
   "source": [
    "Finally, let's compare the posterior mean models with the data. (Normally we would plot multiple parameter samples from each posterior, but in this problem the models are usually so tightly constrained that it's impossible to distinguish the curves.)"
   ]
  },
  {
   "cell_type": "code",
   "execution_count": null,
   "metadata": {
    "id": "B9N3MCjOC_jj"
   },
   "outputs": [],
   "source": [
    "dchain2 = results2.samples_equal()\n",
    "\n",
    "plt.rcParams['figure.figsize'] = (20.0, 4.0)\n",
    "plt.errorbar(data['t'], data['I'], yerr=data['Ierr'], fmt='.', zorder=0, label='data');\n",
    "plt.plot(tgrid, model_I(tgrid, *dchain.mean(axis=0)), label='microlensing');\n",
    "plt.axhline(dchain2.mean(), color='C2', label='constant');\n",
    "plt.xlabel('HJD - '+str(data['t0']));\n",
    "plt.ylabel('I magnitude');\n",
    "plt.gca().invert_yaxis();\n",
    "plt.legend();"
   ]
  },
  {
   "cell_type": "markdown",
   "metadata": {
    "id": "rDyPIr3eC_jj"
   },
   "source": [
    "Visually, does the preference or lack of preference for the microlensing model make sense? Does the prior have any bearing on whether we would conclude that there is a microlensing event here?"
   ]
  },
  {
   "cell_type": "code",
   "execution_count": null,
   "metadata": {
    "deletable": false,
    "id": "_0jUQgiOC_jj",
    "nbgrader": {
     "cell_type": "code",
     "checksum": "9edc64bbb0eb8553db02a92fb67aa740",
     "grade": false,
     "grade_id": "sense",
     "locked": false,
     "schema_version": 3,
     "solution": true,
     "task": false
    },
    "tags": []
   },
   "outputs": [],
   "source": [
    "I_have_answers_to_these_questions = False # change to True when true\n",
    "# YOUR CODE HERE\n",
    "raise NotImplementedError()"
   ]
  },
  {
   "cell_type": "code",
   "execution_count": null,
   "metadata": {
    "deletable": false,
    "editable": false,
    "id": "zk8OxDd_C_jj",
    "nbgrader": {
     "cell_type": "code",
     "checksum": "d64526f84fd040dd6c933b9e22e696e1",
     "grade": true,
     "grade_id": "sensetest",
     "locked": true,
     "points": 1,
     "schema_version": 3,
     "solution": false,
     "task": false
    },
    "tags": []
   },
   "outputs": [],
   "source": [
    "assert I_have_answers_to_these_questions"
   ]
  },
  {
   "cell_type": "markdown",
   "metadata": {
    "id": "0MUx8VczC_jk"
   },
   "source": [
    "## Parting thoughts\n",
    "\n",
    "Although the central question of whether lightcurves chosen to contain microlensing events do, in fact, contain microlensing events was a bit contrived, hopefully this tutorial has been useful for confronting the occasional ugliness of real data, and for introducing a package for nested sampling. We have some lingering questions about these data, namely whether the sampling distribution is well described by the \"error bars\" and whether a constant is acually a good description of the data apart from the lensing event."
   ]
  },
  {
   "cell_type": "markdown",
   "metadata": {
    "id": "abedTflUC_jk"
   },
   "source": [
    "#### Endnotes\n",
    "\n",
    "##### Note 1\n",
    "\n",
    "From within the Stanford network, it should be possible to download the PDF directly through the link above. From outside, you would need to use the Stanford libraries browser extension detailed on the [Stanford library e-resources page](https://library.stanford.edu/using/connect-e-resources) (or VPN). Either way, you don't actually **need** to get the book; the key information is reproduced here."
   ]
  }
 ],
 "metadata": {
  "anaconda-cloud": {},
  "colab": {
   "provenance": [],
   "toc_visible": true
  },
  "kernelspec": {
   "display_name": "Python 3 (ipykernel)",
   "language": "python",
   "name": "python3"
  },
  "language_info": {
   "codemirror_mode": {
    "name": "ipython",
    "version": 3
   },
   "file_extension": ".py",
   "mimetype": "text/x-python",
   "name": "python",
   "nbconvert_exporter": "python",
   "pygments_lexer": "ipython3",
   "version": "3.12.5"
  }
 },
 "nbformat": 4,
 "nbformat_minor": 4
}
