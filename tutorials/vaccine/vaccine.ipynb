{
 "cells": [
  {
   "cell_type": "markdown",
   "id": "042d4140-ab13-4e21-9d07-a69da5cc5fff",
   "metadata": {
    "id": "042d4140-ab13-4e21-9d07-a69da5cc5fff"
   },
   "source": [
    "# Tutorial: Vaccine Efficacy\n",
    "\n",
    "This will be your first fully worked-out inference problem for the course. That being the case, we are going to avoid introducing a bunch of extraneous background about particular astrophysical models or data at the same time by instead using an example from medicine.\n",
    "\n",
    "This is likely also the last time in the course that you will be evaluating posterior distributions on a grid, since in general this is horribly inefficient. Indeed, getting an appreciation for that fact is part of the reason we're going through it here. We will also use this tutorial as an opportunity to work through the process of finding maximum-likelihood estimates and confidence regions, since their calculation on a grid is mechanically quite similar to the Bayesian results. We will also demonstrate some of the alternative (non-grid) methods you'll work with later, although you will not have any tasks associated with them in this notebook.\n",
    "\n",
    "Specifically, you will\n",
    "* define a generative model for the scenario described\n",
    "* apply Bayes' Law, evaluating the posterior over a grid in parameter space\n",
    "* qualitatively evaluate the goodness of fit\n",
    "* compute credible intervals and regions\n",
    "* compute analogous results using the maximum-likelihood approach"
   ]
  },
  {
   "cell_type": "code",
   "execution_count": null,
   "id": "7c675989",
   "metadata": {
    "id": "7c675989"
   },
   "outputs": [],
   "source": [
    "# !pip install bcgs lmc incredible\n",
    "\n",
    "from os import getcwd\n",
    "from yaml import safe_load\n",
    "import numpy as np\n",
    "import scipy.stats as st\n",
    "import matplotlib.pyplot as plt\n",
    "%matplotlib inline\n",
    "\n",
    "import bcgs\n",
    "import lmc\n",
    "import incredible as cr"
   ]
  },
  {
   "cell_type": "code",
   "execution_count": null,
   "id": "9cc59690-7f06-4125-9ad4-5a8303802777",
   "metadata": {
    "deletable": false,
    "editable": false,
    "id": "9cc59690-7f06-4125-9ad4-5a8303802777",
    "nbgrader": {
     "cell_type": "code",
     "checksum": "f2f1a3d180331cd5e03ee8fd54507ca3",
     "grade": true,
     "grade_id": "datapath",
     "locked": true,
     "points": 0,
     "schema_version": 3,
     "solution": false,
     "task": false
    },
    "tags": []
   },
   "outputs": [],
   "source": [
    "thisTutorial = 'vaccine'\n",
    "if getcwd() == '/content':\n",
    "    # assume we are in Colab, and the user's data directory is linked to their drive/Physics267_data\n",
    "    from google.colab import drive\n",
    "    drive.mount('/content/drive')\n",
    "    datapath = '/content/drive/MyDrive/Physics267_data/' + thisTutorial + '/'\n",
    "else:\n",
    "    # assume we are running locally somewhere and have the data under ./data/\n",
    "    datapath = 'data/'"
   ]
  },
  {
   "cell_type": "markdown",
   "id": "da9720ce-00b3-4bee-b0b1-987f233652cf",
   "metadata": {
    "id": "da9720ce-00b3-4bee-b0b1-987f233652cf"
   },
   "source": [
    "# Background\n",
    "\n",
    "Among other things, the years 2020-2021 are notable for the number of people taking an close interest in the process of vaccine development and approval who ordinarily wouldn't. It came as a great relief to many when, in the autumn of 2020, pharmaceutical company Pfizer announced that they had developed a vaccine for Covid-19 that was safe and 95% effective.\n",
    "\n",
    "The level of detail in [this New York Times article](https://www.nytimes.com/2020/11/18/health/pfizer-covid-vaccine.html) is representative of reporting on both the Pfizer announcement and the later Moderna announcement. (The information publically released by AstraZeneca about their trials at the time, at least that I could find, was not sufficient to perform a similar analysis to the one we do below.)\n",
    "\n",
    "> Pfizer and BioNTech’s trial included nearly 44,000 volunteers, half of whom received the vaccine. The other half received a placebo shot of salt water. Then the researchers waited to see how many in each group developed Covid-19.\n",
    "\n",
    "> The companies said that out of 170 cases of Covid-19, 162 were in the placebo group, and eight were in the vaccine group."
   ]
  },
  {
   "cell_type": "markdown",
   "id": "472be3ef-c38d-433d-a3de-8108742e1d5b",
   "metadata": {
    "id": "472be3ef-c38d-433d-a3de-8108742e1d5b"
   },
   "source": [
    "<table>\n",
    "    <tr>\n",
    "        <td><img src=\"https://imgs.xkcd.com/comics/statistics.png\" width=80% alt=\"Statistics tip: always try to get data that's good enough that you don't need to do statistics on it.\"><br><a href=\"https://xkcd.com/2400\">Via xkcd.com</a>. Thanks for the tip, but we're going to anyway.</td>\n",
    "    </tr>\n",
    "</table>"
   ]
  },
  {
   "cell_type": "markdown",
   "id": "2708264f-c0be-41ef-8e0b-a33f89eab518",
   "metadata": {
    "id": "2708264f-c0be-41ef-8e0b-a33f89eab518"
   },
   "source": [
    "For those of a certain mindset, the reporting immediately raised three questions:\n",
    "1. What _exactly_ does effectiveness mean in this context?\n",
    "2. What is the uncertainty on the 95%? (You might intuitively suspect it's large, given the small fraction of participants who tested positive at all.)\n",
    "3. Is it possible to answer these questions based only on the mass-media reports (i.e. without waiting for more official documentation)?\n",
    "\n",
    "As to the first question above, we will use the following generative model, including a definition of effectiveness, which I claim is logical and which ends up yielding a best-fit effectiveness of 95%:\n",
    "* Trial participants are split into control and treatment groups with sizes $N_\\mathrm{c,tot}$ and $N_\\mathrm{t,tot}$. We don't know precisely what these values are, but will probably be ok assuming that they are both 22,000.\n",
    "* Let $P_\\mathrm{exp}$ be the average probability that one of the control participants is exposed to Covid-19 _and_ becomes infected _and_ is tested for Covid-19 (surveillance testing not being in place at this point in time) _and_ tests positive. $N_\\mathrm{c,pos}$ of them do so.\n",
    "* We will assume that the control and treatment groups are similar enough that this average probability would also apply to members of the treatment group _if they had not been vaccinated_. That is, it is the probability that they are sufficiently exposed to Covid-19 that they would have become ill and tested positive had they not been vaccinated. There is a corresponding number of treatment-arm participants, $N_\\mathrm{t,exp}$, who have this level of exposure but do not _necessarily_ become ill, get tested and/or test positive, due to vaccination.\n",
    "* For the members of the treatment with this level of exposure, the probability that they do _not_ go on to become ill and test positive is $P_\\mathrm{vac}$. This is the \"effectiveness\", essentially the fractional reduction in the number of particpants who test positive, comparing the control and treatment groups. Conversely, these highly exposued treatment-group participants have a probability $1-P_\\mathrm{vac}$ of testing positive despite vaccination. The number that do is $N_\\mathrm{t,pos}$.\n",
    "\n",
    "(To be clear, I am not claiming that either the company or the FDA plugged this model through a Bayesian analysis like we will. Almost certainly they didn't, although I suspect the method they did use is an approximation to what we will do.)\n",
    "\n",
    "Answering the second and third questions is, of course, the point of the remainder of this notebook."
   ]
  },
  {
   "cell_type": "markdown",
   "id": "aad97242-b85b-45b0-8c0d-30fba990d771",
   "metadata": {
    "id": "aad97242-b85b-45b0-8c0d-30fba990d771"
   },
   "source": [
    "# Specify the model and priors\n",
    "\n",
    "The bullet-point model above is a bit convoluted. Naturally, your first job is to map out this model as a PGM and fully specify it in generative form. To help, here are the quantities mentioned above that are explicitly given in the article:\n",
    "```\n",
    "Nc_tot: total number in control arm\n",
    "Nt_tot: total number in treatment arm\n",
    "Nc_pos: number of positive cases in control arm\n",
    "Nt_pos: number of positive cases in treatment arm\n",
    "```\n",
    "As usual, however, you will be analyzing your own, unique (albeit fictional) data. Let's read that in."
   ]
  },
  {
   "cell_type": "code",
   "execution_count": null,
   "id": "b52e3f0c-6d12-4370-89dc-4b4ec54400a7",
   "metadata": {
    "id": "b52e3f0c-6d12-4370-89dc-4b4ec54400a7"
   },
   "outputs": [],
   "source": [
    "data = safe_load(open(datapath+'data.yaml', 'r').read())\n",
    "data"
   ]
  },
  {
   "cell_type": "markdown",
   "id": "181956c4-79b1-4770-820e-07187867aae9",
   "metadata": {
    "id": "181956c4-79b1-4770-820e-07187867aae9"
   },
   "source": [
    "In addition to these quantities, we will have to account for\n",
    "```\n",
    "Pexp:   probability of exposure/vulnerability resulting in positivity WITHOUT treatment\n",
    "Nt_exp: number in the treatment branch so exposed/vulnerable\n",
    "Pvac:   probability of one of them NOT testing positive\n",
    "```\n",
    "which are not given. These are either parameters of interest or things we need to marginalize over, depending on your point of view. For the sake of organization, let's define the following canonical order for these parameters:"
   ]
  },
  {
   "cell_type": "code",
   "execution_count": null,
   "id": "e1d7df7d-ecf6-4548-be39-857bf62eb7fa",
   "metadata": {
    "deletable": false,
    "editable": false,
    "id": "e1d7df7d-ecf6-4548-be39-857bf62eb7fa",
    "nbgrader": {
     "cell_type": "code",
     "checksum": "835a6380f193100be133b7cb02f3e4b3",
     "grade": true,
     "grade_id": "read_hypar",
     "locked": true,
     "points": 0,
     "schema_version": 3,
     "solution": false,
     "task": false
    },
    "tags": []
   },
   "outputs": [],
   "source": [
    "param_names = ['Pexp', 'Nt_exp', 'Pvac']"
   ]
  },
  {
   "cell_type": "markdown",
   "id": "ee0f9147-0ea4-4402-80ae-0d4cff7ceb21",
   "metadata": {
    "id": "ee0f9147-0ea4-4402-80ae-0d4cff7ceb21"
   },
   "source": [
    "Finally, you will need to define and justify priors for $P_\\mathrm{exp}$ and $P_\\mathrm{vac}$. As always, the overriding concern when chosing a prior is that it be defensible. However, in this case, please adopt priors from the [Beta](https://en.wikipedia.org/wiki/Beta_distribution) family of distributions, which is defined over the real interval [0,1] and is reasonably flexible. (This restriction will make it simpler for us to check your work, and allow us to demonstrate the use of conjugate Gibbs sampling with this problem, far below.)\n",
    "\n",
    "**Note: In class we will discuss and agree on a common set of priors that everyone should use.**"
   ]
  },
  {
   "cell_type": "markdown",
   "id": "92159054-de96-4b1e-a2ba-01624d37a7b0",
   "metadata": {
    "id": "92159054-de96-4b1e-a2ba-01624d37a7b0",
    "tags": []
   },
   "source": [
    "> Space for PGM and generative model"
   ]
  },
  {
   "cell_type": "markdown",
   "id": "06fdd6f4-3269-4ed3-a9d5-19fda7d3f47d",
   "metadata": {
    "id": "06fdd6f4-3269-4ed3-a9d5-19fda7d3f47d"
   },
   "source": [
    "Define the hyperparameter values ($\\alpha$ and $\\beta$ for the two Beta distribution priors) here:"
   ]
  },
  {
   "cell_type": "code",
   "execution_count": null,
   "id": "2f60273f-8c75-433f-81bb-c13eb3c11bd4",
   "metadata": {
    "deletable": false,
    "id": "2f60273f-8c75-433f-81bb-c13eb3c11bd4",
    "nbgrader": {
     "cell_type": "code",
     "checksum": "85b1f548ba227f5b637290bad6bd4c20",
     "grade": false,
     "grade_id": "hyper",
     "locked": false,
     "schema_version": 3,
     "solution": true,
     "task": false
    },
    "tags": []
   },
   "outputs": [],
   "source": [
    "# hyperparams = {'Pexp_alpha': ..., 'Pexp_beta':..., 'Pvac_alpha':..., 'Pvac_beta': ...}\n",
    "# YOUR CODE HERE\n",
    "raise NotImplementedError()"
   ]
  },
  {
   "cell_type": "markdown",
   "id": "03a804c0-e8a1-464f-8ece-53dc781857df",
   "metadata": {
    "id": "03a804c0-e8a1-464f-8ece-53dc781857df"
   },
   "source": [
    "We'll visualize the priors below:"
   ]
  },
  {
   "cell_type": "code",
   "execution_count": null,
   "id": "c35d93e9-4def-4da5-96a0-231771d6f17d",
   "metadata": {
    "deletable": false,
    "editable": false,
    "id": "c35d93e9-4def-4da5-96a0-231771d6f17d",
    "nbgrader": {
     "cell_type": "code",
     "checksum": "098e175150eb6a9ffb7d11e036fa91fa",
     "grade": true,
     "grade_id": "test_hyper",
     "locked": true,
     "points": 1,
     "schema_version": 3,
     "solution": false,
     "task": false
    },
    "tags": []
   },
   "outputs": [],
   "source": [
    "print('Beta distribution prior hyperparameters for Pexp:', hyperparams['Pexp_alpha'], hyperparams['Pexp_beta'])\n",
    "print('Beta distribution prior hyperparameters for Pvac:', hyperparams['Pvac_alpha'], hyperparams['Pvac_beta'])\n",
    "plt.rcParams['figure.figsize'] = (10.0, 3.0)\n",
    "fig, ax = plt.subplots(1,2)\n",
    "xx = np.linspace(0.0, 1.0, 1000)\n",
    "ax[0].plot(xx, st.beta.pdf(xx, hyperparams['Pexp_alpha'], hyperparams['Pexp_beta']));\n",
    "ax[0].set_xlabel(r'$P_\\mathrm{exp}$'); ax[0].set_ylabel(r'$p(P_\\mathrm{exp})$');\n",
    "ax[1].plot(xx, st.beta.pdf(xx, hyperparams['Pvac_alpha'], hyperparams['Pvac_beta']));\n",
    "ax[1].set_xlabel(r'$P_\\mathrm{vac}$'); ax[1].set_ylabel(r'$p(P_\\mathrm{vac})$');"
   ]
  },
  {
   "cell_type": "markdown",
   "id": "beaf2579-887f-4e02-96e5-b3b4586018a8",
   "metadata": {
    "id": "beaf2579-887f-4e02-96e5-b3b4586018a8"
   },
   "source": [
    "# Solution on a grid"
   ]
  },
  {
   "cell_type": "markdown",
   "id": "7e80e1f8-0f84-4ec7-bc95-ce695be1175e",
   "metadata": {
    "id": "7e80e1f8-0f84-4ec7-bc95-ce695be1175e"
   },
   "source": [
    "Before moving on, it will be useful to have a simple, common-sense guess at the parameter values, based on the reported information. Go ahead and fill in the dictionary below, and eventually you'll find out if your simple estimates were close. (At least for my definition of \"common sense\", the guessed value of $P_\\mathrm{vac}$ based on the real data comes out to about 95.1%.) Do remember that $N_\\mathrm{t,exp}$ must be an integer."
   ]
  },
  {
   "cell_type": "code",
   "execution_count": null,
   "id": "e5776371-257f-4544-ba74-e2af31abccb1",
   "metadata": {
    "deletable": false,
    "id": "e5776371-257f-4544-ba74-e2af31abccb1",
    "nbgrader": {
     "cell_type": "code",
     "checksum": "65171b4971687754b810832360175a12",
     "grade": false,
     "grade_id": "guess",
     "locked": false,
     "schema_version": 3,
     "solution": true,
     "task": false
    },
    "tags": []
   },
   "outputs": [],
   "source": [
    "# guess = {'Pexp':..., 'Nt_exp':..., 'Pvac':...}\n",
    "# YOUR CODE HERE\n",
    "raise NotImplementedError()\n",
    "\n",
    "guess"
   ]
  },
  {
   "cell_type": "markdown",
   "id": "4bc70afe-28cb-4664-ac61-8e0b3793601b",
   "metadata": {
    "id": "4bc70afe-28cb-4664-ac61-8e0b3793601b"
   },
   "source": [
    "### Implement and benchmark the posterior calculation\n",
    "\n",
    "It's time to write functions to evaluate the prior, sampling and posterior distributions.\n",
    "\n",
    "Normally, we try to evaluate the _log_ of these distributions. This is because floating-point underflows can be an issue, especially when the sampling distribution is a product with many terms. (That won't be the case in this problem, but happens naturally when the data consist of many measurements.) Another benefit is that we don't have to worry about normalizing coefficients that don't depend on model parameters, unless we wanted to compute the absolute value of the evidence for some reason. Since we'll be evaluating over a grid in this notebook, we could always normalize the posterior later by dividing it by its numerical integral.\n",
    "\n",
    "If any of these functions should return zero probability, you can and should have them return a log-probability of $-\\infty$. This includes cases where parameters are somehow out of bounds or would cause numerical errors, e.g. if a negative value of $P_\\mathrm{vac}$ is passed. Our solution will be on a grid, so it would be easy to simply not include any pathological values in the range to be explored. However, we will soon move to using algorithms that might ask for an evaluation at any value, in principle, so it's a good habit to watch out for cases that might crash your code and handle them proactively. `scipy.stats` functions usually deal with this kind of checking automatically, which can simplify things.\n",
    "\n",
    "Anyway, complete the following function for evaluating the log-prior, which should work for any choice of the hyperparameters:"
   ]
  },
  {
   "cell_type": "code",
   "execution_count": null,
   "id": "ae5517c4-89c3-4570-9666-d9b0421dd0f1",
   "metadata": {
    "deletable": false,
    "id": "ae5517c4-89c3-4570-9666-d9b0421dd0f1",
    "nbgrader": {
     "cell_type": "code",
     "checksum": "39e505e93be0c432e9b83f73936a8374",
     "grade": false,
     "grade_id": "prior",
     "locked": false,
     "schema_version": 3,
     "solution": true,
     "task": false
    },
    "tags": []
   },
   "outputs": [],
   "source": [
    "def log_prior(Pexp, Nt_exp, Pvac, Pexp_alpha, Pexp_beta, Pvac_alpha, Pvac_beta):\n",
    "    # YOUR CODE HERE\n",
    "    raise NotImplementedError()"
   ]
  },
  {
   "cell_type": "markdown",
   "id": "f28f660a-565b-421e-8264-11ba4df67eb4",
   "metadata": {
    "id": "f28f660a-565b-421e-8264-11ba4df67eb4"
   },
   "source": [
    "As always, we should make sure it returns some finite value instead of crashing when fed a reasonable parameter dictionary. We can just use `guess` for this type of check."
   ]
  },
  {
   "cell_type": "code",
   "execution_count": null,
   "id": "309ac756-2672-4586-88f5-c69cee1bd071",
   "metadata": {
    "id": "309ac756-2672-4586-88f5-c69cee1bd071"
   },
   "outputs": [],
   "source": [
    "log_prior(**guess, **hyperparams)"
   ]
  },
  {
   "cell_type": "markdown",
   "id": "fcfe18fb-065e-42bf-90d1-23c9dccaa3f5",
   "metadata": {
    "id": "fcfe18fb-065e-42bf-90d1-23c9dccaa3f5"
   },
   "source": [
    "Next, implement and test the log-likelihood/sampling distribution. Please note and do not change the line below where we round the value of `Nt_exp`. Notionally it's of course an error for this parameter to be non-integer, but the rounding will let us be a little sloppy with, e.g., defining evenly spaced parameter values over which to test the posterior distribution."
   ]
  },
  {
   "cell_type": "code",
   "execution_count": null,
   "id": "a58ca333-c809-47dd-8d71-b4b5404937c7",
   "metadata": {
    "deletable": false,
    "id": "a58ca333-c809-47dd-8d71-b4b5404937c7",
    "nbgrader": {
     "cell_type": "code",
     "checksum": "add0aec1ee115759b96df497d89d97fd",
     "grade": false,
     "grade_id": "like",
     "locked": false,
     "schema_version": 3,
     "solution": true,
     "task": false
    },
    "tags": []
   },
   "outputs": [],
   "source": [
    "def log_likelihood(data, Pexp, Nt_exp, Pvac, **unused_kwargs):\n",
    "    # unused_kwargs is there so we can pass hyperparameters without crashing,\n",
    "    # not that we would/could use them in the likelihood\n",
    "    Nt_exp = np.round(Nt_exp) # just in case we are passed a non-integer\n",
    "    # YOUR CODE HERE\n",
    "    raise NotImplementedError()"
   ]
  },
  {
   "cell_type": "code",
   "execution_count": null,
   "id": "a864b6d8-bfb2-4ddc-998e-77ceef8bd817",
   "metadata": {
    "id": "a864b6d8-bfb2-4ddc-998e-77ceef8bd817"
   },
   "outputs": [],
   "source": [
    "log_likelihood(data, **guess)"
   ]
  },
  {
   "cell_type": "markdown",
   "id": "f10a9b14-d071-4efe-90bc-375ade55ea1c",
   "metadata": {
    "id": "f10a9b14-d071-4efe-90bc-375ade55ea1c"
   },
   "source": [
    "Finally, the log-posterior. As will often be the case, we will just return the sum of the log-prior and log-likelihood, i.e. we will neglect the normalizing constant (evidence), which is constant with repect to the model parameters.\n",
    "\n",
    "The construction below is a good one to be in the habit of using. Usually, the likelihood is much more expensive to compute than the prior, and might even crash if passed prior-incompatible parameter values. So it's worth the extra check of a non-zero prior probability before attempting to evaluate the likelihood."
   ]
  },
  {
   "cell_type": "code",
   "execution_count": null,
   "id": "53badb11-4418-49c9-993b-3689365f2f95",
   "metadata": {
    "id": "53badb11-4418-49c9-993b-3689365f2f95"
   },
   "outputs": [],
   "source": [
    "def log_posterior(data, **allparams):\n",
    "    lnp = log_prior(**allparams)\n",
    "    if np.isfinite(lnp):\n",
    "        lnp += log_likelihood(data, **allparams)\n",
    "    return lnp"
   ]
  },
  {
   "cell_type": "markdown",
   "id": "0d5ad521-b9d0-453c-966a-2cbec28ebff9",
   "metadata": {
    "id": "0d5ad521-b9d0-453c-966a-2cbec28ebff9"
   },
   "source": [
    "Let's do some basic checks that it works as intended. This will also check that your guess has a non-zero posterior probability; if it doesn't there's either a bug or your guess should be revisited."
   ]
  },
  {
   "cell_type": "code",
   "execution_count": null,
   "id": "a4b7c815-690c-4a00-9498-ca88a0fd5747",
   "metadata": {
    "id": "a4b7c815-690c-4a00-9498-ca88a0fd5747"
   },
   "outputs": [],
   "source": [
    "print(log_posterior(data, **guess, **hyperparams))\n",
    "assert log_posterior(data, **guess, **hyperparams) == log_prior(**guess, **hyperparams) + log_likelihood(data, **guess)\n",
    "assert np.isfinite(log_posterior(data, **guess, **hyperparams))"
   ]
  },
  {
   "cell_type": "markdown",
   "id": "d00c2390-617a-4911-9f1e-15d623955295",
   "metadata": {
    "id": "d00c2390-617a-4911-9f1e-15d623955295"
   },
   "source": [
    "We can also do a check of the key functions against our solutions, for arbitrary parameter/hyperparameter values (since we don't know whether your functions are normalized, this is done in terms of differences in each function):"
   ]
  },
  {
   "cell_type": "code",
   "execution_count": null,
   "id": "c64e8ad8-7cdb-44e7-8ab9-4d5d8a328d39",
   "metadata": {
    "deletable": false,
    "editable": false,
    "id": "c64e8ad8-7cdb-44e7-8ab9-4d5d8a328d39",
    "nbgrader": {
     "cell_type": "code",
     "checksum": "1722047538b752ccdfd9adef57110049",
     "grade": true,
     "grade_id": "test_prior_like",
     "locked": true,
     "points": 0,
     "schema_version": 3,
     "solution": false,
     "task": false
    },
    "tags": []
   },
   "outputs": [],
   "source": [
    "post_test = safe_load(open(datapath+'post_test.yaml', 'r').read())\n",
    "assert np.isclose(log_prior(3e-4, 100, 0.9, 2.0, 10.0, 10.0, 2.0)-log_prior(6e-4, 200, 0.99, 2.0, 5.0, 5.0, 2.0), post_test['prior'])\n",
    "assert np.isclose(log_likelihood(data, 3e-4, 100, 0.9)-log_likelihood(data, 6e-4, 200, 0.99), post_test['like'])"
   ]
  },
  {
   "cell_type": "markdown",
   "id": "3fdde4de-265a-41c0-9f8b-95d911d8d3a0",
   "metadata": {
    "id": "3fdde4de-265a-41c0-9f8b-95d911d8d3a0"
   },
   "source": [
    "Assuming all is well so far, let's get an idea of how fast the posterior calculation is:"
   ]
  },
  {
   "cell_type": "code",
   "execution_count": null,
   "id": "cf9424ad-cf21-4f8e-bbbf-16962634e1d5",
   "metadata": {
    "id": "cf9424ad-cf21-4f8e-bbbf-16962634e1d5"
   },
   "outputs": [],
   "source": [
    "%%time\n",
    "for i in range(1000):\n",
    "    log_posterior(data, **guess, **hyperparams)"
   ]
  },
  {
   "cell_type": "markdown",
   "id": "c625c21a-89c2-4a91-bb16-485eb594ad4f",
   "metadata": {
    "id": "c625c21a-89c2-4a91-bb16-485eb594ad4f"
   },
   "source": [
    "My particular implementation, on my aging laptop, seems to be taking about 0.8ms per evaluation. (It's easily possible to speed this up by being clever about Python optimization, but never mind.)\n",
    "\n",
    "Let's call this a round 1ms per evaluation. Imagining that we'd like a grid running over 100 values for each parameter ($10^6$ grid points in total) to really map out the posterior well, we'll be waiting more than 15 minutes. That assumes that we know what part of parameter space the posterior will be non-tiny in, but in any case 15 minutes is not a big deal in the scheme of things.\n",
    "\n",
    "On the other hand, there are plenty of data sets where evaluating the likelihood involves serious computation, requiring seconds or (but hopefully not!) minutes per evaluation. As you can imagine, we'll be looking for less brute-force approaches than a grid evaluation in those cases. Even when the likelihood is fast, the exponential scaling of the grid size with the number of parameters (i.e. it's dimensionality) rapidly gets out of hand. For example, here's how the time to evaluate our 1ms posterior over a 100-value-per-parameter grid grows with the number of parameters:"
   ]
  },
  {
   "cell_type": "code",
   "execution_count": null,
   "id": "d626bdcc-b254-49bf-b49b-79502940ac1d",
   "metadata": {
    "id": "d626bdcc-b254-49bf-b49b-79502940ac1d"
   },
   "outputs": [],
   "source": [
    "for npar in [3, 6, 9]:\n",
    "    t = 1e-3*100.**npar\n",
    "    print(\"For\", npar, \"parameters, \", t, \"seconds =\", t/60, \"minutes =\", t/3600, \"hours =\", t/(3600*24*365.25), \"years\")"
   ]
  },
  {
   "cell_type": "markdown",
   "id": "7b7b8801-dc9e-4433-a0e2-b6493b73fe62",
   "metadata": {
    "id": "7b7b8801-dc9e-4433-a0e2-b6493b73fe62"
   },
   "source": [
    "which, to be clear, is longer than any of our notebooks should take to run."
   ]
  },
  {
   "cell_type": "markdown",
   "id": "247bf942-5a22-4054-9f3c-ff3fb7cc4c6c",
   "metadata": {
    "id": "247bf942-5a22-4054-9f3c-ff3fb7cc4c6c"
   },
   "source": [
    "### Evaluate on a course grid"
   ]
  },
  {
   "cell_type": "markdown",
   "id": "559fc091-a83e-4bf6-b481-860ac8bbcd76",
   "metadata": {
    "id": "559fc091-a83e-4bf6-b481-860ac8bbcd76"
   },
   "source": [
    "Bearing all that in mind, let's go ahead and do a quick run over a grid of size 10 in each parameter. Though we have a `guess` at what values of each parameter will be favored by the data, we still don't know how far in any direction in parameter space we need to go to encompass most of the posterior probability. A quick exploraration will help that, and then we can run a finer grid afterwards.\n",
    "\n",
    "Fill in some minimum and maximum values for each parameter below, but please don't change the value of `size`."
   ]
  },
  {
   "cell_type": "code",
   "execution_count": null,
   "id": "2f096a5e-6ba2-4c20-9b23-6d2aa8233dfb",
   "metadata": {
    "deletable": false,
    "id": "2f096a5e-6ba2-4c20-9b23-6d2aa8233dfb",
    "nbgrader": {
     "cell_type": "code",
     "checksum": "3172eb98860f7e59d2fd3e6829e7c046",
     "grade": false,
     "grade_id": "define_grid1",
     "locked": false,
     "schema_version": 3,
     "solution": true,
     "task": false
    },
    "tags": []
   },
   "outputs": [],
   "source": [
    "size = 10\n",
    "\n",
    "# Pexp_values = np.linspace(..., ..., size)\n",
    "# Nt_exp_values = np.linspace(..., ..., size)\n",
    "# Pvac_values = np.linspace(..., ..., size)\n",
    "# YOUR CODE HERE\n",
    "raise NotImplementedError()"
   ]
  },
  {
   "cell_type": "markdown",
   "id": "a9091e60-7ea2-420e-9f69-cac6fab4d67b",
   "metadata": {
    "id": "a9091e60-7ea2-420e-9f69-cac6fab4d67b"
   },
   "source": [
    "Next we'll evaluate the posterior over all combinations of the parameter values above. The function below is probably not the most efficient way of coding this (and certainly not the shortest way), but is at least explicit."
   ]
  },
  {
   "cell_type": "code",
   "execution_count": null,
   "id": "ef80e357-1415-4e93-9e5d-eceea7c53198",
   "metadata": {
    "id": "ef80e357-1415-4e93-9e5d-eceea7c53198"
   },
   "outputs": [],
   "source": [
    "def run_grid(Pexp_values, Nt_exp_values, Pvac_values):\n",
    "    res = np.empty((len(Pexp_values), len(Nt_exp_values), len(Pvac_values)))\n",
    "    for i,Pexp in enumerate(Pexp_values):\n",
    "        for j,Nt_exp in enumerate(Nt_exp_values):\n",
    "            for k,Pvac in enumerate(Pvac_values):\n",
    "                res[i,j,k] = log_posterior(data, Pexp=Pexp, Nt_exp=Nt_exp, Pvac=Pvac, **hyperparams)\n",
    "    return res"
   ]
  },
  {
   "cell_type": "markdown",
   "id": "f428d493-ef93-450f-bed8-3b4c9cf108d6",
   "metadata": {
    "id": "f428d493-ef93-450f-bed8-3b4c9cf108d6"
   },
   "source": [
    "Based on the numbers above, this course grid should only take about 1s to run."
   ]
  },
  {
   "cell_type": "code",
   "execution_count": null,
   "id": "be656ebe-5f93-4a86-b0ff-26aafced3128",
   "metadata": {
    "id": "be656ebe-5f93-4a86-b0ff-26aafced3128"
   },
   "outputs": [],
   "source": [
    "%%time\n",
    "lnpost_grid = run_grid(Pexp_values, Nt_exp_values, Pvac_values)"
   ]
  },
  {
   "cell_type": "markdown",
   "id": "ee628810-a020-41fa-be46-a0a2035792b7",
   "metadata": {
    "id": "ee628810-a020-41fa-be46-a0a2035792b7"
   },
   "source": [
    "Next, we want to see how well the grid bounds you chose enclose the posterior distribution. If the posterior is not tiny at the edge of the grid, and that edge doesn't correspond to a fundamental limit like $P_\\mathrm{vac}=1.0$, you'll want to go back and change the grid extent. We'll also get a sense of how poorly this course grid captures the shape of the posterior.\n",
    "\n",
    "The simplest way to go about this is to compute the marginalized 1D posteriors of each parameter on the grid, and look at them. Since we'll want to do this again with a finer grid, it's worth writing a quick function to do so. The particular format for the return value described below will allow us to take advantage of existing code to compute credible intervals from the results."
   ]
  },
  {
   "cell_type": "code",
   "execution_count": null,
   "id": "08324236-bdb6-47d7-85e9-0153ab0f1aad",
   "metadata": {
    "deletable": false,
    "id": "08324236-bdb6-47d7-85e9-0153ab0f1aad",
    "nbgrader": {
     "cell_type": "code",
     "checksum": "111d7be641c6d21e5bedd0c25eb66180",
     "grade": false,
     "grade_id": "marg1d",
     "locked": false,
     "schema_version": 3,
     "solution": true,
     "task": false
    },
    "tags": []
   },
   "outputs": [],
   "source": [
    "# This function should return a list, with one entry for each of the parameters (in canonical order).\n",
    "# Each entry should be a dictionary with\n",
    "#   'x': the array of grid values for that parameter\n",
    "#   'density': a corresponding array of the 1D marginalized posterior PDF (not log-PDF) for that parameter. It does not need to be normalized.\n",
    "\n",
    "def get_marg1d(lnpost_grid, Pexp_values, Nt_exp_values, Pvac_values):\n",
    "    # return [{'x':Pexp_values, 'density':...}, ...]\n",
    "    # YOUR CODE HERE\n",
    "    raise NotImplementedError()"
   ]
  },
  {
   "cell_type": "markdown",
   "id": "045faa20-1d5f-4ed9-892e-e84235d07fd1",
   "metadata": {
    "id": "045faa20-1d5f-4ed9-892e-e84235d07fd1"
   },
   "source": [
    "Let's run it"
   ]
  },
  {
   "cell_type": "code",
   "execution_count": null,
   "id": "5287ae40-b10d-4b94-b15b-1db419b916b9",
   "metadata": {
    "deletable": false,
    "editable": false,
    "id": "5287ae40-b10d-4b94-b15b-1db419b916b9",
    "nbgrader": {
     "cell_type": "code",
     "checksum": "c8997bbdf99625d96709e3db189802bf",
     "grade": true,
     "grade_id": "test_marg1d",
     "locked": true,
     "points": 1,
     "schema_version": 3,
     "solution": false,
     "task": false
    },
    "tags": []
   },
   "outputs": [],
   "source": [
    "marg1d = get_marg1d(lnpost_grid, Pexp_values, Nt_exp_values, Pvac_values)"
   ]
  },
  {
   "cell_type": "markdown",
   "id": "368db42b-89e4-44d1-8c33-3f499336c47d",
   "metadata": {
    "id": "368db42b-89e4-44d1-8c33-3f499336c47d"
   },
   "source": [
    "... and plot each 1D distribution:"
   ]
  },
  {
   "cell_type": "code",
   "execution_count": null,
   "id": "66ad4419-b013-4fd6-b763-0dcc4299eb75",
   "metadata": {
    "id": "66ad4419-b013-4fd6-b763-0dcc4299eb75"
   },
   "outputs": [],
   "source": [
    "def plot_marg1d(marg1d, symb='o'):\n",
    "    plt.rcParams['figure.figsize'] = (20.0, 4.0)\n",
    "    fig, ax = plt.subplots(1,len(param_names))\n",
    "    for i,name in enumerate(param_names):\n",
    "        ax[i].plot(marg1d[i]['x'], marg1d[i]['density'], symb);\n",
    "        ax[i].set_xlabel(name);\n",
    "        ax[i].set_ylabel('p('+name+'|data)');"
   ]
  },
  {
   "cell_type": "code",
   "execution_count": null,
   "id": "36fae313-69a7-47ad-8de3-4f3eb56e89e5",
   "metadata": {
    "id": "36fae313-69a7-47ad-8de3-4f3eb56e89e5"
   },
   "outputs": [],
   "source": [
    "plot_marg1d(marg1d);"
   ]
  },
  {
   "cell_type": "markdown",
   "id": "c0713ed8-1eff-41ad-87b6-52db6ddf54d8",
   "metadata": {
    "id": "c0713ed8-1eff-41ad-87b6-52db6ddf54d8"
   },
   "source": [
    "Hopefully the plots above give you an idea of where in parameter space the posterior is large, and where it drops to about zero, at least after marginalization. If not, this is a good point to go back and adjust the size of the grid. With only 10 points in each of these, it's unlikely that we're confident in the shape of the distribution being mapped out, which is why we'll run a finer grid now that we have a better idea of what its extent should be.\n",
    "\n",
    "Before doing so, let's continue through the exercise of computing the 1D credible intervals and 2D credible regions from the course grid. It will probably not look pretty, but we can re-use these functions with the finer grid in a minute. The (complete) function below plugs your marginalized distributions into functions you've seen in the Credible Regions tutorial."
   ]
  },
  {
   "cell_type": "code",
   "execution_count": null,
   "id": "4ed43ae9-a8f1-41c3-805c-67cac8d66f62",
   "metadata": {
    "id": "4ed43ae9-a8f1-41c3-805c-67cac8d66f62"
   },
   "outputs": [],
   "source": [
    "def plot_ci1d(marg1d):\n",
    "    plt.rcParams['figure.figsize'] = (20.0, 4.0)\n",
    "    fig, ax = plt.subplots(1,len(param_names))\n",
    "    CIs = []\n",
    "    for i,name in enumerate(param_names):\n",
    "        CIs.append( cr.whist_ci(marg1d[i], plot=ax[i]) )\n",
    "        ax[i].set_xlabel(name);\n",
    "        ax[i].set_ylabel('p('+name+'|data)');\n",
    "    return CIs"
   ]
  },
  {
   "cell_type": "code",
   "execution_count": null,
   "id": "a89c7c94-28bd-4df3-b381-64983eded6ab",
   "metadata": {
    "id": "a89c7c94-28bd-4df3-b381-64983eded6ab"
   },
   "outputs": [],
   "source": [
    "plot_ci1d(marg1d);"
   ]
  },
  {
   "cell_type": "markdown",
   "id": "5af7ffe8-acb6-4cbb-acdc-3e060a60c071",
   "metadata": {
    "id": "5af7ffe8-acb6-4cbb-acdc-3e060a60c071"
   },
   "source": [
    "Chances are you can see the limitations of the course grid pretty clearly here.\n",
    "\n",
    "Now we'll do something similar with the 2D marginalized posterior distributions, corresponding to each combination of 2 of the 3 parameters. As before, complete the function below by computing the marginalized distributions on a grid.\n",
    "\n",
    "**Note:** The reversal of `'x'`, `'y'` and `'names'`, compared with our usual parameter order, is correct for what I thought was the simplest possible way to perform the marginalization. Please compare the resulting 2D plots with the 1D plots above to make sure that the axes have not gotten confused!"
   ]
  },
  {
   "cell_type": "code",
   "execution_count": null,
   "id": "88546ec6-1dbf-4e48-b4c8-545b51edf00f",
   "metadata": {
    "deletable": false,
    "id": "88546ec6-1dbf-4e48-b4c8-545b51edf00f",
    "nbgrader": {
     "cell_type": "code",
     "checksum": "9425f4e13e360ac595297531a484be67",
     "grade": false,
     "grade_id": "marg2",
     "locked": false,
     "schema_version": 3,
     "solution": true,
     "task": false
    },
    "tags": []
   },
   "outputs": [],
   "source": [
    "# Analogous to above, this function returns a list of the three 2D marginalized posteriors.\n",
    "# For concreteness, put these in the order: Pexp-Nt_exp, Pexp-Pvac, Nt_exp-Pvac.\n",
    "# Note that now each dictionary's 'x' and 'y' will be a 1D array of parameter values, while its 'z' will be a 2D array of posterior probabilities.\n",
    "# For convenience/clarity, also store the names of the two parameters corresponding to each distribution as shown.\n",
    "\n",
    "def get_marg2d(lnpost_grid, Pexp_values, Nt_exp_values, Pvac_values):\n",
    "    # return [{'y':Pexp_values, 'x':Nt_exp_values, 'z':..., 'names':[param_names[0], param_names[1]]}, ...]\n",
    "    # YOUR CODE HERE\n",
    "    raise NotImplementedError()"
   ]
  },
  {
   "cell_type": "code",
   "execution_count": null,
   "id": "a5f1c2f2-b5fb-4949-babc-38580e331c87",
   "metadata": {
    "deletable": false,
    "editable": false,
    "id": "a5f1c2f2-b5fb-4949-babc-38580e331c87",
    "nbgrader": {
     "cell_type": "code",
     "checksum": "4eb558cf5b285c5ce4a94903eead5b8c",
     "grade": true,
     "grade_id": "marg2_test",
     "locked": true,
     "points": 1,
     "schema_version": 3,
     "solution": false,
     "task": false
    },
    "tags": []
   },
   "outputs": [],
   "source": [
    "marg2d = get_marg2d(lnpost_grid, Pexp_values, Nt_exp_values, Pvac_values)"
   ]
  },
  {
   "cell_type": "markdown",
   "id": "13a636c2-4e0c-4578-99d1-088e22b2eb5e",
   "metadata": {
    "id": "13a636c2-4e0c-4578-99d1-088e22b2eb5e"
   },
   "source": [
    "Let's see what the credible regions based on this grid look like:"
   ]
  },
  {
   "cell_type": "code",
   "execution_count": null,
   "id": "f97d4b81-d561-4e1e-8fc2-19d7c0a89699",
   "metadata": {
    "id": "f97d4b81-d561-4e1e-8fc2-19d7c0a89699"
   },
   "outputs": [],
   "source": [
    "def plot_ci2d(marg2d):\n",
    "    plt.rcParams['figure.figsize'] = (20.0, 4.0)\n",
    "    fig, ax = plt.subplots(1,len(marg2d))\n",
    "    for i,m in enumerate(marg2d):\n",
    "        cr.whist2d_ci(m, plot=ax[i]);\n",
    "        ax[i].set_xlabel(m['names'][0]);\n",
    "        ax[i].set_ylabel(m['names'][1]);"
   ]
  },
  {
   "cell_type": "code",
   "execution_count": null,
   "id": "e5193190-597f-4bc9-b7c6-c0e06f98b103",
   "metadata": {
    "id": "e5193190-597f-4bc9-b7c6-c0e06f98b103"
   },
   "outputs": [],
   "source": [
    "plot_ci2d(marg2d);"
   ]
  },
  {
   "cell_type": "markdown",
   "id": "2f8ece68-27d0-48b8-8f6a-8686bf1c3756",
   "metadata": {
    "id": "2f8ece68-27d0-48b8-8f6a-8686bf1c3756"
   },
   "source": [
    "Again, you can probably see the impact of the grid's courseness on the results. We definitely wouldn't want to use this initial grid evaluation to draw conclusions if we could help it, but we should now have enough information to define a finer grid, below."
   ]
  },
  {
   "cell_type": "markdown",
   "id": "1ec20003-f215-4690-94b9-8ca4d19dd8be",
   "metadata": {
    "id": "1ec20003-f215-4690-94b9-8ca4d19dd8be"
   },
   "source": [
    "### Evaluate on a finer grid\n",
    "\n",
    "Now that you know how to work with inference on a grid, let's invest a few cycles in evaluating the posterior over a finer grid. Define the extent and size of the grid below based on your results above. The goal is for the grid to encompass the region in parameter space where the posterior is not very close to zero, so that we are not missing a significant amount of the distribution, while also being dense enough to capture its shape, so that our integrations (marginalizations) will be accurate. Something like `size` of 30-40 is probably plenty for our purposes, though fewer than we'd want for a publishable result. Come back and experiment after seeing the results below if you have any doubts."
   ]
  },
  {
   "cell_type": "code",
   "execution_count": null,
   "id": "ead4a4bd-42dc-44b5-8d79-56759b7b6fa7",
   "metadata": {
    "deletable": false,
    "id": "ead4a4bd-42dc-44b5-8d79-56759b7b6fa7",
    "nbgrader": {
     "cell_type": "code",
     "checksum": "7afe52615777417ca2a25f0fbf794492",
     "grade": false,
     "grade_id": "define_grid2",
     "locked": false,
     "schema_version": 3,
     "solution": true,
     "task": false
    },
    "tags": []
   },
   "outputs": [],
   "source": [
    "# size = ...\n",
    "# Pexp_values = np.linspace(..., ..., size)\n",
    "# Nt_exp_values = np.linspace(..., ..., size)\n",
    "# Pvac_values = np.linspace(..., ..., size)\n",
    "# YOUR CODE HERE\n",
    "raise NotImplementedError()"
   ]
  },
  {
   "cell_type": "code",
   "execution_count": null,
   "id": "daabf755-0c67-4f03-9b43-b1e5305377c0",
   "metadata": {
    "id": "daabf755-0c67-4f03-9b43-b1e5305377c0"
   },
   "outputs": [],
   "source": [
    "%%time\n",
    "lnpost_grid = run_grid(Pexp_values, Nt_exp_values, Pvac_values)"
   ]
  },
  {
   "cell_type": "markdown",
   "id": "8b85e535-5119-45d5-bf13-111833fac300",
   "metadata": {
    "id": "8b85e535-5119-45d5-bf13-111833fac300"
   },
   "source": [
    "As before, let's compute and plot the 1D marginalized posteriors ..."
   ]
  },
  {
   "cell_type": "code",
   "execution_count": null,
   "id": "425be752-050f-433d-80b2-5480825e9d4e",
   "metadata": {
    "id": "425be752-050f-433d-80b2-5480825e9d4e"
   },
   "outputs": [],
   "source": [
    "marg1d = get_marg1d(lnpost_grid, Pexp_values, Nt_exp_values, Pvac_values)\n",
    "plot_marg1d(marg1d);"
   ]
  },
  {
   "cell_type": "markdown",
   "id": "bf973d70-ff72-4e55-b953-6856ead721f2",
   "metadata": {
    "id": "bf973d70-ff72-4e55-b953-6856ead721f2"
   },
   "source": [
    "... and their credible intervals ..."
   ]
  },
  {
   "cell_type": "code",
   "execution_count": null,
   "id": "67ab6871-d726-4edf-a163-45ae4b89fc9b",
   "metadata": {
    "id": "67ab6871-d726-4edf-a163-45ae4b89fc9b"
   },
   "outputs": [],
   "source": [
    "CIs = plot_ci1d(marg1d);"
   ]
  },
  {
   "cell_type": "code",
   "execution_count": null,
   "id": "e2b3b82d-985e-4448-a9be-6bbccdff94ae",
   "metadata": {
    "id": "e2b3b82d-985e-4448-a9be-6bbccdff94ae"
   },
   "outputs": [],
   "source": [
    "CIs"
   ]
  },
  {
   "cell_type": "markdown",
   "id": "294d680e-bc53-4727-be91-dfe4ee0148a6",
   "metadata": {
    "id": "294d680e-bc53-4727-be91-dfe4ee0148a6"
   },
   "source": [
    "... as well as the 2D marginalized credible regions ..."
   ]
  },
  {
   "cell_type": "code",
   "execution_count": null,
   "id": "c3bf5cd4-f103-4404-9400-d3e4bda4f02d",
   "metadata": {
    "id": "c3bf5cd4-f103-4404-9400-d3e4bda4f02d"
   },
   "outputs": [],
   "source": [
    "marg2d = get_marg2d(lnpost_grid, Pexp_values, Nt_exp_values, Pvac_values)\n",
    "plot_ci2d(marg2d);"
   ]
  },
  {
   "cell_type": "markdown",
   "id": "23103d78-a823-4152-a089-c461a4d488b2",
   "metadata": {
    "id": "23103d78-a823-4152-a089-c461a4d488b2"
   },
   "source": [
    "In my solution (using `size=30`) the impact of the grid spacing on the 1D CIs is still pretty clear, although the 1D PDFs themselves are now sampled well enough that you can imagine interpolating them to do a better job of determining the CIs. In practice, we would instead simply use one of the (faster) non-grid methods outlined at the end of the notebook, however.\n",
    "\n",
    "In any case, don't worry about making these results look absolutely perfect. They should look a good deal better than the course grid did, but perfection from an on-the-grid analysis is not worth waiting for when there are better methods available. Instead, we turn to the always-necessary question of whether the model provides an acceptable description of the data.\n",
    "\n",
    "**Note:** If you are looking for confirmation that your marginalizations and CIs are correct, jump forward to the Gibbs sampling solution (which is given and in which we are extremely confident), and then check out the comparison at the beginning of the final section."
   ]
  },
  {
   "cell_type": "markdown",
   "id": "c955b294-6abd-4368-8a7c-9a0762363a07",
   "metadata": {
    "id": "c955b294-6abd-4368-8a7c-9a0762363a07"
   },
   "source": [
    "### Questions to ponder/experiment with: the influence of priors\n",
    "\n",
    "Comparing your 1D marginalized posteriors with the corresponding priors, for which parameter(s) do you thin the choice of prior might have been at all significant?\n",
    "\n",
    "How much does the CI for $p_\\mathrm{vac}$ change for different, plausibly \"uninformative\" choices of prior? How informative would the prior need to be to change the posterior at a level that actually affects our conclusions, compared with a uniform prior?"
   ]
  },
  {
   "cell_type": "markdown",
   "id": "bad17140-c515-4a88-b67b-53ec72e0c2c2",
   "metadata": {
    "id": "bad17140-c515-4a88-b67b-53ec72e0c2c2"
   },
   "source": [
    "> Space to ponder"
   ]
  },
  {
   "cell_type": "markdown",
   "id": "b11eb213-cf49-4afc-80dc-9eca521b44c3",
   "metadata": {
    "id": "b11eb213-cf49-4afc-80dc-9eca521b44c3"
   },
   "source": [
    "### Goodness of fit\n",
    "\n",
    "Given that the data and model are relatively simple in this case - it would be surprising if the model _couldn't_ fit the data for some values of the parameters - let's keep the goodness of fit check simple. Specifically, we'll just compare the given values of $N_\\mathrm{c,pos}$ and $N_\\mathrm{t,pos}$ to predictions from the mode of the posterior distribution. Typically we would want our predictions to also reflect uncertainty in the parameter values, and would therefore marginalize over the posterior; that will be much more straightforward when we start using monte carlo methods later on.\n",
    "\n",
    "First we find the mode, which is the set of parameter values corresponding to the maximum of the 3D posterior grid. The code to do so is not the most interesting or educational, so it's given."
   ]
  },
  {
   "cell_type": "code",
   "execution_count": null,
   "id": "0fb54e58-aa6a-4e00-a515-4b5a76cd3bc1",
   "metadata": {
    "id": "0fb54e58-aa6a-4e00-a515-4b5a76cd3bc1"
   },
   "outputs": [],
   "source": [
    "j = np.unravel_index(lnpost_grid.argmax(), lnpost_grid.shape)\n",
    "mode = {'Pexp':Pexp_values[j[0]], 'Nt_exp':np.round(Nt_exp_values[j[1]]), 'Pvac':Pvac_values[j[2]]}\n",
    "mode"
   ]
  },
  {
   "cell_type": "markdown",
   "id": "c18f4abb-b38d-43ad-99f0-2b63c937cf71",
   "metadata": {
    "id": "c18f4abb-b38d-43ad-99f0-2b63c937cf71"
   },
   "source": [
    "Next, define ranges of values for $N_\\mathrm{c,pos}$ and $N_\\mathrm{t,pos}$, and evaluate the PMF for each of them, given the modal parameter values above. Make sure the ranges are wide enough to encompass most of the probability (see the plots made in the following cell)."
   ]
  },
  {
   "cell_type": "code",
   "execution_count": null,
   "id": "97e3e84f-8f44-4260-b415-0fccc42ebf61",
   "metadata": {
    "deletable": false,
    "id": "97e3e84f-8f44-4260-b415-0fccc42ebf61",
    "nbgrader": {
     "cell_type": "code",
     "checksum": "ff310eeda6080c5f3f91d0215d0592fa",
     "grade": false,
     "grade_id": "PPD",
     "locked": false,
     "schema_version": 3,
     "solution": true,
     "task": false
    },
    "tags": []
   },
   "outputs": [],
   "source": [
    "# Nc_pos_values = np.arange(...)\n",
    "# Nc_pos_pppmf = ... # P(Nc_pos|modal Pexp, Nt_exp, Pvac)\n",
    "# Nt_pos_values = np.arange(...)\n",
    "# Nt_pos_pppmf = ... # P(Nt_pos|modal Pexp, Nt_exp, Pvac)\n",
    "# YOUR CODE HERE\n",
    "raise NotImplementedError()"
   ]
  },
  {
   "cell_type": "markdown",
   "id": "60f8e93f-eb38-447f-8e17-76e8ccd44f77",
   "metadata": {
    "id": "60f8e93f-eb38-447f-8e17-76e8ccd44f77"
   },
   "source": [
    "For this comparison to be meaningful, we need to be confident that we are looking at essentially the entire PMF in this case, so the following cell checks that the arrays you filled in above are close to normalized."
   ]
  },
  {
   "cell_type": "code",
   "execution_count": null,
   "id": "2d894e14-d48e-4ab9-af13-70734683eb8c",
   "metadata": {
    "id": "2d894e14-d48e-4ab9-af13-70734683eb8c"
   },
   "outputs": [],
   "source": [
    "assert np.isclose(Nc_pos_pppmf.sum(), 1.0, atol=1e-2)\n",
    "assert np.isclose(Nt_pos_pppmf.sum(), 1.0, atol=1e-2)"
   ]
  },
  {
   "cell_type": "markdown",
   "id": "0828f6e5-9877-4cd2-bcc7-4b42972bcedc",
   "metadata": {
    "id": "0828f6e5-9877-4cd2-bcc7-4b42972bcedc"
   },
   "source": [
    "This will plot the posterior-predicted PMFs you just computed to the measured values (vertical lines)."
   ]
  },
  {
   "cell_type": "code",
   "execution_count": null,
   "id": "16be7d3b-db8d-47ca-8f80-06334afc7626",
   "metadata": {
    "id": "16be7d3b-db8d-47ca-8f80-06334afc7626",
    "tags": []
   },
   "outputs": [],
   "source": [
    "plt.rcParams['figure.figsize'] = (10.0, 3.0)\n",
    "fig, ax = plt.subplots(1,2)\n",
    "ax[0].plot(Nc_pos_values, Nc_pos_pppmf, '.');\n",
    "ax[0].set_xlabel('Nc_pos\\''); ax[0].set_ylabel('P(Nc_pos\\'|mode)'); ax[0].axvline(data['Nc_pos'], color='C1');\n",
    "ax[1].plot(Nt_pos_values, Nt_pos_pppmf, '.');\n",
    "ax[1].set_xlabel('Nt_pos\\''); ax[1].set_ylabel('P(Nt_pos\\'|mode)'); ax[1].axvline(data['Nt_pos'], color='C1');"
   ]
  },
  {
   "cell_type": "markdown",
   "id": "81127587-8d65-40df-b030-c954960732c8",
   "metadata": {
    "id": "81127587-8d65-40df-b030-c954960732c8"
   },
   "source": [
    "You should be seeing relatively high probabilities at the measured values. If not, this would be an indication that the model is not a good choice, or that something is wrong in the analysis (like the grid containing only parameter values with small posterior probabilities).\n",
    "\n",
    "The following will do a simple \"probability to exceed\" type test to confirm that the observed data are not in the tails of the predicted distribution. (It is likely not robust to pathological gridding choices, to do eyeball the plots above instead of relying on this.)"
   ]
  },
  {
   "cell_type": "code",
   "execution_count": null,
   "id": "df11ca2a-a23c-489b-b6b4-241b9cf8d208",
   "metadata": {
    "id": "df11ca2a-a23c-489b-b6b4-241b9cf8d208"
   },
   "outputs": [],
   "source": [
    "pte_c = np.where(Nc_pos_values>data['Nc_pos'], 0, Nc_pos_pppmf).sum() / Nc_pos_pppmf.sum()\n",
    "assert pte_c > 0.05 and pte_c < 0.95\n",
    "pte_t = np.where(Nt_pos_values>data['Nt_pos'], 0, Nt_pos_pppmf).sum() / Nt_pos_pppmf.sum()\n",
    "assert pte_t > 0.05 and pte_t < 0.95"
   ]
  },
  {
   "cell_type": "markdown",
   "id": "057a0890-35fd-437c-bc24-371274e6483c",
   "metadata": {
    "id": "057a0890-35fd-437c-bc24-371274e6483c",
    "tags": []
   },
   "source": [
    "# Solution with maximum likelihood (on a grid)\n",
    "\n",
    "At the end of this notebook, we'll show what a non-grid-based Bayesian analysis of this problem might look like. Before that, let's take this opportunity to practice implementing a frequentist maximum likelihood analysis.\n",
    "\n",
    "Just like Bayes on a grid, maximum likelihood on a grid will suffer from the limited resolution with which we are mapping out the parameter space. Also similarly, the grid approach is not the only one possible. In the case of maximum likelihood, the alternative would involve doing a large number of numerical minimizations to map out the various profile likelihoods (see the Frequentism notes). We haven't tried that for this problem, so it may or may not be more efficient than the grid.\n",
    "\n",
    "In any case, our first task is to... run another grid, this time evaluating only the log-likelihood."
   ]
  },
  {
   "cell_type": "code",
   "execution_count": null,
   "id": "278f02fc-17ca-4f73-a5ba-5da986c37149",
   "metadata": {
    "id": "278f02fc-17ca-4f73-a5ba-5da986c37149"
   },
   "outputs": [],
   "source": [
    "def run_like_grid(Pexp_values, Nt_exp_values, Pvac_values):\n",
    "    res = np.empty((len(Pexp_values), len(Nt_exp_values), len(Pvac_values)))\n",
    "    for i,Pexp in enumerate(Pexp_values):\n",
    "        for j,Nt_exp in enumerate(Nt_exp_values):\n",
    "            for k,Pvac in enumerate(Pvac_values):\n",
    "                res[i,j,k] = log_likelihood(data, Pexp=Pexp, Nt_exp=Nt_exp, Pvac=Pvac)\n",
    "    return res"
   ]
  },
  {
   "cell_type": "code",
   "execution_count": null,
   "id": "18d46d2a-6b9e-4c23-a1f4-c83edc156c14",
   "metadata": {
    "id": "18d46d2a-6b9e-4c23-a1f4-c83edc156c14"
   },
   "outputs": [],
   "source": [
    "%%time\n",
    "lnlike_grid = run_like_grid(Pexp_values, Nt_exp_values, Pvac_values)"
   ]
  },
  {
   "cell_type": "markdown",
   "id": "8787d5be-2d24-4922-9eac-2a9c44deca94",
   "metadata": {
    "id": "8787d5be-2d24-4922-9eac-2a9c44deca94"
   },
   "source": [
    "Next, compute the 1D profile likelihoods we'll need to find the 1D confidence intervals for each parameter. The function prototypes below are intentionally similar to those we used in the previous section.\n",
    "\n",
    "Ultimately what we need for the CIs is not the profile likelihood itself, but $\\Delta S=S-S_\\mathrm{min}$, where $S=-2\\log(\\mathrm{profile~likelihood})$, so let's skip directly to storing that."
   ]
  },
  {
   "cell_type": "code",
   "execution_count": null,
   "id": "32006e8d-7270-47c6-899b-b4c6e58f30c5",
   "metadata": {
    "deletable": false,
    "id": "32006e8d-7270-47c6-899b-b4c6e58f30c5",
    "nbgrader": {
     "cell_type": "code",
     "checksum": "0388df7e1cc5a1d28a80698e88e4efb0",
     "grade": false,
     "grade_id": "dS1d",
     "locked": false,
     "schema_version": 3,
     "solution": true,
     "task": false
    },
    "tags": []
   },
   "outputs": [],
   "source": [
    "# This function is somewhat analogous to get_marg1d. Instead of finding each marginalized 1D posterior, you will compute the\n",
    "# the array of S-Smin corresponding to the profile likelihood for each parameter.\n",
    "\n",
    "def get_deltaS1d(lnlike_grid, Pexp_values, Nt_exp_values, Pvac_values):\n",
    "    # return [{'x':Pexp_values, 'dS':...}, ...]\n",
    "    # YOUR CODE HERE\n",
    "    raise NotImplementedError()"
   ]
  },
  {
   "cell_type": "code",
   "execution_count": null,
   "id": "6004f97d-f166-446b-8be9-b2f8641a523d",
   "metadata": {
    "deletable": false,
    "editable": false,
    "id": "6004f97d-f166-446b-8be9-b2f8641a523d",
    "nbgrader": {
     "cell_type": "code",
     "checksum": "69710a110d3d4094633f3edb3b6f1dc8",
     "grade": true,
     "grade_id": "test_dS1d",
     "locked": true,
     "points": 1,
     "schema_version": 3,
     "solution": false,
     "task": false
    },
    "tags": []
   },
   "outputs": [],
   "source": [
    "dS1d = get_deltaS1d(lnlike_grid, Pexp_values, Nt_exp_values, Pvac_values)"
   ]
  },
  {
   "cell_type": "markdown",
   "id": "a5e3caea-2be0-4049-9af0-cacb6359fc3a",
   "metadata": {
    "id": "a5e3caea-2be0-4049-9af0-cacb6359fc3a"
   },
   "source": [
    "Analogously to the Bayesian analysis, we'll find 68.3% and 95.4% CIs. Remind us of the values of $\\Delta S$ that define these in the maximum likelihood framework."
   ]
  },
  {
   "cell_type": "code",
   "execution_count": null,
   "id": "c15ba20a-0dd0-42fa-829e-fab1d9fde1fa",
   "metadata": {
    "deletable": false,
    "id": "c15ba20a-0dd0-42fa-829e-fab1d9fde1fa",
    "nbgrader": {
     "cell_type": "code",
     "checksum": "7b0bcd27e4e97a1132bf51d48ad45821",
     "grade": false,
     "grade_id": "dS1d_thresh",
     "locked": false,
     "schema_version": 3,
     "solution": true,
     "task": false
    },
    "tags": []
   },
   "outputs": [],
   "source": [
    "# dS1d_thresholds = [..., ...]\n",
    "# YOUR CODE HERE\n",
    "raise NotImplementedError()"
   ]
  },
  {
   "cell_type": "markdown",
   "id": "c0b52426-ab3a-48e7-8e7b-6d48007d869f",
   "metadata": {
    "id": "c0b52426-ab3a-48e7-8e7b-6d48007d869f"
   },
   "source": [
    "Let's see where these thresholds fall in the arrays of $\\Delta S$. We should be containing all the CIs within the existing grid, unless the prior was for some reason _very_ influential, shifting the posterior with respect to the likelihood."
   ]
  },
  {
   "cell_type": "code",
   "execution_count": null,
   "id": "ee85afbd-ac5a-4f27-a87e-cfb6044db94e",
   "metadata": {
    "deletable": false,
    "editable": false,
    "id": "ee85afbd-ac5a-4f27-a87e-cfb6044db94e",
    "nbgrader": {
     "cell_type": "code",
     "checksum": "16615e63de5b1ba46055a152d111f59a",
     "grade": true,
     "grade_id": "test_dS1d_thresh",
     "locked": true,
     "points": 1,
     "schema_version": 3,
     "solution": false,
     "task": false
    },
    "tags": []
   },
   "outputs": [],
   "source": [
    "def plot_ml_1d(dS1d, symb='o'):\n",
    "    plt.rcParams['figure.figsize'] = (20.0, 4.0)\n",
    "    fig, ax = plt.subplots(1,len(param_names))\n",
    "    for i,name in enumerate(param_names):\n",
    "        ax[i].plot(dS1d[i]['x'], dS1d[i]['dS'], symb);\n",
    "        ax[i].set_xlabel(name);\n",
    "        ax[i].set_ylabel(r'$S - S_\\mathrm{min}$');\n",
    "        ax[i].axhline(dS1d_thresholds[0], color='C1');\n",
    "        ax[i].axhline(dS1d_thresholds[1], color='C1');"
   ]
  },
  {
   "cell_type": "code",
   "execution_count": null,
   "id": "e190dd98-8fb3-4581-af79-f0d31b6cd662",
   "metadata": {
    "id": "e190dd98-8fb3-4581-af79-f0d31b6cd662"
   },
   "outputs": [],
   "source": [
    "plot_ml_1d(dS1d);"
   ]
  },
  {
   "cell_type": "markdown",
   "id": "cdb29071-e579-4d2e-9c41-6947b336cd4a",
   "metadata": {
    "id": "cdb29071-e579-4d2e-9c41-6947b336cd4a"
   },
   "source": [
    "Write a quick function to extract the maximum likelihood estimate and 1D CIs for each parameter."
   ]
  },
  {
   "cell_type": "code",
   "execution_count": null,
   "id": "4a110451-cc73-4df5-8be8-52b875ba60eb",
   "metadata": {
    "deletable": false,
    "id": "4a110451-cc73-4df5-8be8-52b875ba60eb",
    "nbgrader": {
     "cell_type": "code",
     "checksum": "f72c08a379b392b3d975d39064a96170",
     "grade": false,
     "grade_id": "conf1d",
     "locked": false,
     "schema_version": 3,
     "solution": true,
     "task": false
    },
    "tags": []
   },
   "outputs": [],
   "source": [
    "# This function should find the maximum-likelihood estimate and 68.3% and 95.4% confidence intervals for each parameter.\n",
    "# For uniformity/convenience, let's store these in a similar format to 'CIs', which was created for the Bayesian analysis.\n",
    "# That is, as a list of dictionaries containing:\n",
    "#   'estimate': the maximum likelihood estimate\n",
    "#   'min': list containing the lower bound of the 2 confidence intervals specified above\n",
    "#   'max': list containing the upper bound of the 2 confidence intervals specified above\n",
    "\n",
    "# The interval bounds won't fall exactly on a grid point, of course, so for concreteness and simplicity let's define the intervals as the range of\n",
    "# grid points satisfying S-Smin <= threshold, rather than trying to be more precise.\n",
    "\n",
    "def get_ml_ci1d(dS1d):\n",
    "    # return [{'estimate':..., 'min':[..., ...], 'max':[..., ...]}, ...]\n",
    "    # YOUR CODE HERE\n",
    "    raise NotImplementedError()"
   ]
  },
  {
   "cell_type": "markdown",
   "id": "63ab1d02-9839-478b-8d8c-f1c03c6c54f1",
   "metadata": {
    "id": "63ab1d02-9839-478b-8d8c-f1c03c6c54f1"
   },
   "source": [
    "Let's see what they are:"
   ]
  },
  {
   "cell_type": "code",
   "execution_count": null,
   "id": "34b7fc2d-89a0-41c3-88b3-d5ea560f0ee0",
   "metadata": {
    "deletable": false,
    "editable": false,
    "id": "34b7fc2d-89a0-41c3-88b3-d5ea560f0ee0",
    "nbgrader": {
     "cell_type": "code",
     "checksum": "7d7843104b1745be2ddbcbb4b48f987e",
     "grade": true,
     "grade_id": "conf1d_test",
     "locked": true,
     "points": 1,
     "schema_version": 3,
     "solution": false,
     "task": false
    },
    "tags": []
   },
   "outputs": [],
   "source": [
    "CIs_ml = get_ml_ci1d(dS1d)\n",
    "CIs_ml"
   ]
  },
  {
   "cell_type": "markdown",
   "id": "46c28f4d-d30e-4da8-9a31-280874d5f17c",
   "metadata": {
    "id": "46c28f4d-d30e-4da8-9a31-280874d5f17c"
   },
   "source": [
    "Similarly, complete the function below to calculate the 2D $\\Delta S$ grids (as a proxy for profile likelihoods)."
   ]
  },
  {
   "cell_type": "code",
   "execution_count": null,
   "id": "7ed8539d-6f19-41d0-bc37-7da4bcca15e9",
   "metadata": {
    "deletable": false,
    "id": "7ed8539d-6f19-41d0-bc37-7da4bcca15e9",
    "nbgrader": {
     "cell_type": "code",
     "checksum": "2e0cd65a6ee85e8a0326afc26483545f",
     "grade": false,
     "grade_id": "dS2d",
     "locked": false,
     "schema_version": 3,
     "solution": true,
     "task": false
    },
    "tags": []
   },
   "outputs": [],
   "source": [
    "# Again, similarly, to the Bayesian case, this function should return the 2D profile likelihood corresponding to each pair of\n",
    "# parameters (order: Pexp-Nt_exp, Pexp-Pvac, Nt_exp-Pvac).\n",
    "# Just like above, encode it as S-Smin (under the dictionary key 'dS') rather than the profile likelihood itself.\n",
    "\n",
    "def get_deltaS2d(lnlike_grid, Pexp_values, Nt_exp_values, Pvac_values):\n",
    "    #return [{'x':Pexp_values, 'y':Nt_exp_values, 'dS':..., 'names':[param_names[0], param_names[1]]}, ...]\n",
    "    # YOUR CODE HERE\n",
    "    raise NotImplementedError()"
   ]
  },
  {
   "cell_type": "code",
   "execution_count": null,
   "id": "382ef8b2-9914-4606-b30b-b4f21d70a1e7",
   "metadata": {
    "deletable": false,
    "editable": false,
    "id": "382ef8b2-9914-4606-b30b-b4f21d70a1e7",
    "nbgrader": {
     "cell_type": "code",
     "checksum": "1636756eb300dda4fafba18965833fc6",
     "grade": true,
     "grade_id": "dS2d_test",
     "locked": true,
     "points": 1,
     "schema_version": 3,
     "solution": false,
     "task": false
    },
    "tags": []
   },
   "outputs": [],
   "source": [
    "dS2d = get_deltaS2d(lnlike_grid, Pexp_values, Nt_exp_values, Pvac_values)"
   ]
  },
  {
   "cell_type": "markdown",
   "id": "19cdd7e1-8811-4933-ba6d-2adf107a9559",
   "metadata": {
    "id": "19cdd7e1-8811-4933-ba6d-2adf107a9559"
   },
   "source": [
    "Fill in the $\\Delta S$ thresholds appropriate for 2D 68.3% and 95.4% confidence regions:"
   ]
  },
  {
   "cell_type": "code",
   "execution_count": null,
   "id": "f4cf2f86-b64e-4963-b826-5890017d003a",
   "metadata": {
    "deletable": false,
    "id": "f4cf2f86-b64e-4963-b826-5890017d003a",
    "nbgrader": {
     "cell_type": "code",
     "checksum": "e926e0bf7cba2a0c2804b317a489c2a1",
     "grade": false,
     "grade_id": "dS2d_thresh",
     "locked": false,
     "schema_version": 3,
     "solution": true,
     "task": false
    },
    "tags": []
   },
   "outputs": [],
   "source": [
    "# dS2d_thresholds = [..., ...]\n",
    "# YOUR CODE HERE\n",
    "raise NotImplementedError()"
   ]
  },
  {
   "cell_type": "markdown",
   "id": "9f2af38b-3c75-4b69-8016-7cd09dfeda57",
   "metadata": {
    "id": "9f2af38b-3c75-4b69-8016-7cd09dfeda57"
   },
   "source": [
    "Let's see what those regions look like:"
   ]
  },
  {
   "cell_type": "code",
   "execution_count": null,
   "id": "3f3a42c2-ed4b-46c6-9fd8-cdaf3b1a5077",
   "metadata": {
    "deletable": false,
    "editable": false,
    "id": "3f3a42c2-ed4b-46c6-9fd8-cdaf3b1a5077",
    "nbgrader": {
     "cell_type": "code",
     "checksum": "e5da6e69197b786a9c177d58acc401c5",
     "grade": true,
     "grade_id": "dS2d_thresh_test",
     "locked": true,
     "points": 1,
     "schema_version": 3,
     "solution": false,
     "task": false
    },
    "tags": []
   },
   "outputs": [],
   "source": [
    "def plot_ml_2d(dS2d, marg2d=None):\n",
    "    if marg2d is None:\n",
    "        ls = 'solid'\n",
    "        col = 'C0'\n",
    "    else:\n",
    "        ls = 'dashed'\n",
    "        col = 'C1'\n",
    "    plt.rcParams['figure.figsize'] = (20.0, 4.0)\n",
    "    fig, ax = plt.subplots(1,len(param_names))\n",
    "    for i,m in enumerate(dS2d):\n",
    "        if marg2d is not None:\n",
    "            cr.whist2d_ci(marg2d[i], plot=ax[i]);\n",
    "        ax[i].contour(m['x'], m['y'], m['dS'], [2.3, 6.18], colors=col, linestyles=ls);\n",
    "        ax[i].set_xlabel(m['names'][0]);\n",
    "        ax[i].set_ylabel(m['names'][1]);"
   ]
  },
  {
   "cell_type": "code",
   "execution_count": null,
   "id": "2dfb25d4-421a-4b06-bcdf-57172e205f2c",
   "metadata": {
    "id": "2dfb25d4-421a-4b06-bcdf-57172e205f2c"
   },
   "outputs": [],
   "source": [
    "plot_ml_2d(dS2d)"
   ]
  },
  {
   "cell_type": "markdown",
   "id": "32f59987-4bf4-4a6f-b52e-3d115f9f7b15",
   "metadata": {
    "id": "32f59987-4bf4-4a6f-b52e-3d115f9f7b15"
   },
   "source": [
    "This last cell will overlay the frequentist confidence regions (dashed orange contours) and Bayesian credible regions (solid black). You should see good agreement (in this case) if you chose uniform priors for the Bayesian analysis; otherwise, possibly not."
   ]
  },
  {
   "cell_type": "code",
   "execution_count": null,
   "id": "f24d1f53-8d62-4138-bc98-a05c574634bb",
   "metadata": {
    "id": "f24d1f53-8d62-4138-bc98-a05c574634bb"
   },
   "outputs": [],
   "source": [
    "plot_ml_2d(dS2d, marg2d)"
   ]
  },
  {
   "cell_type": "markdown",
   "id": "b0eae3f7-0d25-40c9-b196-4fb54288e269",
   "metadata": {
    "id": "b0eae3f7-0d25-40c9-b196-4fb54288e269"
   },
   "source": [
    "We'll do a final comparison of the 1D parameter constraints at the end. But first..."
   ]
  },
  {
   "cell_type": "markdown",
   "id": "412d1cb9-dce2-4153-8cb4-b16de2a30b12",
   "metadata": {
    "id": "412d1cb9-dce2-4153-8cb4-b16de2a30b12"
   },
   "source": [
    "# Solution with monte carlo sampling\n",
    "\n",
    "We've emphasized above that evaluating things on a grid is not the solution of choice in general, typically becoming unweildy any time we have more than 2 parameters to fit. It seems unreasonable to end this tutorial without at least showing you what a better solution would look like. There is no code for you to complete below, but since we'll be demonstrating two methods that you'll be implementing/using later, it's worth following along.\n",
    "\n",
    "Both of these methods are flavors of Markov Chain Monte Carlo (MCMC), which you'll read about soon. In brief, they act as special random number generators to produce sets of parameter values sampled from the posterior distribution. However, the ways they go about accomplishing this differ.\n",
    "\n",
    "Naturally, there are no finite-resolution affects from the imposition of a grid when using these methods. There are still potentially resolution affects from making histograms of samples (see the Credible Regions tutorial) as well as from the finite number of samples. In principle, both of these can be mitigated by simple generating more samples, with the advantage that these methods by design explore the part of the parameter space where the posterior is large, with minimal human guidance.\n",
    "\n",
    "## Conjugate Gibbs sampling\n",
    "\n",
    "In Gibbs sampling, only 1 parameter is changed at a time, so in subsequent samples all but 1 of the parameters will be identical. The advantage to this is that, _for some data/models_, these single-parameter updates are fully analytic, much like the simpler problems we worked so far had fully analytic expressions for the posterior distribution. Here the full-dimensional posterior does not have an analytic solution, but conjugacies do allow us to design an efficient monte carlo sampler. (More in the Monte Carlo Sampling notes later...)\n",
    "\n",
    "Given that this approach is only efficient for a subset of problems anyway, there exists specialized software that allows the user to define a model in pseudocode instead of, e.g.,  writing a log-posterior function. This is convenient, as it reduces the potential for coding errors. Less conveniently, the industry standard (called JAGS) is not available as pure Python, so its installation and use is more complex than we'd like for this class. Instead, we will use a much stupider package called BCGS, which you should absolutely not rely on in general. But it works for this case, and will give you a sense of things.\n",
    "\n",
    "If you stare at the generative model for long enough (perhaps coming back after reading the Monte Carlo Sampling notes), you will find that the fully conditional posteriors for $P_\\mathrm{exp}$ and $Q_\\mathrm{vac}=1-P_\\mathrm{vac}$ can be written down using conjugacy. The distribution for $N_\\mathrm{t,exp}$ cannot, however. JAGS would recognize this and fall back on a more general sampling method, but BCGS is, as mentioned above, stupid. We therefore must provide the class below, which has a function to find the conditional distribution of $N_\\mathrm{t,exp}$ and update it by brute force."
   ]
  },
  {
   "cell_type": "code",
   "execution_count": null,
   "id": "06f4d2f9",
   "metadata": {
    "id": "06f4d2f9"
   },
   "outputs": [],
   "source": [
    "class Ntexp_type(bcgs.Binomial):\n",
    "    def __init__(self, *args, **kwargs):\n",
    "        bcgs.Binomial.__init__(self, *args, **kwargs)\n",
    "        self.update_overriden = True\n",
    "        # self.Qvac must be set later\n",
    "    def _update(self):\n",
    "        Ns = np.arange(self.targets[0].value, guess['Nt_exp']*3.0) # quick/dirty guess at what should be a really comfortable upper limit\n",
    "        lnps = st.binom.logpmf(Ns, n=self.n.value, p=self.p.value) + st.binom.logpmf(self.targets[0].value, n=Ns, p=self.Qvac.value)\n",
    "        ps = np.exp(lnps - lnps.max())\n",
    "        ps /= ps.sum()\n",
    "        self.value = np.random.choice(Ns, p=ps)"
   ]
  },
  {
   "cell_type": "markdown",
   "id": "b9b5b800-ed66-409b-b8b9-5288e47fd228",
   "metadata": {
    "id": "b9b5b800-ed66-409b-b8b9-5288e47fd228"
   },
   "source": [
    "With that awkwardness dealt with, we define each parameter of the model, including what PDFs and priors are involved, and providing measured or guessed values as appropriate. Details of the syntax aside, the idea is that this should be simple to code up once the model itself is fully specified, as we did at the start of the notebook."
   ]
  },
  {
   "cell_type": "code",
   "execution_count": null,
   "id": "c5e21987",
   "metadata": {
    "id": "c5e21987"
   },
   "outputs": [],
   "source": [
    "model = bcgs.Model()"
   ]
  },
  {
   "cell_type": "code",
   "execution_count": null,
   "id": "dd6c405a",
   "metadata": {
    "id": "dd6c405a"
   },
   "outputs": [],
   "source": [
    "model.add('alpha_e', bcgs.Constant(hyperparams['Pexp_alpha']))\n",
    "model.add('beta_e', bcgs.Constant(hyperparams['Pexp_beta']))\n",
    "model.add('Pexp', bcgs.Beta(alpha=model.alpha_e, beta=model.beta_e, value=guess['Pexp']))"
   ]
  },
  {
   "cell_type": "code",
   "execution_count": null,
   "id": "b1f20899",
   "metadata": {
    "id": "b1f20899"
   },
   "outputs": [],
   "source": [
    "model.add(\"Nc_tot\", bcgs.Constant(data['Nc_tot']))\n",
    "model.add(\"Nc_pos\", bcgs.Binomial(p=model.Pexp, n=model.Nc_tot, data=data['Nc_pos']))"
   ]
  },
  {
   "cell_type": "code",
   "execution_count": null,
   "id": "c1f75c42",
   "metadata": {
    "id": "c1f75c42"
   },
   "outputs": [],
   "source": [
    "model.add(\"Nt_tot\", bcgs.Constant(data['Nt_tot']))\n",
    "model.add(\"Nt_exp\", Ntexp_type(p=model.Pexp, n=model.Nt_tot, value=guess['Nt_exp']))"
   ]
  },
  {
   "cell_type": "markdown",
   "id": "b3b33d1a-a2a0-4ba3-b1ca-a4a8527c6567",
   "metadata": {
    "id": "b3b33d1a-a2a0-4ba3-b1ca-a4a8527c6567"
   },
   "source": [
    "As alluded to above, we will actually get samples of $Q_\\mathrm{vac}=1-P_\\mathrm{vac}$ instead of $P_\\mathrm{vac}$. A nice feature of sampling techniques is that these can be transformed from one to the other trivially, once we have our samples. We do need to make sure the prior is still what we decided on earlier, though."
   ]
  },
  {
   "cell_type": "code",
   "execution_count": null,
   "id": "6e24e71d",
   "metadata": {
    "id": "6e24e71d"
   },
   "outputs": [],
   "source": [
    "model.add('alpha_v', bcgs.Constant(hyperparams['Pvac_beta'])) # intentional swap of alpha and beta, since we are sampling Qvac\n",
    "model.add('beta_v', bcgs.Constant(hyperparams['Pvac_alpha'])) # cf Beta distribution definition\n",
    "model.add('Qvac', bcgs.Beta(alpha=model.alpha_v, beta=model.beta_v, value=1.0-guess['Pvac']))\n",
    "model.Nt_exp.Qvac = model.Qvac"
   ]
  },
  {
   "cell_type": "code",
   "execution_count": null,
   "id": "51d6ca1e",
   "metadata": {
    "id": "51d6ca1e"
   },
   "outputs": [],
   "source": [
    "model.add(\"Nt_pos\", bcgs.Binomial(p=model.Qvac, n=model.Nt_exp, data=data['Nt_pos']))"
   ]
  },
  {
   "cell_type": "markdown",
   "id": "f5b6782f-bb94-4bb9-9274-9d2bf4e8e96b",
   "metadata": {
    "id": "f5b6782f-bb94-4bb9-9274-9d2bf4e8e96b"
   },
   "source": [
    "Let's run a modestly long chain..."
   ]
  },
  {
   "cell_type": "code",
   "execution_count": null,
   "id": "190e2007",
   "metadata": {
    "id": "190e2007"
   },
   "outputs": [],
   "source": [
    "%time _,gchain = model.chain_dict_to_array( model.run_chain(10000) )"
   ]
  },
  {
   "cell_type": "markdown",
   "id": "bcdf26fa-f169-4de7-a27f-295141a09bb2",
   "metadata": {
    "id": "bcdf26fa-f169-4de7-a27f-295141a09bb2"
   },
   "source": [
    "... and sneakily transform $Q_\\mathrm{vac}$ back to $P_\\mathrm{vac}$."
   ]
  },
  {
   "cell_type": "code",
   "execution_count": null,
   "id": "9ae1fb75",
   "metadata": {
    "id": "9ae1fb75"
   },
   "outputs": [],
   "source": [
    "gchain[:,2] = 1.0 - gchain[:,2]"
   ]
  },
  {
   "cell_type": "markdown",
   "id": "8fc0d92e-9a71-4685-bbe7-12a9e0c81c0c",
   "metadata": {
    "id": "8fc0d92e-9a71-4685-bbe7-12a9e0c81c0c"
   },
   "source": [
    "These plots show the values of each parameter as a function of the sample number. They may not mean much to you now, but will become familiar once we've covered MCMC diagnostics."
   ]
  },
  {
   "cell_type": "code",
   "execution_count": null,
   "id": "1acfa48e",
   "metadata": {
    "id": "1acfa48e"
   },
   "outputs": [],
   "source": [
    "fig, ax = plt.subplots(gchain.shape[1], 1, figsize=(20, gchain.shape[1]*3));\n",
    "cr.plot_traces(gchain, ax, labels=param_names);"
   ]
  },
  {
   "cell_type": "markdown",
   "id": "fe0613d7-058c-4a28-aa11-fd2cb2106c08",
   "metadata": {
    "id": "fe0613d7-058c-4a28-aa11-fd2cb2106c08"
   },
   "source": [
    "For this problem, we are reasonably confident that no red flags will have appeared above. So, let's go on and find the 1D credible intervals from the samples. (The left column below will show raw histograms of samples for each parameter.)"
   ]
  },
  {
   "cell_type": "code",
   "execution_count": null,
   "id": "93bd7373",
   "metadata": {
    "id": "93bd7373"
   },
   "outputs": [],
   "source": [
    "fig, ax = plt.subplots(gchain.shape[1], 2, figsize=(9, gchain.shape[1]*3));\n",
    "CIs_g = []\n",
    "for i,a in enumerate(ax):\n",
    "    h = cr.whist(gchain[:,i], plot=a[0]); a[0].set_xlabel(param_names[i]);\n",
    "    CIs_g.append( cr.whist_ci(h, plot=a[1]) ); a[1].set_xlabel(param_names[i]);"
   ]
  },
  {
   "cell_type": "code",
   "execution_count": null,
   "id": "841e52f9",
   "metadata": {
    "id": "841e52f9"
   },
   "outputs": [],
   "source": [
    "CIs_g"
   ]
  },
  {
   "cell_type": "markdown",
   "id": "a06c65e3-8d4d-4d70-b46c-409da2d1fcbd",
   "metadata": {
    "id": "a06c65e3-8d4d-4d70-b46c-409da2d1fcbd"
   },
   "source": [
    "## Metropolis sampling\n",
    "\n",
    "The second sampling method we will demonstrate is a more general one that doesn't rely on conjugacies existing in the model. Typically packages implementing this sampler require the user to provide a log-posterior function, although there are some (e.g. `pymc`) where the model can be defined in pseudocode as above. They generally also need not just initial parameter values but also a guess at the width of the posterior in each direction in parameter space (we use your `guess` and fractions of each guessed value below). This particular implementation will adapt its knowledge of the posterior's shape on the fly, once it gets started.\n",
    "\n",
    "Below is some setup:"
   ]
  },
  {
   "cell_type": "code",
   "execution_count": null,
   "id": "61a2394e-49e3-48bf-bfe3-23d31f6761c1",
   "metadata": {
    "id": "61a2394e-49e3-48bf-bfe3-23d31f6761c1"
   },
   "outputs": [],
   "source": [
    "Pexp = lmc.Parameter(guess['Pexp'], 0.1*guess['Pexp'], 'Pexp')\n",
    "Nt_exp = lmc.Parameter(guess['Nt_exp'], 0.1*guess['Nt_exp'], 'Nt_exp')\n",
    "Pvac = lmc.Parameter(guess['Pvac'], 0.01*guess['Pvac'], 'Pvac')\n",
    "\n",
    "def lmc_lnpost(junk=None):\n",
    "    return log_posterior(data, Pexp=Pexp(), Nt_exp=Nt_exp(), Pvac=Pvac(), **hyperparams)\n",
    "\n",
    "space = lmc.ParameterSpace([Pexp, Nt_exp, Pvac], lmc_lnpost)\n",
    "dict_chain = lmc.dictBackend()\n",
    "v = lmc.Vehicle(space, dict_chain, updaterStep=lmc.Metropolis(proposal_length=lmc.randChiExp()))"
   ]
  },
  {
   "cell_type": "markdown",
   "id": "05cfe3ff-cfd9-4e19-a283-3535beebb373",
   "metadata": {
    "id": "05cfe3ff-cfd9-4e19-a283-3535beebb373"
   },
   "source": [
    "Now we run a chain of the same length as before."
   ]
  },
  {
   "cell_type": "code",
   "execution_count": null,
   "id": "dca79bdc-d9de-429f-825f-6106a33d7dbf",
   "metadata": {
    "id": "dca79bdc-d9de-429f-825f-6106a33d7dbf"
   },
   "outputs": [],
   "source": [
    "Nsteps = 10000\n",
    "%time v(1,Nsteps)"
   ]
  },
  {
   "cell_type": "markdown",
   "id": "b27f5c1c-735c-4475-891e-f4420ac2ca3c",
   "metadata": {
    "id": "b27f5c1c-735c-4475-891e-f4420ac2ca3c"
   },
   "source": [
    "This package keeps track of the log-posterior value associated with each position in parameter space (`_LOGP_`), in case that's ever useful."
   ]
  },
  {
   "cell_type": "code",
   "execution_count": null,
   "id": "34a5b5c8-d3bc-4b2c-bebe-c50eb34e111a",
   "metadata": {
    "id": "34a5b5c8-d3bc-4b2c-bebe-c50eb34e111a"
   },
   "outputs": [],
   "source": [
    "dict_chain.keys()"
   ]
  },
  {
   "cell_type": "markdown",
   "id": "5e5a72ea-7e1d-46a8-b083-9246e20a9351",
   "metadata": {
    "id": "5e5a72ea-7e1d-46a8-b083-9246e20a9351"
   },
   "source": [
    "Reformatting the chain into an array..."
   ]
  },
  {
   "cell_type": "code",
   "execution_count": null,
   "id": "44474b84-8d43-42f3-8b94-d33437e5fdc1",
   "metadata": {
    "id": "44474b84-8d43-42f3-8b94-d33437e5fdc1"
   },
   "outputs": [],
   "source": [
    "mchain = np.array([dict_chain[k] for k in dict_chain.keys()]).T"
   ]
  },
  {
   "cell_type": "markdown",
   "id": "878b27bd-f46b-4506-9c09-09cb9e6ab58a",
   "metadata": {
    "id": "878b27bd-f46b-4506-9c09-09cb9e6ab58a"
   },
   "source": [
    "Finally, we can plot the traces of each parameter (plus `_LOGP_`), and compute the CIs as before."
   ]
  },
  {
   "cell_type": "code",
   "execution_count": null,
   "id": "b649ada2-865f-44d3-be2f-babfdc1f0b9c",
   "metadata": {
    "id": "b649ada2-865f-44d3-be2f-babfdc1f0b9c"
   },
   "outputs": [],
   "source": [
    "fig, ax = plt.subplots(mchain.shape[1], 1, figsize=(20, mchain.shape[1]*3));\n",
    "cr.plot_traces(mchain, ax, labels=[k for k in dict_chain.keys()]);"
   ]
  },
  {
   "cell_type": "code",
   "execution_count": null,
   "id": "2fde4f9d-8999-4c92-badd-056912871aca",
   "metadata": {
    "id": "2fde4f9d-8999-4c92-badd-056912871aca"
   },
   "outputs": [],
   "source": [
    "fig, ax = plt.subplots(len(param_names), 2, figsize=(9, len(param_names)*3));\n",
    "CIs_m = []\n",
    "for i,a in enumerate(ax):\n",
    "    h = cr.whist(mchain[:,i], plot=a[0]);\n",
    "    a[0].set_xlabel(param_names[i]);\n",
    "    CIs_m.append( cr.whist_ci(h, plot=a[1]) );\n",
    "    a[1].set_xlabel(param_names[i]);"
   ]
  },
  {
   "cell_type": "markdown",
   "id": "802af694-032b-4ea4-b451-8b4f912b77ba",
   "metadata": {
    "id": "802af694-032b-4ea4-b451-8b4f912b77ba"
   },
   "source": [
    "You may notice qualitative differences from the Gibbs version of these plots; these reflects a trade-off between the methods that we'll cover later on."
   ]
  },
  {
   "cell_type": "code",
   "execution_count": null,
   "id": "9cb4dc25-4cbd-4e06-bb21-fe9aae370d98",
   "metadata": {
    "id": "9cb4dc25-4cbd-4e06-bb21-fe9aae370d98"
   },
   "outputs": [],
   "source": [
    "CIs_m"
   ]
  },
  {
   "cell_type": "markdown",
   "id": "cda6c488-cee9-4f60-845f-bb9715b43759",
   "metadata": {
    "id": "cda6c488-cee9-4f60-845f-bb9715b43759"
   },
   "source": [
    "# Compare results\n",
    "\n",
    "Having gone through all that, it makes sense to finish this notebook by comparing the \"best values\" and CIs of each parameter, as found by each method. Depending on details (the specific data set, grid size/extent, priors when comparing to maximum likelihood), you may see excellent or less-than-excellent agreement. In this particular case, I would trust the Gibbs sampling result most, so use that as a reference."
   ]
  },
  {
   "cell_type": "code",
   "execution_count": null,
   "id": "b744bf79-78b7-4733-9c40-599aea553e1f",
   "metadata": {
    "id": "b744bf79-78b7-4733-9c40-599aea553e1f",
    "tags": []
   },
   "outputs": [],
   "source": [
    "print(\"For each parameter: best value, 68.3% CI, 95.4% CI\")\n",
    "for i,name in enumerate(param_names):\n",
    "    print(\"\\n\" + name)\n",
    "    print('-----------')\n",
    "    print('Bayes grid:         ', CIs[i]['mode'], np.array([CIs[i]['min'][0], CIs[i]['max'][0]]), np.array([CIs[i]['min'][1], CIs[i]['max'][1]]))\n",
    "    print('Gibbs sampling:     ', CIs_g[i]['mode'], np.array([CIs_g[i]['min'][0], CIs_g[i]['max'][0]]), np.array([CIs_g[i]['min'][1], CIs_g[i]['max'][1]]))\n",
    "    print('Metropolis sampling:', CIs_m[i]['mode'], np.array([CIs_m[i]['min'][0], CIs_m[i]['max'][0]]), np.array([CIs_m[i]['min'][1], CIs_m[i]['max'][1]]))\n",
    "    print('Maximum likelihood: ', CIs_ml[i]['estimate'], np.array([CIs_ml[i]['min'][0], CIs_ml[i]['max'][0]]), np.array([CIs_ml[i]['min'][1], CIs_ml[i]['max'][1]]))"
   ]
  },
  {
   "cell_type": "markdown",
   "id": "e637b2af-b1b0-4773-8c93-5c13df5c8576",
   "metadata": {
    "id": "e637b2af-b1b0-4773-8c93-5c13df5c8576"
   },
   "source": [
    "In fact, for a well designed grid in this problem, we'd be surprised to see differences of even 0.01 in the CI for $P_\\mathrm{vac}$."
   ]
  },
  {
   "cell_type": "code",
   "execution_count": null,
   "id": "fe9cb141-eb41-467f-9e55-310b65a5effb",
   "metadata": {
    "deletable": false,
    "editable": false,
    "id": "fe9cb141-eb41-467f-9e55-310b65a5effb",
    "nbgrader": {
     "cell_type": "code",
     "checksum": "ce017646389e2942fcab4611859bf6a6",
     "grade": true,
     "grade_id": "grid_vs_gibbs",
     "locked": true,
     "points": 1,
     "schema_version": 3,
     "solution": false,
     "task": false
    },
    "tags": []
   },
   "outputs": [],
   "source": [
    "assert np.isclose(CIs[2]['min'][0], CIs_g[2]['min'][0], atol=0.01)\n",
    "assert np.isclose(CIs[2]['max'][0], CIs_g[2]['max'][0], atol=0.01)"
   ]
  },
  {
   "cell_type": "markdown",
   "id": "0dbca059-5c73-4a8f-bbe3-99aa60ae6ac0",
   "metadata": {
    "id": "0dbca059-5c73-4a8f-bbe3-99aa60ae6ac0"
   },
   "source": [
    "This cell will save your eyeballs some work by plotting the results together, with their order on the X axis being the same as in the list above."
   ]
  },
  {
   "cell_type": "code",
   "execution_count": null,
   "id": "fea49e32-bddb-4d7e-9e52-231ed34a5dd7",
   "metadata": {
    "id": "fea49e32-bddb-4d7e-9e52-231ed34a5dd7"
   },
   "outputs": [],
   "source": [
    "plt.rcParams['figure.figsize'] = (20.0, 4.0)\n",
    "fig, ax = plt.subplots(1,len(param_names))\n",
    "for i,name in enumerate(param_names):\n",
    "    ax[i].plot(0, CIs[i]['mode'], 'o', color='C0');\n",
    "    ax[i].plot([0,0], [CIs[i]['min'][1], CIs[i]['max'][1]], '--', color='C0');\n",
    "    ax[i].plot([0,0], [CIs[i]['min'][0], CIs[i]['max'][0]], '-', color='C0');\n",
    "    ax[i].plot(1, CIs_g[i]['mode'], 'o', color='C1');\n",
    "    ax[i].plot([1,1], [CIs_g[i]['min'][1], CIs_g[i]['max'][1]], '--', color='C1');\n",
    "    ax[i].plot([1,1], [CIs_g[i]['min'][0], CIs_g[i]['max'][0]], '-', color='C1');\n",
    "    ax[i].plot(2, CIs_m[i]['mode'], 'o', color='C2');\n",
    "    ax[i].plot([2,2], [CIs_m[i]['min'][1], CIs_m[i]['max'][1]], '--', color='C2');\n",
    "    ax[i].plot([2,2], [CIs_m[i]['min'][0], CIs_m[i]['max'][0]], '-', color='C2');\n",
    "    ax[i].plot(3, CIs_ml[i]['estimate'], 'o', color='C3');\n",
    "    ax[i].plot([3,3], [CIs_ml[i]['min'][1], CIs_ml[i]['max'][1]], '--', color='C3');\n",
    "    ax[i].plot([3,3], [CIs_ml[i]['min'][0], CIs_ml[i]['max'][0]], '-', color='C3');\n",
    "    ax[i].set_ylabel(param_names[i]);"
   ]
  },
  {
   "cell_type": "markdown",
   "id": "79370800-2b6e-4acd-8d55-87f41d0c44d7",
   "metadata": {
    "id": "79370800-2b6e-4acd-8d55-87f41d0c44d7"
   },
   "source": [
    "# Parting thoughts\n",
    "\n",
    "Returning to questions 2 and 3 posed at the beginning of the notebook, the answers are\n",
    "* Yes, the information given in the reporting is enough to estimate the uncertainty in effectiveness (albeit with assumptions about the exact size of the control and treatment groups... you could free those parameters within some justifiable priors if you were so inclined, and I'm confident the answer would still be yes).\n",
    "* The 95.4% constraint on $P_\\mathrm{vac}$ found from the real data reported in the Times (with a uniform prior) was $P_\\mathrm{vac}=0.95^{+0.03}_{-0.05}$. So, indeed, not nailed down to the percent level. On the other hand, something as low as 60% (the threshold for a vaccine to be considered \"effective\" enough for widespread adoption under the circumstances, if I remember) is exceptionally disfavored.\n",
    "\n",
    "Beyond any historical interest, you have now worked through the first inference problem in this course that can't be entirely done on paper! Hopefully this has been good practice, and you now have an understanding of why the next section delves into computational methods that allow us to characterize posterior distributions without exhaustively evaluating them throughout their parameter spaces."
   ]
  }
 ],
 "metadata": {
  "colab": {
   "provenance": [],
   "toc_visible": true
  },
  "kernelspec": {
   "display_name": "Python 3 (ipykernel)",
   "language": "python",
   "name": "python3"
  },
  "language_info": {
   "codemirror_mode": {
    "name": "ipython",
    "version": 3
   },
   "file_extension": ".py",
   "mimetype": "text/x-python",
   "name": "python",
   "nbconvert_exporter": "python",
   "pygments_lexer": "ipython3",
   "version": "3.12.5"
  }
 },
 "nbformat": 4,
 "nbformat_minor": 5
}
