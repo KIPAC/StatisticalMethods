{
 "cells": [
  {
   "cell_type": "markdown",
   "id": "allied-message",
   "metadata": {},
   "source": [
    "# Tutorial: Cluster Membership Fractions of RedMaPPer Galaxies\n",
    "## Behold the power of conjugacy!\n",
    "\n",
    "In this notebook, we will reproduce part of the analysis of [Myles et al. (2021)](http://arxiv.org/abs/2011.07070), using data kindly provided by the first author. In the course of doing so, you will\n",
    "* design and implement a Gaussian Mixture Model (GMM);\n",
    "* fit the GMM to a subset of the data using brute-force MCMC;\n",
    "* perform the same fit using conjugate Gibbs sampling, introducing latent group membership parameters along the way;\n",
    "* marvel at how much less correlated the latter chains are;\n",
    "* fit a GMM to each of 6 bins of cluster richness in the data set separately, and compare with an alternative model where one of the mixture components is in common between the bins.\n",
    "\n",
    "Note that having already done the [Gibbs sampling](toy_photometry_gibbs.ipynb) tutorial will save you some time. If not, you'll want to at least review to the exposition there."
   ]
  },
  {
   "cell_type": "code",
   "execution_count": null,
   "id": "responsible-token",
   "metadata": {},
   "outputs": [],
   "source": [
    "TutorialName = 'vdisp'\n",
    "exec(open('tbc.py').read()) # define TBC and TBC_above\n",
    "import numpy as np\n",
    "import matplotlib.pyplot as plt\n",
    "%matplotlib inline\n",
    "import scipy.stats as st\n",
    "import emcee\n",
    "import incredible as cr\n",
    "from pygtc import plotGTC\n",
    "from copy import deepcopy"
   ]
  },
  {
   "cell_type": "markdown",
   "id": "statistical-entry",
   "metadata": {},
   "source": [
    "## Background\n",
    "\n",
    "Galaxies that fall into massive accumulations of dark matter and hot gas (these are, inaccurately, known as \"clusters of galaxies\") rapidly have their gas stripped and cease forming stars. Hence, if one has an optical photometric survey, one way of finding galaxy clusters is to look for... clusters of galaxies that have similar colors (corresponding to red/non-star-forming spectra at some common redshift).\n",
    "\n",
    "The thing is, along any line of sight there are loads of galaxies of different types with different redshifts, so color is not a reliable way of saying that a particular galaxy is in a cluster. Optical photometric cluster finders can only identify sight-lines where there is probably a cluster, and estimate what it's redshift would be. They also provide a \"richness\", loosely defined as the number of intrinsically red galaxies brighter than some threshold the cluster is supposed to contain. But, again, we can't really be sure whether any given galaxy is actually a member or not from photometric data alone. RedMaPPer, the main cluster-finder used by the Dark Energy Survey and (soon) Rubin/LSST, addresses this by assigning a membership probability to each galaxy near an identified cluster; the richness is then the sum of these probabilities, such that it should _statistically_ mean something like the number of bright, red galaxies in the cluster.\n",
    "\n",
    "So far so good. But this approach is only good to the extent that the membership probabilities are accurate - or, at least, similarly accurate as a function of cluster mass. This is worth checking, which we could do using redshifts measured for a large number of potential cluster members from spectroscopy. The redshifts (strictly speaking, the implied velocities) for cluster members should be distributed in a tight Gaussian distribution centered on the redshift of the bright central galaxy (BCG). We would expect to see a wider distribution of redshifts from galaxies that are not in the cluster, but despite having similar colors to cluster members.\n",
    "\n",
    "(Analogously to the photometric color problem, it's technically possible for a galaxy at a different cosmological redshift to have such a large peculiar velocity that its redshift is consistent with the cluster's, but redshifts can be measured so precisely, and the cluster distribution is so narrow, that this should be rare. The model we'll build below will account for it, in any case.)"
   ]
  },
  {
   "cell_type": "markdown",
   "id": "comic-suicide",
   "metadata": {},
   "source": [
    "## Data\n",
    "\n",
    "The data we'll be working with ultimately come from the Sloan Digital Sky Survey. Myles et al. have compiled redshifts from Sloan spectroscopy for potential members of RedMaPPer clusters with estimated redshifts of 0.08-0.12 (this is relatively low, but the only sample for which archival spectroscopy would be relatively complete). Various fascinating cuts, which you can read the paper to learn about if you want, have been applied, and the data have been grouped into 6 bins according to the reported richness of the cluster each galaxy is supposed to belong to, with bin 0, 1, ..., 5 corresponding to increasing richness ranges (nominally increasing cluster mass).\n",
    "\n",
    "For each bin, we simply have a list of values: $x_i = \\frac{z_i - z_\\mathrm{BCG}}{1 + z_\\mathrm{BCG}}$. This quantity is directly related to the velocity implied by the galaxy's redshift, assuming it does belong to the cluster. For simplicity, we'll eschew the conversion to velocity units in the tutorial.\n",
    "\n",
    "Below, we read the data for each bin into a corresponding entry of the list `data`."
   ]
  },
  {
   "cell_type": "code",
   "execution_count": null,
   "id": "allied-winning",
   "metadata": {},
   "outputs": [],
   "source": [
    "data = [np.loadtxt('data/rm_redshifts_bin'+str(i)+'.txt.gz') for i in range(6)]"
   ]
  },
  {
   "cell_type": "markdown",
   "id": "allied-swedish",
   "metadata": {},
   "source": [
    "Next, let's have a look at histograms of $x$ for each bin:"
   ]
  },
  {
   "cell_type": "code",
   "execution_count": null,
   "id": "harmful-relevance",
   "metadata": {},
   "outputs": [],
   "source": [
    "plt.rcParams['figure.figsize'] = (18.0, 8.0)\n",
    "fig, ax = plt.subplots(2, 3);\n",
    "for i in range(len(data)):\n",
    "    ii = np.unravel_index(i, ax.shape)\n",
    "    ax[ii].hist(data[i], bins=100, label='bin '+str(i));\n",
    "    ax[ii].legend();\n",
    "    ax[ii].set_xlim(-0.1, 0.1);\n",
    "    ax[ii].set_xlabel('x');"
   ]
  },
  {
   "cell_type": "markdown",
   "id": "administrative-offering",
   "metadata": {},
   "source": [
    "Already we can clearly see what might be a sharp spike consisting of cluster members, and a wider distribution of non-members. The latter aren't so each to see, however, so we can instead plot the histograms with a log-scaled y axis:"
   ]
  },
  {
   "cell_type": "code",
   "execution_count": null,
   "id": "rural-dominant",
   "metadata": {},
   "outputs": [],
   "source": [
    "plt.rcParams['figure.figsize'] = (18.0, 8.0)\n",
    "fig, ax = plt.subplots(2, 3);\n",
    "for i in range(len(data)):\n",
    "    ii = np.unravel_index(i, ax.shape)\n",
    "    ax[ii].hist(data[i], bins=100, label='bin '+str(i), log=True);\n",
    "    ax[ii].legend();\n",
    "    ax[ii].set_xlim(-0.1, 0.1);\n",
    "    ax[ii].set_xlabel('x');"
   ]
  },
  {
   "cell_type": "markdown",
   "id": "refined-version",
   "metadata": {},
   "source": [
    "Recall that the log of a Gaussian is an upside-down parabola - it already looks like a couple of these might describe the data reasonably."
   ]
  },
  {
   "cell_type": "markdown",
   "id": "direct-limitation",
   "metadata": {},
   "source": [
    "## Model\n",
    "\n",
    "So, what model will we fit to these distributions of $x$ values? The distribution for cluster members is thermodynamically expected to be a Gaussian, but it isn't obvious what we should expect for the non-members - it would depend on the cosmic large scale structure as well as the RedMaPPer selection of these potential members in the first place. On the other hand, the wider distributions above _look_ approximately Gaussian, and we can always build a model for them out of multiple Gaussians if need be. In other words, this might be a good place to use a Gaussian mixture model,\n",
    "\n",
    "$p(x) = f\\cdot\\mathrm{Normal}(x|0,\\sigma_c) + (1-f)\\cdot\\mathrm{Normal}(x|\\mu_b,\\sigma_b)$.\n",
    "\n",
    "Here, we've written the simplest mixture we might try, with 1 Gaussian component for the cluster ($c$) and just 1 Gaussian component for the background ($b$). We've also baked in the expectation that the cluster component have a mean of zero (i.e., be centered on the BCG's $x$ value)."
   ]
  },
  {
   "cell_type": "markdown",
   "id": "positive-child",
   "metadata": {},
   "source": [
    "To begin with, we'll fit the data for each richness bin with this model independently, so the expression above includes all the parameters we need:\n",
    "* $f$: the fraction of RedMaPPer-selected galaxies that are actually in the associated cluster,\n",
    "* $\\sigma_c$: the standard deviation of the cluster Gaussian over $x$,\n",
    "* $\\mu_b$: the mean of the background Gaussian over $x$, and\n",
    "* $\\sigma_b$: the standard deviation of the background Gaussian over $x$.\n",
    "\n",
    "As for priors, I propose we use generic \"uninformative\" ones:\n",
    "* $f$: uniform over $[0,1]$;\n",
    "* $\\mu_b$: uniform over the real line, although it would be fine to confine it to $[-0.1,+0.1]$ or so also;\n",
    "* $\\sigma_c$ and $\\sigma_b$: uniform in the log, $p(\\sigma)\\propto \\sigma^{-1}$."
   ]
  },
  {
   "cell_type": "markdown",
   "id": "vulnerable-arnold",
   "metadata": {},
   "source": [
    "As always, your next task is to draw the corresponding PGM and write out the conditional probability expressions that define the model."
   ]
  },
  {
   "cell_type": "code",
   "execution_count": null,
   "id": "studied-continent",
   "metadata": {},
   "outputs": [],
   "source": [
    "TBC() # answer in Markdown"
   ]
  },
  {
   "cell_type": "markdown",
   "id": "general-rotation",
   "metadata": {},
   "source": [
    "Here are the canonical parameter names and order we'll use in code:"
   ]
  },
  {
   "cell_type": "code",
   "execution_count": null,
   "id": "incorporated-payment",
   "metadata": {},
   "outputs": [],
   "source": [
    "param_names = ['f', 'sc', 'mb', 'sb']\n",
    "param_labels = [r'$f$', r'$\\sigma_c$', r'$\\mu_b$', r'$\\sigma_b$']"
   ]
  },
  {
   "cell_type": "markdown",
   "id": "relative-administration",
   "metadata": {},
   "source": [
    "### Visualize the model\n",
    "\n",
    "Before going further, it will be useful to be able to quickly compare a model with the data. We can directly plot $p(x)$ over the histrograms above, but the tails, where there are 0 or 1 measured values in a histogram bin, are tricky to judge. Therefore, we will look at comparisons of both the model PDF and CDF, the latter comparing to the empirical CDF of the data.\n",
    "\n",
    "Below, fill in functions to evaluate $p(x)$ and its CDF."
   ]
  },
  {
   "cell_type": "code",
   "execution_count": null,
   "id": "interior-budget",
   "metadata": {},
   "outputs": [],
   "source": [
    "def p_of_x(x, f, sc, mb, sb):\n",
    "    TBC()\n",
    "\n",
    "def cdf_of_x(x, f, sc, mb, sb):\n",
    "    TBC()\n",
    "\n",
    "TBC_above()"
   ]
  },
  {
   "cell_type": "markdown",
   "id": "typical-proportion",
   "metadata": {},
   "source": [
    "Here's a function to make the described comparison plots:"
   ]
  },
  {
   "cell_type": "code",
   "execution_count": null,
   "id": "inclusive-milan",
   "metadata": {},
   "outputs": [],
   "source": [
    "def compare(x, *params):\n",
    "    x = np.sort(x)\n",
    "    xx = np.linspace(x[0], x[-1])\n",
    "    plt.rcParams['figure.figsize'] = (12.0, 4.0)\n",
    "    fig, ax = plt.subplots(1, 2);\n",
    "    ax[0].hist(x, bins=100, log=True, density=True, label='data');\n",
    "    ax[0].plot(xx, p_of_x(xx, *params), label='model');\n",
    "    ax[0].set_ylim(1e-1);\n",
    "    ax[0].legend();\n",
    "    ax[1].plot(x, np.arange(len(x))/len(x), '.', label='data');\n",
    "    ax[1].plot(xx, cdf_of_x(xx, *params), label='model');\n",
    "    ax[1].legend();"
   ]
  },
  {
   "cell_type": "markdown",
   "id": "charged-victorian",
   "metadata": {},
   "source": [
    "Next, iteratively fill in the list below with guessed parameter values until you have something that looks like a broadly reasonable fit to the bin 1 data."
   ]
  },
  {
   "cell_type": "code",
   "execution_count": null,
   "id": "congressional-commitment",
   "metadata": {},
   "outputs": [],
   "source": [
    "TBC() # guess = [..., ..., ..., ...]"
   ]
  },
  {
   "cell_type": "code",
   "execution_count": null,
   "id": "raising-arrow",
   "metadata": {},
   "outputs": [],
   "source": [
    "compare(data[1], *guess)"
   ]
  },
  {
   "cell_type": "markdown",
   "id": "seven-truth",
   "metadata": {},
   "source": [
    "## MCMC fit\n",
    "\n",
    "Next, you'll do a standard MCMC fit to the bin 1 data, mainly to establish a baseline using a bog-standard method.\n",
    "\n",
    "Below, complete the log-posterior function for our model. Don't forget to include the prior!"
   ]
  },
  {
   "cell_type": "code",
   "execution_count": null,
   "id": "going-protection",
   "metadata": {},
   "outputs": [],
   "source": [
    "def lnpost(paramvec, x):\n",
    "    params = {k:v for k,v in zip(param_names,paramvec)}\n",
    "    # can now address parameters as params['f'], etc.\n",
    "    TBC()\n",
    "\n",
    "TBC_above()"
   ]
  },
  {
   "cell_type": "markdown",
   "id": "labeled-spirituality",
   "metadata": {},
   "source": [
    "Now, let's check the function on your guessed parameter values."
   ]
  },
  {
   "cell_type": "code",
   "execution_count": null,
   "id": "distributed-payment",
   "metadata": {},
   "outputs": [],
   "source": [
    "lnpost(guess, data[1])"
   ]
  },
  {
   "cell_type": "markdown",
   "id": "premium-complex",
   "metadata": {},
   "source": [
    "**Hint:** If you're looking at $\\pm\\infty$ above, do make sure you're taking a sum of logs rather than a log of a product.\n",
    "\n",
    "While it doesn't turn out to be an issue in this case, the hint above gets to a weakness of brute-force posterior calculations when using mixture models. Namely, because part of the posterior involves a sum of PDFs, we do actually have to evaluate those PDFs, rather than exclusively working with log-PDFs. This opens a door to numerical over/underflows that we might not need to worry about otherwise."
   ]
  },
  {
   "cell_type": "markdown",
   "id": "advisory-cargo",
   "metadata": {},
   "source": [
    "Next, we'll do sampling with `emcee`. The number of steps and burn-in length supplied below worked well enough given my starting point, but you should change them if need be."
   ]
  },
  {
   "cell_type": "code",
   "execution_count": null,
   "id": "adjusted-attendance",
   "metadata": {},
   "outputs": [],
   "source": [
    "%%time\n",
    "\n",
    "nsteps = 2500\n",
    "\n",
    "npars = len(guess)\n",
    "nwalkers = 2*npars\n",
    "sampler = emcee.EnsembleSampler(nwalkers, npars, lnpost, kwargs={'x':data[1]})\n",
    "start = np.array([np.array(guess)*(1.0 + 0.1*np.random.randn(npars)) for j in range(nwalkers)])\n",
    "sampler.run_mcmc(start, nsteps)\n",
    "print('Yay!');"
   ]
  },
  {
   "cell_type": "markdown",
   "id": "prime-drove",
   "metadata": {},
   "source": [
    "Here are the parameter traces..."
   ]
  },
  {
   "cell_type": "code",
   "execution_count": null,
   "id": "uniform-hotel",
   "metadata": {},
   "outputs": [],
   "source": [
    "plt.rcParams['figure.figsize'] = (16.0, 3.0*npars)\n",
    "fig, ax = plt.subplots(npars, 1);\n",
    "cr.plot_traces(sampler.chain[:min(8,nwalkers),:,:npars], ax, labels=param_labels);"
   ]
  },
  {
   "cell_type": "markdown",
   "id": "german-samuel",
   "metadata": {},
   "source": [
    "... and the usual quantitative diagnostics."
   ]
  },
  {
   "cell_type": "code",
   "execution_count": null,
   "id": "quarterly-capacity",
   "metadata": {},
   "outputs": [],
   "source": [
    "burn = 500\n",
    "maxlag = 1500\n",
    "\n",
    "tmp_samples = [sampler.chain[i,burn:,:] for i in range(nwalkers)]\n",
    "print('R =', cr.GelmanRubinR(tmp_samples))\n",
    "print('neff =', cr.effective_samples(tmp_samples, maxlag=maxlag))\n",
    "print('NB: Since walkers are not independent, these will be optimistic!')"
   ]
  },
  {
   "cell_type": "markdown",
   "id": "headed-lesbian",
   "metadata": {},
   "source": [
    "**Checkpoint:** All looking good?\n",
    "\n",
    "If so, let's make compare the posterior mean to the data."
   ]
  },
  {
   "cell_type": "code",
   "execution_count": null,
   "id": "introductory-center",
   "metadata": {},
   "outputs": [],
   "source": [
    "esamples = sampler.chain[:,burn:,:].reshape(nwalkers*(nsteps-burn), npars)\n",
    "compare(data[1], *esamples.mean(axis=0))"
   ]
  },
  {
   "cell_type": "markdown",
   "id": "suited-album",
   "metadata": {},
   "source": [
    "It should look at least as good as your guess. Finally, let's make a triangle.\n",
    "\n",
    "**Checkpoint:** The \"truth\" values plotted over top show the posterior mean we obtained, so they should go through the center of your distributions."
   ]
  },
  {
   "cell_type": "code",
   "execution_count": null,
   "id": "addressed-engineer",
   "metadata": {},
   "outputs": [],
   "source": [
    "plotGTC([esamples], paramNames=param_labels,\n",
    "        truths=[0.72711667, 0.00165783, 0.00250541, 0.02579882], truthLineStyles='-',\n",
    "        figureSize=8, customLabelFont={'size':12}, customTickFont={'size':12}, customLegendFont={'size':16});"
   ]
  },
  {
   "cell_type": "markdown",
   "id": "frozen-failure",
   "metadata": {},
   "source": [
    "## Conjugate Gibbs fit\n",
    "\n",
    "Hopefully it won't come as a shock to learn that a model composed entirely of Gaussians (or any standard distribution, really) lends itself to conjugacy. If you've done the [Gibbs sampling](toy_photometry_gibbs.ipynb) tutorial, your work from there can be **mostly** (see warning below) re-used, and the generalization from 1 Gaussian to a Gaussian mixture is not too much more.\n",
    "\n",
    "On the other hand, exactly how one comes up with a conjugacy relation for a sum of Gaussians may not be obvious. The trick is... we don't need to! Instead, we can get around the question entirely by introducing a set of latent parameters, $g$, where $g_i$ tells us whether galaxy $i$ belongs to the cluster distribution ($g_i=0$) or the background distribution ($g_i=1$). You could think of this as re-writing our model PDF as\n",
    "\n",
    "$p(x_i) = (1-g_i)\\cdot\\mathrm{Normal}(x_i|0,\\sigma_c) + g_i\\cdot\\mathrm{Normal}(x_i|\\mu_b,\\sigma_b)$.\n",
    "\n",
    "So the $g_i$ parameters are playing a role similar to $f$ before, but, for any given galaxy, $p(x_i|g_i)$ is just a single Gaussian. Of course, $f$ is still part of the model, and will play a role in determining the $g_i$ - after all, $f$ is exactly the a priori probability that any $g_i=0$.\n",
    "\n",
    "We'll fill in the details in a moment. But first, modify your PGM and expressions to explicitly show the latent $g_i$ parameters. If you're confused about how to connect them to everything else, remember... think generatively! (And then re-read the final clause of the previous paragraph.)"
   ]
  },
  {
   "cell_type": "code",
   "execution_count": null,
   "id": "average-polymer",
   "metadata": {},
   "outputs": [],
   "source": [
    "TBC() # answer in Markdown"
   ]
  },
  {
   "cell_type": "markdown",
   "id": "hourly-chocolate",
   "metadata": {},
   "source": [
    "### Conjugate updates\n",
    "\n",
    "Recall that, in conjugate Gibbs sampling, we update one parameter (or bunch of related parameters) at a time, with all the others fixed. The advantage of introducing the group membership parameters is that, at any given moment in our sampling, each galaxy's $x$ is drawn from exactly one Gaussian. Conversely, if we want to update the parameters of a Gaussian, we can use the update rules you worked out in the Gibbs sampling tutorial, as long as only the data for galaxies with the corresponding $g$ value are included in the calculation. Note that we will need to choose hyperparameters of the conjugate prior distributions that give us equivalent priors to what we decided above (see the Gibbs sampling notebook).\n",
    "\n",
    "Of course, we will also need rules for updating all of the $g_i$ values, as well as $f$."
   ]
  },
  {
   "cell_type": "markdown",
   "id": "published-justice",
   "metadata": {},
   "source": [
    "#### Updating $g$\n",
    "\n",
    "To see how to update each of the $g_i$, write down the terms in posterior where it appears based on your PGM and equivalent expressions. (Remember, it's the _fully conditional posterior_ that we need to work with.) Hopefully without giving away too much, you should be left with something like\n",
    "\n",
    "$p(g_i|\\ldots) \\propto p(g_i|f) \\, p(x_i|g_i,\\ldots)$.\n",
    "\n",
    "Since $g_i$ can only take the values 0 and 1, we simply need to evaluate the conditional posterior at both values, normalize them, and then randomly choose a new $g_i$ based on those 2 probabilities."
   ]
  },
  {
   "cell_type": "markdown",
   "id": "located-ethics",
   "metadata": {},
   "source": [
    "#### Updating $f$\n",
    "\n",
    "Following the same approach as above, the conditional posterior for $f$ looks like\n",
    "\n",
    "$p(f|\\ldots) \\propto p(f) \\, \\prod_i p(g_i|f) = p(f) \\, f^{n_0} (1-f)^{n_1}$,\n",
    "\n",
    "where $n_k$ is the number of $g_i$ equal to $k$. These last 2 factors you might recognize as being proportional to the binomial distribution, $p(n|q;N)={N \\choose n} q^n (1-q)^{N-n}$. Consult [the Wikipedia](https://en.wikipedia.org/wiki/Conjugate_prior) (or work it out yourself) to find the conjugate form of the prior for $f$, and determine the values of the hyperparameters $\\alpha_0$ and $\\alpha_1$ that reproduce the uniform prior we assumed above. Let us know the answer below."
   ]
  },
  {
   "cell_type": "code",
   "execution_count": null,
   "id": "willing-asset",
   "metadata": {},
   "outputs": [],
   "source": [
    "TBC() # answer in Markdown"
   ]
  },
  {
   "cell_type": "markdown",
   "id": "following-career",
   "metadata": {},
   "source": [
    "#### Implementation\n",
    "\n",
    "Let's begin by defining a more complete dictionary of model parameters, including ones that aren't free:\n",
    "* `f`: a list containing both `f[0]=`$f$ and `f[1]=`$1-f$;\n",
    "* `g`: an array of $g_i$ for each galaxy;\n",
    "* `p`: a list of dictionaries (!), where each dictionary contains `loc` and `scale` entries that can be passed straight to a `scipy.stats.norm` function. `p[0]` will correspond to the cluster Gaussian, and `p[1]` the background.\n",
    "\n",
    "Below, we fill in one corresponding to your `guess`. The `g` entry just gets a placeholder for now, which is fine. In fact, if we make $g$ our first update, we never need to bother coming up with initial values for it!"
   ]
  },
  {
   "cell_type": "code",
   "execution_count": null,
   "id": "charged-steering",
   "metadata": {},
   "outputs": [],
   "source": [
    "guessdict = {'f':[guess[0], 1-guess[0]], 'g':None,\n",
    "          'p':[{'loc':0.0, 'scale':guess[1]}, {'loc':guess[2], 'scale':guess[3]}]}\n",
    "guessdict['Ngauss'] = len(guessdict['f']) # for convenience"
   ]
  },
  {
   "cell_type": "markdown",
   "id": "unlike-subject",
   "metadata": {},
   "source": [
    "This is a convenience function to translate such a dictionary back to a list of values, so we can tabulate our samples."
   ]
  },
  {
   "cell_type": "code",
   "execution_count": null,
   "id": "systematic-thanks",
   "metadata": {},
   "outputs": [],
   "source": [
    "def param_dict_to_array(params):\n",
    "    return [params['f'][0], params['p'][0]['scale'], params['p'][1]['loc'], params['p'][1]['scale']]"
   ]
  },
  {
   "cell_type": "markdown",
   "id": "female-biography",
   "metadata": {},
   "source": [
    "We'll also want a similar dictionary holding the prior hyperparameters you chose above. We provide a template below; the `p` entry is again a list with dictionaries corresponding to (the hyperparameters of the priors for the parameters of) each Gaussian in the mixture. The names of the hyperparameters in `p` are chosen to simplify re-use of code from the Gibbs sampling tutorial. (Note that we don't need hyperparameters for the mean of the cluster Gaussian because we'll still be keeping it fixed to zero.)"
   ]
  },
  {
   "cell_type": "code",
   "execution_count": null,
   "id": "narrative-singapore",
   "metadata": {},
   "outputs": [],
   "source": [
    "TBC()\n",
    "#hyperparams = {'alpha':np.array([..., ...]), \n",
    "#               'p':[{'nu0':..., 'sigmasq0':...}, {'mx':..., 'sx':..., 'nu0':..., 'sigmasq0':...}]}"
   ]
  },
  {
   "cell_type": "markdown",
   "id": "beneficial-priority",
   "metadata": {},
   "source": [
    "With that, it's time to write some parameter updating functions.\n",
    "\n",
    "**Warning:** Before you gleefully copy/paste your `update_sigma` function from the Gibbs tutorial, remember that in that notebook we were in the funny position of having 2 bits of information about $\\sigma$ for every data point instead of 1. There is a small but crucial change to be made compared with the previous case, in addition to identifying the relevant data points for a given Gaussian."
   ]
  },
  {
   "cell_type": "code",
   "execution_count": null,
   "id": "angry-movie",
   "metadata": {},
   "outputs": [],
   "source": [
    "def update_sigma(group, x, par, hypar):\n",
    "    \"\"\"\n",
    "    `x' is the full data set, including both groups\n",
    "    `group' is the index (0 or 1) of the Gaussian whose sigma we want to update\n",
    "    `par' and `hypar' are our params and hyperparams dictionaries\n",
    "    Instead of returning anything, we UPDATE par in place\n",
    "    (Remember to return sigma instead of sigma^2!)\n",
    "    \"\"\"\n",
    "    j = (par['g'] == group) # galaxies belonging to this Gaussian\n",
    "    # ...\n",
    "    par['p'][group]['scale'] = TBC()\n",
    "\n",
    "TBC_above()"
   ]
  },
  {
   "cell_type": "code",
   "execution_count": null,
   "id": "friendly-charleston",
   "metadata": {},
   "outputs": [],
   "source": [
    "def update_mu(group, x, par, hypar):\n",
    "    \"\"\"\n",
    "    `x' is the full data set, including both groups\n",
    "    `group' is the index (0 or 1) of the Gaussian whose sigma we want to update\n",
    "    `par' and `hypar' are our params and hyperparams dictionaries\n",
    "    Instead of returning anything, we UPDATE par in place\n",
    "    \"\"\"\n",
    "    j = (par['g'] == group) # galaxies belonging to this Gaussian\n",
    "    # ...\n",
    "    par['p'][group]['loc'] = TBC()\n",
    "    \n",
    "TBC_above()"
   ]
  },
  {
   "cell_type": "code",
   "execution_count": null,
   "id": "forty-aluminum",
   "metadata": {},
   "outputs": [],
   "source": [
    "def update_g(x, par, hypar):\n",
    "    \"\"\"\n",
    "    `x' is the full data set, including both groups\n",
    "    `par' and `hypar' are our params and hyperparams dictionaries\n",
    "    Instead of returning anything, we UPDATE par in place\n",
    "    \"\"\"\n",
    "    # ...\n",
    "    par['g'] = TBC()\n",
    "\n",
    "TBC_above()"
   ]
  },
  {
   "cell_type": "code",
   "execution_count": null,
   "id": "legitimate-porcelain",
   "metadata": {},
   "outputs": [],
   "source": [
    "def update_f(x, par, hypar):\n",
    "    \"\"\"\n",
    "    `x' is the full data set, including both groups\n",
    "    `par' and `hypar' are our params and hyperparams dictionaries\n",
    "    Instead of returning anything, we UPDATE par in place\n",
    "    \"\"\"\n",
    "    # ...\n",
    "    par['f'] = TBC()\n",
    "    \n",
    "TBC_above()"
   ]
  },
  {
   "cell_type": "markdown",
   "id": "activated-pride",
   "metadata": {},
   "source": [
    "And that, dear friends, is why codes like JAGS that figure out and implement conjugacies for you exist. Fear not, we won't ask you to go through this again. Probably.\n",
    "\n",
    "In any case, the cell below will test each one of these functions. If you get crashes, break it up and debug as needed."
   ]
  },
  {
   "cell_type": "code",
   "execution_count": null,
   "id": "physical-integration",
   "metadata": {},
   "outputs": [],
   "source": [
    "params = deepcopy(guessdict)\n",
    "update_g(data[1], params, hyperparams)\n",
    "for k in range(params['Ngauss']):\n",
    "    update_sigma(k, data[1], params, hyperparams)\n",
    "for k in range(1, params['Ngauss']): # NB: not updating the mean of component 0 (the cluster)\n",
    "    update_mu(k, data[1], params, hyperparams)\n",
    "update_f(data[1], params, hyperparams)\n",
    "params"
   ]
  },
  {
   "cell_type": "markdown",
   "id": "spanish-roots",
   "metadata": {},
   "source": [
    "If your code is successfully producing numbers, let's have a look at which galaxies it assigned to each group:"
   ]
  },
  {
   "cell_type": "code",
   "execution_count": null,
   "id": "human-professor",
   "metadata": {},
   "outputs": [],
   "source": [
    "plt.rcParams['figure.figsize'] = (6., 4.)\n",
    "plt.hist(data[1][params['g']==1], label='component 1', color='C1');\n",
    "plt.hist(data[1][params['g']==0], label='component 0', color='C0');\n",
    "plt.legend();\n",
    "print('Fraction of g in component 0:', (params['g']==0).sum()/len(params['g']))"
   ]
  },
  {
   "cell_type": "markdown",
   "id": "vital-supervisor",
   "metadata": {},
   "source": [
    "**Checkpoint:** Does the fraction of $g$ in component 0 approximately agree with the post-update value of $f$? It should."
   ]
  },
  {
   "cell_type": "markdown",
   "id": "built-machine",
   "metadata": {},
   "source": [
    "Before we try to run a chain, let's do a more stringent check to make sure the parameters don't run away to silly values after repeated updates. First, we'll codify the updates in the same order as above, for brevity."
   ]
  },
  {
   "cell_type": "code",
   "execution_count": null,
   "id": "proved-corrections",
   "metadata": {},
   "outputs": [],
   "source": [
    "def gibbs_iteration(x, params, hyperparams):\n",
    "    update_g(x, params, hyperparams)\n",
    "    for k in range(params['Ngauss']):\n",
    "        update_sigma(k, x, params, hyperparams)\n",
    "    for k in range(1, params['Ngauss']):\n",
    "        update_mu(k, x, params, hyperparams) # NB: not updating the mean of component 0 (the cluster)\n",
    "    update_f(x, params, hyperparams)"
   ]
  },
  {
   "cell_type": "markdown",
   "id": "particular-richmond",
   "metadata": {},
   "source": [
    "And now run 100 iterations, printing out the final parameter values."
   ]
  },
  {
   "cell_type": "code",
   "execution_count": null,
   "id": "minor-valley",
   "metadata": {},
   "outputs": [],
   "source": [
    "params = deepcopy(guessdict)\n",
    "for i in range(100):\n",
    "    gibbs_iteration(data[1], params, hyperparams)\n",
    "params"
   ]
  },
  {
   "cell_type": "markdown",
   "id": "excited-subdivision",
   "metadata": {},
   "source": [
    "**Checkpoint:** Compare these to the posterior means and standard deviations from the `emcee` analysis (reproduced in the next cell). If anything is significantly off, one or more of your updaters needs more debugging. (As you'll see below, 100 steps is more than enough for this method to converge.)"
   ]
  },
  {
   "cell_type": "code",
   "execution_count": null,
   "id": "coated-taiwan",
   "metadata": {},
   "outputs": [],
   "source": [
    "np.array([esamples.mean(axis=0), esamples.std(axis=0)])"
   ]
  },
  {
   "cell_type": "markdown",
   "id": "japanese-referral",
   "metadata": {},
   "source": [
    "If everything above is working, we're ready to try a longer chain. The class below will simplify the process of running and checking multiple chains, which we'll eventually use for the other richness bins as well."
   ]
  },
  {
   "cell_type": "code",
   "execution_count": null,
   "id": "alive-writer",
   "metadata": {},
   "outputs": [],
   "source": [
    "class GibbsThing:\n",
    "    def __init__(self, data, iterate, reformat, pnames):\n",
    "        self.data = data\n",
    "        self.iterate = iterate\n",
    "        self.reformat = reformat\n",
    "        self.pnames = pnames\n",
    "    def mcmc(self, nchains, chain_length, start_params, hypar, copyfun=deepcopy):\n",
    "        npars = len(self.pnames)\n",
    "        gchains = [np.empty((chain_length, npars)) for i in range(nchains)]\n",
    "        for j in range(len(gchains)):\n",
    "            params = copyfun(start_params)\n",
    "            for i in range(gchains[j].shape[0]):\n",
    "                self.iterate(self.data, params, hypar)\n",
    "                gchains[j][i,:] = self.reformat(params)\n",
    "        self.chains = gchains\n",
    "        plt.rcParams['figure.figsize'] = (16.0, 3.0*npars)\n",
    "        fig, ax = plt.subplots(npars, 1);\n",
    "        cr.plot_traces(gchains, ax, labels=self.pnames);\n",
    "    def check_chains(self, burn, maxlag):\n",
    "        tmp_samples = [g[burn:,] for g in self.chains]\n",
    "        print('R =', cr.GelmanRubinR(tmp_samples))\n",
    "        print('neff =', cr.effective_samples(tmp_samples, maxlag=maxlag))\n",
    "    def remove_burnin(self, burn):\n",
    "        self.samples = np.concatenate([g[burn:,] for g in self.chains], axis=0)"
   ]
  },
  {
   "cell_type": "markdown",
   "id": "executive-proxy",
   "metadata": {},
   "source": [
    "Here we set up one of these things for each of the richness bins, in a list."
   ]
  },
  {
   "cell_type": "code",
   "execution_count": null,
   "id": "horizontal-finger",
   "metadata": {},
   "outputs": [],
   "source": [
    "gibbs = [GibbsThing(x, gibbs_iteration, param_dict_to_array, param_labels) for x in data]"
   ]
  },
  {
   "cell_type": "markdown",
   "id": "civil-bleeding",
   "metadata": {},
   "source": [
    "The cells below run a set of 4 chains for the bin 1 data, and go through the usual diagnostics and checks. As before, the lengh, burn-in and maximum lag are given values that worked well for us, given our starting guess, but you should change them if necessary.\n",
    "\n",
    "(If you're worried about giving all 4 of the chains the same initial position, good for you! Experimentation has shown that this particular problem converges extremely well regardless, so we're being lazy.)"
   ]
  },
  {
   "cell_type": "code",
   "execution_count": null,
   "id": "massive-elizabeth",
   "metadata": {},
   "outputs": [],
   "source": [
    "%time gibbs[1].mcmc(nchains=4, chain_length=2500, start_params=guessdict, hypar=hyperparams)"
   ]
  },
  {
   "cell_type": "code",
   "execution_count": null,
   "id": "whole-detection",
   "metadata": {},
   "outputs": [],
   "source": [
    "gibbs[1].check_chains(burn=50, maxlag=1500)"
   ]
  },
  {
   "cell_type": "code",
   "execution_count": null,
   "id": "considered-relief",
   "metadata": {},
   "outputs": [],
   "source": [
    "gibbs[1].remove_burnin(burn=50)"
   ]
  },
  {
   "cell_type": "markdown",
   "id": "noble-sally",
   "metadata": {},
   "source": [
    "**Checkpoint:** The chains should converge very quickly, such that our chosen burn-in period of 50 is overkill. If not, something is buggy.\n",
    "\n",
    "If things look ok, let's see how these samples compare with those from `emcee`:"
   ]
  },
  {
   "cell_type": "code",
   "execution_count": null,
   "id": "developed-front",
   "metadata": {},
   "outputs": [],
   "source": [
    "plotGTC([esamples, gibbs[1].samples], chainLabels=['emcee','Gibbs'], paramNames=param_labels,\n",
    "        figureSize=8, customLabelFont={'size':12}, customTickFont={'size':12}, customLegendFont={'size':16});"
   ]
  },
  {
   "cell_type": "markdown",
   "id": "excessive-permission",
   "metadata": {},
   "source": [
    "**Checkpoint:** The two posteriors should agree very well, of course. If not, again, something is fishy."
   ]
  },
  {
   "cell_type": "markdown",
   "id": "underlying-glasgow",
   "metadata": {},
   "source": [
    "## Results for all bins\n",
    "\n",
    "If everything appears to be working well for bin 1, let's go ahead and run for the other bins. Our experience was that the same initial guess, chain length, burn-in, etc. worked fine in all cases, but as always you should change anything that needs it. We've also added plots to compare the posterior modes with the data. Please do look at all of these rather than just plowing through... we will be very disappointed if we see tutorials with clear yet unidentified issues turned in."
   ]
  },
  {
   "cell_type": "code",
   "execution_count": null,
   "id": "returning-banner",
   "metadata": {},
   "outputs": [],
   "source": [
    "i = 0\n",
    "%time gibbs[i].mcmc(4, 2500, guessdict, hyperparams)"
   ]
  },
  {
   "cell_type": "code",
   "execution_count": null,
   "id": "forbidden-diagram",
   "metadata": {},
   "outputs": [],
   "source": [
    "gibbs[i].check_chains(50, 1500)"
   ]
  },
  {
   "cell_type": "code",
   "execution_count": null,
   "id": "everyday-approval",
   "metadata": {},
   "outputs": [],
   "source": [
    "gibbs[i].remove_burnin(50)"
   ]
  },
  {
   "cell_type": "code",
   "execution_count": null,
   "id": "characteristic-subject",
   "metadata": {},
   "outputs": [],
   "source": [
    "compare(data[i], *gibbs[i].samples.mean(axis=0))"
   ]
  },
  {
   "cell_type": "code",
   "execution_count": null,
   "id": "higher-storage",
   "metadata": {},
   "outputs": [],
   "source": [
    "i = 2\n",
    "%time gibbs[i].mcmc(4, 2500, guessdict, hyperparams)"
   ]
  },
  {
   "cell_type": "code",
   "execution_count": null,
   "id": "annual-noise",
   "metadata": {},
   "outputs": [],
   "source": [
    "gibbs[i].check_chains(50, 1500)"
   ]
  },
  {
   "cell_type": "code",
   "execution_count": null,
   "id": "billion-novel",
   "metadata": {},
   "outputs": [],
   "source": [
    "gibbs[i].remove_burnin(50)"
   ]
  },
  {
   "cell_type": "code",
   "execution_count": null,
   "id": "essential-leather",
   "metadata": {},
   "outputs": [],
   "source": [
    "compare(data[i], *gibbs[i].samples.mean(axis=0))"
   ]
  },
  {
   "cell_type": "code",
   "execution_count": null,
   "id": "acting-attribute",
   "metadata": {},
   "outputs": [],
   "source": [
    "i = 3\n",
    "%time gibbs[i].mcmc(4, 2500, guessdict, hyperparams)"
   ]
  },
  {
   "cell_type": "code",
   "execution_count": null,
   "id": "upper-thesis",
   "metadata": {},
   "outputs": [],
   "source": [
    "gibbs[i].check_chains(50, 1500)"
   ]
  },
  {
   "cell_type": "code",
   "execution_count": null,
   "id": "bibliographic-reaction",
   "metadata": {},
   "outputs": [],
   "source": [
    "gibbs[i].remove_burnin(50)"
   ]
  },
  {
   "cell_type": "code",
   "execution_count": null,
   "id": "musical-document",
   "metadata": {},
   "outputs": [],
   "source": [
    "compare(data[i], *gibbs[i].samples.mean(axis=0))"
   ]
  },
  {
   "cell_type": "code",
   "execution_count": null,
   "id": "dangerous-fancy",
   "metadata": {},
   "outputs": [],
   "source": [
    "i = 4\n",
    "%time gibbs[i].mcmc(4, 2500, guessdict, hyperparams)"
   ]
  },
  {
   "cell_type": "code",
   "execution_count": null,
   "id": "czech-daniel",
   "metadata": {},
   "outputs": [],
   "source": [
    "gibbs[i].check_chains(50, 1500)"
   ]
  },
  {
   "cell_type": "code",
   "execution_count": null,
   "id": "junior-charger",
   "metadata": {},
   "outputs": [],
   "source": [
    "gibbs[i].remove_burnin(50)"
   ]
  },
  {
   "cell_type": "code",
   "execution_count": null,
   "id": "macro-sustainability",
   "metadata": {},
   "outputs": [],
   "source": [
    "compare(data[i], *gibbs[i].samples.mean(axis=0))"
   ]
  },
  {
   "cell_type": "code",
   "execution_count": null,
   "id": "falling-plain",
   "metadata": {},
   "outputs": [],
   "source": [
    "i = 5\n",
    "%time gibbs[i].mcmc(4, 2500, guessdict, hyperparams)"
   ]
  },
  {
   "cell_type": "code",
   "execution_count": null,
   "id": "finite-childhood",
   "metadata": {},
   "outputs": [],
   "source": [
    "gibbs[i].check_chains(50, 1500)"
   ]
  },
  {
   "cell_type": "code",
   "execution_count": null,
   "id": "greater-workstation",
   "metadata": {},
   "outputs": [],
   "source": [
    "gibbs[i].remove_burnin(50)"
   ]
  },
  {
   "cell_type": "code",
   "execution_count": null,
   "id": "sorted-innocent",
   "metadata": {},
   "outputs": [],
   "source": [
    "compare(data[i], *gibbs[i].samples.mean(axis=0))"
   ]
  },
  {
   "cell_type": "markdown",
   "id": "treated-harvard",
   "metadata": {},
   "source": [
    "**Checkpoint:** Do all of the diagnostics look ok? How about the comparisons to data? Anything stand out?"
   ]
  },
  {
   "cell_type": "code",
   "execution_count": null,
   "id": "macro-theater",
   "metadata": {},
   "outputs": [],
   "source": [
    "TBC() # answer in Markdown"
   ]
  },
  {
   "cell_type": "markdown",
   "id": "guilty-point",
   "metadata": {},
   "source": [
    "Because you've earned it, below we show the results for all bins on the same triangle. As a last **checkpoint**, the \"truth values show the our posterior mean for bin 4."
   ]
  },
  {
   "cell_type": "code",
   "execution_count": null,
   "id": "aboriginal-official",
   "metadata": {},
   "outputs": [],
   "source": [
    "plotGTC([g.samples for g in gibbs], paramNames=param_labels,\n",
    "        chainLabels=['bin '+str(i) for i in range(6)], truthLineStyles='-',\n",
    "        truths = [0.86409348, 0.00259062, 0.00301248, 0.03346776],\n",
    "        figureSize=12, customLabelFont={'size':12}, customTickFont={'size':12}, customLegendFont={'size':16});"
   ]
  },
  {
   "cell_type": "markdown",
   "id": "macro-channel",
   "metadata": {},
   "source": [
    "Some features should stand out here. First, there are clearly trends in the cluster member fraction, $f$, and cluster velocity dispersion, $\\sigma_c$, from low richness (bin 0) to high richness (bin 5). Finding the former was the point of the paper we're following, while the latter had better be the case, given that velocity dispersion is like a dynamical temperature, and should therefore increase with halo mass.\n",
    "\n",
    "The other feature, which wasn't obvious a priori, is that the background distribution looks the same across bins. This led the authors to do a second fit with a common background distribution across all bins. We won't reproduce it here, since it's essentially an exercise in bookkeeping given what you've done above, and doesn't change the results in unexpected or interesting ways."
   ]
  },
  {
   "cell_type": "markdown",
   "id": "nonprofit-spiritual",
   "metadata": {},
   "source": [
    "## Parting thoughts\n",
    "\n",
    "In this notebook, you got some experience with a small Gaussian mixture, implementing it with a traditional posterior-evaluation and with conjugate Gibbs sampling. The latter case demonstrated the introduction of latent parameters in a hierarchical setting. Here the Gibbs approach turned out to be more efficient in terms of time per effectively independent sample, but you can imagine that juggling an additional vector of parameters that scales with the size of the data set isn't _always_ the best decision. We'll also note that for models more complex than this (arguably even for this one), we should probably have used JAGS or a similar Gibbs sampling code, rather than implementing the updates ourselves.\n",
    "\n",
    "This was a slightly unusual case in that the cluster member velocities genuinely should be Gaussian based on physical considerations, while the background component was surprisingly well described by a single additional Gaussian. Perhaps a more common use of GMMs is to marginalize over a potentially complicated distribution which constitutes a \"nuisance\" part of the model. That is, where we don't care about the model being physically interpretable, and just throw enough Gaussians at the problem to reproduce the data. There are interesting problems that arise in so doing, such as deciding how many is \"enough\", and the sampling quirks that follow from the exchangeability of Gaussians in the mixture (i.e. the same posterior probability can be obtained by swapping parameters between components). These aren't reasons to avoid mixture models, but in general we should be careful not to overinterpret the GMM parameters as meaning that there actually _are_ a certain number of distinct components making up a given distribution."
   ]
  }
 ],
 "metadata": {
  "kernelspec": {
   "display_name": "Python 3",
   "language": "python",
   "name": "python3"
  },
  "language_info": {
   "codemirror_mode": {
    "name": "ipython",
    "version": 3
   },
   "file_extension": ".py",
   "mimetype": "text/x-python",
   "name": "python",
   "nbconvert_exporter": "python",
   "pygments_lexer": "ipython3",
   "version": "3.7.9"
  }
 },
 "nbformat": 4,
 "nbformat_minor": 5
}
