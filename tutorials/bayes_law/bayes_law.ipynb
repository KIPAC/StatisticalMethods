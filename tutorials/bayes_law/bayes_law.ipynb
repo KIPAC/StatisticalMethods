{
 "cells": [
  {
   "cell_type": "markdown",
   "metadata": {
    "id": "W62xj_yt6VIZ",
    "tags": []
   },
   "source": [
    "# Tutorial: Bayes' Law\n",
    "\n",
    "In this problem, we'll work through a simple application of Bayes' Law, both analytically and numerically (on a grid).\n",
    "\n",
    "You will learn to:\n",
    "\n",
    "* use conjugacy relations to find an analytic form for a posterior\n",
    "* compute a posterior on a grid (brute force)\n",
    "* apply Bayes law to incorporate new data"
   ]
  },
  {
   "cell_type": "code",
   "execution_count": null,
   "metadata": {
    "id": "ePfnVrYy6VIf"
   },
   "outputs": [],
   "source": [
    "from os import getcwd\n",
    "from yaml import safe_load\n",
    "import numpy as np\n",
    "import scipy.stats as st\n",
    "import matplotlib\n",
    "import matplotlib.pyplot as plt\n",
    "%matplotlib inline"
   ]
  },
  {
   "cell_type": "code",
   "execution_count": null,
   "metadata": {
    "deletable": false,
    "editable": false,
    "id": "dWkEER306VIh",
    "nbgrader": {
     "cell_type": "code",
     "checksum": "c06db090a3967112384fb9c867888e2e",
     "grade": true,
     "grade_id": "datapath",
     "locked": true,
     "points": 0,
     "schema_version": 3,
     "solution": false,
     "task": false
    },
    "tags": []
   },
   "outputs": [],
   "source": [
    "thisTutorial = 'bayes_law'\n",
    "if getcwd() == '/content':\n",
    "    # assume we are in Colab, and the user's data directory is linked to their drive/Physics267_data\n",
    "    from google.colab import drive\n",
    "    drive.mount('/content/drive')\n",
    "    datapath = '/content/drive/MyDrive/Physics267_data/' + thisTutorial + '/'\n",
    "else:\n",
    "    # assume we are running locally somewhere and have the data under ./data/\n",
    "    datapath = 'data/'"
   ]
  },
  {
   "cell_type": "markdown",
   "metadata": {
    "id": "5eVtuFfX6VIj"
   },
   "source": [
    "## Background\n",
    "\n",
    "We'll re-examine the first example in the Generative Models tutorial. We're interested in knowing what fraction, $f$, of galaxy clusters in the Universe are morphologically relaxed (hence relatively close to equilibrium). We can think of $f$ equivalently as the a priori probability that a randomly chosen, or newly discovered, cluster is relaxed.\n",
    "\n",
    "From X-ray imaging of 361 clusters, which we will assume are representative, 57 were found to be morphologically relaxed according to our metric. We will use this information to constrain $f$. Our data could be laboriously written as\n",
    "\n",
    "$X_1,X_2,\\ldots,X_{361}$,\n",
    "\n",
    "where 57 $X$'s are 1 (relaxed) and 304 are 0 (unrelaxed). Equivalently we can just speak of $s=57$ \"successes\" out of $n=361$ trials.\n",
    "\n",
    "But that was real life. To make things more fun, you will be using a randomly generated data set with different values on $n$ and $s$, as read in below."
   ]
  },
  {
   "cell_type": "code",
   "execution_count": null,
   "metadata": {
    "id": "OPnwiS7m6VIj"
   },
   "outputs": [],
   "source": [
    "data = safe_load(open(datapath+'data.yaml', 'r').read())\n",
    "data"
   ]
  },
  {
   "cell_type": "markdown",
   "metadata": {
    "id": "wnt_ygyO6VIk"
   },
   "source": [
    "We write Bayes' Law for this application as\n",
    "\n",
    "$p(f|s) = \\frac{p(f)P(s|f)}{P(s)}$.\n",
    "\n",
    "First, as always, we choose a prior. Clearly, by definition, $0\\leq f \\leq 1$. Without thinking too hard about it, let's take $p(f)$ to be uniform over this interval.\n",
    "\n",
    "As the problem is defined, the sampling distribution, $P(s|f)$, is binomial:\n",
    "\n",
    "$P(s|f) = {n \\choose s} f^s (1-f)^{n-s}$."
   ]
  },
  {
   "cell_type": "markdown",
   "metadata": {
    "id": "cCGsv-iH6VIk"
   },
   "source": [
    "## Solution and implementation\n",
    "\n",
    "It's always nice to have a simple, analytic way of expressing our solution, and this problem happens to provide one. Namely, the binomial distribution is conjugate to the beta distribution. Not only that, but the uniform prior chosen above happens to be reproduced for a particular choice of the beta distribution's parameters, $\\alpha$ and $\\beta$. You can consult [the Wikipedia](https://en.wikipedia.org/wiki/Conjugate_prior) to find the conjugacy relation itself, and follow links from there to see the form of the beta distribution."
   ]
  },
  {
   "cell_type": "markdown",
   "metadata": {
    "id": "jPpeVNvM6VIl"
   },
   "source": [
    "**To be submitted on Canvas**\n",
    "\n",
    "> Before going on, prove the conjugacy relation. Seriously, it's good practice. Multiply $p(f)$ and $P(s|f)$, and simplify until you obtain a normalized posterior distribution expressed in a standard form. Note that you are allowed to multiply by any constants you want - by definition whatever constant you need to multiply by to produce a normalized PDF must be $1/P(s)$. Put another way, you can ignore terms that don't depend on $f$, and just determine which distribution the functional form of the posterior corresponds to, and what it's parameters are."
   ]
  },
  {
   "cell_type": "markdown",
   "metadata": {
    "id": "YfrhovRw6VIl"
   },
   "source": [
    "Now that you're extremely familiar with the beta distribution, fill in the values of the prior _hyperparameters_ that reproduce the uniform distribution on [0,1]."
   ]
  },
  {
   "cell_type": "code",
   "execution_count": null,
   "metadata": {
    "deletable": false,
    "id": "DAb_J7HJ6VIm",
    "nbgrader": {
     "cell_type": "code",
     "checksum": "f461b59b3c9cf7fce49feedcb270287d",
     "grade": false,
     "grade_id": "hyperparameters",
     "locked": false,
     "schema_version": 3,
     "solution": true,
     "task": false
    },
    "tags": []
   },
   "outputs": [],
   "source": [
    "# prior_params = {'alpha':..., 'beta':...}\n",
    "\n",
    "# YOUR CODE HERE\n",
    "raise NotImplementedError()"
   ]
  },
  {
   "cell_type": "markdown",
   "metadata": {
    "id": "oJ9nmzqZ6VIm"
   },
   "source": [
    "### Prior\n",
    "\n",
    "Fill in the cells below to provide the function that evaluates the prior (you can call the `scipy.stats` implementation of the distribution, or spell out the density) and define prior hyperparameter values that make the prior uniform."
   ]
  },
  {
   "cell_type": "code",
   "execution_count": null,
   "metadata": {
    "deletable": false,
    "id": "s5gQ5Y0K6VIm",
    "nbgrader": {
     "cell_type": "code",
     "checksum": "eeddacb82b2da39af0aacc41e91bfc80",
     "grade": false,
     "grade_id": "prior_function",
     "locked": false,
     "schema_version": 3,
     "solution": true,
     "task": false
    },
    "tags": []
   },
   "outputs": [],
   "source": [
    "def prior(f, alpha, beta):\n",
    "    # return the prior density evaluated at x, p(f)\n",
    "\n",
    "    # YOUR CODE HERE\n",
    "    raise NotImplementedError()"
   ]
  },
  {
   "cell_type": "markdown",
   "metadata": {
    "id": "7v5SrY-o6VIn"
   },
   "source": [
    "Excellent! Let's now plot the prior with your chosen parameters, to verify that it's the same as a uniform distribution."
   ]
  },
  {
   "cell_type": "code",
   "execution_count": null,
   "metadata": {
    "deletable": false,
    "editable": false,
    "id": "bpsmvGXc6VIn",
    "nbgrader": {
     "cell_type": "code",
     "checksum": "ee7de945788d2003807be5e9352fc542",
     "grade": true,
     "grade_id": "hyper_test",
     "locked": true,
     "points": 1,
     "schema_version": 3,
     "solution": false,
     "task": false
    },
    "tags": []
   },
   "outputs": [],
   "source": [
    "fgrid = np.linspace(0.0, 1.0, 500)\n",
    "\n",
    "plt.rcParams['figure.figsize'] = (7.0, 5.0)\n",
    "plt.plot(fgrid, prior(fgrid, **prior_params), 'k-');\n",
    "plt.xlabel('f');\n",
    "plt.ylabel('p(f)');"
   ]
  },
  {
   "cell_type": "markdown",
   "metadata": {
    "id": "tk-DwK8f6VIo"
   },
   "source": [
    "### Likelihood\n",
    "\n",
    "Next, code up the likelihood function. Recall that this is just the sampling distribution evaluated as a function of the model parameters, with the data fixed."
   ]
  },
  {
   "cell_type": "code",
   "execution_count": null,
   "metadata": {
    "deletable": false,
    "id": "V0sgXjLJ6VIo",
    "nbgrader": {
     "cell_type": "code",
     "checksum": "ff619e26169b69d196ca0a8b4abb2ecd",
     "grade": false,
     "grade_id": "likelihood",
     "locked": false,
     "schema_version": 3,
     "solution": true,
     "task": false
    },
    "tags": []
   },
   "outputs": [],
   "source": [
    "# here f would be our model parameter, and s and n would be from our data dictionary\n",
    "def likelihood(f, s, n):\n",
    "\n",
    "    # YOUR CODE HERE\n",
    "    raise NotImplementedError()"
   ]
  },
  {
   "cell_type": "markdown",
   "metadata": {
    "id": "gbMbsHLs6VIp"
   },
   "source": [
    "Again, let's take a look."
   ]
  },
  {
   "cell_type": "code",
   "execution_count": null,
   "metadata": {
    "id": "tz0q6UQt6VIp"
   },
   "outputs": [],
   "source": [
    "plt.rcParams['figure.figsize'] = (7.0, 5.0)\n",
    "plt.plot(fgrid, prior(fgrid, **prior_params), 'k-', label='p(f)');\n",
    "plt.plot(fgrid, likelihood(fgrid, **data), 'b-', label='P(s|f)');\n",
    "plt.xlabel('f');\n",
    "plt.legend();"
   ]
  },
  {
   "cell_type": "markdown",
   "metadata": {
    "id": "IPwdZJ0c6VIq"
   },
   "source": [
    "Hold on! You didn't (necessarily) make a mistake. Remember that the likelihood function is not a PDF - it is not normalized over $f$ for a given $s$. So there is no reason the normalizations of the two curves above should be comparable.\n",
    "\n",
    "In fact, run the cell below to numerically verify that $P(s|f)$ is **not** normalized over $f$."
   ]
  },
  {
   "cell_type": "code",
   "execution_count": null,
   "metadata": {
    "id": "NFg0UrB66VIq"
   },
   "outputs": [],
   "source": [
    "print('This does NOT need to be 1.0:', np.trapz(likelihood(fgrid, **data), x=fgrid))"
   ]
  },
  {
   "cell_type": "markdown",
   "metadata": {
    "id": "DZzcRUnm6VIq"
   },
   "source": [
    "On the other hand, in its guise as the sampling distribution, it _is_ normalized over $s$ for a given $f$. Verify this for the arbitrary choice of $f$ below, or some other value(s) of your choice."
   ]
  },
  {
   "cell_type": "code",
   "execution_count": null,
   "metadata": {
    "id": "ZGobTlY66VIr",
    "tags": []
   },
   "outputs": [],
   "source": [
    "sgrid = np.arange(0.0, data['n']+1) # all possible values of `s`: 0, 1, ..., n\n",
    "test_f = np.pi/10.0 # an arbitrary choice of `f`\n",
    "test_integral = likelihood(test_f, sgrid, data['n']).sum() # sum of P(s|f) over all s\n",
    "print('This had better be exactly 1.0 (to within numerical error):', test_integral)"
   ]
  },
  {
   "cell_type": "code",
   "execution_count": null,
   "metadata": {
    "deletable": false,
    "editable": false,
    "id": "cWSjiRT46VIr",
    "nbgrader": {
     "cell_type": "code",
     "checksum": "e5cb66048f2db3f2aca1bb46505bac93",
     "grade": true,
     "grade_id": "sampdist_norm",
     "locked": true,
     "points": 1,
     "schema_version": 3,
     "solution": false,
     "task": false
    },
    "tags": []
   },
   "outputs": [],
   "source": [
    "# test the above claim\n",
    "assert np.isclose(test_integral, 1.0)\n",
    "print('Yay!')"
   ]
  },
  {
   "cell_type": "markdown",
   "metadata": {
    "id": "kGDJ4r8p6VIs"
   },
   "source": [
    "Just for fun, here is what $P(s|f)$ looks like as a function of $s$ (i.e. as a sampling distribution) for a few different $f$'s."
   ]
  },
  {
   "cell_type": "code",
   "execution_count": null,
   "metadata": {
    "id": "fmENTU3e6VIs"
   },
   "outputs": [],
   "source": [
    "plt.rcParams['figure.figsize'] = (7.0, 5.0)\n",
    "plt.plot(sgrid, likelihood(0.01, sgrid, data['n']), 'b.', label='f=0.01');\n",
    "plt.plot(sgrid, likelihood(0.1, sgrid, data['n']), 'r.', label='f=0.1');\n",
    "plt.plot(sgrid, likelihood(0.7, sgrid, data['n']), 'k.', label='f=0.7');\n",
    "plt.xlabel('s');\n",
    "plt.ylabel('P(s|f)');\n",
    "plt.legend();"
   ]
  },
  {
   "cell_type": "markdown",
   "metadata": {
    "id": "9KOMMTmP6VIt"
   },
   "source": [
    "### Posterior\n",
    "\n",
    "Moving on, code up the posterior distribution. Since its functional form is the same as that of the prior, we can go ahead and use the same Python function."
   ]
  },
  {
   "cell_type": "code",
   "execution_count": null,
   "metadata": {
    "id": "a3oEjgz16VIt"
   },
   "outputs": [],
   "source": [
    "posterior = prior # you can have this one"
   ]
  },
  {
   "cell_type": "markdown",
   "metadata": {
    "id": "kZfOooCc6VIt"
   },
   "source": [
    "Then all we need is a function that determines the posterior distribution's parameters given the prior and data."
   ]
  },
  {
   "cell_type": "code",
   "execution_count": null,
   "metadata": {
    "deletable": false,
    "id": "Y_RBnbxJ6VIt",
    "nbgrader": {
     "cell_type": "code",
     "checksum": "1070759cb27aa80beb4ae00295ddeb0c",
     "grade": false,
     "grade_id": "get_post_params",
     "locked": false,
     "schema_version": 3,
     "solution": true,
     "task": false
    },
    "tags": []
   },
   "outputs": [],
   "source": [
    "def get_post_params(alpha, beta, n, s):\n",
    "    # Note: the first arguments are the prior's parameters.\n",
    "    # Return the posterior parameters as a dictionary.\n",
    "    # Since the posterior distribution (function) is the same as the prior distribution\n",
    "    # (function), this dictionary's keys should be the same as \"prior_params\" has.\n",
    "\n",
    "    # YOUR CODE HERE\n",
    "    raise NotImplementedError()"
   ]
  },
  {
   "cell_type": "markdown",
   "metadata": {
    "id": "bO9xbeLF6VIu"
   },
   "source": [
    "See what this looks like:"
   ]
  },
  {
   "cell_type": "code",
   "execution_count": null,
   "metadata": {
    "id": "geic56Pj6VIu"
   },
   "outputs": [],
   "source": [
    "post_params = get_post_params(**prior_params, **data)\n",
    "\n",
    "plt.rcParams['figure.figsize'] = (7.0, 5.0)\n",
    "plt.plot(fgrid, prior(fgrid, **prior_params), 'k-', label='p(f)');\n",
    "plt.plot(fgrid, likelihood(fgrid, **data), 'b-', label='p(s|f)');\n",
    "plt.plot(fgrid, posterior(fgrid, **post_params), 'r-', label='p(f|s)');\n",
    "plt.xlabel('f');\n",
    "plt.legend();"
   ]
  },
  {
   "cell_type": "code",
   "execution_count": null,
   "metadata": {
    "deletable": false,
    "editable": false,
    "id": "9ZNMRpVW6VIv",
    "nbgrader": {
     "cell_type": "code",
     "checksum": "a0d3fe9bc29605cfaaa3e3bfb587d980",
     "grade": true,
     "grade_id": "post_params_test",
     "locked": true,
     "points": 1,
     "schema_version": 3,
     "solution": false,
     "task": false
    },
    "tags": []
   },
   "outputs": [],
   "source": [
    "# hidden test of your posterior parameter values"
   ]
  },
  {
   "cell_type": "markdown",
   "metadata": {
    "id": "-Rm3LP3Z6VIw"
   },
   "source": [
    "### Comparison with brute force\n",
    "\n",
    "Just to drive the point home, let's imagine we didn't recognize this problem as conjugate. Evaluate the posterior over `fgrid` by brute force (i.e. multiplying the likelihood and prior), and we'll compare. Don't forget to normalize."
   ]
  },
  {
   "cell_type": "code",
   "execution_count": null,
   "metadata": {
    "deletable": false,
    "id": "-uJ8_2Yz6VIw",
    "nbgrader": {
     "cell_type": "code",
     "checksum": "06951c1783a21d44a637e48b7447bbde",
     "grade": false,
     "grade_id": "bruteforce",
     "locked": false,
     "schema_version": 3,
     "solution": true,
     "task": false
    },
    "tags": []
   },
   "outputs": [],
   "source": [
    "# post_fgrid = ...posterior evaluated at f = \"fgrid\"\n",
    "\n",
    "# YOUR CODE HERE\n",
    "raise NotImplementedError()"
   ]
  },
  {
   "cell_type": "markdown",
   "metadata": {
    "id": "vX5U2SIm6VIy"
   },
   "source": [
    "Plot it along with the conjugate solution:"
   ]
  },
  {
   "cell_type": "code",
   "execution_count": null,
   "metadata": {
    "id": "0aN6HsNy6VI0"
   },
   "outputs": [],
   "source": [
    "plt.rcParams['figure.figsize'] = (7.0, 5.0)\n",
    "plt.plot(fgrid, posterior(fgrid, **post_params), 'r-', label='analytic');\n",
    "plt.plot(fgrid, post_fgrid, 'b.', label='grid');\n",
    "plt.xlabel('f');\n",
    "plt.ylabel('p(f|s)');\n",
    "plt.legend();"
   ]
  },
  {
   "cell_type": "code",
   "execution_count": null,
   "metadata": {
    "deletable": false,
    "editable": false,
    "id": "nIkpqSB16VI1",
    "nbgrader": {
     "cell_type": "code",
     "checksum": "89bc045f6cb3cd401f025b966f04455d",
     "grade": true,
     "grade_id": "grid-test",
     "locked": true,
     "points": 1,
     "schema_version": 3,
     "solution": false,
     "task": false
    },
    "tags": []
   },
   "outputs": [],
   "source": [
    "# test whether these agree\n",
    "assert np.allclose(posterior(fgrid, **post_params), post_fgrid)\n",
    "print('Yay!')"
   ]
  },
  {
   "cell_type": "markdown",
   "metadata": {
    "id": "5c-0Y0ZZ6VI2"
   },
   "source": [
    "You might be thinking that all this messing around with conjugacy relations is silly, and in this simple case, which takes very little time to evaluate numerically, that's fair enough. While conjugacy doesn't apply to every problem, there are a few reasons it's worth knowing about for those times that it is a viable strategy:\n",
    "1. Since the posterior has a well known functional form, we instantly know its mean, median, mode, variance, skewness, kurtosis, etc., etc., etc. to arbitrary precision - things that we might be interested in that would be more annoying to estimate numerically. They are simple functions of the distribution's parameters that we can look up.\n",
    "2. When dealing with multi-parameter distributions and/or large amounts of data, leaping straight to the final answer (after, at most, some linear algebra) can sometimes represent a significant speed-up over more brute-force methods."
   ]
  },
  {
   "cell_type": "markdown",
   "metadata": {
    "id": "hgQTZ4qj6VI2"
   },
   "source": [
    "## Summarizing the constraint on $f$\n",
    "\n",
    "While the posterior for $f$, evaluated one of the ways above, in principle is the entire answer, we normally want to summarize the constraint in terms of a best value and an interval. You'll see more about this in the Credible Regions notes and tutorial. For now, we'll go ahead and summarize the constraint according to one convention for doing so.\n",
    "\n",
    "Write a function that finds the median, 15.85th percentile and 84.15th percentile of the posterior distribution for $f$. Do this based on the parameters of the conjugate posterior, which will let you take advantage of `scipy` functions (e.g. `scipy.stats.<distribution>.median`)."
   ]
  },
  {
   "cell_type": "code",
   "execution_count": null,
   "metadata": {
    "deletable": false,
    "id": "ehrwaVen6VI4",
    "nbgrader": {
     "cell_type": "code",
     "checksum": "7f3f141fd6086bff8bb80bc98681e80a",
     "grade": false,
     "grade_id": "CI",
     "locked": false,
     "schema_version": 3,
     "solution": true,
     "task": false
    },
    "tags": []
   },
   "outputs": [],
   "source": [
    "def summarize_posterior(post_params):\n",
    "    # Find the 50th, 15.85th and 84.15th percentiles of the posterior distribution.\n",
    "    # Return these as a numpy array with shape (3,), in that order.\n",
    "\n",
    "    # YOUR CODE HERE\n",
    "    raise NotImplementedError()"
   ]
  },
  {
   "cell_type": "code",
   "execution_count": null,
   "metadata": {
    "deletable": false,
    "editable": false,
    "id": "MGhTp9Ow6VI5",
    "nbgrader": {
     "cell_type": "code",
     "checksum": "f94817cd405a0184e8ea85b8364cff0e",
     "grade": true,
     "grade_id": "CI_test",
     "locked": true,
     "points": 1,
     "schema_version": 3,
     "solution": false,
     "task": false
    },
    "tags": []
   },
   "outputs": [],
   "source": [
    "print('My best fit and interval:', summarize_posterior(post_params))\n",
    "print('**Checkpoint:**          ', np.array(safe_load(open(datapath+'interval_checkpoint.yaml', 'r').read())))"
   ]
  },
  {
   "cell_type": "markdown",
   "metadata": {
    "id": "zJz0eJki6VI7"
   },
   "source": [
    "## Updating with new data"
   ]
  },
  {
   "cell_type": "markdown",
   "metadata": {
    "id": "hdENrmXj6VI8"
   },
   "source": [
    "Suppose we get more data:"
   ]
  },
  {
   "cell_type": "code",
   "execution_count": null,
   "metadata": {
    "id": "qkAAgpsy6VI8"
   },
   "outputs": [],
   "source": [
    "data2 = safe_load(open(datapath+'data2.yaml', 'r').read())\n",
    "data2"
   ]
  },
  {
   "cell_type": "markdown",
   "metadata": {
    "id": "znJRl0nR6VI9"
   },
   "source": [
    "Use your `get_post_params` function to compute the posterior parameters for\n",
    "1. the second data set combined with the original prior (not using the first data set), and\n",
    "2. the combination of both data sets and the original prior, by using the posterior from the first data set as the prior distribution for an analysis of the second data set."
   ]
  },
  {
   "cell_type": "code",
   "execution_count": null,
   "metadata": {
    "deletable": false,
    "id": "zyOZFwES6VI9",
    "nbgrader": {
     "cell_type": "code",
     "checksum": "d47044bca32d12e9116a203958f480aa",
     "grade": false,
     "grade_id": "update_post",
     "locked": false,
     "schema_version": 3,
     "solution": true,
     "task": false
    },
    "tags": []
   },
   "outputs": [],
   "source": [
    "# post_params_2 = posterior from just the second data set\n",
    "# post_params_both = posterior from both data sets\n",
    "\n",
    "# YOUR CODE HERE\n",
    "raise NotImplementedError()"
   ]
  },
  {
   "cell_type": "code",
   "execution_count": null,
   "metadata": {
    "deletable": false,
    "editable": false,
    "id": "0UsFZsxf6VI-",
    "nbgrader": {
     "cell_type": "code",
     "checksum": "c42eb925e92ea5bf87f88b442a9d0465",
     "grade": true,
     "grade_id": "updated_post_test",
     "locked": true,
     "points": 1,
     "schema_version": 3,
     "solution": false,
     "task": false
    },
    "tags": []
   },
   "outputs": [],
   "source": [
    "print('posterior parameters from just the second data set', post_params_2)\n",
    "print('posterior parameters from both data sets', post_params_both)"
   ]
  },
  {
   "cell_type": "markdown",
   "metadata": {
    "id": "Hu2u358t6VI-"
   },
   "source": [
    "Note that you should get the same result for (2) as you would by analyzing the original prior with the _combined_ data set with $s_1+s_2$ successes in $n_1+n_2$ trials. This should be clear from the way the posterior parameters depend on $n$ and $s$ in this particular conjugacy relation, and is hopefully intuitive for a binomial experiment."
   ]
  },
  {
   "cell_type": "markdown",
   "metadata": {
    "id": "F4nOlz1N6VI_"
   },
   "source": [
    "Here's how the posteriors from the individual data sets compare with the prior:"
   ]
  },
  {
   "cell_type": "code",
   "execution_count": null,
   "metadata": {
    "id": "FxMTFuoH6VI_"
   },
   "outputs": [],
   "source": [
    "plt.rcParams['figure.figsize'] = (7.0, 5.0)\n",
    "plt.plot(fgrid, prior(fgrid, **prior_params), 'k-', label='p(f)');\n",
    "plt.plot(fgrid, posterior(fgrid, **post_params), 'r-', label='p(f|s_1)');\n",
    "plt.plot(fgrid, posterior(fgrid, **post_params_2), 'b-', label='p(f|s_2)');\n",
    "plt.xlabel('f');\n",
    "plt.legend();"
   ]
  },
  {
   "cell_type": "markdown",
   "metadata": {
    "id": "oKBDPpJ16VI_"
   },
   "source": [
    "This visualizes the accumulation of data as we add first one and then the second data set to the prior information:"
   ]
  },
  {
   "cell_type": "code",
   "execution_count": null,
   "metadata": {
    "id": "L-pUwZs66VJA",
    "tags": []
   },
   "outputs": [],
   "source": [
    "plt.rcParams['figure.figsize'] = (7.0, 5.0)\n",
    "plt.plot(fgrid, prior(fgrid, **prior_params), 'k-', label=r'$p(f)$');\n",
    "plt.plot(fgrid, posterior(fgrid, **post_params), 'r-', label=r'$p(f|s_1)$');\n",
    "plt.plot(fgrid, posterior(fgrid, **post_params_both), 'b-', label=r'$p(f|s_1,s_2)$');\n",
    "plt.xlabel('f');\n",
    "plt.legend();"
   ]
  },
  {
   "cell_type": "markdown",
   "metadata": {
    "id": "9FGOim1t6VJA"
   },
   "source": [
    "Finally, compare the constraints:"
   ]
  },
  {
   "cell_type": "code",
   "execution_count": null,
   "metadata": {
    "id": "SyZv__576VJA"
   },
   "outputs": [],
   "source": [
    "print('Just data1:', summarize_posterior(post_params))\n",
    "print('Just data2:', summarize_posterior(post_params_2))\n",
    "print('Both data1 and data2', summarize_posterior(post_params_both))"
   ]
  },
  {
   "cell_type": "markdown",
   "metadata": {
    "id": "Grg0dTRS6VJB"
   },
   "source": [
    "## Check the goodness of fit\n",
    "\n",
    "Because we have absorbed the pointed lessons in the notes so well, we will finish by comparing posterior predictions of the fitted model with the data. That is, we want to make sure that the model, for the posterior distribution we've ended up with, could plausibly have produced the observed data. We'll use the posterior as updated by `data2` above, i.e. parametrized by `post_params_both`. Because the binomial distribution is additive (for the same $f$ parameter), we can compare this with the combined data:"
   ]
  },
  {
   "cell_type": "code",
   "execution_count": null,
   "metadata": {
    "id": "uz04Mule6VJB"
   },
   "outputs": [],
   "source": [
    "data_both = {'n':data['n']+data2['n'], 's':data['s']+data2['s']}"
   ]
  },
  {
   "cell_type": "markdown",
   "metadata": {
    "id": "SUNL5ERx6VJB"
   },
   "source": [
    "What we want to do in this case is predict the distribution of $s'$ marginalized over the posterior distribution of $f$, where $s'$ represents an equivalent measurement to $s$ (i.e. from the same total number $n$, but obviously not actually the same clusters). In other words, we should compute\n",
    "\n",
    "$P(s'|s) = \\int df \\, p(f|s) \\, P(s'|f)$\n",
    "\n",
    "and see how plausible $s$ is compared with this PDF. (What the expression above is and why we care is spelled out more in the Goodness of Fit notes, though you don't need to read ahead to complete the rest of this notebook.)\n",
    "\n",
    "In conjugate problems, this posterior predictive distribution is often _also_ a standard PDF that can be arrived at analytically (it's on the Wikipedia page above it you want to add a comparison below), but let's instead go through a procedure that will work more generally. Namely, just like in the Bayes' Law notes, we will use the generative model as, well, a generative model, and produce a list of potential data $s'$ from an equally long list of values of $f$ drawn from the posterior distribution. Fill in the code below (you can use `scipy.stats.<distribution>.rvs` functions to generate random numbers from a PDF)."
   ]
  },
  {
   "cell_type": "code",
   "execution_count": null,
   "metadata": {
    "deletable": false,
    "id": "T0y22K3E6VJB",
    "nbgrader": {
     "cell_type": "code",
     "checksum": "52ae3f8f8c8703b0296a4c4c1d530764",
     "grade": false,
     "grade_id": "ppd",
     "locked": false,
     "schema_version": 3,
     "solution": true,
     "task": false
    },
    "tags": []
   },
   "outputs": [],
   "source": [
    "Npredict = 1000000\n",
    "\n",
    "# f_from_posterior = ...\n",
    "# s_post_predicted = ...\n",
    "\n",
    "# YOUR CODE HERE\n",
    "raise NotImplementedError()"
   ]
  },
  {
   "cell_type": "markdown",
   "metadata": {
    "id": "b2f1Q4x36VJB"
   },
   "source": [
    "Below we compare this distribution to the measured $s$:"
   ]
  },
  {
   "cell_type": "code",
   "execution_count": null,
   "metadata": {
    "id": "nG8S7Vwv6VJC"
   },
   "outputs": [],
   "source": [
    "plt.hist(s_post_predicted, density=True, label='your samples', bins=20);\n",
    "plt.axvline(x=data_both['s'], label='measured s', color='C1')\n",
    "plt.xlabel(r'$s\\prime$', fontsize='x-large');\n",
    "plt.ylabel(r'$P(s\\prime|s)$', fontsize='x-large');\n",
    "plt.legend(fontsize='x-large');"
   ]
  },
  {
   "cell_type": "markdown",
   "metadata": {
    "id": "U4C1pids6VJC"
   },
   "source": [
    "It should look very consistent. Of course, this was an extremely simple model - is it even possible for us to get a \"bad fit\" where the distribution of $s'$ does not comfortably include $s$? The only circumstance I can think of where that would happen is if `data` and `data2` had not come from the same model, that is if they had been generated by significantly different values of $f$ somehow. Then we might see the distribution above being less consistent or inconsistent with the value of $s$ in `data_both`, and conclude that our model with a single $f$ doesn't adequately describe all the data. We would hopefully also be able to identify the issue when comparing the two individual posteriors above. We'll cover more quantitative ways to define \"consistency\" later on, but for now we have a simple, visual check of how acceptable the fit is."
   ]
  },
  {
   "cell_type": "markdown",
   "metadata": {
    "id": "MRKRoTec6VJC"
   },
   "source": [
    "As it happens, the distribution of $s'$ also happens to be a standard one in this case, so we can also do a quick quantitative check to ensure that everything holds together above. The cell below compares the mean of your predictions to the mean of the known distribution. (Due to the finite number of samples, we're allowing a healthy amount of error.)"
   ]
  },
  {
   "cell_type": "code",
   "execution_count": null,
   "metadata": {
    "deletable": false,
    "editable": false,
    "id": "fvcVxVLB6VJD",
    "nbgrader": {
     "cell_type": "code",
     "checksum": "3aa2a06c33b9507d6e0dc0fd7bb3c3ee",
     "grade": true,
     "grade_id": "ppd_test",
     "locked": true,
     "points": 1,
     "schema_version": 3,
     "solution": false,
     "task": false
    },
    "tags": []
   },
   "outputs": [],
   "source": [
    "assert np.isclose(s_post_predicted.mean(), data_both['n']*post_params_both['alpha']/(post_params_both['alpha']+post_params_both['beta']), atol=0.1)\n",
    "print('Yay!')"
   ]
  }
 ],
 "metadata": {
  "colab": {
   "provenance": [],
   "toc_visible": true
  },
  "kernelspec": {
   "display_name": "Python 3 (ipykernel)",
   "language": "python",
   "name": "python3"
  },
  "language_info": {
   "codemirror_mode": {
    "name": "ipython",
    "version": 3
   },
   "file_extension": ".py",
   "mimetype": "text/x-python",
   "name": "python",
   "nbconvert_exporter": "python",
   "pygments_lexer": "ipython3",
   "version": "3.12.5"
  }
 },
 "nbformat": 4,
 "nbformat_minor": 4
}
