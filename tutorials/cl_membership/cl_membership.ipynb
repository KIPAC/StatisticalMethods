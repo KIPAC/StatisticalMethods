{
 "cells": [
  {
   "cell_type": "markdown",
   "id": "allied-message",
   "metadata": {
    "id": "allied-message"
   },
   "source": [
    "# Tutorial: Cluster Membership Fractions of redMaPPer Galaxies\n",
    "## Gaussian Mixtures and Mixed Sampling Methods\n",
    "\n",
    "In this notebook, we will reproduce part of, and slightly expand on, the analysis of [Myles et al. (2021)](http://arxiv.org/abs/2011.07070), using data kindly provided by the first author. In the course of doing so, you will\n",
    "\n",
    "* design and implement a Gaussian Mixture Model (GMM);\n",
    "* fit the GMM to a subset of the data using brute-force MCMC;\n",
    "* perform the same fit using conjugate Gibbs sampling, introducing latent group membership parameters along the way;\n",
    "* fit the full data set, including hierarchical modeling aspects, using multiple sampling approaches within the same analysis."
   ]
  },
  {
   "cell_type": "code",
   "execution_count": null,
   "id": "responsible-token",
   "metadata": {
    "id": "responsible-token"
   },
   "outputs": [],
   "source": [
    "# !pip install incredible lmc pygtc\n",
    "\n",
    "from copy import deepcopy\n",
    "from os import getcwd\n",
    "from os.path import exists as file_exists\n",
    "from yaml import safe_load\n",
    "import numpy as np\n",
    "import scipy.stats as st\n",
    "import matplotlib.pyplot as plt\n",
    "%matplotlib inline\n",
    "\n",
    "import incredible as cr\n",
    "import lmc\n",
    "from pygtc import plotGTC"
   ]
  },
  {
   "cell_type": "code",
   "execution_count": null,
   "id": "4142a6e6-6109-4332-b50c-2a88c1304521",
   "metadata": {
    "deletable": false,
    "editable": false,
    "id": "4142a6e6-6109-4332-b50c-2a88c1304521",
    "nbgrader": {
     "cell_type": "code",
     "checksum": "a01a0ecc90a7413a939b555376bbbe26",
     "grade": true,
     "grade_id": "datapath",
     "locked": true,
     "points": 1,
     "schema_version": 3,
     "solution": false,
     "task": false
    },
    "tags": []
   },
   "outputs": [],
   "source": [
    "thisTutorial = 'cl_membership'\n",
    "if getcwd() == '/content':\n",
    "    # assume we are in Colab, and the user's data directory is linked to their drive/Physics267_data\n",
    "    from google.colab import drive\n",
    "    drive.mount('/content/drive')\n",
    "    datapath = '/content/drive/MyDrive/Physics267_data/' + thisTutorial + '/'\n",
    "else:\n",
    "    # assume we are running locally somewhere and have the data under ./data/\n",
    "    datapath = 'data/'"
   ]
  },
  {
   "cell_type": "markdown",
   "id": "statistical-entry",
   "metadata": {
    "id": "statistical-entry"
   },
   "source": [
    "## Background\n",
    "\n",
    "Galaxies that fall into massive accumulations of dark matter and hot gas (these are, inaccurately, known as \"clusters of galaxies\") rapidly have their gas stripped and cease forming stars. Hence, if one has an optical photometric survey, one way of finding galaxy clusters is to look for... clusters of galaxies that have similar colors, corresponding to red/non-star-forming spectra at some common redshift.\n",
    "\n",
    "The thing is, along any line of sight there are loads of galaxies of different spectral types with different redshifts, so color is not a reliable way of saying that a particular galaxy is in a cluster. Optical photometric cluster finders can only identify sight-lines where there is probably a cluster, and estimate what it's redshift would be. They also provide a \"richness\", loosely defined as the number of intrinsically red galaxies brighter than some threshold the cluster is supposed to contain. But, again, we can't really be sure whether any given galaxy is actually a member or not from photometric data alone. RedMaPPer, the main cluster-finder used by the Dark Energy Survey and (soon) Rubin/LSST, addresses this by assigning a membership probability to each galaxy near an identified cluster; the richness is then the sum of these probabilities, such that it should _statistically_ mean something like the number of bright, red galaxies in the cluster.\n",
    "\n",
    "So far so good. But this approach is only good to the extent that the membership probabilities are accurate - or, at least, similarly accurate as a function of cluster mass. This is worth checking, which we could do using redshifts measured for a large number of potential cluster members from spectroscopy. The redshifts (strictly speaking, the implied velocities) for cluster members should be distributed in a tight Gaussian distribution centered on the redshift of the bright central galaxy (BCG). We would expect to see a wider distribution of redshifts from galaxies that are not in the cluster, despite having similar colors to cluster members.\n",
    "\n",
    "(Analogously to the photometric color problem, it's technically possible for a galaxy at a different cosmological redshift to have such a large peculiar velocity that its redshift is consistent with the cluster's, but redshifts can be measured so precisely, and the cluster distribution is so narrow, that this should be rare. The model we'll build below will account for it, in any case.)\n",
    "\n",
    "Our goal, following the paper, will be to measure the fraction of galaxies that redMaPPer assigns to a cluster that are, in fact, not cluster members, as a function of richness. As described more below, we will go a little bit farther by modeling the width of the cluster velocity distribution to be a simple function of richness, which makes physical sense (as both correlate with mass)."
   ]
  },
  {
   "cell_type": "markdown",
   "id": "comic-suicide",
   "metadata": {
    "id": "comic-suicide"
   },
   "source": [
    "## Data\n",
    "\n",
    "The data we'll be working with ultimately come from the Sloan Digital Sky Survey. Myles et al. have compiled redshifts from Sloan spectroscopy for potential members of RedMaPPer clusters with estimated redshifts of 0.08-0.12 (this is relatively low, but the only sample for which archival spectroscopy would be relatively complete). Various fascinating cuts, which you can read the paper to learn about if you want, have been applied, and the data have been grouped into 6 bins according to the reported richness of the cluster each galaxy is supposed to belong to, with bin 0, 1, ..., 5 corresponding to increasing richness ranges (nominally increasing cluster mass).\n",
    "\n",
    "For each bin, we simply have a list of values: $x_i = \\frac{z_i - z_\\mathrm{BCG}}{1 + z_\\mathrm{BCG}}$. This quantity is directly related to the velocity implied by the galaxy's redshift, assuming it does belong to the cluster. We will eschew the conversion to velocity units in the tutorial for simplicity, and because it gives us an excuse to use the word eschew.\n",
    "\n",
    "Below, we read the data for each bin into a corresponding entry of the list `data`. Note that the public solutions use the real data, while, as usual, you have been given mock data produced from a model with potentially different parameters than what we find."
   ]
  },
  {
   "cell_type": "code",
   "execution_count": null,
   "id": "allied-winning",
   "metadata": {
    "id": "allied-winning"
   },
   "outputs": [],
   "source": [
    "data = [np.loadtxt(datapath+'bin'+str(i)+'.txt.gz') for i in range(5)]\n",
    "richness = np.array([9., 24., 33., 42., 61.])"
   ]
  },
  {
   "cell_type": "markdown",
   "id": "allied-swedish",
   "metadata": {
    "id": "allied-swedish"
   },
   "source": [
    "To reiterate, the different entries in `data` refer to _bins in cluster richness_, each containing between a few and a few thousand clusters' worth of galaxies. This is already a bit of a compromise from the data we might like to have, with the galaxies for each cluster kept separate, and each cluster's specific richness known. But, without reproducing a bunch of catalog wrangling, this is what we have. The entries in the `richness` array above correspond to something like the median richness for clusters in a given bin, estimated off of plots in the paper. In effect, we will just treat each bin as if it were a single cluster with the specified richness, for the purpose of measuring the corresponding velocity dispersion and fraction of non-members. This simplification is not ideal, but shouldn't be too bad as long as there are a reasonable number of clusters in each bin. (Those of you who do the outside reading might notice that we have removed the richest bin from the published analysis, on the basis that is contains only 7 clusters over a much wider richness range than the other bins.)\n",
    "\n",
    "Let's have a look at histograms of $x$ for each bin:"
   ]
  },
  {
   "cell_type": "code",
   "execution_count": null,
   "id": "harmful-relevance",
   "metadata": {
    "id": "harmful-relevance"
   },
   "outputs": [],
   "source": [
    "plt.rcParams['figure.figsize'] = (18.0, 8.0)\n",
    "fig, ax = plt.subplots(2, 3);\n",
    "for i in range(len(data)):\n",
    "    ii = np.unravel_index(i, ax.shape)\n",
    "    ax[ii].hist(data[i], bins=100, label='bin '+str(i));\n",
    "    ax[ii].legend();\n",
    "    ax[ii].set_xlim(-0.1, 0.1);\n",
    "    ax[ii].set_xlabel('x');\n",
    "ax[1,2].axis(False);"
   ]
  },
  {
   "cell_type": "markdown",
   "id": "administrative-offering",
   "metadata": {
    "id": "administrative-offering"
   },
   "source": [
    "Already we can clearly see what might be a sharp spike consisting of cluster members, and a wider distribution of non-members. The latter aren't so easy to see, however, so we can instead plot the histograms with a log-scaled y axis:"
   ]
  },
  {
   "cell_type": "code",
   "execution_count": null,
   "id": "rural-dominant",
   "metadata": {
    "id": "rural-dominant"
   },
   "outputs": [],
   "source": [
    "plt.rcParams['figure.figsize'] = (18.0, 8.0)\n",
    "fig, ax = plt.subplots(2, 3);\n",
    "for i in range(len(data)):\n",
    "    ii = np.unravel_index(i, ax.shape)\n",
    "    ax[ii].hist(data[i], bins=100, label='bin '+str(i), log=True);\n",
    "    ax[ii].legend();\n",
    "    ax[ii].set_xlim(-0.1, 0.1);\n",
    "    ax[ii].set_xlabel('x');\n",
    "ax[1,2].axis(False);"
   ]
  },
  {
   "cell_type": "markdown",
   "id": "refined-version",
   "metadata": {
    "id": "refined-version"
   },
   "source": [
    "Recall that the log of a Gaussian is an upside-down parabola - it already looks like a couple of these might describe the data reasonably."
   ]
  },
  {
   "cell_type": "markdown",
   "id": "1c74bebb-6714-40ff-af20-9def2eea2744",
   "metadata": {
    "id": "1c74bebb-6714-40ff-af20-9def2eea2744"
   },
   "source": [
    "## Model\n",
    "\n",
    "So, what model will we fit to these distributions of $x$ values? The distribution for cluster members is thermodynamically expected to be a Gaussian, but it isn't obvious what we should expect for the non-members - it would depend on the cosmic large scale structure as well as the redMaPPer selection of these potential members in the first place. On the other hand, the wider distributions above _look_ approximately Gaussian, and we can always build a model for them out of multiple Gaussians if need be. In other words, this might be a good place to use a Gaussian mixture model, describing the data for a single bin as\n",
    "\n",
    "$p(x) = (1-f_\\mathrm{b})\\cdot\\mathrm{Normal}(x|0,\\sigma_\\mathrm{cl}) + f_\\mathrm{b}\\cdot\\mathrm{Normal}(x|\\mu_\\mathrm{b},\\sigma_\\mathrm{b})$.\n",
    "\n",
    "Here, we've written the simplest mixture we might try, with 1 Gaussian component for cluster members (cl) and just 1 Gaussian component for the background (b). We've also baked in the expectation that the cluster component have a mean of zero (i.e., be centered on the BCG's $x$ value). The parameter $f_\\mathrm{b}$ is defined in the sense of being the a priori probability (i.e. the fraction) if redMaPPer galaxies that are actually in the background component. As mentioned above, this could be generalized to include multiple Gaussians for the background, but it doesn't really seem to be necessary in practice, and our lives will be simpler with a mixture of just 2."
   ]
  },
  {
   "cell_type": "markdown",
   "id": "9aaff5e5-655a-4c45-b50e-c4ca5a0c6ce7",
   "metadata": {
    "id": "9aaff5e5-655a-4c45-b50e-c4ca5a0c6ce7"
   },
   "source": [
    "If we (perhaps unfairly) neglect measurement uncertainty in the redshift measurements, then our sampling distribution for the data in a given bin will resemble the expression above. Each bin is allowed to have a different value of $f_\\mathrm{b}$ and $\\sigma_\\mathrm{cl}$, but we will follow Myles et al. by assuming that a single background distribution applies to all bins. (If you want, you can imagine that we're doing a follow-up study, with the appropriateness of that assumption already being established.) To be explicit, then, we have\n",
    "\n",
    "$p(x_{ij}) = (1-f_{\\mathrm{b},i})\\cdot\\mathrm{Normal}(x|0,\\sigma_{\\mathrm{cl},i}) + f_{\\mathrm{b},i}\\cdot\\mathrm{Normal}(x|\\mu_\\mathrm{b},\\sigma_\\mathrm{b})$,\n",
    "\n",
    "where $i$ indexes bins and $j$ indexes galaxies within each bin."
   ]
  },
  {
   "cell_type": "markdown",
   "id": "2a1724bb-de7e-4052-91c7-5acc22be4054",
   "metadata": {
    "id": "2a1724bb-de7e-4052-91c7-5acc22be4054"
   },
   "source": [
    "To begin with, we will fit the data for a single bin, independent of the others, in order to get key parts of our analysis up and running. After that, we will fit all the bins together, hierarchically modeling the cluster velocity dispersions as a power law,\n",
    "\n",
    "$\\sigma_{\\mathrm{cl},i} = A_\\sigma \\, \\left(\\frac{\\lambda_i}{10}\\right)^{\\alpha_\\sigma}$,\n",
    "\n",
    "where $\\lambda_i$ is the median richness for the $i$th bin. We chose to normalize the power law at richness 10 because it's (a) a round number, and (b) close to the richness of the lowest bin, which has the largest number of clusters (and galaxies) contributing to it. Based on the published analysis, this $\\sigma_{\\mathrm{cl}}$ will be much better constrained than the others, so normalizing the function here should make the degeneracy between $A_\\sigma$ and $\\alpha_\\sigma$ relatively small."
   ]
  },
  {
   "cell_type": "markdown",
   "id": "a62e82e4-d7d1-424c-b8ec-bd828e7c3bec",
   "metadata": {
    "id": "a62e82e4-d7d1-424c-b8ec-bd828e7c3bec"
   },
   "source": [
    "The full list of model parameters is thus, for $i=0,1,\\ldots,4$,\n",
    "* $f_{\\mathrm{b},i}$: the fraction of redMaPPer-selected galaxies that are not actually in the associated cluster, and\n",
    "* $\\sigma_{\\mathrm{cl},i}$: the standard deviation of the cluster Gaussian over $x_i$,\n",
    "\n",
    "as well as global parameters\n",
    "\n",
    "* $A_\\sigma$: normalization of the scaling relation for $\\sigma_{\\mathrm{cl}}$,\n",
    "* $\\alpha_\\sigma$: slope of the scaling relation for $\\sigma_{\\mathrm{cl}}$,\n",
    "* $\\mu_b$: the mean of the background Gaussian over $x$, and\n",
    "* $\\sigma_b$: the standard deviation of the background Gaussian over $x$.\n",
    "\n",
    "As usual, we will collectively decide on priors in class; because we'll use conjugate Gibbs sampling below, some of these will need to be compatible with conjugate distributions. Also as usual, your next task is to draw the PGMs and write out the conditional probability expressions that define the models. Don't forget that there are two cases: a single-bin analysis, and a hierarchical analysis of all the bins."
   ]
  },
  {
   "cell_type": "markdown",
   "id": "f369e029-f0d3-4302-8046-5d284da3c966",
   "metadata": {
    "id": "f369e029-f0d3-4302-8046-5d284da3c966"
   },
   "source": [
    "> Space for your generative model"
   ]
  },
  {
   "cell_type": "markdown",
   "id": "ff490523-197c-4be6-86bd-90b55cf8fac0",
   "metadata": {
    "id": "ff490523-197c-4be6-86bd-90b55cf8fac0"
   },
   "source": [
    "In addition, we will discuss and decide on a strategy for randomly initializing the Markov chains that we run in this notebook (i.e. what distributions to draw each parameter from). This could be as simple as \"from the prior\", unless, of course, the prior distribution is improper."
   ]
  },
  {
   "cell_type": "markdown",
   "id": "d1ccf0f3-fd6b-4bef-b48f-198460bafaf6",
   "metadata": {
    "id": "d1ccf0f3-fd6b-4bef-b48f-198460bafaf6"
   },
   "source": [
    "> Notes on what we decided"
   ]
  },
  {
   "cell_type": "markdown",
   "id": "86992e84-be39-4674-ac11-e7971099808d",
   "metadata": {
    "id": "86992e84-be39-4674-ac11-e7971099808d"
   },
   "source": [
    "### Visualizing the model\n",
    "\n",
    "Before we launch into things, it will be useful to have a way to quickly compare a model with the data. We can directly plot $p(x)$ over the histrograms above, but the tails, where there are 0 or 1 measured values in a histogram bin, are tricky to judge. Therefore, we will look at comparisons of both the model PDF _and_ CDF, the latter comparing to the empirical CDF of the data.\n",
    "\n",
    "Below, fill in functions to evaluate $p(x)$ and its CDF."
   ]
  },
  {
   "cell_type": "code",
   "execution_count": null,
   "id": "1d19e488-6bcc-46ef-a62f-7820c9748cb9",
   "metadata": {
    "deletable": false,
    "id": "1d19e488-6bcc-46ef-a62f-7820c9748cb9",
    "nbgrader": {
     "cell_type": "code",
     "checksum": "98ba5ae97b538d49f3155eefaf422834",
     "grade": false,
     "grade_id": "pdf",
     "locked": false,
     "schema_version": 3,
     "solution": true,
     "task": false
    },
    "tags": []
   },
   "outputs": [],
   "source": [
    "def p_of_x(x, fb, sc, mb, sb):\n",
    "    \"\"\"\n",
    "    Return the sampling distribution PDF, p(x), for a single bin, modeled by the given background fraction (fb), cluster standard\n",
    "    deviation (sc), and background mean and standard deviation (mb, sb).\n",
    "    Should work if `x` is an array.\n",
    "    \"\"\"\n",
    "    # YOUR CODE HERE\n",
    "    raise NotImplementedError()"
   ]
  },
  {
   "cell_type": "code",
   "execution_count": null,
   "id": "e8f4b7ad-c489-4b5b-a1d5-ce35b88b4ae0",
   "metadata": {
    "deletable": false,
    "id": "e8f4b7ad-c489-4b5b-a1d5-ce35b88b4ae0",
    "nbgrader": {
     "cell_type": "code",
     "checksum": "a8fbfc5e670995b0ab89c05ef9fc2c58",
     "grade": false,
     "grade_id": "cdf",
     "locked": false,
     "schema_version": 3,
     "solution": true,
     "task": false
    },
    "tags": []
   },
   "outputs": [],
   "source": [
    "def cdf_of_x(x, fb, sc, mb, sb):\n",
    "    \"\"\"\n",
    "    Return the sampling distribution CDF for a single bin, modeled by the given background fraction (fb), cluster standard\n",
    "    deviation (sc), and background mean and standard deviation (mb, sb).\n",
    "    Should work if `x` is an array.\n",
    "    \"\"\"\n",
    "    # YOUR CODE HERE\n",
    "    raise NotImplementedError()"
   ]
  },
  {
   "cell_type": "markdown",
   "id": "4e7a2f06-e934-40d6-8b0f-9a7a8f99f33f",
   "metadata": {
    "id": "4e7a2f06-e934-40d6-8b0f-9a7a8f99f33f"
   },
   "source": [
    "Here's a function to make the described comparison plots:"
   ]
  },
  {
   "cell_type": "code",
   "execution_count": null,
   "id": "inclusive-milan",
   "metadata": {
    "deletable": false,
    "editable": false,
    "id": "inclusive-milan",
    "nbgrader": {
     "cell_type": "code",
     "checksum": "f99eb76b4a4d1119022b67c4801abbac",
     "grade": true,
     "grade_id": "pdf_cdf_test",
     "locked": true,
     "points": 1,
     "schema_version": 3,
     "solution": false,
     "task": false
    },
    "tags": []
   },
   "outputs": [],
   "source": [
    "def compare(x, *args, **kwargs):\n",
    "    sortx = np.sort(x)\n",
    "    xx = np.linspace(sortx[0], sortx[-1], 1000)\n",
    "    plt.rcParams['figure.figsize'] = (10.0, 3.0)\n",
    "    fig, ax = plt.subplots(1, 2);\n",
    "    ax[0].hist(sortx, bins=100, log=True, density=True, label='data');\n",
    "    ax[0].plot(xx, p_of_x(xx, *args, **kwargs), label='model');\n",
    "    ax[0].set_ylim(1e-1);\n",
    "    ax[0].legend(); ax[0].set_xlabel('x'); ax[0].set_ylabel('p(x)');\n",
    "    ax[1].plot(sortx, np.arange(len(x))/len(x), '.', label='data');\n",
    "    ax[1].plot(xx, cdf_of_x(xx, *args, **kwargs), label='model');\n",
    "    ax[1].legend(); ax[1].set_xlabel('x'); ax[1].set_ylabel('CDF(x)');"
   ]
  },
  {
   "cell_type": "markdown",
   "id": "cc7d96d3-2df6-49ef-aa52-e3e621748b26",
   "metadata": {
    "id": "cc7d96d3-2df6-49ef-aa52-e3e621748b26"
   },
   "source": [
    "Next, iteratively fill in guessed parameter values below until you have something that looks like a broadly reasonable description of the bin 1 data. You could, of course, repeat this for all the bins if you wanted to."
   ]
  },
  {
   "cell_type": "code",
   "execution_count": null,
   "id": "congressional-commitment",
   "metadata": {
    "deletable": false,
    "id": "congressional-commitment",
    "nbgrader": {
     "cell_type": "code",
     "checksum": "4053ec084730485447d6b4fcc6c1ea06",
     "grade": false,
     "grade_id": "guess",
     "locked": false,
     "schema_version": 3,
     "solution": true,
     "task": false
    },
    "tags": []
   },
   "outputs": [],
   "source": [
    "# guess = {'fb':..., 'sc':..., 'mb':..., 'sb':...}\n",
    "# YOUR CODE HERE\n",
    "raise NotImplementedError()"
   ]
  },
  {
   "cell_type": "code",
   "execution_count": null,
   "id": "raising-arrow",
   "metadata": {
    "id": "raising-arrow"
   },
   "outputs": [],
   "source": [
    "compare(data[1], **guess)"
   ]
  },
  {
   "cell_type": "markdown",
   "id": "961ecd8d-036f-4f74-8883-681349a0ee6d",
   "metadata": {
    "id": "961ecd8d-036f-4f74-8883-681349a0ee6d"
   },
   "source": [
    "## Fitting a single bin\n",
    "\n",
    "Before launcing into anything too complex, we will first play with fitting the data from a single bin (specifically, $i=1$). We'll first use a standard MCMC approach, and then use conjugate Gibbs sampling. This is not just to demonstrate again that in certain circumstances conjugate Gibbs can be much more efficient, but because the more complex analysis you'll do later is one where using both sampling methods together is actually a nice option. Getting each of them working separately on a subset of the data will make that final leap more straightforward.\n",
    "\n",
    "Below is the enumeration of parameters that we'll use in this section."
   ]
  },
  {
   "cell_type": "code",
   "execution_count": null,
   "id": "c671b176-419f-4fea-89ea-1ae766ce3ae5",
   "metadata": {
    "id": "c671b176-419f-4fea-89ea-1ae766ce3ae5"
   },
   "outputs": [],
   "source": [
    "paramnames = ['fb1', 'sigma_cl1', 'mu_b', 'sigma_b']\n",
    "param_labels = [r'$f_\\mathrm{b,1}$', r'$\\sigma_\\mathrm{cl,1}$', r'$\\mu_\\mathrm{b}$', r'$\\sigma_\\mathrm{b}$']"
   ]
  },
  {
   "cell_type": "markdown",
   "id": "5159fad0-b699-47f1-b53c-aeafe2b4015a",
   "metadata": {
    "id": "5159fad0-b699-47f1-b53c-aeafe2b4015a"
   },
   "source": [
    "### Brute-force MCMC\n",
    "\n",
    "With the above plan in mind, we will be using the `lmc` package in this part, as it can be relatively easily modified to accomodate mixed Gibbs and non-Gibbs updates later on. `lmc` has the peculiar feature that the log-posterior function we provide it takes a completely arbitrary argument of our choice. It could be a vector of parameter values, or the data, or a structure containing both, or `None`. In this case, let's make that argument the data vector for a single bin; we'll only work with bin 1 in this section, but in principle you could plug in any of them using the same code. This means that we will be getting the current parameter values within the function from global scope, which is simultaneously terrible coding style and entirely functional. We take full responsibility for this, and therefore provide the corresponding part of the function for you below."
   ]
  },
  {
   "cell_type": "code",
   "execution_count": null,
   "id": "f77c62e9-194c-4f81-85d7-46a28d557131",
   "metadata": {
    "deletable": false,
    "id": "f77c62e9-194c-4f81-85d7-46a28d557131",
    "nbgrader": {
     "cell_type": "code",
     "checksum": "f1b67d9086d7259418dbb482e35943d0",
     "grade": false,
     "grade_id": "lnpost",
     "locked": false,
     "schema_version": 3,
     "solution": true,
     "task": false
    },
    "tags": []
   },
   "outputs": [],
   "source": [
    "def lnpost(x):\n",
    "    \"\"\"\n",
    "    `x` is the data vector for a single bin\n",
    "    Return the log-posterior (don't forget the prior!)\n",
    "    \"\"\"\n",
    "    f_b1,sigma_cl1,mu_b,sigma_b = [p() for p in parameter_space] # parameter_space is global, to be defined below\n",
    "    # YOUR CODE HERE\n",
    "    raise NotImplementedError()"
   ]
  },
  {
   "cell_type": "markdown",
   "id": "81871937-43aa-4698-9842-b085db542230",
   "metadata": {
    "id": "81871937-43aa-4698-9842-b085db542230"
   },
   "source": [
    "Here we define the `lmc.Parameter` objects that the fitter will use; note that the \"call\" `()` syntax used above is the approved way of extracting the current value of one of these. The `ParameterSpace` is also an `lmc` thing, although the dictionary below is just for our convenience. (Recall that, since this is Python, exactly the same `Parameter` objects are referenced from both `parameter_space` and `parameter_space`; one does not hold copies of the other.)"
   ]
  },
  {
   "cell_type": "code",
   "execution_count": null,
   "id": "487ddd57-aba7-46ae-976c-15abcd107b3c",
   "metadata": {
    "id": "487ddd57-aba7-46ae-976c-15abcd107b3c"
   },
   "outputs": [],
   "source": [
    "parameter_space = lmc.ParameterSpace([lmc.Parameter(name=s) for s in paramnames], lnpost)\n",
    "parameter_dict = {k:p for k,p in zip(paramnames, parameter_space)}"
   ]
  },
  {
   "cell_type": "markdown",
   "id": "38eb6828-9ff8-456a-929a-5f2c634c9b28",
   "metadata": {
    "id": "38eb6828-9ff8-456a-929a-5f2c634c9b28"
   },
   "source": [
    "This will set the value of each `Parameter` to your guess from above, and test that the `lnpost` function returns a finite number:"
   ]
  },
  {
   "cell_type": "code",
   "execution_count": null,
   "id": "b4f19f49-5a3a-42f4-8f56-fd588656d5da",
   "metadata": {
    "deletable": false,
    "editable": false,
    "id": "b4f19f49-5a3a-42f4-8f56-fd588656d5da",
    "nbgrader": {
     "cell_type": "code",
     "checksum": "9d8013463cf1e701025ebed84216f150",
     "grade": true,
     "grade_id": "lnpost_test",
     "locked": true,
     "points": 1,
     "schema_version": 3,
     "solution": false,
     "task": false
    },
    "tags": []
   },
   "outputs": [],
   "source": [
    "for k1,k2 in zip(['fb', 'sc', 'mb', 'sb'], paramnames):\n",
    "    parameter_dict[k2].set(guess[k1])\n",
    "print(lnpost(data[1]))\n",
    "assert np.isfinite(lnpost(data[1]))"
   ]
  },
  {
   "cell_type": "markdown",
   "id": "4eeff460-f460-4817-88be-99c2a409f2b7",
   "metadata": {
    "id": "4eeff460-f460-4817-88be-99c2a409f2b7"
   },
   "source": [
    "The last thing that would be nice to have is a function that randomly initializes the starting point of our MCMC, following the decision we made in class together. The prototype below shows how to do this in practice. You will also need to set a `width` atttribute for each `Parameter`, which serves as an initial guess for the scale of the proposal distribution (this is adapted as the chain runs, but it's good to start with something reasonable). Your function should never return parameters that have zero prior probability."
   ]
  },
  {
   "cell_type": "code",
   "execution_count": null,
   "id": "2819425e-6816-41f2-b1d9-a48a026e072d",
   "metadata": {
    "deletable": false,
    "id": "2819425e-6816-41f2-b1d9-a48a026e072d",
    "nbgrader": {
     "cell_type": "code",
     "checksum": "e759fa851cdd01d738d9199e9926b389",
     "grade": false,
     "grade_id": "init_params",
     "locked": false,
     "schema_version": 3,
     "solution": true,
     "task": false
    },
    "tags": []
   },
   "outputs": [],
   "source": [
    "# def initialize_params():\n",
    "#     parameter_dict['fb1'].set(...)\n",
    "#     parameter_dict['sigma_cl1'].set(...)\n",
    "#     parameter_dict['mu_b'].set(...)\n",
    "#     parameter_dict['sigma_b'].set(...)\n",
    "#     parameter_dict['fb1'].width = ...\n",
    "#     parameter_dict['sigma_cl1'].width = ...\n",
    "#     parameter_dict['mu_b'].width = ...\n",
    "#     parameter_dict['sigma_b'].width = ...\n",
    "# YOUR CODE HERE\n",
    "raise NotImplementedError()"
   ]
  },
  {
   "cell_type": "markdown",
   "id": "a4abbc4a-42a2-4fc1-a712-94348baca0d9",
   "metadata": {
    "id": "a4abbc4a-42a2-4fc1-a712-94348baca0d9"
   },
   "source": [
    "Let's just verify that this function works:"
   ]
  },
  {
   "cell_type": "code",
   "execution_count": null,
   "id": "98ae0bcd-8b8b-41de-9663-10eb6500fffa",
   "metadata": {
    "deletable": false,
    "editable": false,
    "id": "98ae0bcd-8b8b-41de-9663-10eb6500fffa",
    "nbgrader": {
     "cell_type": "code",
     "checksum": "54d14ce4798e4544a972ff01007b150f",
     "grade": true,
     "grade_id": "init_test",
     "locked": true,
     "points": 1,
     "schema_version": 3,
     "solution": false,
     "task": false
    },
    "tags": []
   },
   "outputs": [],
   "source": [
    "initialize_params()\n",
    "print([p() for p in parameter_space])\n",
    "assert np.isfinite( lnpost(data[1]) )"
   ]
  },
  {
   "cell_type": "markdown",
   "id": "6b8f9a13-39d4-4506-8777-04be3cb3b67a",
   "metadata": {
    "id": "6b8f9a13-39d4-4506-8777-04be3cb3b67a"
   },
   "source": [
    "**Hint:** If the assertion fails, do make sure you're taking a sum of logs rather than a log of a product.\n",
    "\n",
    "While it doesn't turn out to be an issue in this case, the hint above gets to a weakness of brute-force posterior calculations when using mixture models. Namely, because part of the posterior involves a sum of PDFs, we do actually have to evaluate those PDFs, rather than exclusively working with log-PDFs. This opens a door to numerical over/underflows that we might not need to worry about otherwise."
   ]
  },
  {
   "cell_type": "markdown",
   "id": "59f4aa55-9faf-4353-b886-59f5fd8ce472",
   "metadata": {
    "id": "59f4aa55-9faf-4353-b886-59f5fd8ce472"
   },
   "source": [
    "Ok, finally we are ready to run chains. We'll just run several in series, since `lmc`'s parallelization is not really compatible with being in a notebook. We strongly recommend that you test this out first with a single, short chain, before re-running with settings more like those given below. As always, there will be diagnostic tests to pass afterward.\n",
    "\n",
    "If you're wondering, the `lmc` defaults here employ adaptive slice sampling, so you shouldn't see the perfect repetition of samples that Metropolis produces, but each one takes slightly longer to produce."
   ]
  },
  {
   "cell_type": "code",
   "execution_count": null,
   "id": "1e18678f-0a67-4f6e-9d12-0087b02e94ce",
   "metadata": {
    "id": "1e18678f-0a67-4f6e-9d12-0087b02e94ce"
   },
   "outputs": [],
   "source": [
    "%%time\n",
    "nchains = 4\n",
    "nsamples = 3000\n",
    "chains = [lmc.dictBackend() for i in range(nchains)]\n",
    "for chain in chains:\n",
    "    initialize_params()\n",
    "    vehicle = lmc.Vehicle(parameter_space, backend=chain, adapt_every=100, adapt_starting=200)\n",
    "    vehicle(1, nsamples, struct=data[1], scatter=False)"
   ]
  },
  {
   "cell_type": "markdown",
   "id": "c2de3901-aabc-4afa-b06a-6eda4850423d",
   "metadata": {
    "id": "c2de3901-aabc-4afa-b06a-6eda4850423d"
   },
   "source": [
    "Next we just reformat the results so that incredible can digest them. Since `lmc` automatically kept track of the log-posterior for us (`_LOGP_`), we may as well show it along with the other traces."
   ]
  },
  {
   "cell_type": "code",
   "execution_count": null,
   "id": "456b8e2d-b698-42e7-b03e-286bb0b1f475",
   "metadata": {
    "id": "456b8e2d-b698-42e7-b03e-286bb0b1f475"
   },
   "outputs": [],
   "source": [
    "chains = np.array([np.array([chain[p] for p in paramnames+['_LOGP_']]).T for chain in chains])"
   ]
  },
  {
   "cell_type": "code",
   "execution_count": null,
   "id": "8ae6b33a-f68b-48a6-9c79-a5a64ce6b9af",
   "metadata": {
    "id": "8ae6b33a-f68b-48a6-9c79-a5a64ce6b9af"
   },
   "outputs": [],
   "source": [
    "fig, ax = plt.subplots(len(paramnames)+1, 1, figsize=(16.0, 2.0*len(paramnames)+2));\n",
    "cr.plot_traces(chains, ax, labels=param_labels+['_LOGP_']);"
   ]
  },
  {
   "cell_type": "markdown",
   "id": "12d14972-f2f6-45ca-ae37-e511f742ce58",
   "metadata": {
    "id": "12d14972-f2f6-45ca-ae37-e511f742ce58"
   },
   "source": [
    "Choose a burn-in length that seems about right. This can be iterated with the following cell, which re-displays the traces without the burn-in."
   ]
  },
  {
   "cell_type": "code",
   "execution_count": null,
   "id": "3b6fb94a-0941-4f14-9d67-76a0a81ce9c2",
   "metadata": {
    "deletable": false,
    "id": "3b6fb94a-0941-4f14-9d67-76a0a81ce9c2",
    "nbgrader": {
     "cell_type": "code",
     "checksum": "8c06b5e01bb1e28c0547acbc1eeafcb7",
     "grade": false,
     "grade_id": "burn",
     "locked": false,
     "schema_version": 3,
     "solution": true,
     "task": false
    },
    "tags": []
   },
   "outputs": [],
   "source": [
    "# burn =\n",
    "# YOUR CODE HERE\n",
    "raise NotImplementedError()"
   ]
  },
  {
   "cell_type": "code",
   "execution_count": null,
   "id": "07378636-eea0-4566-92f6-0400a4d8563e",
   "metadata": {
    "id": "07378636-eea0-4566-92f6-0400a4d8563e"
   },
   "outputs": [],
   "source": [
    "fig, ax = plt.subplots(len(paramnames)+1, 1, figsize=(16.0, 2.0*len(paramnames)+2));\n",
    "cr.plot_traces(chains[:,burn:,:], ax, labels=param_labels+['_LOGP_']);"
   ]
  },
  {
   "cell_type": "markdown",
   "id": "7d642e4a-35aa-438a-b762-d24b6966f46b",
   "metadata": {
    "id": "7d642e4a-35aa-438a-b762-d24b6966f46b"
   },
   "source": [
    "Next we will throw away the burn-in portion defined above (for good!) and test for convergence and length."
   ]
  },
  {
   "cell_type": "code",
   "execution_count": null,
   "id": "3d738e5e-330d-431f-ab83-e9c6eff2773a",
   "metadata": {
    "id": "3d738e5e-330d-431f-ab83-e9c6eff2773a"
   },
   "outputs": [],
   "source": [
    "chains = chains[:,burn:,:len(paramnames)] # ditch the _LOGP_ column, too"
   ]
  },
  {
   "cell_type": "code",
   "execution_count": null,
   "id": "b44b6113-119e-4b7a-a0f3-d1486f08ea8a",
   "metadata": {
    "deletable": false,
    "editable": false,
    "id": "b44b6113-119e-4b7a-a0f3-d1486f08ea8a",
    "nbgrader": {
     "cell_type": "code",
     "checksum": "76b604c97a71e0edcc63a42ff3b58d80",
     "grade": true,
     "grade_id": "Rtest",
     "locked": true,
     "points": 1,
     "schema_version": 3,
     "solution": false,
     "task": false
    },
    "tags": []
   },
   "outputs": [],
   "source": [
    "R = cr.GelmanRubinR(chains)\n",
    "print(\"R:\", R)\n",
    "assert np.all(R < 1.1)"
   ]
  },
  {
   "cell_type": "code",
   "execution_count": null,
   "id": "1cca7677-5319-490b-b359-6a4015f5d07e",
   "metadata": {
    "id": "1cca7677-5319-490b-b359-6a4015f5d07e"
   },
   "outputs": [],
   "source": [
    "maxlag = 500 # may need to adjust this"
   ]
  },
  {
   "cell_type": "code",
   "execution_count": null,
   "id": "6cbdd79e-aa1a-4141-84d5-f534c132462e",
   "metadata": {
    "id": "6cbdd79e-aa1a-4141-84d5-f534c132462e"
   },
   "outputs": [],
   "source": [
    "neff = cr.effective_samples(chains, maxlag=maxlag, throw=True)\n",
    "print(\"neff:\", neff)\n",
    "assert np.all(neff >= 100) # we'll get better chains from Gibbs, so these don't have to be great"
   ]
  },
  {
   "cell_type": "markdown",
   "id": "315f3318-5add-496e-96d7-53e540bf10ee",
   "metadata": {
    "id": "315f3318-5add-496e-96d7-53e540bf10ee"
   },
   "source": [
    "For completeness, let us gaze upon a triangle."
   ]
  },
  {
   "cell_type": "code",
   "execution_count": null,
   "id": "52b7fe00-3f99-4a75-81e2-162e2a54ac8f",
   "metadata": {
    "id": "52b7fe00-3f99-4a75-81e2-162e2a54ac8f"
   },
   "outputs": [],
   "source": [
    "plotGTC(np.concatenate(chains), paramNames=param_labels,\n",
    "        figureSize=6, customLabelFont={'size':12}, customTickFont={'size':12}, customLegendFont={'size':16});"
   ]
  },
  {
   "cell_type": "markdown",
   "id": "4f02a2e9-76bd-4b34-b6b7-2b9f6fa893e1",
   "metadata": {
    "id": "4f02a2e9-76bd-4b34-b6b7-2b9f6fa893e1"
   },
   "source": [
    "### Conjugate Gibbs\n",
    "\n",
    "Hopefully it won't come as a shock to learn that a model composed entirely of Gaussians (or any standard distribution, really) lends itself to conjugacy. In fact, you will be able to re-use functions from the MCMC Sampling tutorial to determine the conditional posterior distributions for the mean and variance of a Gaussian component, and the generalization from 1 Gaussian to a Gaussian mixture is not too much more involved.\n",
    "\n",
    "On the other hand, exactly how one comes up with a conjugacy relation for a sum of Gaussians may not be obvious. The trick is... we don't need to! Instead, we can get around the question entirely by introducing a set of latent parameters, $g$, where $g_{ij}$ tells us whether galaxy $ij$ belongs to the cluster distribution for bin $i$ ($g_{ij}=0$) or the background distribution ($g_{ij}=1$). You could think of this as re-writing our model PDF as\n",
    "\n",
    "$p(x_{ij}) = (1-g_{ij})\\cdot\\mathrm{Normal}(x_{ij}|0,\\sigma_{\\mathrm{cl},i}) + g_{ij}\\cdot\\mathrm{Normal}(x_{ij}|\\mu_\\mathrm{b},\\sigma_\\mathrm{b})$.\n",
    "\n",
    "The $g_{ij}$ parameters appear in exactly the same way as $f_{\\mathrm{b},i}$ did, but since $g_{ij}$ is either 0 or 1 for a given galaxy $j$,\n",
    "$p(x_{ij}|g_{ij})$ is always just a single Gaussian. Of course, $f_{\\mathrm{b},i}$ is still part of the model, and will play a role in determining the $g_{ij}$ - after all, $f_{\\mathrm{b},i}$ is exactly the a priori probability that any $g_{ij}=1$.\n",
    "\n",
    "We'll fill in the details in a moment. But first, it will be very helpful to modify your PGM and expressions to explicitly show the latent $g_{ij}$ parameters. If you're confused about how to connect them to everything else, remember... think generatively! (And then re-read the final clause of the previous paragraph.)"
   ]
  },
  {
   "cell_type": "markdown",
   "id": "7168c019-60f0-43fc-9705-666aa07d0878",
   "metadata": {
    "id": "7168c019-60f0-43fc-9705-666aa07d0878"
   },
   "source": [
    "> Space for yet another PGM"
   ]
  },
  {
   "cell_type": "markdown",
   "id": "acadd819-07df-4fc2-bf7e-36d4c8ee3759",
   "metadata": {
    "id": "acadd819-07df-4fc2-bf7e-36d4c8ee3759"
   },
   "source": [
    "#### Conjugate updates\n",
    "\n",
    "Recall that, in conjugate Gibbs sampling, we update one parameter (or bunch of related parameters) at a time, with all the others fixed. The advantage of introducing the group membership parameters is that, at any given moment in our sampling, each galaxy's $x$ is drawn from exactly one Gaussian. Conversely, if we want to update the parameters of a Gaussian, we can use the update rules you worked out in the MCMC Sampling tutorial, as long as only the data for galaxies with the corresponding $g$ value are included in the calculation. Note that we will need to specify hyperparameters of the conjugate prior distributions that give us equivalent priors to what we decided above.\n",
    "\n",
    "First, let's just paste in the functions you wrote for the MCMC Sampling tutorial that compute the parameters of the conditional posterior distributions for a Gaussian mean and variance. **Please note** one change of notation: we previously called the Gaussian mean `z_cl`, since it made sense in the context of the earlier notebook. Here, let's just call it `mu`, to be general. Also be careful to keep standard deviations vs variances straight."
   ]
  },
  {
   "cell_type": "code",
   "execution_count": null,
   "id": "70dedda4-6ecb-49c9-a9b5-2b2a224fb689",
   "metadata": {
    "deletable": false,
    "id": "70dedda4-6ecb-49c9-a9b5-2b2a224fb689",
    "nbgrader": {
     "cell_type": "code",
     "checksum": "b35a80a648f89ca9c8c0b81f7303b669",
     "grade": false,
     "grade_id": "mean_update",
     "locked": false,
     "schema_version": 3,
     "solution": true,
     "task": false
    },
    "tags": []
   },
   "outputs": [],
   "source": [
    "# paste your functions from the \"clredshift\" notebook, but note the z_cl -> mu change of notation\n",
    "\n",
    "def condpost_Gaussian_mean(data, par, hypar):\n",
    "    \"\"\"\n",
    "    `data` is a 1D array of all the data the Gaussian is supposed to describe\n",
    "    `par` is a dictionary {'mu', 'sigma2'} of the Gaussian's current parameters (sigma2 is the variance)\n",
    "    `hypar` is a dictionary {'mu0', 'tau0', 'alpha0', 'beta0'} of the hyperparameters (Gaussian mean and *STANDARD DEVIATION* for mu,\n",
    "            inverse-gamma shape and rate for sigma2)\n",
    "    return a tuple (mean, stdev) encoding the normal distribution from which the new mean (mu) should be drawn\n",
    "    \"\"\"\n",
    "    # YOUR CODE HERE\n",
    "    raise NotImplementedError()"
   ]
  },
  {
   "cell_type": "code",
   "execution_count": null,
   "id": "cbbde86b-b19a-475d-8eeb-2ddfa86ba06b",
   "metadata": {
    "deletable": false,
    "id": "cbbde86b-b19a-475d-8eeb-2ddfa86ba06b",
    "nbgrader": {
     "cell_type": "code",
     "checksum": "eddedb14172c13985ddcc078cc1bf46e",
     "grade": false,
     "grade_id": "variance_update",
     "locked": false,
     "schema_version": 3,
     "solution": true,
     "task": false
    },
    "tags": []
   },
   "outputs": [],
   "source": [
    "def condpost_Gaussian_variance(data, par, hypar):\n",
    "    \"\"\"\n",
    "    `data` is a 1D array of all the data the Gaussian is supposed to describe\n",
    "    `par` is a dictionary {'mu', 'sigma2'} of the Gaussian's current parameters (sigma2 is the variance)\n",
    "    `hypar` is a dictionary {'mu0', 'tau0', 'alpha0', 'beta0'} of the hyperparameters (Gaussian mean and *STANDARD DEVIATION* for mu,\n",
    "            inverse-gamma shape and rate for sigma2)\n",
    "    return a tuple (alpha, beta) encoding the inverse-gamma distribution from which the new variance (sigma2) should be drawn\n",
    "    \"\"\"\n",
    "    # YOUR CODE HERE\n",
    "    raise NotImplementedError()"
   ]
  },
  {
   "cell_type": "markdown",
   "id": "2fdf3cd7-5de8-4b32-bdd1-5b616bd1e2c1",
   "metadata": {
    "id": "2fdf3cd7-5de8-4b32-bdd1-5b616bd1e2c1"
   },
   "source": [
    "Even though these are cut/pasted, let's test them against known solutions just to be sure:"
   ]
  },
  {
   "cell_type": "code",
   "execution_count": null,
   "id": "599359aa-c339-45da-b3d0-3c89e27bf068",
   "metadata": {
    "deletable": false,
    "editable": false,
    "id": "599359aa-c339-45da-b3d0-3c89e27bf068",
    "nbgrader": {
     "cell_type": "code",
     "checksum": "b3408829c5b615df58da29cc4e12a842",
     "grade": true,
     "grade_id": "test_gauss_updates",
     "locked": true,
     "points": 1,
     "schema_version": 3,
     "solution": false,
     "task": false
    },
    "tags": []
   },
   "outputs": [],
   "source": [
    "condpost_test = safe_load(open(datapath+'test_condpost.yaml', 'r').read())\n",
    "assert np.allclose(condpost_Gaussian_mean(np.array(condpost_test['data']), condpost_test['testpar'], condpost_test['testhypar']), condpost_test['mu'])\n",
    "assert np.allclose(condpost_Gaussian_variance(np.array(condpost_test['data']), condpost_test['testpar'], condpost_test['testhypar']), condpost_test['sigma2'])"
   ]
  },
  {
   "cell_type": "markdown",
   "id": "51d9be37-c736-4bdd-8eb9-be98f573f334",
   "metadata": {
    "id": "51d9be37-c736-4bdd-8eb9-be98f573f334"
   },
   "source": [
    "Of course, we will also need rules for updating all of the $g_{ij}$ and $f_{\\mathrm{b},i}$ parameters."
   ]
  },
  {
   "cell_type": "markdown",
   "id": "fd41038f-97e6-48ff-b035-a13ffaffad3e",
   "metadata": {
    "id": "fd41038f-97e6-48ff-b035-a13ffaffad3e"
   },
   "source": [
    "##### Updating $g$\n",
    "\n",
    "To see how to update each of the $g_{ij}$, write down the terms in the posterior where it appears based on your PGM and equivalent expressions. (Remember, it's the _fully conditional posterior_ that we need to work with. All other parameters are fixed, and so anything term not involving $g_{ij}$ can be ignored, as long as we remember to normalize at the end.) Hopefully without giving away too much, you should be left with something like\n",
    "\n",
    "$p(g_{ij}|\\ldots) \\propto p(g_{ij}|f_{\\mathrm{b},i}) \\, p(x_{ij}|g_{ij},\\ldots)$.\n",
    "\n",
    "Since $g_{ij}$ can only take the values 0 and 1, we simply need to evaluate the conditional posterior at both values, normalize them, and then randomly choose a new $g_{ij}$ based on those 2 probabilities.\n",
    "\n",
    "Consistent with the functions above, complete the following function to return the conditional posterior hyperparameters (that is, the probability of being in the background, $p(g_{ij}|\\ldots)$) for each galaxy in a particular bin."
   ]
  },
  {
   "cell_type": "code",
   "execution_count": null,
   "id": "7d73485b-8d93-44e2-a455-93b611289c5b",
   "metadata": {
    "deletable": false,
    "id": "7d73485b-8d93-44e2-a455-93b611289c5b",
    "nbgrader": {
     "cell_type": "code",
     "checksum": "c3d551d60a234d835ad88972c77fa76c",
     "grade": false,
     "grade_id": "g_update",
     "locked": false,
     "schema_version": 3,
     "solution": true,
     "task": false
    },
    "tags": []
   },
   "outputs": [],
   "source": [
    "def condpost_group_membership(x, f1, par0, par1):\n",
    "    \"\"\"\n",
    "    `x` is a 1D array of all the data to be assigned to groups 0 or 1\n",
    "    `f1` is the a priori probability of belonging to group 1\n",
    "    `par0` is a dictionary {'mu', 'sigma2'} of parameters describing the group 0 Gaussian PDF\n",
    "    `par1` is a dictionary {'mu', 'sigma2'} of parameters describing the group 1 Gaussian PDF\n",
    "    return an array (same shape as data) holding the conditional posterior probability for each datum to belong to group 1\n",
    "    \"\"\"\n",
    "    # YOUR CODE HERE\n",
    "    raise NotImplementedError()"
   ]
  },
  {
   "cell_type": "markdown",
   "id": "11dc742b-5a41-4bff-9fba-665289770211",
   "metadata": {
    "id": "11dc742b-5a41-4bff-9fba-665289770211"
   },
   "source": [
    "Here is a quick test that it's working:"
   ]
  },
  {
   "cell_type": "code",
   "execution_count": null,
   "id": "aaf55a2d-f4f3-4e1d-8664-54c0431ea9bb",
   "metadata": {
    "deletable": false,
    "editable": false,
    "id": "aaf55a2d-f4f3-4e1d-8664-54c0431ea9bb",
    "nbgrader": {
     "cell_type": "code",
     "checksum": "4bac434b9283f0b58e734b259a6131d9",
     "grade": true,
     "grade_id": "g_update_test",
     "locked": true,
     "points": 1,
     "schema_version": 3,
     "solution": false,
     "task": false
    },
    "tags": []
   },
   "outputs": [],
   "source": [
    "assert np.allclose(condpost_group_membership(np.array(condpost_test['data']), condpost_test['testpar']['f'], condpost_test['testpar'], condpost_test['testpar2']), condpost_test['g'])"
   ]
  },
  {
   "cell_type": "markdown",
   "id": "b1e6acc1-2bce-4e2d-ac36-a00f5ef62c69",
   "metadata": {
    "id": "b1e6acc1-2bce-4e2d-ac36-a00f5ef62c69"
   },
   "source": [
    "##### Updating $f$\n",
    "\n",
    "Following the same approach as above, the conditional posterior for $f_{\\mathrm{b},i}$ looks something like\n",
    "\n",
    "$p(f_{\\mathrm{b},i}|\\ldots) \\propto p(f_{\\mathrm{b},i}) \\, \\prod_j p(g_{ij}|f_{\\mathrm{b},i}) = p(f_{\\mathrm{b},i}) \\, f_{\\mathrm{b},i}^{n_{i,0}} (1-f_{\\mathrm{b},i})^{n_{i,1}}$,\n",
    "\n",
    "where $n_{i,k}$ is the number of $g_{ij}$ equal to $k$. These last 2 factors you might recognize as being proportional to the binomial distribution, $p(n|q;N)={N \\choose n} q^n (1-q)^{N-n}$. You've already solved this particular conjugacy problem in the Bayes' Law tutorial, but consult [the Wikipedia](https://en.wikipedia.org/wiki/Conjugate_prior) or work it our again if in doubt (spoiler: the conjugate distribution is Beta)."
   ]
  },
  {
   "cell_type": "markdown",
   "id": "f6e1f679-3671-4d8a-bf7d-1635191380e1",
   "metadata": {
    "id": "f6e1f679-3671-4d8a-bf7d-1635191380e1"
   },
   "source": [
    "> Space to note down the Binomial-Beta conjugate update rule"
   ]
  },
  {
   "cell_type": "markdown",
   "id": "b60aac3d-8d7d-434b-9349-a6428654b6ae",
   "metadata": {
    "id": "b60aac3d-8d7d-434b-9349-a6428654b6ae"
   },
   "source": [
    "Implement the corresponding calculation of the conditional posterior parameters ($\\alpha$ and $\\beta$ of the Beta distribution) for one of the $f_{\\mathrm{b},i}$."
   ]
  },
  {
   "cell_type": "code",
   "execution_count": null,
   "id": "2ce5cb69-f3d5-4234-97e4-bc7b86228b1c",
   "metadata": {
    "deletable": false,
    "id": "2ce5cb69-f3d5-4234-97e4-bc7b86228b1c",
    "nbgrader": {
     "cell_type": "code",
     "checksum": "8843612f4ea1c4915411cbabdf2fb5a4",
     "grade": false,
     "grade_id": "f_update",
     "locked": false,
     "schema_version": 3,
     "solution": true,
     "task": false
    },
    "tags": []
   },
   "outputs": [],
   "source": [
    "def condpost_fraction(groups, hypar):\n",
    "    \"\"\"\n",
    "    `groups` is a 1D array of group assignments for all data (0 or 1) that this fraction applies to\n",
    "    `hypar` is a dictionary {'alpha', 'beta'} of the Beta distribution hyperparameters\n",
    "    return a tuple (alpha, beta) encoding the Beta distribution from which the new fraction for group 1 should be drawn\n",
    "    \"\"\"\n",
    "    # YOUR CODE HERE\n",
    "    raise NotImplementedError()"
   ]
  },
  {
   "cell_type": "markdown",
   "id": "fdcd3624-eac8-4324-b9f4-346c7162513e",
   "metadata": {
    "id": "fdcd3624-eac8-4324-b9f4-346c7162513e"
   },
   "source": [
    "And a test:"
   ]
  },
  {
   "cell_type": "code",
   "execution_count": null,
   "id": "b2080c5f-54bc-4473-ad94-da00ee080cdb",
   "metadata": {
    "deletable": false,
    "editable": false,
    "id": "b2080c5f-54bc-4473-ad94-da00ee080cdb",
    "nbgrader": {
     "cell_type": "code",
     "checksum": "3b9329239e580967cb7a1e2fe92ac762",
     "grade": true,
     "grade_id": "f_update_test",
     "locked": true,
     "points": 1,
     "schema_version": 3,
     "solution": false,
     "task": false
    },
    "tags": []
   },
   "outputs": [],
   "source": [
    "assert np.allclose(condpost_fraction(np.array(condpost_test['testpar']['g']), condpost_test['testhypar']), condpost_test['f'])"
   ]
  },
  {
   "cell_type": "markdown",
   "id": "205bd2c4-81ce-4dc4-b5dd-6d4e1b5d608d",
   "metadata": {
    "id": "205bd2c4-81ce-4dc4-b5dd-6d4e1b5d608d"
   },
   "source": [
    "#### Implementation\n",
    "\n",
    "Now that the individual conditional posterior calculations are done, let's put together the infrastructure to update the model parameters. We'll follow the convention that we mostly have in this course and organize the parameters into a dictionary. However, in the context of a mixture model, it makes sense to complicate things slightly by including \"sub-dictionaries\" for the mixture components. We think the end result is not _too_ confusing. Consider the following, which encodes the parameters you guessed for the fit to bin 1 in the previous section:"
   ]
  },
  {
   "cell_type": "code",
   "execution_count": null,
   "id": "e775ae68-a9cd-4b3e-98e4-ba778228b7da",
   "metadata": {
    "id": "e775ae68-a9cd-4b3e-98e4-ba778228b7da",
    "tags": []
   },
   "outputs": [],
   "source": [
    "guess2 = {'fb1':guess['fb'], 'gauss1':{'mu':0.0, 'sigma2':guess['sc']**2}, 'gaussb':{'mu':guess['mb'], 'sigma2':guess['sb']**2}}"
   ]
  },
  {
   "cell_type": "markdown",
   "id": "55f0276b-d1d8-446c-977a-2b007a14e234",
   "metadata": {
    "id": "55f0276b-d1d8-446c-977a-2b007a14e234"
   },
   "source": [
    "Note that the parameters for the cluster-member Gaussian (which we assume has a mean of zero) and the background galaxy Gaussian are stored in `guess2['gauss1']` and `guess2['gaussb']`, respectively, each holding its own `mu` and `sigma2`.\n",
    "\n",
    "What about the latent $g$ parameters that we introduced in this section? Those will need to appear in the parameter dictionary also, but we don't actually need to guess values for them (or come up with starting values for an MCMC) if we decide that $g$ will be the first set of parameters that get updated in the first iteration of the fit. This is because its fully conditional posterior doesn't depend on the current value of $g$, just on the other parameters. (We could choose any of the parameters to be exempt from choosing a starting value in this way, but $g$ is easily the most convenient in this case because there are so many of them.)\n",
    "\n",
    "It is, however, fun to see what mixture assignments follow from our guessed values of the other parameters. So, let's go ahead and draw $g$ from its conditional posterior"
   ]
  },
  {
   "cell_type": "code",
   "execution_count": null,
   "id": "e39e8f7c-61eb-4b22-a227-688f93b98ebf",
   "metadata": {
    "id": "e39e8f7c-61eb-4b22-a227-688f93b98ebf"
   },
   "outputs": [],
   "source": [
    "guess2['g'] = st.bernoulli.rvs( condpost_group_membership(data[1], guess2['fb1'], guess2['gauss1'], guess2['gaussb']) )"
   ]
  },
  {
   "cell_type": "markdown",
   "id": "ec68c921-bf23-4d3d-8be2-e7b765750956",
   "metadata": {
    "id": "ec68c921-bf23-4d3d-8be2-e7b765750956"
   },
   "source": [
    "and have a look at the histograms of $x$ for the galaxies belonging to the 2 mixture components:"
   ]
  },
  {
   "cell_type": "code",
   "execution_count": null,
   "id": "b6033113-43ba-4a43-bf25-99ee1ea8038b",
   "metadata": {
    "id": "b6033113-43ba-4a43-bf25-99ee1ea8038b"
   },
   "outputs": [],
   "source": [
    "plt.rcParams['figure.figsize'] = (6., 4.)\n",
    "plt.hist(data[1][guess2['g']==1], label='background', color='C1');\n",
    "plt.hist(data[1][guess2['g']==0], label='clusters', color='C0');\n",
    "plt.legend();\n",
    "print('Fraction of g in background component:', (guess2['g']==1).sum()/len(guess2['g']))"
   ]
  },
  {
   "cell_type": "markdown",
   "id": "0a77f76c-c963-4523-b20a-675851bc20a1",
   "metadata": {
    "id": "0a77f76c-c963-4523-b20a-675851bc20a1"
   },
   "source": [
    "If your guess is at all reasonable, and the meaning of the various parameters hasn't gotten confused along the way, you should see a narrow spike of cluster galaxies and a much broader distribution of background galaxies. The fraction of galaxies with $g_{1j}=1$ printed above should also be similar to your guess for $f_{\\mathrm{b,1}}$, although they need not be identical.\n",
    "\n",
    "Finally, it's time to encode the priors we agreed on with specific hyperparameter values. Fill in the dictionary below, referring back to the conditional posterior functions if you've forgotten the meaning of any entries:"
   ]
  },
  {
   "cell_type": "code",
   "execution_count": null,
   "id": "398822ee-5f6b-42a3-be9f-dd0553e79e7e",
   "metadata": {
    "deletable": false,
    "id": "398822ee-5f6b-42a3-be9f-dd0553e79e7e",
    "nbgrader": {
     "cell_type": "code",
     "checksum": "d06fb311b5af4f0783bbf35db0df6ed1",
     "grade": false,
     "grade_id": "hypar",
     "locked": false,
     "schema_version": 3,
     "solution": true,
     "task": false
    },
    "tags": []
   },
   "outputs": [],
   "source": [
    "# hyperparams = {'fb1':{'alpha':..., 'beta':...},\n",
    "#                'gauss1':{'mu0':..., 'tau0':..., 'alpha0':..., 'beta0':...},\n",
    "#                'gaussb':{'mu0':..., 'tau0':..., 'alpha0':..., 'beta0':...}}\n",
    "# YOUR CODE HERE\n",
    "raise NotImplementedError()"
   ]
  },
  {
   "cell_type": "markdown",
   "id": "fe37a1d0-e6aa-4d11-b53c-3e16475c81a7",
   "metadata": {
    "id": "fe37a1d0-e6aa-4d11-b53c-3e16475c81a7"
   },
   "source": [
    "Ok! With that, we can write a function that updates a parameter dictionary in place, as we did in the MCMC Sampling notebook. This is given below, but make sure you understand what is happening and why."
   ]
  },
  {
   "cell_type": "code",
   "execution_count": null,
   "id": "2fd15b6d-bac3-42c5-811e-94296b49f567",
   "metadata": {
    "deletable": false,
    "editable": false,
    "id": "2fd15b6d-bac3-42c5-811e-94296b49f567",
    "nbgrader": {
     "cell_type": "code",
     "checksum": "71a264258dc13353675fee2f15393f62",
     "grade": true,
     "grade_id": "gibbs_tests_again",
     "locked": true,
     "points": 1,
     "schema_version": 3,
     "solution": false,
     "task": false
    },
    "tags": []
   },
   "outputs": [],
   "source": [
    "def gibbs_iteration2(x, par, hypar):\n",
    "    # x is the data for a single bin\n",
    "    # We could randomize the order of these updates if we cared to, but it's convenient to not have to initialize g beforehand.\n",
    "    # Sample group assignments\n",
    "    p = condpost_group_membership(x, par['fb1'], par['gauss1'], par['gaussb'])\n",
    "    par['g'] = st.bernoulli.rvs(p)\n",
    "    # Sample the background fraction parameter\n",
    "    alpha,beta = condpost_fraction(par['g'], hypar['fb1'])\n",
    "    par['fb1'] = st.beta.rvs(alpha, beta)\n",
    "    # Sample the variance of the cluster-member Gaussian component (mean is assumed fixed)\n",
    "    xcl = x[par['g'] == 0]\n",
    "    if len(xcl) > 0: # because you never know\n",
    "        alpha,beta = condpost_Gaussian_variance(xcl, par['gauss1'], hypar['gauss1'])\n",
    "        par['gauss1']['sigma2'] = st.invgamma.rvs(alpha, scale=beta)\n",
    "    # Sample the mean and variance of the background Gaussian component\n",
    "    xb = x[par['g'] == 1]\n",
    "    if len(xb) > 0: # because, seriously, you never know\n",
    "        alpha,beta = condpost_Gaussian_variance(xb, par['gaussb'], hypar['gaussb'])\n",
    "        par['gaussb']['sigma2'] = st.invgamma.rvs(alpha, scale=beta)\n",
    "        mean,sd = condpost_Gaussian_mean(xb, par['gaussb'], hypar['gaussb'])\n",
    "        par['gaussb']['mu'] = st.norm.rvs(mean, sd)"
   ]
  },
  {
   "cell_type": "markdown",
   "id": "3938c994-e741-499f-b8d7-6bac2dbadbdc",
   "metadata": {
    "id": "3938c994-e741-499f-b8d7-6bac2dbadbdc"
   },
   "source": [
    "Let's verify that this does, in fact, update the parameters to allowed values (compare with your guess to make sure they changed):"
   ]
  },
  {
   "cell_type": "code",
   "execution_count": null,
   "id": "b09077e8-abca-4cd7-beea-b5df75b19ba7",
   "metadata": {
    "id": "b09077e8-abca-4cd7-beea-b5df75b19ba7"
   },
   "outputs": [],
   "source": [
    "params = deepcopy(guess2)\n",
    "gibbs_iteration2(data[1], params, hyperparams)\n",
    "params"
   ]
  },
  {
   "cell_type": "markdown",
   "id": "41e72cf5-cd8b-4590-8349-eace14bd18b9",
   "metadata": {
    "id": "41e72cf5-cd8b-4590-8349-eace14bd18b9"
   },
   "source": [
    "#### Running the MCMC"
   ]
  },
  {
   "cell_type": "markdown",
   "id": "8cdd2008-80f5-4d51-843f-70d04b1f5016",
   "metadata": {
    "id": "8cdd2008-80f5-4d51-843f-70d04b1f5016"
   },
   "source": [
    "That should be everything we need to run some chains. Below we just borrow the function you wrote to randomly initialize a chain, and then call `gibbs_iteration2`, storing the parameter values in an array."
   ]
  },
  {
   "cell_type": "code",
   "execution_count": null,
   "id": "ddbd3ec1-5449-4f3d-b60c-ef6f2a2aeccf",
   "metadata": {
    "id": "ddbd3ec1-5449-4f3d-b60c-ef6f2a2aeccf"
   },
   "outputs": [],
   "source": [
    "%%time\n",
    "nchains = 4\n",
    "nsamples = 3000\n",
    "chains2 = np.empty((nchains, nsamples, len(paramnames)))\n",
    "for i in range(chains2.shape[0]):\n",
    "    initialize_params() # puts initial values in parameter_dict\n",
    "    params = {'fb1':parameter_dict['fb1'](),\n",
    "              'gauss1':{'mu':0.0, 'sigma2':parameter_dict['sigma_cl1']()**2},\n",
    "              'gaussb':{'mu':parameter_dict['mu_b'](), 'sigma2':parameter_dict['sigma_b']()**2}\n",
    "             } # assumes params['g'] gets updated first, so we don't need to give it a starting value here\n",
    "    for j in range(chains2.shape[1]):\n",
    "        gibbs_iteration2(data[1], params, hyperparams)\n",
    "        chains2[i,j,:] = [params['fb1'], np.sqrt(params['gauss1']['sigma2']), params['gaussb']['mu'], np.sqrt(params['gaussb']['sigma2'])]"
   ]
  },
  {
   "cell_type": "markdown",
   "id": "c3c8798e-b320-457c-af42-bf4064a39883",
   "metadata": {
    "id": "c3c8798e-b320-457c-af42-bf4064a39883"
   },
   "source": [
    "Go through the usual diagnostics below. The burn-in will likely be quite short, and you should see something like a factor of 10 more effectively independent samples compared with the brute-force MCMC of the same length."
   ]
  },
  {
   "cell_type": "code",
   "execution_count": null,
   "id": "ccecc9f0-cf48-426b-b45c-fdf26c9386e4",
   "metadata": {
    "id": "ccecc9f0-cf48-426b-b45c-fdf26c9386e4"
   },
   "outputs": [],
   "source": [
    "fig, ax = plt.subplots(len(paramnames), 1, figsize=(16.0, 2.0*len(paramnames)));\n",
    "cr.plot_traces(chains2, ax, labels=param_labels);"
   ]
  },
  {
   "cell_type": "code",
   "execution_count": null,
   "id": "5e3c18a6-ff73-4565-b31b-1aaa84ee8858",
   "metadata": {
    "deletable": false,
    "id": "5e3c18a6-ff73-4565-b31b-1aaa84ee8858",
    "nbgrader": {
     "cell_type": "code",
     "checksum": "fa6ef7a0f008dabe3f9c109eaa569cad",
     "grade": false,
     "grade_id": "burn2",
     "locked": false,
     "schema_version": 3,
     "solution": true,
     "task": false
    },
    "tags": []
   },
   "outputs": [],
   "source": [
    "# burn2 = ...\n",
    "# YOUR CODE HERE\n",
    "raise NotImplementedError()"
   ]
  },
  {
   "cell_type": "code",
   "execution_count": null,
   "id": "f6e97666-d2d0-4ac2-a41a-573c433fb2b1",
   "metadata": {
    "id": "f6e97666-d2d0-4ac2-a41a-573c433fb2b1"
   },
   "outputs": [],
   "source": [
    "fig, ax = plt.subplots(len(paramnames), 1, figsize=(16.0, 2.0*len(paramnames)));\n",
    "cr.plot_traces(chains2[:,burn2:,:], ax, labels=param_labels);"
   ]
  },
  {
   "cell_type": "code",
   "execution_count": null,
   "id": "157c6b58-e300-44d3-a2be-780f9a4f42ae",
   "metadata": {
    "id": "157c6b58-e300-44d3-a2be-780f9a4f42ae"
   },
   "outputs": [],
   "source": [
    "chains2 = chains2[:,burn2:,:]"
   ]
  },
  {
   "cell_type": "code",
   "execution_count": null,
   "id": "9c689ff2-f415-4818-8ed7-9e0908729a70",
   "metadata": {
    "deletable": false,
    "editable": false,
    "id": "9c689ff2-f415-4818-8ed7-9e0908729a70",
    "nbgrader": {
     "cell_type": "code",
     "checksum": "71b534b418a35ded1753f89f501ccd31",
     "grade": true,
     "grade_id": "convergence2",
     "locked": true,
     "points": 1,
     "schema_version": 3,
     "solution": false,
     "task": false
    },
    "tags": []
   },
   "outputs": [],
   "source": [
    "R = cr.GelmanRubinR(chains2)\n",
    "print(\"R =\", R)\n",
    "assert np.all(R < 1.1)"
   ]
  },
  {
   "cell_type": "code",
   "execution_count": null,
   "id": "50a1fa48-10d7-456c-a9c0-63f20f3cfe61",
   "metadata": {
    "id": "50a1fa48-10d7-456c-a9c0-63f20f3cfe61"
   },
   "outputs": [],
   "source": [
    "maxlag2 = 500 # change if needed"
   ]
  },
  {
   "cell_type": "code",
   "execution_count": null,
   "id": "660ac7dd-4525-4400-836c-fe690a6523d9",
   "metadata": {
    "deletable": false,
    "editable": false,
    "id": "660ac7dd-4525-4400-836c-fe690a6523d9",
    "nbgrader": {
     "cell_type": "code",
     "checksum": "ee1ff20e192c5a6518e7101808155a8f",
     "grade": true,
     "grade_id": "neff2",
     "locked": true,
     "points": 1,
     "schema_version": 3,
     "solution": false,
     "task": false
    },
    "tags": []
   },
   "outputs": [],
   "source": [
    "neff = cr.effective_samples(chains2, maxlag=maxlag2, throw=True)\n",
    "print(\"neff =\", neff)\n",
    "assert np.all(neff > 1000) # should be easily exceeded"
   ]
  },
  {
   "cell_type": "markdown",
   "id": "ca7b0376-48fa-4677-8f5a-3c85f1ee1d3f",
   "metadata": {
    "id": "ca7b0376-48fa-4677-8f5a-3c85f1ee1d3f"
   },
   "source": [
    "Let's see how these results compare with the brute-force MCMC. They should provide the same constraints, modulo the different number of effective samples."
   ]
  },
  {
   "cell_type": "code",
   "execution_count": null,
   "id": "a04bf17d-36ef-4c3b-b010-5f86537e3655",
   "metadata": {
    "id": "a04bf17d-36ef-4c3b-b010-5f86537e3655"
   },
   "outputs": [],
   "source": [
    "plotGTC([np.concatenate(chains), np.concatenate(chains2)], paramNames=param_labels, chainLabels=['non-Gibbs','Gibbs'],\n",
    "        figureSize=6, customLabelFont={'size':12}, customTickFont={'size':12}, customLegendFont={'size':16});"
   ]
  },
  {
   "cell_type": "markdown",
   "id": "5cb4b37f-c0a8-4f72-870d-1bb43dcd615e",
   "metadata": {
    "id": "5cb4b37f-c0a8-4f72-870d-1bb43dcd615e"
   },
   "source": [
    "Just to make sure, here's a quick check that the means and standard deviations of each parameter are within 10%:"
   ]
  },
  {
   "cell_type": "code",
   "execution_count": null,
   "id": "bbdd8be0-773c-4a3a-b67f-d731bcaa0b31",
   "metadata": {
    "deletable": false,
    "editable": false,
    "id": "bbdd8be0-773c-4a3a-b67f-d731bcaa0b31",
    "nbgrader": {
     "cell_type": "code",
     "checksum": "bc967089d2e36c43c2a4c4f710dc7b1d",
     "grade": true,
     "grade_id": "agreement2",
     "locked": true,
     "points": 1,
     "schema_version": 3,
     "solution": false,
     "task": false
    },
    "tags": []
   },
   "outputs": [],
   "source": [
    "assert np.allclose(np.concatenate(chains).mean(axis=0), np.concatenate(chains2).mean(axis=0), rtol=0.1, atol=1e-4)\n",
    "assert np.allclose(np.concatenate(chains).std(axis=0), np.concatenate(chains2).std(axis=0), rtol=0.1, atol=1e-4)"
   ]
  },
  {
   "cell_type": "markdown",
   "id": "ebae165d-5dc1-4804-ba27-e4e08b96d100",
   "metadata": {
    "id": "ebae165d-5dc1-4804-ba27-e4e08b96d100"
   },
   "source": [
    "## Fitting all bins with linked backgrounds\n",
    "\n",
    "As foreshadowed, we will eventually fit all the data hierarchically, with a shared background Gaussian component and cluster Gaussian widths related by a power law with richness. Before that, it would be nice to do a fit that doesn't assume the power law, but instead lets each bin have its own cluster-member Gaussian. We can compare the final constraints on the power law with these individual $\\sigma_\\mathrm{cl}$ constraints to see whether the assumption of that model is justified (and/or you could do a more formal model comparison, if you were so inclined).\n",
    "\n",
    "The fit in this section can be almost entirely accomplished by reusing the work you've already done and just adding a little bookkeeping. To reiterate, we now have an $f_\\mathrm{b}$ and a $\\sigma_\\mathrm{cl}$ parameter for each bin, but are not yet assuming a relationship between the $\\sigma_\\mathrm{cl}$s, and a single background distribution parametrized by $\\mu_\\mathrm{b}$ and $\\sigma_\\mathrm{b}$."
   ]
  },
  {
   "cell_type": "code",
   "execution_count": null,
   "id": "8f6ec1e5-4760-4b59-8285-5e258c444b92",
   "metadata": {
    "id": "8f6ec1e5-4760-4b59-8285-5e258c444b92"
   },
   "outputs": [],
   "source": [
    "paramnames3 = ['fb0', 'fb1', 'fb2', 'fb3', 'fb4', 'sigma_cl0', 'sigma_cl1', 'sigma_cl2', 'sigma_cl3', 'sigma_cl4',\n",
    "               'mu_b', 'sigma_b']\n",
    "param_labels3 = [r'$f_\\mathrm{b,0}$', r'$f_\\mathrm{b,1}$', r'$f_\\mathrm{b,2}$', r'$f_\\mathrm{b,3}$', r'$f_\\mathrm{b,4}$',\n",
    "                 r'$\\sigma_\\mathrm{cl,0}$',r'$\\sigma_\\mathrm{cl,1}$',r'$\\sigma_\\mathrm{cl,2}$',r'$\\sigma_\\mathrm{cl,3}$',r'$\\sigma_\\mathrm{cl,4}$',\n",
    "                 r'$\\mu_\\mathrm{b}$', r'$\\sigma_\\mathrm{b}$']"
   ]
  },
  {
   "cell_type": "markdown",
   "id": "1e1d957c-23fb-453c-a5fe-72367cd2d50f",
   "metadata": {
    "id": "1e1d957c-23fb-453c-a5fe-72367cd2d50f"
   },
   "source": [
    "Fill in the hyperparameter dictionary for this part. The priors for each of the $\\sigma_\\mathrm{cl}$ parameters can be the same as we used for $\\sigma_\\mathrm{cl,1}$ in the previous sections, but for the others you should use whatever priors we decided on for the full hierarchical model."
   ]
  },
  {
   "cell_type": "code",
   "execution_count": null,
   "id": "ce2efc60-df67-4339-8be1-0866bba8d39e",
   "metadata": {
    "deletable": false,
    "id": "ce2efc60-df67-4339-8be1-0866bba8d39e",
    "nbgrader": {
     "cell_type": "code",
     "checksum": "00fcdd8d95868acbe9a6b641e7b53abd",
     "grade": false,
     "grade_id": "hyperparams3",
     "locked": false,
     "schema_version": 3,
     "solution": true,
     "task": false
    },
    "tags": []
   },
   "outputs": [],
   "source": [
    "# hyperparams3 = {'fb0':{'alpha':..., 'beta':...},\n",
    "#                 'fb1':{'alpha':..., 'beta':...},\n",
    "#                 ...\n",
    "#                 'fb4':{'alpha':..., 'beta':...},\n",
    "#                 'gauss0':{'mu0':..., 'tau0':..., 'alpha0':..., 'beta0':...},\n",
    "#                 'gauss1':{'mu0':..., 'tau0':..., 'alpha0':..., 'beta0':...},\n",
    "#                 ...\n",
    "#                 'gauss4':{'mu0':..., 'tau0':..., 'alpha0':..., 'beta0':...},\n",
    "#                 'gaussb':{'mu0':..., 'tau0':..., 'alpha0':..., 'beta0':...}}\n",
    "# YOUR CODE HERE\n",
    "raise NotImplementedError()"
   ]
  },
  {
   "cell_type": "markdown",
   "id": "1b320956-ef3f-4f4e-aae5-89ad159065ab",
   "metadata": {
    "id": "1b320956-ef3f-4f4e-aae5-89ad159065ab"
   },
   "source": [
    "Next, we need to generalize the function that updates all of the parameters once. We've provided the bookkeeping to deal with the multiple cluster-member Gaussians; you just need to add the part that updates the background Gaussian parameters based on the data from all bins that are assigned to the background component. (Hint: `np.concatenate` is your friend.)"
   ]
  },
  {
   "cell_type": "code",
   "execution_count": null,
   "id": "30b83425-7184-4977-b40e-2c7eec77f3a2",
   "metadata": {
    "deletable": false,
    "id": "30b83425-7184-4977-b40e-2c7eec77f3a2",
    "nbgrader": {
     "cell_type": "code",
     "checksum": "4352e6dd73c8621ece18a7eb8be31737",
     "grade": false,
     "grade_id": "iter3",
     "locked": false,
     "schema_version": 3,
     "solution": true,
     "task": false
    },
    "tags": []
   },
   "outputs": [],
   "source": [
    "def gibbs_iteration3(xs, par, hypar):\n",
    "    # xs is a list of data vectors for each bin\n",
    "    nbins = len(xs)\n",
    "    for i in range(nbins):\n",
    "        si = str(i)\n",
    "        p = condpost_group_membership(xs[i], par['fb'+si], par['gauss'+si], par['gaussb'])\n",
    "        par['g'+si] = st.bernoulli.rvs(p)\n",
    "        alpha,beta = condpost_fraction(par['g'+si], hypar['fb'+si])\n",
    "        par['fb'+si] = st.beta.rvs(alpha, beta)\n",
    "        x = xs[i][par['g'+si] == 0]\n",
    "        if len(x) > 0:\n",
    "            alpha,beta = condpost_Gaussian_variance(x, par['gauss'+si], hypar['gauss'+si])\n",
    "            par['gauss'+si]['sigma2'] = st.invgamma.rvs(alpha, scale=beta)\n",
    "    # add the updates of par['gaussb']['mu'] and par['gaussb']['sigma2'] here\n",
    "    # YOUR CODE HERE\n",
    "    raise NotImplementedError()"
   ]
  },
  {
   "cell_type": "markdown",
   "id": "72f847a3-0004-4c6f-b457-55b8d02bcabe",
   "metadata": {
    "id": "72f847a3-0004-4c6f-b457-55b8d02bcabe"
   },
   "source": [
    "This function will further abuse your `initialize_params` function to provide a starting position."
   ]
  },
  {
   "cell_type": "code",
   "execution_count": null,
   "id": "22d95f18-b97f-4fd6-9109-a8b230ad1c5e",
   "metadata": {
    "id": "22d95f18-b97f-4fd6-9109-a8b230ad1c5e"
   },
   "outputs": [],
   "source": [
    "def initialize_params3():\n",
    "    initialize_params() # puts values in parameter_dict\n",
    "    params = {'fb0':parameter_dict['fb1'](),\n",
    "              'gauss0':{'mu':0.0, 'sigma2':parameter_dict['sigma_cl1']()**2},\n",
    "              'gaussb':{'mu':parameter_dict['mu_b'](), 'sigma2':parameter_dict['sigma_b']()**2}\n",
    "             }\n",
    "    for i in range(1, len(data)):\n",
    "        initialize_params()\n",
    "        params['fb'+str(i)] = parameter_dict['fb1']()\n",
    "        params['gauss'+str(i)] = {'mu':0.0, 'sigma2':parameter_dict['sigma_cl1']()**2}\n",
    "    return params"
   ]
  },
  {
   "cell_type": "markdown",
   "id": "6b3740c5-b9f0-4dba-a8d2-44a1fb668e16",
   "metadata": {
    "id": "6b3740c5-b9f0-4dba-a8d2-44a1fb668e16"
   },
   "source": [
    "Let's quickly check that we can both initialize a set of parameters, and change it using the updating function and hyperparameters:"
   ]
  },
  {
   "cell_type": "code",
   "execution_count": null,
   "id": "090c3fba-386e-4be6-8d0e-cc3688190c84",
   "metadata": {
    "id": "090c3fba-386e-4be6-8d0e-cc3688190c84"
   },
   "outputs": [],
   "source": [
    "params = initialize_params3()\n",
    "params"
   ]
  },
  {
   "cell_type": "code",
   "execution_count": null,
   "id": "801478b5-26b8-4a52-a8d7-1e077901b1ee",
   "metadata": {
    "id": "801478b5-26b8-4a52-a8d7-1e077901b1ee",
    "tags": []
   },
   "outputs": [],
   "source": [
    "gibbs_iteration3(data, params, hyperparams3)\n",
    "params"
   ]
  },
  {
   "cell_type": "markdown",
   "id": "5b2a2e10-fe72-419f-8ed0-04bbfdfc6433",
   "metadata": {
    "id": "5b2a2e10-fe72-419f-8ed0-04bbfdfc6433"
   },
   "source": [
    "If so, we should be able to run chains as usual. This should take about 5 times as long per iteration as the single-bin Gibbs fit, but similarly should converge quickly and have low autocorrelation. We'll reduce the default number of steps accordingly, since we don't really need _that_ many samples."
   ]
  },
  {
   "cell_type": "code",
   "execution_count": null,
   "id": "84b6fffe-b887-43ae-b4f4-7e3e40885ce1",
   "metadata": {
    "id": "84b6fffe-b887-43ae-b4f4-7e3e40885ce1"
   },
   "outputs": [],
   "source": [
    "%%time\n",
    "nchains = 4\n",
    "nsteps = 1000\n",
    "chains3 = np.empty((nchains, nsteps, len(paramnames3)))\n",
    "for i in range(chains3.shape[0]):\n",
    "    params = initialize_params3()\n",
    "    for j in range(chains3.shape[1]):\n",
    "        gibbs_iteration3(data, params, hyperparams3)\n",
    "        chains3[i,j,:] = [params['fb0'], params['fb1'], params['fb2'], params['fb3'], params['fb4'],\n",
    "            np.sqrt(params['gauss0']['sigma2']), np.sqrt(params['gauss1']['sigma2']), np.sqrt(params['gauss2']['sigma2']), np.sqrt(params['gauss3']['sigma2']), np.sqrt(params['gauss4']['sigma2']),\n",
    "            params['gaussb']['mu'], np.sqrt(params['gaussb']['sigma2'])]"
   ]
  },
  {
   "cell_type": "code",
   "execution_count": null,
   "id": "f2a54926-5533-4022-9a68-6800e47639f6",
   "metadata": {
    "id": "f2a54926-5533-4022-9a68-6800e47639f6"
   },
   "outputs": [],
   "source": [
    "fig, ax = plt.subplots(len(paramnames3), 1, figsize=(16.0, 2.0*len(paramnames3)));\n",
    "cr.plot_traces(chains3, ax, labels=param_labels3);"
   ]
  },
  {
   "cell_type": "code",
   "execution_count": null,
   "id": "d6c52ca8-db40-42c5-9877-9ec5d5549b12",
   "metadata": {
    "deletable": false,
    "id": "d6c52ca8-db40-42c5-9877-9ec5d5549b12",
    "nbgrader": {
     "cell_type": "code",
     "checksum": "93e559fb2fddeae0e8249efb9fed98fb",
     "grade": false,
     "grade_id": "burn3",
     "locked": false,
     "schema_version": 3,
     "solution": true,
     "task": false
    },
    "tags": []
   },
   "outputs": [],
   "source": [
    "# burn3 = ... # this can probably be very short again\n",
    "# YOUR CODE HERE\n",
    "raise NotImplementedError()"
   ]
  },
  {
   "cell_type": "code",
   "execution_count": null,
   "id": "0faea168-4a7e-4cbb-a572-fd989f7c7360",
   "metadata": {
    "id": "0faea168-4a7e-4cbb-a572-fd989f7c7360"
   },
   "outputs": [],
   "source": [
    "fig, ax = plt.subplots(len(paramnames3), 1, figsize=(16.0, 2.0*len(paramnames3)));\n",
    "cr.plot_traces(chains3[:,burn3:,:], ax, labels=param_labels3);"
   ]
  },
  {
   "cell_type": "code",
   "execution_count": null,
   "id": "c3d14e60-ecba-4320-a09c-aaaf87e7cd38",
   "metadata": {
    "id": "c3d14e60-ecba-4320-a09c-aaaf87e7cd38"
   },
   "outputs": [],
   "source": [
    "chains3 = chains3[:,burn3:,:]"
   ]
  },
  {
   "cell_type": "code",
   "execution_count": null,
   "id": "f19aa744-901f-46af-8830-738c8dd7d2e6",
   "metadata": {
    "deletable": false,
    "editable": false,
    "id": "f19aa744-901f-46af-8830-738c8dd7d2e6",
    "nbgrader": {
     "cell_type": "code",
     "checksum": "7fbc38d36d0a5373a1f36a2388c03e47",
     "grade": true,
     "grade_id": "converge3",
     "locked": true,
     "points": 1,
     "schema_version": 3,
     "solution": false,
     "task": false
    },
    "tags": []
   },
   "outputs": [],
   "source": [
    "R = cr.GelmanRubinR(chains3)\n",
    "print('R =', R)\n",
    "assert np.all(R < 1.1)"
   ]
  },
  {
   "cell_type": "code",
   "execution_count": null,
   "id": "7d76dd1d-b6f1-4252-b20a-7f7ae4972c26",
   "metadata": {
    "id": "7d76dd1d-b6f1-4252-b20a-7f7ae4972c26"
   },
   "outputs": [],
   "source": [
    "maxlag3 = 500 # doubt this needs to be raised"
   ]
  },
  {
   "cell_type": "code",
   "execution_count": null,
   "id": "407b451c-dfce-4bc3-abc8-a2380f7e179c",
   "metadata": {
    "id": "407b451c-dfce-4bc3-abc8-a2380f7e179c",
    "tags": []
   },
   "outputs": [],
   "source": [
    "neff = cr.effective_samples(chains3, maxlag=maxlag3, throw=True)\n",
    "print('neff =', neff)\n",
    "assert np.all(neff > 1000)"
   ]
  },
  {
   "cell_type": "markdown",
   "id": "675345a8-2ca8-4bc1-a385-20bc8d1dd919",
   "metadata": {
    "id": "675345a8-2ca8-4bc1-a385-20bc8d1dd919"
   },
   "source": [
    "Here is the giant triangle plot, for posterity:"
   ]
  },
  {
   "cell_type": "code",
   "execution_count": null,
   "id": "c97754be-91cf-4b17-a8bf-10d16dace572",
   "metadata": {
    "id": "c97754be-91cf-4b17-a8bf-10d16dace572"
   },
   "outputs": [],
   "source": [
    "plotGTC(np.concatenate(chains3), paramNames=param_labels3,\n",
    "        figureSize=20, customLabelFont={'size':12}, customTickFont={'size':12}, customLegendFont={'size':16});"
   ]
  },
  {
   "cell_type": "markdown",
   "id": "4763d21b-203e-4dc5-b6ca-e7589fa61b80",
   "metadata": {
    "id": "4763d21b-203e-4dc5-b6ca-e7589fa61b80"
   },
   "source": [
    "Hopefully, this is a lot of uninteresting blobs. To condense it, let's have a look at the background fraction and cluster velocity dispersion as a function of richness, conventionally denoted $\\lambda$. Below, we just summarize each of the 1D constraints using the median and percentiles."
   ]
  },
  {
   "cell_type": "code",
   "execution_count": null,
   "id": "2cf11640-d0b7-49be-a253-20972fba8c62",
   "metadata": {
    "id": "2cf11640-d0b7-49be-a253-20972fba8c62"
   },
   "outputs": [],
   "source": [
    "fig, ax = plt.subplots(1, 2, figsize=(10.0, 3.0));\n",
    "mid,low,high = np.quantile(chains3[:,:,np.arange(len(data))], [0.5,0.1585, 0.8415], axis=(0,1))\n",
    "ax[0].errorbar(richness, mid, [mid-low, high-mid], fmt='.'); ax[0].set_xlabel(r'$\\lambda$'), ax[0].set_ylabel(r'$f_\\mathrm{b}$');\n",
    "mid,low,high = np.quantile(chains3[:,:,np.arange(len(data))+len(data)], [0.5,0.1585, 0.8415], axis=(0,1))\n",
    "ax[1].errorbar(richness, 1e3*mid, 1e3*np.array([mid-low, high-mid]), fmt='.'); ax[1].set_xlabel(r'$\\lambda$'), ax[1].set_ylabel(r'$10^3\\sigma_\\mathrm{cl}$');"
   ]
  },
  {
   "cell_type": "markdown",
   "id": "bef6a70f-c974-4ced-b58c-0c6a7450a686",
   "metadata": {
    "id": "bef6a70f-c974-4ced-b58c-0c6a7450a686"
   },
   "source": [
    "Have a look at the constraints for $f_{\\mathrm{b},i}$ here in particular, and compare them to the solutions. Although the specific best values will differ, they should be similar in magnitude. Also similarly, the constraints should be tighter at low richness, but not infinitely tight (i.e., the sampler should actually be changing the values)."
   ]
  },
  {
   "cell_type": "code",
   "execution_count": null,
   "id": "72f1eaac-191c-43ab-9267-47d48a2f5993",
   "metadata": {
    "deletable": false,
    "id": "72f1eaac-191c-43ab-9267-47d48a2f5993",
    "nbgrader": {
     "cell_type": "code",
     "checksum": "83aa8595a8e388332ee18e5488ef5ec5",
     "grade": false,
     "grade_id": "sense3",
     "locked": false,
     "schema_version": 3,
     "solution": true,
     "task": false
    },
    "tags": []
   },
   "outputs": [],
   "source": [
    "I_checked_and_everything_looks_good = False # make True when true\n",
    "# YOUR CODE HERE\n",
    "raise NotImplementedError()"
   ]
  },
  {
   "cell_type": "code",
   "execution_count": null,
   "id": "f4effabf-fb2f-45d0-8597-55835afe4ca5",
   "metadata": {
    "deletable": false,
    "editable": false,
    "id": "f4effabf-fb2f-45d0-8597-55835afe4ca5",
    "nbgrader": {
     "cell_type": "code",
     "checksum": "d7ca3158f2c25b4e74dc72799356441c",
     "grade": true,
     "grade_id": "sense3_test",
     "locked": true,
     "points": 1,
     "schema_version": 3,
     "solution": false,
     "task": false
    },
    "tags": []
   },
   "outputs": [],
   "source": [
    "assert I_checked_and_everything_looks_good"
   ]
  },
  {
   "cell_type": "markdown",
   "id": "2d34f578-f4cc-496b-8a01-ad3158161afe",
   "metadata": {
    "id": "2d34f578-f4cc-496b-8a01-ad3158161afe"
   },
   "source": [
    "## Fitting all bins with linked backgrounds and a power-law scaling relation\n",
    "\n",
    "The final change we will make in this notebook is to model $\\sigma_\\mathrm{cl}$ as a power law in richness rather than having independent parameters for each bin,.\n",
    "\n",
    "$\\sigma_\\mathrm{cl}(\\lambda) = A_\\sigma \\left(\\frac{\\lambda}{10}\\right)^{\\alpha_\\sigma}$.\n",
    "\n",
    "This is both physically expected and broadly justified by the plot above. We will not similarly introduce a model for $f_\\mathrm{b}(\\lambda)$, since there is no equivalent theoretical expectation for it.\n",
    "\n",
    "This has two immediate consequences. First, we will have 3 fewer parameters to juggle. Second, the new parameters, $A_\\sigma$ and $\\alpha_\\sigma$, are not conjugate with anything else (that we noticed). However! This doesn't change the fact that 7 parameters can still be conjugately sampled, conditional on $\\sigma_\\mathrm{cl}(\\lambda)$. Therefore, we will use this as an excuse to set up a mixed sampling MCMC, where most parameters are updated using conjugate relations, and 2 are sampled through more a brute-force method.\n",
    "\n",
    "Based on the figure above, the data provide much more information about $\\sigma_\\mathrm{cl}(\\lambda)$ at low richness than high richness. This is why we decided to normalize the power law such that $A_\\sigma$ parametrizes the curve near the lower end of the data. If it isn't obvious why this is convenient, try changing the \"pivot\" value of 10 in the plotting cell below to something else (e.g. 35) and trying to iteratively guess parameter values that make the resulting curve go more or less through the contraints on $\\sigma_\\mathrm{cl}$. It's much less annoying, for both a human and a sampler, to set the value where the data have things locked down and then adjust the slope to something reasonable than to try to juggle both (i.e., normalizing at low richness in this case will reduce the degeneracy between the two parameters).\n",
    "\n",
    "Of course, we will be fitting the actual data and not the constraints from the last section. But go ahead and come up with some broadly reasonable parameter values anyway."
   ]
  },
  {
   "cell_type": "code",
   "execution_count": null,
   "id": "b479f9b7-3509-4a3c-a78e-eee9de0c84ae",
   "metadata": {
    "deletable": false,
    "id": "b479f9b7-3509-4a3c-a78e-eee9de0c84ae",
    "nbgrader": {
     "cell_type": "code",
     "checksum": "29caff0474a26cabea501ceed3ed17ba",
     "grade": false,
     "grade_id": "guess_plaw",
     "locked": false,
     "schema_version": 3,
     "solution": true,
     "task": false
    },
    "tags": []
   },
   "outputs": [],
   "source": [
    "# guess_A = ...\n",
    "# guess_alpha = ...\n",
    "# YOUR CODE HERE\n",
    "raise NotImplementedError()"
   ]
  },
  {
   "cell_type": "code",
   "execution_count": null,
   "id": "2644a082-b349-4075-a40c-7923476cd9d6",
   "metadata": {
    "id": "2644a082-b349-4075-a40c-7923476cd9d6"
   },
   "outputs": [],
   "source": [
    "xvals = np.arange(7,75)\n",
    "yvals = guess_A * (xvals / 10.)**guess_alpha\n",
    "\n",
    "fig, ax = plt.subplots(1, 1, figsize=(4.0, 3.0));\n",
    "mid,low,high = np.quantile(chains3[:,:,np.arange(len(data))+len(data)], [0.5,0.1585, 0.8415], axis=(0,1))\n",
    "ax.errorbar(richness, mid, [mid-low, high-mid], fmt='.'); ax.set_xlabel(r'$\\lambda$'), ax.set_ylabel(r'$\\sigma_\\mathrm{cl}$');\n",
    "ax.set_xscale('log'); ax.set_yscale('log');\n",
    "ax.plot(xvals, yvals);"
   ]
  },
  {
   "cell_type": "markdown",
   "id": "d171b4bd-0f7c-4c65-ac49-2797667855e4",
   "metadata": {
    "id": "d171b4bd-0f7c-4c65-ac49-2797667855e4"
   },
   "source": [
    "Anyhoo, here is the official enumeration of parameter names for this analysis:"
   ]
  },
  {
   "cell_type": "code",
   "execution_count": null,
   "id": "1f42de31-310b-421a-8450-391d70da0836",
   "metadata": {
    "id": "1f42de31-310b-421a-8450-391d70da0836"
   },
   "outputs": [],
   "source": [
    "paramnames4 = ['fb0', 'fb1', 'fb2', 'fb3', 'fb4', 'A_sigma', 'alpha_sigma', 'mu_b', 'sigma_b']\n",
    "param_labels4 = [r'$f_\\mathrm{b,0}$', r'$f_\\mathrm{b,1}$', r'$f_\\mathrm{b,2}$', r'$f_\\mathrm{b,3}$', r'$f_\\mathrm{b,4}$',\n",
    "                r'$A_\\sigma$',r'$\\alpha_\\sigma$', r'$\\mu_\\mathrm{b}$', r'$\\sigma_\\mathrm{b}$']"
   ]
  },
  {
   "cell_type": "markdown",
   "id": "7d5f40ec-d42d-4ef2-971b-0be48e737609",
   "metadata": {
    "id": "7d5f40ec-d42d-4ef2-971b-0be48e737609"
   },
   "source": [
    "### Implementation\n",
    "\n",
    "Let's first look at the conjugate sampling of the background fraction and background distribution parameters. Naturally, for these updates, we hold $A_\\sigma$ and $\\alpha_\\sigma$ (and thus all the $\\sigma_{\\mathrm{cl},i}$ values that follow from them) fixed. Hence, this will be a slight simplification over the last section.\n",
    "\n",
    "We will still need a `hyperparams` dictionary encoding the priors for the conjugate-sampled parameters, as before. Let's just copy what we need from the previous section:"
   ]
  },
  {
   "cell_type": "code",
   "execution_count": null,
   "id": "ca08730c-7a15-4dfd-88d2-f96fd60520d2",
   "metadata": {
    "id": "ca08730c-7a15-4dfd-88d2-f96fd60520d2"
   },
   "outputs": [],
   "source": [
    "hyperparams4 = {}\n",
    "for k in ['fb0', 'fb1', 'fb2', 'fb3', 'fb4', 'gaussb']:\n",
    "    hyperparams4[k] = hyperparams3[k]"
   ]
  },
  {
   "cell_type": "markdown",
   "id": "4ea83542-ec74-44a5-88c2-1c11aa61b6af",
   "metadata": {
    "id": "4ea83542-ec74-44a5-88c2-1c11aa61b6af"
   },
   "source": [
    "The updating function is identical to the last section, except that the $\\sigma_{\\mathrm{cl},i}$ updates are left out, and we assume that their current values (based on $A_\\sigma$ and $\\alpha_\\sigma$) are provided in the usual way via `par`:"
   ]
  },
  {
   "cell_type": "code",
   "execution_count": null,
   "id": "abf558b2-f30f-4a9e-96e0-39184984c348",
   "metadata": {
    "deletable": false,
    "id": "abf558b2-f30f-4a9e-96e0-39184984c348",
    "nbgrader": {
     "cell_type": "code",
     "checksum": "cc808702f15054e62d2a2d439ce53376",
     "grade": false,
     "grade_id": "gibbs4",
     "locked": false,
     "schema_version": 3,
     "solution": true,
     "task": false
    },
    "tags": []
   },
   "outputs": [],
   "source": [
    "def gibbs_iteration4(xs, par, hypar):\n",
    "    # xs is a list of data vectors for each bin\n",
    "    nbins = len(xs)\n",
    "    for i in range(nbins):\n",
    "        si = str(i)\n",
    "        p = condpost_group_membership(xs[i], par['fb'+si], par['gauss'+si], par['gaussb'])\n",
    "        par['g'+si] = st.bernoulli.rvs(p)\n",
    "        alpha,beta = condpost_fraction(par['g'+si], hypar['fb'+si])\n",
    "        par['fb'+si] = st.beta.rvs(alpha, beta)\n",
    "    # add the updates of par['gaussb']['mu'] and par['gaussb']['sigma2'] here (identical to the last section)\n",
    "    # YOUR CODE HERE\n",
    "    raise NotImplementedError()"
   ]
  },
  {
   "cell_type": "markdown",
   "id": "e96acec0-6a48-42de-bed4-90eb652c6261",
   "metadata": {
    "id": "e96acec0-6a48-42de-bed4-90eb652c6261"
   },
   "source": [
    "We will use `lmc` to sample the remaining parameters and to handle the juggling of the two parameter subsets into the production of a single chain. We'll provide most of the logistical nonsense, since it isn't especially educational. However, it will be helpful to understand how things are pasted together.\n",
    "\n",
    "In brief, we anticipate using parameter and hyperparameter dictionaries, as above, for compatibility with all of the conjugate sampling code. The \"official\" parameters known to the chain runner will be `lmc.Parameter`s, though, so we will need to copy values back and forth at appropriate times. Finally, while priors on the conjugate parameters are handled by the functions above, you will need to provide a (conditional) log-posterior function for $A_\\sigma$ and $\\alpha_\\sigma$ that incorporates their priors. This is not necessarily the most elegant way of accomplishing the goal, but it will work well enough with the separate analyses you've done above, with minimal re-writing of code.\n",
    "\n",
    "With that in mind, we define an `lmc.ParameterSpace` (and equivalent dictionary) that organizes _all_ of the parameters other than the group assignments. This is not the list of parameters that `lmc` will try to sample with its own methods, but rather the one that it will output to form the chain. (We could also keep track of the group assignment parameters in the chain, but... there are a lot of them.)"
   ]
  },
  {
   "cell_type": "code",
   "execution_count": null,
   "id": "50043e9d-83c4-43c7-9c9f-6c393c99722a",
   "metadata": {
    "id": "50043e9d-83c4-43c7-9c9f-6c393c99722a"
   },
   "outputs": [],
   "source": [
    "parameter_space4 = lmc.ParameterSpace([lmc.Parameter(name=s) for s in paramnames4])\n",
    "parameter_dict4 = {k:p for k,p in zip(paramnames4, parameter_space4)}"
   ]
  },
  {
   "cell_type": "markdown",
   "id": "ac83c20a-3ff4-435f-8925-7024f10fbdf8",
   "metadata": {
    "id": "ac83c20a-3ff4-435f-8925-7024f10fbdf8"
   },
   "source": [
    "The cell below defines a new type of `lmc.Updater` that will handle the conjugate parameters. It simply calls, in turn, the function you completed above, and then ensures that the conditional posterior for the non-conjugate parameters is re-computed at the next opportunity to reflect those updates."
   ]
  },
  {
   "cell_type": "code",
   "execution_count": null,
   "id": "72f5e8e6-a33d-4e36-9989-653ee0a25214",
   "metadata": {
    "id": "72f5e8e6-a33d-4e36-9989-653ee0a25214"
   },
   "outputs": [],
   "source": [
    "class GibbsUpdater(lmc.Updater):\n",
    "    def __call__(self, par):\n",
    "        # update the parameter values in the par dictionary\n",
    "        gibbs_iteration4(data, par, hyperparams4)\n",
    "        # set lmc Parameter values from our dictionary, so current values are available that way\n",
    "        for k in ['fb0', 'fb1', 'fb2', 'fb3', 'fb4']:\n",
    "            parameter_dict4[k].set(par[k])\n",
    "        parameter_dict4['mu_b'].set(par['gaussb']['mu'])\n",
    "        parameter_dict4['sigma_b'].set(np.sqrt(par['gaussb']['sigma2']))\n",
    "        # force re-evaluation of the log-posterior with these new values the next time the non-Gibbs updater is called\n",
    "        self.engine.current_logP = None\n",
    "\n",
    "gibbs_updater4 = GibbsUpdater(None, None, 0, 0, None, None) # all arguments are ultimately ignored, as they do not apply to this simple class"
   ]
  },
  {
   "cell_type": "markdown",
   "id": "1d757f1f-69b1-49d9-b13e-d88986edc654",
   "metadata": {
    "id": "1d757f1f-69b1-49d9-b13e-d88986edc654"
   },
   "source": [
    "Next, define the conditional posterior function for $A_\\sigma$ and $\\alpha_\\sigma$. Recall from way above that the argument passed to various `lmc` functions is somewhat arbitrary, being ultimately up to the user. In this case, we've written things such that this argument will be the parameter dictionary used in the conjugate updates. This means that you will need to get some other things from global scope.\n",
    "* The `data` and `richness` arrays can/should be directly referenced from global scope.\n",
    "* The values of $A_\\sigma$ and $\\alpha_\\sigma$ to test are obtained from `parameter_dict4['A_sigma']()` and `parameter_dict4['alpha_sigma']()` (or equivalently from `parameter_space4`). They should **not** be extracted from `par`, as `lmc` doesn't change that dictionary when proposing a step.\n",
    "\n",
    "In contrast, any other parameter values that you need can be accessed either from `par` or `parameter_dict4/parameter_space4`, since the `GibbsUpdater` synchronizes them. The exception to this is the group assignment arrays (`g0`, `g1`, ...) which are only in `par`. (But note that this function will be called after the conjugate updates, so they _will_ be there even though we haven't represented them yet.)"
   ]
  },
  {
   "cell_type": "code",
   "execution_count": null,
   "id": "63a0c398-1f2d-4d87-810d-0e015ad1f402",
   "metadata": {
    "deletable": false,
    "id": "63a0c398-1f2d-4d87-810d-0e015ad1f402",
    "nbgrader": {
     "cell_type": "code",
     "checksum": "2688ed61167e598e97b80afeebc0f241",
     "grade": false,
     "grade_id": "lnpost4a",
     "locked": false,
     "schema_version": 3,
     "solution": true,
     "task": false
    },
    "tags": []
   },
   "outputs": [],
   "source": [
    "def nongibbs_lnpost4(par):\n",
    "    # compute log priors\n",
    "    # sum up the log likelihood for each galaxy and bin\n",
    "    # return the log-posterior\n",
    "    # keep in mind that ONLY terms involving A_sigma and alpha_sigma need be included here\n",
    "# YOUR CODE HERE\n",
    "raise NotImplementedError()"
   ]
  },
  {
   "cell_type": "markdown",
   "id": "fcb4ba74-2994-401e-bd3f-0b400cb0a825",
   "metadata": {
    "id": "fcb4ba74-2994-401e-bd3f-0b400cb0a825",
    "nbgrader": {
     "grade": false,
     "grade_id": "lnpost4",
     "locked": false,
     "schema_version": 3,
     "solution": false,
     "task": false
    },
    "tags": []
   },
   "source": [
    "We'll want a function that provides a random starting point for chains, as in the previous sections, so we may as well write that before testing out the code above. Below, you'll need to provide initializations for all the parameters in `parameter_dict4`, which we then copy to a conjugate parameter dictionary. You will also need to supply proposal scales for $A_\\sigma$ and $\\alpha_\\sigma$ (the `width` attributes of the conjugate parameters will never be looked at)."
   ]
  },
  {
   "cell_type": "code",
   "execution_count": null,
   "id": "c7b0068b-6384-42d7-b68b-5b8f197753a4",
   "metadata": {
    "deletable": false,
    "id": "c7b0068b-6384-42d7-b68b-5b8f197753a4",
    "nbgrader": {
     "cell_type": "code",
     "checksum": "04750e41c16f75fc2024fbdc01f08407",
     "grade": false,
     "grade_id": "init4",
     "locked": false,
     "schema_version": 3,
     "solution": true,
     "task": false
    },
    "tags": []
   },
   "outputs": [],
   "source": [
    "def initialize_params4():\n",
    "    # Initialize global Parameter objects\n",
    "    # parameter_dict4['fb0'].set( ... )\n",
    "    # parameter_dict4['fb1'].set( ... )\n",
    "    # parameter_dict4['fb2'].set( ... )\n",
    "    # parameter_dict4['fb3'].set( ... )\n",
    "    # parameter_dict4['fb4'].set( ... )\n",
    "    # parameter_dict4['A_sigma'].set( ... )\n",
    "    # parameter_dict4['alpha_sigma'].set( ... )\n",
    "    # parameter_dict4['mu_b'].set( ... )\n",
    "    # parameter_dict4['sigma_b'].set( ... )\n",
    "    # parameter_dict4['A_sigma'].width = ...\n",
    "    # parameter_dict4['alpha_sigma'].width = ...\n",
    "    # YOUR CODE HERE\n",
    "    raise NotImplementedError()\n",
    "    # Copy everything to our conjugate-style parameter dictionary, and return it\n",
    "    params = {'gaussb':{'mu':parameter_dict4['mu_b'](), 'sigma2':parameter_dict4['sigma_b']()**2}}\n",
    "    for k in ['fb0', 'fb1', 'fb2', 'fb3', 'fb4', 'A_sigma', 'alpha_sigma']:\n",
    "        params[k] = parameter_dict4[k]()\n",
    "    for i in range(len(data)):\n",
    "        params['gauss'+str(i)] = {'mu':0.0, 'sigma2':(params['A_sigma']*(richness[i]/10.)**(params['alpha_sigma']))**2}\n",
    "    return params"
   ]
  },
  {
   "cell_type": "markdown",
   "id": "65d240eb-e6d7-49d7-a559-586e80707710",
   "metadata": {
    "id": "65d240eb-e6d7-49d7-a559-586e80707710"
   },
   "source": [
    "Check that this does something reasonable, and that the values stored in the two places agree:"
   ]
  },
  {
   "cell_type": "code",
   "execution_count": null,
   "id": "7ef530f4-e478-4448-9414-73c5afb8c62c",
   "metadata": {
    "deletable": false,
    "id": "7ef530f4-e478-4448-9414-73c5afb8c62c",
    "nbgrader": {
     "cell_type": "code",
     "checksum": "75f813af3e485fc78d632fcfec8b9d7c",
     "grade": false,
     "grade_id": "init4_sol",
     "locked": false,
     "schema_version": 3,
     "solution": true,
     "task": false
    },
    "tags": []
   },
   "outputs": [],
   "source": [
    "# YOUR CODE HERE\n",
    "raise NotImplementedError()\n",
    "params = initialize_params4()\n",
    "for p in parameter_dict4.keys():\n",
    "    print(p, '=', parameter_dict4[p]())\n",
    "params"
   ]
  },
  {
   "cell_type": "markdown",
   "id": "39e87b65-9180-4b99-82e6-975e4e748941",
   "metadata": {
    "id": "39e87b65-9180-4b99-82e6-975e4e748941"
   },
   "source": [
    "Next, let's check that the conjugate updating function appears to work (i.e. changes values to something finite/not entirely unreasonable, and adds the `g` parameters)..."
   ]
  },
  {
   "cell_type": "code",
   "execution_count": null,
   "id": "8cba7b8e-4563-4a59-b4a0-1b9a57804e04",
   "metadata": {
    "id": "8cba7b8e-4563-4a59-b4a0-1b9a57804e04"
   },
   "outputs": [],
   "source": [
    "gibbs_iteration4(data, params, hyperparams4)\n",
    "params"
   ]
  },
  {
   "cell_type": "markdown",
   "id": "2048343b-fd57-4e93-9171-4d586cc127da",
   "metadata": {
    "id": "2048343b-fd57-4e93-9171-4d586cc127da"
   },
   "source": [
    "... and that the conjugate posterior function for the other parameters behaves."
   ]
  },
  {
   "cell_type": "code",
   "execution_count": null,
   "id": "f9999f20-6eab-4a3f-b847-5bcdda6b6c5c",
   "metadata": {
    "deletable": false,
    "editable": false,
    "id": "f9999f20-6eab-4a3f-b847-5bcdda6b6c5c",
    "nbgrader": {
     "cell_type": "code",
     "checksum": "ca0612a18e7c9fa1a6b12337be06bec1",
     "grade": true,
     "grade_id": "lnpost4_test",
     "locked": true,
     "points": 1,
     "schema_version": 3,
     "solution": false,
     "task": false
    },
    "tags": []
   },
   "outputs": [],
   "source": [
    "lnp = nongibbs_lnpost4(params)\n",
    "print(lnp)\n",
    "assert np.isfinite(lnp)"
   ]
  },
  {
   "cell_type": "markdown",
   "id": "de567a3f-0a1d-4105-9712-505a69587c5a",
   "metadata": {
    "id": "de567a3f-0a1d-4105-9712-505a69587c5a"
   },
   "source": [
    "Just a couple final bits of setup. First we need to define the `ParameterSpace` that `lmc` will handle sampling with its own methods, based on the log-posterior function you wrote..."
   ]
  },
  {
   "cell_type": "code",
   "execution_count": null,
   "id": "fa4ac217-7c30-40c0-9249-1cc0d98bea59",
   "metadata": {
    "id": "fa4ac217-7c30-40c0-9249-1cc0d98bea59"
   },
   "outputs": [],
   "source": [
    "nongibbs_space4 = lmc.ParameterSpace([parameter_dict4['A_sigma'], parameter_dict4['alpha_sigma']], nongibbs_lnpost4)"
   ]
  },
  {
   "cell_type": "markdown",
   "id": "4761f687-9252-4363-b7d5-542180878817",
   "metadata": {
    "id": "4761f687-9252-4363-b7d5-542180878817"
   },
   "source": [
    "... and finally a function that is executed _after_ each iteration (that is, after performing both the conjugate and non-conjugate updates), which we can use to synchronize the non-conjugate parameter values back into our own dictionary."
   ]
  },
  {
   "cell_type": "code",
   "execution_count": null,
   "id": "fc92cdf2-d866-47b5-bb16-52b535cf2bd3",
   "metadata": {
    "id": "fc92cdf2-d866-47b5-bb16-52b535cf2bd3"
   },
   "outputs": [],
   "source": [
    "def onStep(par):\n",
    "    # set our dictionary from the lmc Parameters that the non-Gibbs updater just changed\n",
    "    for k in ['A_sigma', 'alpha_sigma']:\n",
    "        par[k] = parameter_dict4[k]()\n",
    "    # don't forget the cluster distribution widths for the individual bins!\n",
    "    for i in range(len(data)):\n",
    "        par['gauss'+str(i)]['sigma2'] = (par['A_sigma']*(richness[i]/10.)**(par['alpha_sigma']))**2"
   ]
  },
  {
   "cell_type": "markdown",
   "id": "a34f19a6-61c7-4e14-8e29-003d2e68ab33",
   "metadata": {
    "id": "a34f19a6-61c7-4e14-8e29-003d2e68ab33"
   },
   "source": [
    "### Running the MCMC\n",
    "\n",
    "Ok! Hopefully, we are now just about ready to push go and see what happens. But, before that, a tiny bit more explanation of this mixed sampling approach that has been implemented.\n",
    "\n",
    "In the chain-running cell below, you will see a familiar structure, and some unfamiliar code. For each chain, we use your `initialize_params4` function to provide a random starting position. What follows is some `lmc` setup that isn't needed for a bog-standard analysis. Namely, we explicitly select a proposal method for the non-conjugate parameters, in this case one that uses slice sampling to jointly update both parameters, adapting the proposal scale every so often (this is the default that was silently used in the first section). The `Engine` that runs the chain is created and told that each iteration consists of calling the conjugate parameter updater and the non-conjugate parameter updater (in order), followed by a call to the `onStep` function, and that it will be recording the values of all the parameters in `parameter_space4`. Finally, the call to the engine provides the data structure in which to store the parameter traces, and the `params` dictionary that is passed to the various updater functions above. You don't _have_ to understand how all this fits together; the point is more that mixed sampling like this is possible and sometimes advantageous.\n",
    "\n",
    "As always, you might want to run this first with a single, short chain just to verify that things are working."
   ]
  },
  {
   "cell_type": "code",
   "execution_count": null,
   "id": "4dd0c34b-4670-473b-9e2b-87fcb98a8837",
   "metadata": {
    "id": "4dd0c34b-4670-473b-9e2b-87fcb98a8837",
    "tags": []
   },
   "outputs": [],
   "source": [
    "%%time\n",
    "nchains = 4\n",
    "nsamples = 1500\n",
    "chains4 = [lmc.dictBackend() for i in range(nchains)]\n",
    "for chain in chains4:\n",
    "    params = initialize_params4()\n",
    "    nongibbs_updater4 = lmc.MultiDimRotationUpdater(nongibbs_space4, lmc.Slice(), 100, 100, None, None)\n",
    "    engine = lmc.Engine([gibbs_updater4, nongibbs_updater4], parameter_space4, onStep)\n",
    "    engine(nsamples, params, [chain])"
   ]
  },
  {
   "cell_type": "code",
   "execution_count": null,
   "id": "1b06f2ed-847f-49f1-8beb-9d75bb69b2c0",
   "metadata": {
    "id": "1b06f2ed-847f-49f1-8beb-9d75bb69b2c0"
   },
   "outputs": [],
   "source": [
    "chains4 = np.array([np.array([chain[p] for p in paramnames4]).T for chain in chains4])"
   ]
  },
  {
   "cell_type": "code",
   "execution_count": null,
   "id": "9d4f74c5-2868-4803-bd18-38196e63b2af",
   "metadata": {
    "id": "9d4f74c5-2868-4803-bd18-38196e63b2af"
   },
   "outputs": [],
   "source": [
    "fig, ax = plt.subplots(len(paramnames4), 1, figsize=(16.0, 2.0*len(paramnames4)));\n",
    "cr.plot_traces(chains4, ax, labels=param_labels4);"
   ]
  },
  {
   "cell_type": "markdown",
   "id": "ed11586d-fe3b-4937-8245-01d30a77cc74",
   "metadata": {
    "id": "ed11586d-fe3b-4937-8245-01d30a77cc74"
   },
   "source": [
    "Take us through the usual diagnostics."
   ]
  },
  {
   "cell_type": "code",
   "execution_count": null,
   "id": "ee01c2d8-682b-4432-aaaf-cbf6336f60c0",
   "metadata": {
    "deletable": false,
    "id": "ee01c2d8-682b-4432-aaaf-cbf6336f60c0",
    "nbgrader": {
     "cell_type": "code",
     "checksum": "46e48299f7bfb5b369472df647a25a29",
     "grade": false,
     "grade_id": "burn4",
     "locked": false,
     "schema_version": 3,
     "solution": true,
     "task": false
    },
    "tags": []
   },
   "outputs": [],
   "source": [
    "# burn4 = ...\n",
    "# YOUR CODE HERE\n",
    "raise NotImplementedError()"
   ]
  },
  {
   "cell_type": "code",
   "execution_count": null,
   "id": "0e00125b-4002-4024-b98d-d91bf1a45ca2",
   "metadata": {
    "id": "0e00125b-4002-4024-b98d-d91bf1a45ca2"
   },
   "outputs": [],
   "source": [
    "fig, ax = plt.subplots(len(paramnames4), 1, figsize=(16.0, 2.0*len(paramnames4)));\n",
    "cr.plot_traces(chains4[:,burn4:,:], ax, labels=param_labels4);"
   ]
  },
  {
   "cell_type": "code",
   "execution_count": null,
   "id": "2626a865-b988-47be-bc3b-7868237ee91b",
   "metadata": {
    "id": "2626a865-b988-47be-bc3b-7868237ee91b"
   },
   "outputs": [],
   "source": [
    "chains4 = chains4[:,burn4:,:]"
   ]
  },
  {
   "cell_type": "code",
   "execution_count": null,
   "id": "00733ae6-52b8-434e-935d-779444144beb",
   "metadata": {
    "deletable": false,
    "editable": false,
    "id": "00733ae6-52b8-434e-935d-779444144beb",
    "nbgrader": {
     "cell_type": "code",
     "checksum": "e0191e497fcd9a5660c6900f644a3924",
     "grade": true,
     "grade_id": "converge4",
     "locked": true,
     "points": 1,
     "schema_version": 3,
     "solution": false,
     "task": false
    },
    "tags": []
   },
   "outputs": [],
   "source": [
    "R = cr.GelmanRubinR(chains4)\n",
    "print('R =', R)\n",
    "assert np.all(R < 1.1)"
   ]
  },
  {
   "cell_type": "code",
   "execution_count": null,
   "id": "9c1ce714-29f5-41f5-8392-552a73232979",
   "metadata": {
    "id": "9c1ce714-29f5-41f5-8392-552a73232979"
   },
   "outputs": [],
   "source": [
    "maxlag4 = 500 # may need to adjust"
   ]
  },
  {
   "cell_type": "code",
   "execution_count": null,
   "id": "33bc22e1-9f84-4f64-9a52-6e2d5e0b22be",
   "metadata": {
    "deletable": false,
    "editable": false,
    "id": "33bc22e1-9f84-4f64-9a52-6e2d5e0b22be",
    "nbgrader": {
     "cell_type": "code",
     "checksum": "5868e5965320e6b621e93308e7fd3f6f",
     "grade": true,
     "grade_id": "neff4",
     "locked": true,
     "points": 1,
     "schema_version": 3,
     "solution": false,
     "task": false
    },
    "tags": []
   },
   "outputs": [],
   "source": [
    "neff = cr.effective_samples(chains4, maxlag=maxlag4, throw=True)\n",
    "print('neff =', neff)\n",
    "assert np.all(neff > 400)"
   ]
  },
  {
   "cell_type": "markdown",
   "id": "10573fb8-6146-4848-b758-4521ec92c74b",
   "metadata": {
    "id": "10573fb8-6146-4848-b758-4521ec92c74b"
   },
   "source": [
    "You will probably notice, above, that the effective number of samples for the non-conjugate parameters is much smaller than for the conjugate ones.\n",
    "\n",
    "Below is our slightly smaller triangle for this section."
   ]
  },
  {
   "cell_type": "code",
   "execution_count": null,
   "id": "f98adb6e-8ab5-4df3-b840-2175c0412fe8",
   "metadata": {
    "id": "f98adb6e-8ab5-4df3-b840-2175c0412fe8",
    "tags": []
   },
   "outputs": [],
   "source": [
    "plotGTC(np.concatenate(chains4), paramNames=param_labels4,\n",
    "        figureSize=12, customLabelFont={'size':12}, customTickFont={'size':12}, customLegendFont={'size':16});"
   ]
  },
  {
   "cell_type": "markdown",
   "id": "1d4b290f-3d67-4ea7-8405-f7e79c2b2c5c",
   "metadata": {
    "id": "1d4b290f-3d67-4ea7-8405-f7e79c2b2c5c"
   },
   "source": [
    "Finally, let's compare the posterior for $\\sigma_\\mathrm{cl}(\\lambda)$ with the non-hierarchical constraints from the last section, through the time-honored method of overplotting curves from many posterior samples, with transparency."
   ]
  },
  {
   "cell_type": "code",
   "execution_count": null,
   "id": "278e514b-8b79-4db9-a0f7-2425bcdd0bf2",
   "metadata": {
    "id": "278e514b-8b79-4db9-a0f7-2425bcdd0bf2"
   },
   "outputs": [],
   "source": [
    "xvals = np.arange(7,75)\n",
    "\n",
    "fig, ax = plt.subplots(1, 1, figsize=(6.0, 4.0));\n",
    "mid,low,high = np.quantile(chains3[:,:,np.arange(len(data))+len(data)], [0.5,0.1585, 0.8415], axis=(0,1))\n",
    "ax.errorbar(richness, mid, [mid-low, high-mid], fmt='.'); ax.set_xlabel(r'$\\lambda$'), ax.set_ylabel(r'$\\sigma_\\mathrm{cl}$');\n",
    "ax.set_xscale('log'); ax.set_yscale('log');\n",
    "for A,alpha in np.concatenate(chains4)[np.random.choice(np.prod(chains4.shape[0:2]), size=100), 5:7]:\n",
    "    yvals = A * (xvals / 10.)**alpha\n",
    "    ax.plot(xvals, yvals, color='C1', alpha=0.1, zorder=0);"
   ]
  },
  {
   "cell_type": "markdown",
   "id": "f500d887-76f9-47b8-9613-a571853dfd36",
   "metadata": {
    "id": "f500d887-76f9-47b8-9613-a571853dfd36"
   },
   "source": [
    "You can imagine going on to test whether the power law is a sufficient description of this scaling relation, but does it visually look consistent with the independent constraints from earlier?"
   ]
  },
  {
   "cell_type": "code",
   "execution_count": null,
   "id": "6de8a96a-5225-4836-84b7-9610d815a2a8",
   "metadata": {
    "deletable": false,
    "id": "6de8a96a-5225-4836-84b7-9610d815a2a8",
    "nbgrader": {
     "cell_type": "code",
     "checksum": "82a5370cac4c516073e75e1be0dbfd3a",
     "grade": false,
     "grade_id": "sense_end",
     "locked": false,
     "schema_version": 3,
     "solution": true,
     "task": false
    },
    "tags": []
   },
   "outputs": [],
   "source": [
    "I_have_pondered_this = False # make True when true\n",
    "# YOUR CODE HERE\n",
    "raise NotImplementedError()"
   ]
  },
  {
   "cell_type": "code",
   "execution_count": null,
   "id": "4dfa6199-a4bd-43b6-8337-928730601055",
   "metadata": {
    "deletable": false,
    "editable": false,
    "id": "4dfa6199-a4bd-43b6-8337-928730601055",
    "nbgrader": {
     "cell_type": "code",
     "checksum": "99bf6e414af1f6699e7a7e568aa856bc",
     "grade": true,
     "grade_id": "sense_end_test",
     "locked": true,
     "points": 1,
     "schema_version": 3,
     "solution": false,
     "task": false
    },
    "tags": []
   },
   "outputs": [],
   "source": [
    "assert I_have_pondered_this"
   ]
  },
  {
   "cell_type": "markdown",
   "id": "c499a0b6-9855-4df0-ab1d-d99ea259099b",
   "metadata": {
    "id": "c499a0b6-9855-4df0-ab1d-d99ea259099b"
   },
   "source": [
    "## Parting thoughts\n",
    "\n",
    "In this notebook, you got some experience with a small Gaussian mixture, implementing it with a traditional posterior-evaluation and with conjugate Gibbs sampling. The latter case demonstrated the introduction of latent parameters in a hierarchical setting. Here the Gibbs approach turned out to be more efficient in terms of time per effectively independent sample, but you can imagine that juggling an additional vector of parameters that scales with the size of the data set isn't _always_ the best decision. We'll also note that for models more complex than this (arguably even for this one), we should probably have used JAGS or a similar Gibbs sampling code, rather than implementing the updates ourselves. Too bad we are allergic to installing non-Python software in this class.\n",
    "\n",
    "You also got some practice implementing a simple modeling hierarchy - the shared background distribution - and a slightly less simple one - the power-law scaling relation. The latter gave us an excuse to demonstrate the use of different sampling methods for different subsets of parameters. This is a nice option to know about for those times that you have intimate knowledge of the model and canned algorithms aren't efficient enough to be practical.\n",
    "\n",
    "This was a slightly unusual case in that the cluster member velocities genuinely should be Gaussian based on physical considerations, while the background component was surprisingly well described by a single additional Gaussian. Perhaps a more common use of GMMs is to marginalize over a potentially complicated distribution which constitutes a \"nuisance\" part of the model. That is, where we don't care about the model being physically interpretable, and just throw enough Gaussians at the problem to reproduce the data. There are interesting problems that arise in so doing, such as deciding how many is \"enough\", and the sampling quirks that follow from the exchangeability of Gaussians in the mixture (i.e. the same posterior probability can be obtained by swapping parameters between components). These aren't reasons to avoid mixture models, but in general we should be careful not to overinterpret the GMM parameters as meaning that there actually _are_ a certain number of distinct components making up a given distribution."
   ]
  }
 ],
 "metadata": {
  "colab": {
   "provenance": [],
   "toc_visible": true
  },
  "kernelspec": {
   "display_name": "Python 3 (ipykernel)",
   "language": "python",
   "name": "python3"
  },
  "language_info": {
   "codemirror_mode": {
    "name": "ipython",
    "version": 3
   },
   "file_extension": ".py",
   "mimetype": "text/x-python",
   "name": "python",
   "nbconvert_exporter": "python",
   "pygments_lexer": "ipython3",
   "version": "3.12.5"
  },
  "toc-autonumbering": false,
  "toc-showcode": false,
  "toc-showmarkdowntxt": false,
  "toc-showtags": false
 },
 "nbformat": 4,
 "nbformat_minor": 5
}
