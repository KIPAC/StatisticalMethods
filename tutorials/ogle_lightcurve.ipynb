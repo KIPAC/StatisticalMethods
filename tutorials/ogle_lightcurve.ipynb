{
 "cells": [
  {
   "cell_type": "markdown",
   "metadata": {},
   "source": [
    "# Tutorial: Lightcurve Data\n",
    "\n",
    "In the next couple of notebooks, we'll be looking at data from the Optical Gravitational Lensing Experiment (OGLE), which monitors stars in our galaxy in the hopes of detecting gravitational microlensing events that occur when a compact mass (e.g. a fainter star) passes in front of the monitored star.\n",
    "\n",
    "Data are available through the [OGLE Early Warning System](http://ogle.astrouw.edu.pl/ogle4/ews/ews.html). Take a minute to browse around. Scroll down a bit to the list of recent events, click on one, and have a look. The event summary page will include a plot like this.\n",
    "\n",
    "<table>\n",
    "    <tr>\n",
    "        <td><img src=\"http://ogle.astrouw.edu.pl/ogle4/ews/2016/data/2016/blg-0001/lcurve.gif\" width=75%></td>\n",
    "    </tr>\n",
    "</table>\n",
    "\n",
    "As long as a vaguely reasonable looking magenta line is shown, it should be a good data set to fit. It might be fun to choose your own lightcurve to work with for this problem, but if you run into trouble and need to check against our solution, you can backtrack and work with [this specific event from 2016](http://ogle.astrouw.edu.pl/ogle4/ews/2016/blg-0001.html).\n",
    "\n",
    "Download the `phot.dat` file for your chosen event (linked at the bottom of the event's webpage)."
   ]
  },
  {
   "cell_type": "markdown",
   "metadata": {},
   "source": [
    "## Read in the data file\n",
    "\n",
    "As described on the OGLE page, the columns of this text file are\n",
    "\n",
    "`Hel.JD, I magnitude, magnitude error, seeing estimation (in pixels - 0.26\"/pixel),  sky level`\n",
    "\n",
    "1. Heliocentric Julian Date. This is time, measured in days, since a fixed reference. The \"heliocentric\" part means that it has been corrected to the reference frame of the Sun, i.e. the few minutes of light travel time more or less that would affect photon arrivals at different parts of the Earth's year have been subtracted off.\n",
    "\n",
    "2. Measurements of magnitude in the $I$ band (a near infrared band). Recall that astronomical magnitude, relative to a given reference source, is given by the relationship $m = m_\\mathrm{ref} - 2.5\\,\\log_{10}\\left(\\frac{F}{F_\\mathrm{ref}}\\right)$, where $F$ is flux.\n",
    "\n",
    "3. Measurement uncertainty on the $I$ magnitude, defined in some unspecified way (digging through papers might elucidate this).\n",
    "\n",
    "4. Some estimate of the seeing (the width of the PSF) during the observation. (Since these are ground-based observatios, the PSF varies with time, depending on the weather.)\n",
    "\n",
    "5. An estimate of the brightness of the sky (the primary background) in $I$ band during the observation."
   ]
  },
  {
   "cell_type": "code",
   "execution_count": null,
   "metadata": {},
   "outputs": [],
   "source": [
    "exec(open('tbc.py').read()) # define TBC and TBC_above\n",
    "import numpy as np\n",
    "import matplotlib\n",
    "matplotlib.use('TkAgg')\n",
    "import matplotlib.pyplot as plt\n",
    "%matplotlib inline"
   ]
  },
  {
   "cell_type": "markdown",
   "metadata": {},
   "source": [
    "Use `numpy` to read in the file:"
   ]
  },
  {
   "cell_type": "code",
   "execution_count": null,
   "metadata": {},
   "outputs": [],
   "source": [
    "TBC()\n",
    "# dat = np.loadtxt('../ignore/phot.dat') # edit path if needed"
   ]
  },
  {
   "cell_type": "markdown",
   "metadata": {},
   "source": [
    "As promised, this is a simple text table with 5 columns."
   ]
  },
  {
   "cell_type": "code",
   "execution_count": null,
   "metadata": {},
   "outputs": [],
   "source": [
    "dat.shape"
   ]
  },
  {
   "cell_type": "markdown",
   "metadata": {},
   "source": [
    "Let's extract the first 3 columns. We'll ignore the others, since the seeing and sky level have been accounted for already.\n",
    "\n",
    "As you can see in the plot above, HJD is a huge number. Let's follow suit by subtracting something off of it, so that we're left with a number of order only thousands."
   ]
  },
  {
   "cell_type": "code",
   "execution_count": null,
   "metadata": {},
   "outputs": [],
   "source": [
    "t = dat[:,0] # date\n",
    "I = dat[:,1] # brightness\n",
    "Ierr = dat[:,2] # brightness uncertainty\n",
    "\n",
    "t0 = 2450000.\n",
    "t -= t0"
   ]
  },
  {
   "cell_type": "markdown",
   "metadata": {},
   "source": [
    "Check that we can reproduce the plot from the webpage:"
   ]
  },
  {
   "cell_type": "code",
   "execution_count": null,
   "metadata": {},
   "outputs": [],
   "source": [
    "plt.rcParams['figure.figsize'] = (7.0, 5.0)\n",
    "plt.errorbar(t, I, yerr=Ierr, fmt='none');\n",
    "plt.xlabel('HJD - '+str(t0), fontsize=14);\n",
    "plt.ylabel('I-band magnitude', fontsize=14);\n",
    "plt.gca().invert_yaxis();"
   ]
  },
  {
   "cell_type": "markdown",
   "metadata": {},
   "source": [
    "## Model\n",
    "\n",
    "An excellent resource for gravitational lensing background (among other things) is [Peter Schneider's _Extragalactic Astronomy and Cosmology_](http://www.springer.com/us/book/9783642540820). It looks like we can download a pdf of the entire book for free (at least from within the Stanford network [Endnote 1]), which is awesomeness incarnate. In the 2015 edition, the relevant section for Galactic microlensing is 2.5 (page 77), and the equations defining the microlensing model lightcurve are 2.92 and 2.93. You don't actually need to read all this, but it can be nice to get some intuition about what's underneath the data.\n",
    "\n",
    "The flux as a function of time, as enhanced by a microlensing event, is given by\n",
    "\n",
    "$F(t) = F_0 \\frac{y(t)^2 + 2}{y(t)\\sqrt{y(t)^2+4}}$,\n",
    "\n",
    "where\n",
    "\n",
    "$y(t) = \\sqrt{p^2 + \\left( \\frac{t-t_\\mathrm{max}}{t_\\mathrm{E}} \\right)^2}$.\n",
    "\n",
    "The parameters can be broadly interpretted as\n",
    "* $F_0$ is the flux in the absence of microlensing;\n",
    "* $p$ is related to the impact parameter (in projection) of the lens as is passes in front of the star, so small $p$ implies more magnification;\n",
    "* $t_\\mathrm{max}$ is the time of maximum magnification; and\n",
    "* $t_\\mathrm{E}$ sets the width of the enhancement in the lightcurve."
   ]
  },
  {
   "cell_type": "markdown",
   "metadata": {},
   "source": [
    "In practice, you'll of course also need the transformation between flux and magnitude, above. For convenience, let's parameterize the normalization of the model lightcurve in magnitudes rather than flux, i.e. $I_0$ rather than $F_0$; that way, all of the \"ref\" quantities in the magnitude definition are absorbed into this new parameter and we won't have to worry about them explicitly. With that substitution, the model parameters are $I_0$, $p$, $t_\\mathrm{max}$ and $t_\\mathrm{E}$.\n",
    "\n",
    "Lacking any better information, we'll assume that the sampling distributions for the magnitude measurements are Gaussian and independent, with means given by the \"magnitude\" column and standard deviations given by the \"magnitude error\" column, and that the time stamps are exact."
   ]
  },
  {
   "cell_type": "markdown",
   "metadata": {},
   "source": [
    "Using the equations above, implement a function predicting the $I$-band magnitude for a microlensing event as a function of $t$ given $I_0$, $p$, $t_\\mathrm{max}$ and $t_\\mathrm{E}$. By trial and error (possibly) plot a vaguely sensible model over the data. You should be able to come up with broadly reasonable guesses at the parameter values by inspection, apart from $p$ which will be of order 1."
   ]
  },
  {
   "cell_type": "code",
   "execution_count": null,
   "metadata": {},
   "outputs": [],
   "source": [
    "def model_I(t, I0, p, tmax, tE):\n",
    "    \"\"\"\n",
    "    Return the model lightcurve in magnitude units, I(t)\n",
    "    \"\"\"\n",
    "    TBC()\n",
    "\n",
    "TBC_above()"
   ]
  },
  {
   "cell_type": "markdown",
   "metadata": {},
   "source": [
    "This cell will make the plot, once you fill in parameter values:"
   ]
  },
  {
   "cell_type": "code",
   "execution_count": null,
   "metadata": {},
   "outputs": [],
   "source": [
    "plt.rcParams['figure.figsize'] = (7.0, 5.0)\n",
    "plt.errorbar(t, I, yerr=Ierr, fmt='none');\n",
    "plt.xlabel('HJD - '+str(t0), fontsize=14);\n",
    "plt.ylabel('I-band magnitude', fontsize=14);\n",
    "plt.gca().invert_yaxis();\n",
    "tgrid = np.linspace(t.min(), t.max(), 1000)\n",
    "TBC() # plt.plot(tgrid, model_I(tgrid, ..."
   ]
  },
  {
   "cell_type": "markdown",
   "metadata": {},
   "source": [
    "With that, we're ready to move on the the fun stuff in the next tutorial."
   ]
  },
  {
   "cell_type": "markdown",
   "metadata": {},
   "source": [
    "Endnotes:\n",
    "1. Stanford access may not work through the VPN (less awesome), but the PDF can be accessed if you use the Stanford libraries browser extension detailed on the [Stanford library e-resources page](https://library.stanford.edu/using/connect-e-resources)."
   ]
  }
 ],
 "metadata": {
  "anaconda-cloud": {},
  "kernelspec": {
   "display_name": "Python 3",
   "language": "python",
   "name": "python3"
  },
  "language_info": {
   "codemirror_mode": {
    "name": "ipython",
    "version": 3
   },
   "file_extension": ".py",
   "mimetype": "text/x-python",
   "name": "python",
   "nbconvert_exporter": "python",
   "pygments_lexer": "ipython3",
   "version": "3.7.9"
  }
 },
 "nbformat": 4,
 "nbformat_minor": 2
}
