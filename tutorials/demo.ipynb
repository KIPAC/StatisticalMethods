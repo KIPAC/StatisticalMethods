{
 "cells": [
  {
   "cell_type": "markdown",
   "metadata": {},
   "source": [
    "# Tutorial: Demo\n",
    "\n",
    "This notebook demonstrates the logistics of completing one of these assignments.\n",
    "\n",
    "The first things to say is that you cannot complete one of these tutorials if you are viewing it as HTML in a web browser! You will need to be able to make changes and _run_ the notebook in Jupyter, either on your own computer or some remote system (see [Assignments](../notes/assignments.ipynb) and [Getting Started](../notes/getting_started.ipynb))."
   ]
  },
  {
   "cell_type": "markdown",
   "metadata": {},
   "source": [
    "## Code stuff\n",
    "\n",
    "The first executable block of one of these notebooks is always:"
   ]
  },
  {
   "cell_type": "code",
   "execution_count": null,
   "metadata": {},
   "outputs": [],
   "source": [
    "exec(open('tbc.py').read()) # define TBC and TBC_above"
   ]
  },
  {
   "cell_type": "markdown",
   "metadata": {},
   "source": [
    "The file `tbc.py` is located in the same directory as the tutorial notebooks, so you will need to either modify the cell or copy/link the file if you are working elsewhere for some reason. It provides the `TBC` (to be completed) functions described below, which you will find everywhere you are expected to provide a missing solution. (There is a reason we use this inelegant construction rather than `import`, but not an interesting one.)\n",
    "\n",
    "A notebook typically has a great deal of narrative text, and a great deal of functional code provided. This is because we are not concerned with having you learn obscure python shortcuts or the minutia of making plots with `matplotlib.pyplot`, for example. Code of that nature will usually be given to you, and you can learn from it if it's useful (or not, if you know better ways of doing something than we do). However, when it comes to implementing the statistical methods we study in this course, you will find lines and blocks of code that need to be completed.\n",
    "\n",
    "Here's a simple example of such a cell:"
   ]
  },
  {
   "cell_type": "code",
   "execution_count": null,
   "metadata": {},
   "outputs": [],
   "source": [
    "# For no good reason, let's define x to be 3.14159.\n",
    "TBC() # x = ..."
   ]
  },
  {
   "cell_type": "markdown",
   "metadata": {},
   "source": [
    "Try to run the cell as it stands, and you'll see an `Exception` reminding you that there is a TBC line that needs to be completed. Between the textual and psuedo-code comments, it should be clear that you're expected to assign the variable `x` a numeric value. So, you might edit the code block as follows:"
   ]
  },
  {
   "cell_type": "code",
   "execution_count": null,
   "metadata": {},
   "outputs": [],
   "source": [
    "# For no good reason, let's define x to be 3.14159.\n",
    "x = 3.14159"
   ]
  },
  {
   "cell_type": "markdown",
   "metadata": {},
   "source": [
    "Feel free to delete/replace the `TBC` line in the original cell. We only added a second cell here to show the before and after.\n",
    "\n",
    "You'll also see to-be-completed function and class definitions, for example:"
   ]
  },
  {
   "cell_type": "code",
   "execution_count": null,
   "metadata": {},
   "outputs": [],
   "source": [
    "# Define f to be a very stupid function.\n",
    "def f(a, b):\n",
    "    \"\"\"\n",
    "    Add a and b.\n",
    "    Arguments\n",
    "     a: something to add to b\n",
    "     b: something to add to a\n",
    "    Return value: a+b\n",
    "    \"\"\"\n",
    "    TBC()\n",
    "    # In real life, there might be some suggested code or pseudo-code here.\n",
    "\n",
    "TBC_above()"
   ]
  },
  {
   "cell_type": "markdown",
   "metadata": {},
   "source": [
    "Notice that there is a `TBC` in the function where you are expected to provide a solution, and a `TBC_above` call at the end of the cell. The latter is just to ensure that you don't accidentally run through the cell without realizing that there's work to be done, since the `TBC` within the function definition isn't triggered until the function is called. If you comment the `TBC_above` and run the cell, you'll see what happens when trying to use `f` below; this might be a useful trick if you want to put off completing the definition of `f` until absolutely necessary for some reason."
   ]
  },
  {
   "cell_type": "code",
   "execution_count": null,
   "metadata": {},
   "outputs": [],
   "source": [
    "f(5,-3)"
   ]
  },
  {
   "cell_type": "markdown",
   "metadata": {},
   "source": [
    "Naturally, a completed cell would look something like:"
   ]
  },
  {
   "cell_type": "code",
   "execution_count": null,
   "metadata": {},
   "outputs": [],
   "source": [
    "# Define f to be a very stupid function.\n",
    "def f(a, b):\n",
    "    \"\"\"\n",
    "    Add a and b.\n",
    "    Arguments\n",
    "     a: something to add to b\n",
    "     b: something to add to a\n",
    "    Return value: a+b\n",
    "    \"\"\"\n",
    "    return a+b"
   ]
  },
  {
   "cell_type": "markdown",
   "metadata": {},
   "source": [
    "Finally, each notebook will typically include at least one point where your work can be instantly compared to a known solution. Often, this involves reading in previously generated results of some kind from the `solutions` directory. In the case of the particularly simple tasks above, the correct answers might be directly included in the notebook, as below:"
   ]
  },
  {
   "cell_type": "code",
   "execution_count": null,
   "metadata": {},
   "outputs": [],
   "source": [
    "# Check value of x - should evaluate to zero\n",
    "x - 3.14159"
   ]
  },
  {
   "cell_type": "code",
   "execution_count": null,
   "metadata": {},
   "outputs": [],
   "source": [
    "# Check f - third entry on each line should be zero\n",
    "print(1, 1, f(1,1)-2)\n",
    "print(9, 4, f(9,4)-13)\n",
    "print(5, -2, f(5,-2)-3)"
   ]
  },
  {
   "cell_type": "markdown",
   "metadata": {},
   "source": [
    "# Non-code stuff\n",
    "\n",
    "You will also be asked to do things other than writing code. Text responses can be filled in using markdown-mode cells like this one. When executed, simple text in these cells will be displayed nicely as... simple text. You probably will never need to use markdown formatting, but there is a guide [here](https://www.markdownguide.org/basic-syntax/) if you want."
   ]
  },
  {
   "cell_type": "markdown",
   "metadata": {},
   "source": [
    "You _will_ need to write some equations, however. These can be included in markdown cells using LaTeX syntax, between $ characters. Here is an example (double-click this cell in Jupyter to see the underlying code):\n",
    "\n",
    "$f(a,b) = a+b = e^{\\ln(a+b)} = \\frac{1}{e^{-\\ln(a+b)}}$\n",
    "\n",
    "If you're not yet a LaTeX magician, don't worry; you'll probably see everything you need for the moment as we go. When in doubt, the appendices of [this guide](http://www.math.hkbu.edu.hk/TeX/essential.pdf) list many helpful math commands."
   ]
  },
  {
   "cell_type": "markdown",
   "metadata": {},
   "source": [
    "Finally, you will be asked make simple sketches of what are called Probabilistic Graphical Models (the free body diagrams of statistics!) and possibly some other cartoons of a physical model. You can produce an image file however you like (I usually resort to exporting from Google Drawings or Slides when the result doesn't need to be pretty). They can then be displayed in a markdown cell using embedded HTML as below:\n",
    "\n",
    "<table><tr width=90%>\n",
    "<td><img src=\"graphics/demo.png\"></td>\n",
    "</tr></table>"
   ]
  }
 ],
 "metadata": {
  "kernelspec": {
   "display_name": "Python 3",
   "language": "python",
   "name": "python3"
  },
  "language_info": {
   "codemirror_mode": {
    "name": "ipython",
    "version": 3
   },
   "file_extension": ".py",
   "mimetype": "text/x-python",
   "name": "python",
   "nbconvert_exporter": "python",
   "pygments_lexer": "ipython3",
   "version": "3.7.9"
  }
 },
 "nbformat": 4,
 "nbformat_minor": 2
}
