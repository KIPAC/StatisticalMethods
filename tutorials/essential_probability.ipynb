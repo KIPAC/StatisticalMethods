{
 "cells": [
  {
   "cell_type": "markdown",
   "metadata": {},
   "source": [
    "# Tutorial: Essential Probability\n",
    "\n",
    "## Analytic and numerical manipulations of probability distributions\n",
    "\n",
    "In this notebook we will work through some basic manipulations of probability distributions, e.g. marginalization and conditioning. We'll use a bivariate Gaussian distribution because so many manipulations one might do are analytic, which provides a cross-check.\n",
    "\n",
    "By the end of the notebook, you should be able to:\n",
    "\n",
    "* Compute marginal and conditional probabilities, both analytically and numerically \n",
    "* Use normalization as a check of your calculations\n",
    "\n",
    "Here is some information about multivariate Gaussians, and in particular identities for conditional and marginal distributions: https://en.wikipedia.org/wiki/Multivariate_normal_distribution#Joint_normality\n",
    "\n",
    "Potentially useful definitions for univariate probability distributions:\n",
    "* marginalization (continuous variables): $p(x) = \\int p(x,y)\\,dy$\n",
    "* conditioning: $p(x|y) = p(x,y)/p(y)$\n",
    "\n",
    "**Note:** Equations in markdown cells are coded in LaTeX, between $'s. Examine this cell in edit mode (double click it) to see. If you're not yet a LaTeX magician, don't worry; you'll probably see everything you need for the moment as we go. When in doubt, the appendices of [this guide](http://www.math.hkbu.edu.hk/TeX/essential.pdf) list many helpful math commands.\n",
    "\n",
    "**Note 2:** This is one of very few times in the course when you will be asked to do math. Looking up and reporting the answer, or resorting to a program like Mathematica (except for things you might find in a table of integrals), are therefore not ok. Either some working out or argumentation (see below) should be shown."
   ]
  },
  {
   "cell_type": "markdown",
   "metadata": {},
   "source": [
    "### Unsolicited advice\n",
    "\n",
    "It is possible to solve **all** of the analytic stuff in this notebook without once carrying out an integral by hand, and you are strongly encouraged to do so. The key is to use the properties of PDFs. When we work with probability densities, we are in a tiny and specialized corner of the space of all calculus, and there are **loads** of shortcuts. Of note here:\n",
    "* **Any** PDF is by definition normalized, whether marginal, conditional or other. If we can represent it with a lower-case $p$, the indefinite integral over its support is 1. Use this.\n",
    "* When manipulating expressions for PDFs, it's often enough to focus on their functional dependence on random variables. Normalizing coefficients (that don't depend on random variables) can be put out of your mind. Why? Because, again, PDFs must be normalized, and will be automatically as long as we don't accidentally break any rules of probability calculus. Say I'm manipulating a PDF, $p(x)$, and find that it can be written as $e^{-x}x^a\\times(\\mathrm{ugly~combination~of~constants})$. The $x$ dependence of this is the same as the Poisson PDF, so (ipso facto!) $p(x)$ must be Poisson. Not only that, but the ugly coefficient must simplify to $a!$ such that $p(x)$ is normalized, and we don't even need to bother working through it!\n",
    "\n",
    "These are REALLY helpful shortcuts to get comfortable with.\n",
    "\n",
    "To provide a little more motivation, the solutions in part 1 can be written down essentially immediately using the properties of PDFs covered in the notes. With a little algebraic manipulation, the joint PDF in part 2 can be rearranged into something recognizable as either a product $p(x)p(y|x)$ or $p(y)p(x|y)$, depending how you group terms. There is no need to do any actual calculus here."
   ]
  },
  {
   "cell_type": "markdown",
   "metadata": {},
   "source": [
    "## 0. Setup\n",
    "\n",
    "Import packages"
   ]
  },
  {
   "cell_type": "code",
   "execution_count": null,
   "metadata": {},
   "outputs": [],
   "source": [
    "TutorialName = 'essential_probability'\n",
    "exec(open('tbc.py').read()) # define TBC and TBC_above\n",
    "import numpy as np\n",
    "import matplotlib\n",
    "matplotlib.use('TkAgg')\n",
    "import matplotlib.pyplot as plt\n",
    "%matplotlib inline"
   ]
  },
  {
   "cell_type": "markdown",
   "metadata": {},
   "source": [
    "## 1. Uncorrelated distributions\n",
    "\n",
    "We start with a simple 2D _uncorrelated_ Gaussian probability distribution: $x$ and $y$ are independent. The function below defines this distribution (you can also find a 2D gaussian in `scipy.stats`, but for now we'll write our own). When $x$ and $y$ are uncorrelated, their joint 2D Gaussian distribution is nothing more that the product of a 1D Gaussian over $x$ and a 1D Gaussian over $y$."
   ]
  },
  {
   "cell_type": "code",
   "execution_count": null,
   "metadata": {},
   "outputs": [],
   "source": [
    "# dict of parameter values: the means and standard deviations for x and y\n",
    "unc = {'mx':1.0, 'my':2.3, 'sx':1.0, 'sy':0.5}\n",
    "\n",
    "def unc_p_xy(x, y, mx, my, sx, sy):\n",
    "    '''returns pdf of 2D uncorrelated gaussian distribution evaluated at (x,y)'''\n",
    "    return np.exp(-0.5 * ( ((x-mx)/sx)**2 + ((y-my)/sy)**2 )) / (2*np.pi * sx * sy)"
   ]
  },
  {
   "cell_type": "markdown",
   "metadata": {},
   "source": [
    "### 1a. Analytics: marginalizing and conditioning"
   ]
  },
  {
   "cell_type": "markdown",
   "metadata": {},
   "source": [
    "Let's start with analytic manipulations. First write down the marginal probability distributions for $p(x)$ and $p(y)$.\n",
    "\n",
    "Note: you will want to change the mode of the cell below, and in subsequent non-code responses, to Markdown to use LaTeX mode and/or insert images."
   ]
  },
  {
   "cell_type": "code",
   "execution_count": null,
   "metadata": {},
   "outputs": [],
   "source": [
    "TBC()"
   ]
  },
  {
   "cell_type": "markdown",
   "metadata": {},
   "source": [
    "Now, using properties of conditional distributions, work out $p(x|y)$ and $p(y|x)$:"
   ]
  },
  {
   "cell_type": "code",
   "execution_count": null,
   "metadata": {},
   "outputs": [],
   "source": [
    "TBC()"
   ]
  },
  {
   "cell_type": "markdown",
   "metadata": {},
   "source": [
    "Now that you have the equations, code them up as functions in the cell below. Replace the TBC() calls with your solution, and delete the TBC_above() command outright. We will use these functions to compare our analytic and numerical results in later sections of this notebook.\n",
    "\n",
    "**Aside:** If the `**kwargs` syntax below is unfamiliar, have a look [here](https://book.pythontips.com/en/latest/args_and_kwargs.html). In brief, in an argument list this is shorthand for any number of keyword arguments the user might pass. If we called `unc_p_x_given_y(1, 2, mx=3)` later on, then within the `unc_p_x_given_y` function scope we would have access to a dictionary called `kwargs` which would be `{'mx':3}`. We can (and will) also make calls like `unc_p_x(1, **unc)`; this is executed as if it were `unc_p_x(1, mx=1.0, my=2.3, sx=1.0, sy=0.5)` (see the definition of `unc` above). You're obviously **not required** to use this syntax in your own code, but it's convenient enough that you'll be seeing a lot of it in these notebooks. (Incidentally, the fact that we used `**kwargs` in some of the prototypes below is a pretty heavy hint, once you're fluent with the syntax.)"
   ]
  },
  {
   "cell_type": "code",
   "execution_count": null,
   "metadata": {},
   "outputs": [],
   "source": [
    "def unc_p_x(x, mx, my, sx, sy):\n",
    "    '''returns p(x) for uncorrelated 2D Gaussian distribution'''\n",
    "    TBC()\n",
    "\n",
    "def unc_p_y(y, mx, my, sx, sy):\n",
    "    '''returns p(y) for uncorrelated 2D Gaussian distribution'''\n",
    "    TBC()\n",
    "\n",
    "def unc_p_x_given_y(x, y, **kwargs):\n",
    "    '''returns p(x|y) for uncorrelated 2D Gaussian distribution'''\n",
    "    TBC()\n",
    "\n",
    "def unc_p_y_given_x(y, x, **kwargs):\n",
    "    '''returns p(x|y) for uncorrelated 2D Gaussian distribution'''\n",
    "    TBC()\n",
    "\n",
    "TBC_above()"
   ]
  },
  {
   "cell_type": "markdown",
   "metadata": {},
   "source": [
    "### 1b. Numerics: probabilities on a grid\n",
    "\n",
    "For our numerical caluations we will use a grid. This has been implemented for you in the next cell using the handy `np.meshgrid()` function. \n",
    "\n",
    "The grid resolution is deliberately chosen to be different with respect to to the distribution widths in $x$ and $y$. That way, if we even get confused about which index corresponds to $x$ and which to $y$, we just need to look at the shape of the grid. The bounds are chosen to contain most of $p(x,y)$. Of course, you can play with all of these things and see what changes (or doesn't) as a result!"
   ]
  },
  {
   "cell_type": "code",
   "execution_count": null,
   "metadata": {},
   "outputs": [],
   "source": [
    "# x bounds\n",
    "xmin = -4.0\n",
    "xmax = 6.0\n",
    "dx = 0.1\n",
    "\n",
    "# y bounds\n",
    "ymin = -0.2\n",
    "ymax = 4.8\n",
    "dy = 0.1\n",
    "\n",
    "# defind the x and y values and the meshgrid\n",
    "xvalues = np.arange(xmin, xmax+dx, dx)\n",
    "yvalues = np.arange(ymin, ymax+dy, dy)\n",
    "grid_x, grid_y = np.meshgrid(xvalues, yvalues, indexing='ij')"
   ]
  },
  {
   "cell_type": "markdown",
   "metadata": {},
   "source": [
    "Note the `indexing='ij'` option to `meshgrid`.\n",
    "This makes it return arrays where the first index corresponds to $x$ and the second to $y$ instead of vice versa.\n",
    "The result is a much better convention in terms of generalizing to higher dimensions (and it corresponds to our usual mathematical notation), but it means we will need to transpose arrays before plotting them if we want $x$ to appear on the horizontal axis and $y$ to appear on the vertical axis."
   ]
  },
  {
   "cell_type": "code",
   "execution_count": null,
   "metadata": {},
   "outputs": [],
   "source": [
    "# plot the x and y grids as a sanity check\n",
    "plt.rcParams['figure.figsize'] = (14.0, 5.0)\n",
    "fig, ax = plt.subplots(1,2);\n",
    "ax[0].imshow(grid_x.T, cmap='gray', origin='lower', extent=[xmin, xmax, ymin, ymax]);\n",
    "ax[1].imshow(grid_y.T, cmap='gray', origin='lower', extent=[xmin, xmax, ymin, ymax]);"
   ]
  },
  {
   "cell_type": "markdown",
   "metadata": {},
   "source": [
    "Let's evaluate $p(x,y)$ on this grid and visualize the probability distribution:"
   ]
  },
  {
   "cell_type": "code",
   "execution_count": null,
   "metadata": {},
   "outputs": [],
   "source": [
    "# evaluate p(x,y)\n",
    "ugrid_p_xy = unc_p_xy(grid_x, grid_y, **unc)"
   ]
  },
  {
   "cell_type": "code",
   "execution_count": null,
   "metadata": {},
   "outputs": [],
   "source": [
    "plt.rcParams['figure.figsize'] = (7.0, 5.0)\n",
    "plt.imshow(ugrid_p_xy.T, origin='lower', extent=[xmin, xmax, ymin, ymax]);\n",
    "plt.xlabel('x');\n",
    "plt.ylabel('y');"
   ]
  },
  {
   "cell_type": "markdown",
   "metadata": {},
   "source": [
    "### 1c. Comparing analytic and numerical results of marginal distributions"
   ]
  },
  {
   "cell_type": "markdown",
   "metadata": {},
   "source": [
    "#### First, $p(x)$\n",
    "The above plot shows $p(x,y)$; we want to marginalize over $y$ to find $p(x)$. It may help to write the equation down before jumping straight into code. How would you do this marginalization on a discrete grid?\n",
    "\n",
    "> $p(x)$ = "
   ]
  },
  {
   "cell_type": "code",
   "execution_count": null,
   "metadata": {},
   "outputs": [],
   "source": [
    "# Marginalize over y. The result should be a 1D array, since it is still a function of x.\n",
    "# As you might guess, the comment below indicates that the remaining notebook cells assume your answer is stored\n",
    "# in a variable named ugrid_p_x.\n",
    "\n",
    "TBC() \n",
    "# ugrid_p_x = ..."
   ]
  },
  {
   "cell_type": "markdown",
   "metadata": {},
   "source": [
    "Let's have a look. The grid calculation above should match the analytic result very closely."
   ]
  },
  {
   "cell_type": "code",
   "execution_count": null,
   "metadata": {},
   "outputs": [],
   "source": [
    "plt.rcParams['figure.figsize'] = (7.0, 5.0)\n",
    "plt.plot(xvalues, ugrid_p_x, 'bo', label='grid calculation');\n",
    "plt.plot(xvalues, unc_p_x(xvalues, **unc), 'r-', label='analytic expression');\n",
    "plt.xlabel('x');\n",
    "plt.ylabel('p(x)');\n",
    "plt.legend();"
   ]
  },
  {
   "cell_type": "markdown",
   "metadata": {},
   "source": [
    "One of the defining features of a probability distribution is that it integrates to 1. Verify by a quick calculation that our discrete approximation for $p(x)$, `ugrid_p_x` , is indeed normalized:"
   ]
  },
  {
   "cell_type": "code",
   "execution_count": null,
   "metadata": {},
   "outputs": [],
   "source": [
    "# verify that it's normalized (within reasonable numerical error)\n",
    "\n",
    "TBC()\n",
    "\n",
    "# print(...)"
   ]
  },
  {
   "cell_type": "markdown",
   "metadata": {},
   "source": [
    "#### Next, $p(y)$\n",
    "We'll repeat the above steps to perform the marginalization over $x$ instead of $y$. Make sure to verify the distribution is properly normalized."
   ]
  },
  {
   "cell_type": "code",
   "execution_count": null,
   "metadata": {},
   "outputs": [],
   "source": [
    "# marginalize p(x,y) over x and verify that it's normalized\n",
    "\n",
    "TBC()\n",
    "\n",
    "# ugrid_p_y = ...\n",
    "# print(...)"
   ]
  },
  {
   "cell_type": "code",
   "execution_count": null,
   "metadata": {},
   "outputs": [],
   "source": [
    "plt.rcParams['figure.figsize'] = (7.0, 5.0)\n",
    "plt.plot(yvalues, ugrid_p_y, 'bo', label='grid calculation');\n",
    "plt.plot(yvalues, unc_p_y(yvalues, **unc), 'r-', label='analytic expression');\n",
    "plt.xlabel('y');\n",
    "plt.xlabel('p(y)');\n",
    "plt.legend();"
   ]
  },
  {
   "cell_type": "markdown",
   "metadata": {},
   "source": [
    "### 1d. Comparing analytic and numerical results of conditional distributions\n",
    "\n",
    "Now we would like to get a conditional distribution: given some value of $x$ (or $y$), what is the probability distribution for $y$ (or $x$)? In our example, this is most straightforward if we condition on a grid value. Otherwise, we would probably do some interpolation. Here we choose a couple particular values for fixing; feel free to play around with them."
   ]
  },
  {
   "cell_type": "code",
   "execution_count": null,
   "metadata": {},
   "outputs": [],
   "source": [
    "xi = 30 # index into the grid of x's\n",
    "fixed_x = xvalues[xi]\n",
    "print(fixed_x)\n",
    "yi = 40 # similarly for y\n",
    "fixed_y = yvalues[yi]\n",
    "print(fixed_y)"
   ]
  },
  {
   "cell_type": "markdown",
   "metadata": {},
   "source": [
    "#### First, $p(x|y)$\n",
    "Calculate the conditional probability $p(x|y=$ fixed_y$)$, and verify its normalization. "
   ]
  },
  {
   "cell_type": "code",
   "execution_count": null,
   "metadata": {},
   "outputs": [],
   "source": [
    "# p(x,y) = p(x|y) p(y)\n",
    "# ugrid_p_x_given_y = ...\n",
    "\n",
    "# verify that it's normalized\n",
    "# print(...)\n",
    "\n",
    "TBC()"
   ]
  },
  {
   "cell_type": "code",
   "execution_count": null,
   "metadata": {},
   "outputs": [],
   "source": [
    "plt.rcParams['figure.figsize'] = (7.0, 5.0)\n",
    "plt.plot(xvalues, ugrid_p_x_given_y, 'bo', label='grid calculation');\n",
    "plt.plot(xvalues, unc_p_x_given_y(xvalues, fixed_y, **unc), 'r-', label='analytic expression');\n",
    "plt.xlabel('x');\n",
    "plt.ylabel('p(x|y=' + str(fixed_y) + ')');\n",
    "plt.legend();"
   ]
  },
  {
   "cell_type": "markdown",
   "metadata": {},
   "source": [
    "#### Next, $p(y|x)$\n",
    "Now condition on $x=$ fixed_x instead."
   ]
  },
  {
   "cell_type": "code",
   "execution_count": null,
   "metadata": {},
   "outputs": [],
   "source": [
    "# ugrid_p_y_given_x = ...\n",
    "\n",
    "# verify that it's normalized\n",
    "# print(...)\n",
    "\n",
    "TBC()"
   ]
  },
  {
   "cell_type": "code",
   "execution_count": null,
   "metadata": {},
   "outputs": [],
   "source": [
    "plt.rcParams['figure.figsize'] = (7.0, 5.0)\n",
    "plt.plot(yvalues, ugrid_p_y_given_x, 'bo', label='grid calculation');\n",
    "plt.plot(yvalues, unc_p_y_given_x(yvalues, fixed_x, **unc), 'r-', label='analytic expression');\n",
    "plt.xlabel('y');\n",
    "plt.ylabel('p(y|x=' + str(fixed_x) + ')');\n",
    "plt.legend();"
   ]
  },
  {
   "cell_type": "markdown",
   "metadata": {},
   "source": [
    "## 2. Correlated distributions\n",
    "\n",
    "Now that we've gotten the hang of some of these manipulations, we'll add a bit of complexity. For the second half of the notebook, we'll go through the same exercises as above, but we've removed our assumption of the independence of $x$ and $y$.\n",
    "\n",
    "The new parameter below, $r$, is the _correlation coefficient_ of $x$ and $y$ (cf the [expression for a bivariate normal density on wikipedia](https://en.wikipedia.org/wiki/Multivariate_normal_distribution#Bivariate_case))."
   ]
  },
  {
   "cell_type": "code",
   "execution_count": null,
   "metadata": {},
   "outputs": [],
   "source": [
    "cor = {'mx':1.0, 'my':2.3, 'sx':1.0, 'sy':0.5, 'r':-0.5} # parameter values\n",
    "\n",
    "def cor_p_xy(x, y, mx, my, sx, sy, r):\n",
    "    return np.exp(-0.5/(1.0-r**2)*( ((x-mx)/sx)**2 + ((y-my)/sy)**2 -2.0*r*(x-mx)/sx*(y-my)/sy )) / (2*np.pi*sx*sy*np.sqrt(1.0-r**2))"
   ]
  },
  {
   "cell_type": "markdown",
   "metadata": {},
   "source": [
    "### 2a. analytics\n",
    "As before, work out the analytic solutions first, including\n",
    "* the marginal distributions, $p(x)$ and $p(y)$, and\n",
    "* the conditional distributions, $p(x|y)$ and $p(y|x)$."
   ]
  },
  {
   "cell_type": "code",
   "execution_count": null,
   "metadata": {},
   "outputs": [],
   "source": [
    "TBC()"
   ]
  },
  {
   "cell_type": "markdown",
   "metadata": {},
   "source": [
    "Then fill in the functions below."
   ]
  },
  {
   "cell_type": "code",
   "execution_count": null,
   "metadata": {},
   "outputs": [],
   "source": [
    "# marginal\n",
    "def cor_p_x(x, mx, my, sx, sy, r):\n",
    "    TBC()\n",
    "\n",
    "def cor_p_y(y, mx, my, sx, sy, r):\n",
    "    TBC()\n",
    "\n",
    "# conditional distributions\n",
    "def cor_p_x_given_y(x, y, mx, my, sx, sy, r):\n",
    "    TBC()\n",
    "    \n",
    "def cor_p_y_given_x(y, x, mx, my, sx, sy, r):\n",
    "    TBC()\n",
    "    \n",
    "TBC_above()"
   ]
  },
  {
   "cell_type": "markdown",
   "metadata": {},
   "source": [
    "### 2b. numerics\n",
    "We'll use the same grid definition as in 1b."
   ]
  },
  {
   "cell_type": "code",
   "execution_count": null,
   "metadata": {},
   "outputs": [],
   "source": [
    "cgrid_p_xy = cor_p_xy(grid_x, grid_y, **cor)"
   ]
  },
  {
   "cell_type": "markdown",
   "metadata": {},
   "source": [
    "Visualize the correlated pdf:"
   ]
  },
  {
   "cell_type": "code",
   "execution_count": null,
   "metadata": {},
   "outputs": [],
   "source": [
    "plt.rcParams['figure.figsize'] = (7.0, 5.0)\n",
    "plt.imshow(cgrid_p_xy.T, origin='lower', extent=[xmin, xmax, ymin, ymax]);\n",
    "plt.xlabel('x');\n",
    "plt.ylabel('y');"
   ]
  },
  {
   "cell_type": "markdown",
   "metadata": {},
   "source": [
    "### 2c. Marginal distributions\n",
    "\n",
    "#### First, $p(x)$\n",
    "Marginalize over $y$ (remember to check the normalization)"
   ]
  },
  {
   "cell_type": "code",
   "execution_count": null,
   "metadata": {},
   "outputs": [],
   "source": [
    "# cgrid_p_x = ...\n",
    "# print(...)\n",
    "\n",
    "TBC()"
   ]
  },
  {
   "cell_type": "markdown",
   "metadata": {},
   "source": [
    "Here we'll compare the marginal $p(x)$ of the correlated and uncorrelated distributions $p(x,y)$. Do the similarities or differences make sense?"
   ]
  },
  {
   "cell_type": "code",
   "execution_count": null,
   "metadata": {},
   "outputs": [],
   "source": [
    "plt.rcParams['figure.figsize'] = (14.0, 5.0)\n",
    "fig, ax = plt.subplots(1,2);\n",
    "ax[0].plot(xvalues, cgrid_p_x, 'bo');\n",
    "ax[0].plot(xvalues, cor_p_x(xvalues, **cor), 'r-');\n",
    "ax[0].set_xlabel('x');\n",
    "ax[0].set_ylabel('p(x)');\n",
    "ax[0].set_title('correlated p(x,y)');\n",
    "ax[1].plot(xvalues, ugrid_p_x, 'bo');\n",
    "ax[1].plot(xvalues, unc_p_x(xvalues, **unc), 'r-');\n",
    "ax[1].set_xlabel('x');\n",
    "ax[1].set_ylabel('p(x)');\n",
    "ax[1].set_title('uncorrelated p(x,y)');"
   ]
  },
  {
   "cell_type": "markdown",
   "metadata": {},
   "source": [
    "#### Next, $p(y)$\n",
    "Marginalize over $x$ (remember to check the normalization)"
   ]
  },
  {
   "cell_type": "code",
   "execution_count": null,
   "metadata": {},
   "outputs": [],
   "source": [
    "# cgrid_p_y = ...\n",
    "# print(...)\n",
    "\n",
    "TBC()"
   ]
  },
  {
   "cell_type": "code",
   "execution_count": null,
   "metadata": {},
   "outputs": [],
   "source": [
    "plt.rcParams['figure.figsize'] = (14.0, 5.0)\n",
    "fig, ax = plt.subplots(1,2);\n",
    "ax[0].plot(yvalues, cgrid_p_y, 'bo');\n",
    "ax[0].plot(yvalues, cor_p_y(yvalues, **cor), 'r-');\n",
    "ax[0].set_xlabel('y');\n",
    "ax[0].set_ylabel('p(y)');\n",
    "ax[0].set_title('correlated p(x,y)');\n",
    "ax[1].plot(yvalues, ugrid_p_y, 'bo');\n",
    "ax[1].plot(yvalues, unc_p_y(yvalues, **unc), 'r-');\n",
    "ax[1].set_xlabel('y');\n",
    "ax[1].set_ylabel('p(y)');\n",
    "ax[1].set_title('uncorrelated p(x,y)');"
   ]
  },
  {
   "cell_type": "markdown",
   "metadata": {},
   "source": [
    "### 2d. Conditional distributions\n",
    "\n",
    "#### First, $p(x|y)$\n",
    "As before, condition on $y=$ fixed_y:"
   ]
  },
  {
   "cell_type": "code",
   "execution_count": null,
   "metadata": {},
   "outputs": [],
   "source": [
    "# cgrid_p_x_given_y = ...\n",
    "# print(...)\n",
    "\n",
    "TBC()"
   ]
  },
  {
   "cell_type": "markdown",
   "metadata": {},
   "source": [
    "Once again we'll compare this calculation with what we got for the uncorrelated case. Do the similarities or differences make sense?"
   ]
  },
  {
   "cell_type": "code",
   "execution_count": null,
   "metadata": {},
   "outputs": [],
   "source": [
    "plt.rcParams['figure.figsize'] = (14.0, 5.0)\n",
    "fig, ax = plt.subplots(1,2);\n",
    "ax[0].plot(xvalues, cgrid_p_x_given_y, 'bo');\n",
    "ax[0].plot(xvalues, cor_p_x_given_y(xvalues, fixed_y, **cor), 'r-');\n",
    "ax[0].set_xlabel('x');\n",
    "ax[0].set_ylabel('p(x|y=' + str(fixed_y) + ')');\n",
    "ax[0].set_title('correlated p(x,y)');\n",
    "ax[1].plot(xvalues, ugrid_p_x_given_y, 'bo');\n",
    "ax[1].plot(xvalues, unc_p_x_given_y(xvalues, fixed_y, **unc), 'r-');\n",
    "ax[1].set_xlabel('x');\n",
    "ax[1].set_ylabel('p(x|y=' + str(fixed_y) + ')');\n",
    "ax[1].set_title('uncorrelated p(x,y)');"
   ]
  },
  {
   "cell_type": "markdown",
   "metadata": {},
   "source": [
    "#### Next, $p(y|x)$\n",
    "Condition on $x=$ fixed_x:"
   ]
  },
  {
   "cell_type": "code",
   "execution_count": null,
   "metadata": {},
   "outputs": [],
   "source": [
    "# cgrid_p_y_given_x = ...\n",
    "# print(...)\n",
    "\n",
    "TBC()"
   ]
  },
  {
   "cell_type": "code",
   "execution_count": null,
   "metadata": {},
   "outputs": [],
   "source": [
    "plt.rcParams['figure.figsize'] = (14.0, 5.0)\n",
    "fig, ax = plt.subplots(1,2);\n",
    "ax[0].plot(yvalues, cgrid_p_y_given_x, 'bo');\n",
    "ax[0].plot(yvalues, cor_p_y_given_x(yvalues, fixed_x, **cor), 'r-');\n",
    "ax[0].set_xlabel('y');\n",
    "ax[0].set_ylabel('p(y|x=' + str(fixed_x) + ')');\n",
    "ax[0].set_title('correlated p(x,y)');\n",
    "ax[1].plot(yvalues, ugrid_p_y_given_x, 'bo');\n",
    "ax[1].plot(yvalues, unc_p_y_given_x(yvalues, fixed_x, **unc), 'r-');\n",
    "ax[1].set_xlabel('y');\n",
    "ax[1].set_ylabel('p(y|x=' + str(fixed_x) + ')');\n",
    "ax[1].set_title('uncorrelated p(x,y)');"
   ]
  },
  {
   "cell_type": "markdown",
   "metadata": {},
   "source": [
    "You reached the end! We'll be making frequent use of these basic probability manipulations, not to mention many of the python operations above, as we go on."
   ]
  }
 ],
 "metadata": {
  "kernelspec": {
   "display_name": "Python 3 (ipykernel)",
   "language": "python",
   "name": "python3"
  },
  "language_info": {
   "codemirror_mode": {
    "name": "ipython",
    "version": 3
   },
   "file_extension": ".py",
   "mimetype": "text/x-python",
   "name": "python",
   "nbconvert_exporter": "python",
   "pygments_lexer": "ipython3",
   "version": "3.10.8"
  }
 },
 "nbformat": 4,
 "nbformat_minor": 2
}
