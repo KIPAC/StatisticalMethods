{
 "cells": [
  {
   "cell_type": "markdown",
   "metadata": {
    "slideshow": {
     "slide_type": "-"
    }
   },
   "source": [
    "# Tutorial: X-ray Image Data\n",
    "\n",
    "In which we introduce a real astronomical data set, namely an image produced from X-ray CCD data. There's a fair bit of domain-specific information here which is not strictly necessary for this class, but it's useful stuff to see if you haven't worked with imaging data before (regardless of wavelength). Do note that we are still glossing over some things, though, since a completely rigorous analysis that accounts for all instrumental and systematic effects would be more involved than we want any tutorials in this class to be. In any case, this notebook is just about looking at the data and describing what's there.\n",
    "\n",
    "**Note:** This tutorial counts for nothing and does not need to be turned in. It simply serves as an introduction to the data set used in a later tutorial."
   ]
  },
  {
   "cell_type": "code",
   "execution_count": null,
   "metadata": {},
   "outputs": [],
   "source": [
    "TutorialName = 'xmm'\n",
    "exec(open('tbc.py').read()) # define TBC and TBC_above\n",
    "import astropy.io.fits as pyfits\n",
    "import numpy as np\n",
    "import matplotlib.pyplot as plt\n",
    "%matplotlib inline\n",
    "from astropy.visualization import LogStretch\n",
    "logstretch = LogStretch()\n",
    "import scipy.stats as st"
   ]
  },
  {
   "cell_type": "markdown",
   "metadata": {
    "slideshow": {
     "slide_type": "-"
    }
   },
   "source": [
    "## Nature of the data\n",
    "\n",
    "Modern X-ray CCDs are technologically similar to the CCDs used in optical astronomy: when a photon hits a pixel, one or more electrons are promoted into the conduction band and trapped there until being read out. The main practical difference is that X-ray photons are rarer and their energies much higher.\n",
    "\n",
    "This means that:\n",
    "* Only for exceptionally bright sources will we ever have $>1$ photon hit a given pixel in an integration, if we read out the CCD every few seconds.\n",
    "* We do not get 1 electron promoted per photon, as is the case in visible wavelength CCDs. Instead, the number of electrons is roughly proportional to the photon's energy, which means that these imaging devices are actually imaging spectrometers. For simplicity, we won't be taking advantage of that, other than to limit the energy range of photons in the image we look at.\n",
    "* When we say \"counts\" in this context, we mean \"pixel activation events\" rather than number of electrons trapped, so that (as in optical astronomy) we're referring to the number of photons detected (or other events that look like photons to the detector)."
   ]
  },
  {
   "cell_type": "markdown",
   "metadata": {
    "slideshow": {
     "slide_type": "-"
    }
   },
   "source": [
    "Let's look at some processed data from XMM-Newton for galaxy cluster Abell 1835.\n",
    "\n",
    "Here the raw \"event list\" of pixel activations has been processed to form an image, meaning that, other than a broad selection on photon energy, _the spectral information has been discarded_.\n",
    "\n",
    "XMM actually has 3 CCD cameras, but we'll just work with 1 for simplicity, and with just one of the available observations.\n",
    "\n",
    "We'll still need 2 files:\n",
    "* The image, in units of counts\n",
    "* The exposure map (units of seconds), which accounts for the exposure time and the variation in effective collecting area across the field due to vignetting"
   ]
  },
  {
   "cell_type": "markdown",
   "metadata": {},
   "source": [
    "These files are in the course repository,[$^1$](#Note-1) respectively:\n",
    "\n",
    "* `tutorials/data/P0098010101M2U009IMAGE_3000.FTZ`\n",
    "* `tutorials/data/P0098010101M2U009EXPMAP3000.FTZ`\n",
    "\n",
    "These are an image produced from 1-3 keV events captured by the MOS2 camera in XMM's first observation of A1835, way back in 2001, and the corresponding exposure map."
   ]
  },
  {
   "cell_type": "markdown",
   "metadata": {},
   "source": [
    "Both files are in FITS image format, which we can read in using `astropy.io.fits` (here aliased to its older name, `pyfits`)."
   ]
  },
  {
   "cell_type": "code",
   "execution_count": null,
   "metadata": {
    "slideshow": {
     "slide_type": "-"
    }
   },
   "outputs": [],
   "source": [
    "datadir = 'data/'\n",
    "\n",
    "imagefile = datadir + 'P0098010101M2U009IMAGE_3000.FTZ'\n",
    "expmapfile = datadir + 'P0098010101M2U009EXPMAP3000.FTZ'\n",
    "\n",
    "imfits = pyfits.open(imagefile)\n",
    "exfits = pyfits.open(expmapfile)"
   ]
  },
  {
   "cell_type": "markdown",
   "metadata": {
    "slideshow": {
     "slide_type": "-"
    }
   },
   "source": [
    "Let's see what we've got:"
   ]
  },
  {
   "cell_type": "code",
   "execution_count": null,
   "metadata": {
    "slideshow": {
     "slide_type": "-"
    }
   },
   "outputs": [],
   "source": [
    "imfits.info()"
   ]
  },
  {
   "cell_type": "code",
   "execution_count": null,
   "metadata": {
    "slideshow": {
     "slide_type": "-"
    }
   },
   "outputs": [],
   "source": [
    "exfits.info()"
   ]
  },
  {
   "cell_type": "markdown",
   "metadata": {
    "slideshow": {
     "slide_type": "-"
    }
   },
   "source": [
    "`imfits` is a FITS object, containing multiple data structures. The image itself is an array of integer type (remember, counts!), and size 648x648 pixels, stored in the primary \"header data unit\" or HDU, and accessed via the `data` method of the FITS object. The other HDUs hold tables containing the \"good time intervals\" defined in earlier data processing, which we can ignore for our purposes.\n",
    "\n",
    "`exfits` contains only the exposure map, with floating point type.\n",
    "\n",
    "Here we extract the image (that is, the array) data from each object as `numpy` arrays."
   ]
  },
  {
   "cell_type": "code",
   "execution_count": null,
   "metadata": {
    "slideshow": {
     "slide_type": "-"
    }
   },
   "outputs": [],
   "source": [
    "im = imfits[0].data\n",
    "ex = exfits[0].data\n",
    "print(im.shape, im.dtype)\n",
    "print(ex.shape, ex.dtype)"
   ]
  },
  {
   "cell_type": "markdown",
   "metadata": {
    "slideshow": {
     "slide_type": "-"
    }
   },
   "source": [
    "Note: If we wanted `im` to be floating point for some reason, we would need to cast it, as in `im = imfits[0].data.astype('float64')`."
   ]
  },
  {
   "cell_type": "markdown",
   "metadata": {
    "slideshow": {
     "slide_type": "fragment"
    }
   },
   "source": [
    "Let's have a look the image and exposure map. It's often helpful to stretch images on a logarithmic scale because some sources can differ in brightness by orders of magnitude. The exposure map varies much less, so a linear scale works better in that case."
   ]
  },
  {
   "cell_type": "code",
   "execution_count": null,
   "metadata": {
    "slideshow": {
     "slide_type": "-"
    }
   },
   "outputs": [],
   "source": [
    "plt.rcParams['figure.figsize'] = (20.0, 10.0)\n",
    "fig, ax = plt.subplots(1,2);\n",
    "ax[0].imshow(logstretch(im), cmap='gray', origin='lower');\n",
    "ax[0].set_title('image (log scale)');\n",
    "ax[1].imshow(ex, cmap='gray', origin='lower');\n",
    "ax[1].set_title('exposure map');"
   ]
  },
  {
   "cell_type": "markdown",
   "metadata": {},
   "source": [
    "> **Aside:** An endless source of confusion and bugs is the fact that images are conventionally indexed by _line and sample_ (vertical and horizontal position), while we conventionally order coordinates in 2 dimensions $x,y$ (horizontal and vertical). In addition, the usual convention for FITS images orders the lines from the bottom of the image up rather than the top down. Hence, to display the image the right way up, we need to use the `origin='lower'` option to `imshow` above."
   ]
  },
  {
   "cell_type": "markdown",
   "metadata": {
    "slideshow": {
     "slide_type": "-"
    }
   },
   "source": [
    "Note that information from 7 different CCDs in the MOS2 camera have been combined here, and that X and Y in the image arrays correspond to celestial coordinates (right ascension and declination) rather than X and Y on a given detector or in the focal plane.\n",
    "\n",
    "In the image, we can see:\n",
    "1. Galaxy cluster Abell 1835 (the big blob in the center).\n",
    "2. Various other sources (smaller blobs). These are point-like sources - mostly active galactic nuclei (AGN) - that have been smeared out by the telescope's point spread function (PSF).\n",
    "3. A roughly uniform background, consisting of unresolved AGN, diffuse X-rays from the Galactic halo and local hot bubble,  and events due to particles (solar wind protons and cosmic rays) interacting with the CCD.\n",
    "\n",
    "The exposure map shows:\n",
    "1. An overall gradient with radius - this is the vignetting function of the telescope.\n",
    "2. Clear boundaries between the 7 CCDs that make up the MOS2 camera, and a number of \"bad rows/columns\" where the exposure has been set to zero (usually this is due to issues with the readout electronics rather than damaged pixels).\n",
    "3. A vaguely circular cut-out shape along the edge. This is applied in preprocessing to eliminate pixels where the effective exposure is essentially zero. All of the CCDs are, in fact, square. In telescopes of this kind, it's common for dome of the \"corner\" regions of the field of view to be exposed to calibration sources which we wouldn't want included in our science image. Corners that lack such sources are also sometimes used to get a measurement of the portion of the background that is not focussed by the optics (particle-induced events).\n",
    "\n",
    "Features (2) and (3) are also visible in the counts image. The vignetting is less obvious, since we mostly see background in regions where the vignetting is significant, and part of the background is due to particles that are not vignetted (they aren't focused by the optics, and hit the detector from all directions approximately equally)."
   ]
  },
  {
   "cell_type": "markdown",
   "metadata": {},
   "source": [
    "## Working with the data\n",
    "\n",
    "As we've seen above, the image is encoded in a standard `numpy` array. But, recalling the aside, we need to be careful about indexing the array. Specifically, we need to remember that the first array index corresponds to $y$ (the vertical direction in the image), and the second index corresponds to $x$ (horizontal). Alternatively, we could create arrays that hold the $x$ and $y$ indices corresponding to each pixel. (Note that we will be using the word \"pixel\" to refer to an entry in the image/exposure map arrays, not a physical pixel in the camera.) This is a little wasteful in terms of computer memory, but allows us to do calculations involving the positions of and distances between points in the image without constantly relying on our human memories to recall something counterintuitive.\n",
    "\n",
    "Therefore, below is a simple class that should assist in defining these index arrays (`imx` and `imy`) and displaying the data. It also provides a way to cut out a subset of the image, carrying along the exposure map and index arrays consistently; this isn't strictly necessary for us, but we might as well remove the empty space around the imaged field of view."
   ]
  },
  {
   "cell_type": "code",
   "execution_count": null,
   "metadata": {},
   "outputs": [],
   "source": [
    "class Image:\n",
    "    def __init__(self, imdata, exdata, imx=None, imy=None):\n",
    "        self.im = imdata\n",
    "        self.ex = exdata\n",
    "        if imx is None or imy is None:\n",
    "            # Note the swapped order of shape[1] and shape[0]. This is the only time we should need to remember this!\n",
    "            self.imx, self.imy = np.meshgrid(np.arange(imdata.shape[1]), np.arange(imdata.shape[0]))\n",
    "        else:\n",
    "            self.imx = imx\n",
    "            self.imy = imy\n",
    "    def cutout(self, x0, x1, y0, y1):\n",
    "        # return the subset of self bounded by pixel indices x0, x1, y0 and y1 (inclusive)\n",
    "        return Image(self.im[y0:y1+1,x0:x1+1], self.ex[y0:y1+1,x0:x1+1], \n",
    "                     self.imx[y0:y1+1,x0:x1+1], self.imy[y0:y1+1,x0:x1+1])\n",
    "    def extent(self):\n",
    "        return [np.min(self.imx), np.max(self.imx), np.min(self.imy), np.max(self.imy)]\n",
    "    def display(self, log_image=True):\n",
    "        fig, ax = plt.subplots(1,2);\n",
    "        extent = self.extent()\n",
    "        if log_image:\n",
    "            ax[0].imshow(logstretch(self.im), cmap='gray', origin='lower', extent=extent);\n",
    "            ax[0].set_title('image (log scale)');\n",
    "        else:\n",
    "            ax[0].imshow(self.im, cmap='gray', origin='lower', extent=extent);\n",
    "            ax[0].set_title('image');\n",
    "        ax[1].imshow(self.ex, cmap='gray', origin='lower', extent=extent);\n",
    "        ax[1].set_title('exposure map');"
   ]
  },
  {
   "cell_type": "markdown",
   "metadata": {},
   "source": [
    "Let's create such an object holding the original data:"
   ]
  },
  {
   "cell_type": "code",
   "execution_count": null,
   "metadata": {},
   "outputs": [],
   "source": [
    "orig = Image(im, ex)"
   ]
  },
  {
   "cell_type": "markdown",
   "metadata": {},
   "source": [
    "To quickly illustrate what `imx` and `imy` are for, in case it wasn't clear, let's look at them:"
   ]
  },
  {
   "cell_type": "code",
   "execution_count": null,
   "metadata": {},
   "outputs": [],
   "source": [
    "plt.rcParams['figure.figsize'] = (10.0, 10.0)\n",
    "fig, ax = plt.subplots(1,2);\n",
    "ax[0].imshow(orig.imx, cmap='gray', origin='lower');\n",
    "ax[0].set_title('imx');\n",
    "ax[1].imshow(orig.imy, cmap='gray', origin='lower');\n",
    "ax[1].set_title('imy');"
   ]
  },
  {
   "cell_type": "markdown",
   "metadata": {},
   "source": [
    "The range of values in each is what you'd expect for indices into arrays of this size:"
   ]
  },
  {
   "cell_type": "code",
   "execution_count": null,
   "metadata": {},
   "outputs": [],
   "source": [
    "print(orig.imx.min(), orig.imx.max())\n",
    "print(orig.imy.min(), orig.imy.max())"
   ]
  },
  {
   "cell_type": "markdown",
   "metadata": {},
   "source": [
    "Next, let's make a cut-out around the very center of the image, and look at it."
   ]
  },
  {
   "cell_type": "code",
   "execution_count": null,
   "metadata": {},
   "outputs": [],
   "source": [
    "stamp = orig.cutout(300, 400, 300, 400)\n",
    "\n",
    "plt.rcParams['figure.figsize'] = (10.0, 10.0)\n",
    "stamp.display()"
   ]
  },
  {
   "cell_type": "markdown",
   "metadata": {},
   "source": [
    "Note that `imx` and `imy` in `stamp` hold the Image coordinates of each pixel with respect to the _original_ image, which seems like a potentially useful thing.\n",
    "\n",
    "Something we will want to do when modeling these data is to compute the distance of each pixel from some specified position, in units of pixels. As a quick test, complete the following to compute an array holding the distance of each pixel in the `stamp` image from $x=330, y=340$ (roughly the center of the cluster). The entire field of view is a fraction of a degree in size, so we can use Euclidean distance instead of worrying about the curvature of the sky for this purpose."
   ]
  },
  {
   "cell_type": "code",
   "execution_count": null,
   "metadata": {},
   "outputs": [],
   "source": [
    "TBC() # dist = something involving stamp.imx and stamp.imy"
   ]
  },
  {
   "cell_type": "code",
   "execution_count": null,
   "metadata": {},
   "outputs": [],
   "source": [
    "plt.rcParams['figure.figsize'] = (5.0, 5.0)\n",
    "plt.imshow(dist, cmap='gray', origin='lower', extent=stamp.extent());\n",
    "print(\"Minimum of dist:\", dist.min())"
   ]
  },
  {
   "cell_type": "markdown",
   "metadata": {},
   "source": [
    "**Checkpoint:** The minimum should, of course, be `dist=0`, and should clearly correspond to the origin we chose above.\n",
    "\n",
    "So now we can easily compute the distance between all pixels and some reference, in units of the pixel size. We mentioned above that the field of view is small enough to use the Euclidean distance formula, which prompts the question - just what is the size of a pixel in this image?\n",
    "\n",
    "To find out, we can consult the FITS header of the image. The relevant keywords are near the bottom of the header, and begin `CTYPE`, `CRPIX`, `CVAL`, etc. Note that the exact keywords can vary, since FITS files can have multiple coordinate systems defined. In this case, the header tells us that axis 1 (X) is Right Ascension, axis 2 (Y) is DEClination, and both have a pixel length of 0.0011111... in units of degrees, so 4 arcseconds. (CDELT1 is negative because RA increases to the left by convention. This is another convention that takes some getting used to - even experienced astronomers occasionally get confused by the fact that east is _left_ on the sky - but unlike some conventions, this one actually makes sense if you think about it for long enough.)"
   ]
  },
  {
   "cell_type": "code",
   "execution_count": null,
   "metadata": {},
   "outputs": [],
   "source": [
    "imfits[0].header['C*1']"
   ]
  },
  {
   "cell_type": "code",
   "execution_count": null,
   "metadata": {},
   "outputs": [],
   "source": [
    "imfits[0].header['C*2']"
   ]
  },
  {
   "cell_type": "markdown",
   "metadata": {},
   "source": [
    "If we need to, header values can be extracted easily. This extracts the pixel size in the X direction, and converts it to arcseconds (`CUNIT1` tells us that it is originally in units of degrees)."
   ]
  },
  {
   "cell_type": "code",
   "execution_count": null,
   "metadata": {},
   "outputs": [],
   "source": [
    "imfits[0].header['CDELT1'] * 3600"
   ]
  },
  {
   "cell_type": "markdown",
   "metadata": {},
   "source": [
    "## Finishing up\n",
    "\n",
    "That's it! You can now move on to the _real_ tutorial that uses these data."
   ]
  },
  {
   "cell_type": "markdown",
   "metadata": {},
   "source": [
    "#### Endnotes\n",
    "\n",
    "##### Note 1\n",
    "\n",
    "The data are in the public domain, and can be downloaded from https://heasarc.gsfc.nasa.gov. **However**, the images and exposure maps are not _raw_ data, and the files in the archive occasionally change slightly as newer, presumably better calibration products are used to regenerate them. To be able to compare quantiatively with our solutions, you should use the files in the course repository (though the differences from the archive versions are not large)."
   ]
  }
 ],
 "metadata": {
  "anaconda-cloud": {},
  "kernelspec": {
   "display_name": "Python 3",
   "language": "python",
   "name": "python3"
  },
  "language_info": {
   "codemirror_mode": {
    "name": "ipython",
    "version": 3
   },
   "file_extension": ".py",
   "mimetype": "text/x-python",
   "name": "python",
   "nbconvert_exporter": "python",
   "pygments_lexer": "ipython3",
   "version": "3.7.9"
  },
  "livereveal": {
   "scroll": true,
   "start_slideshow_at": "selected"
  }
 },
 "nbformat": 4,
 "nbformat_minor": 1
}
