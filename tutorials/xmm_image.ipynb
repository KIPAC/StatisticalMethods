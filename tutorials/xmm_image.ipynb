{
 "cells": [
  {
   "cell_type": "markdown",
   "metadata": {
    "slideshow": {
     "slide_type": "-"
    }
   },
   "source": [
    "# Tutorial: X-ray Image Data\n",
    "\n",
    "This notebook introduces one of the real data sets we'll use in this class, namely an image produced from X-ray CCD data. There's a fair bit of domain-specific information here, but it's useful stuff to see if you haven't worked with imaging data before (regardless of wavelength). Do note that there is also quite a bit of corner cutting, however; the problems based on these data are meant to get key statistical concepts across, and not to show you how to do a completely rigorous analysis that accounts for all instrumental and systematic effects."
   ]
  },
  {
   "cell_type": "code",
   "execution_count": null,
   "metadata": {},
   "outputs": [],
   "source": [
    "exec(open('tbc.py').read()) # define TBC and TBC_above\n",
    "import astropy.io.fits as pyfits\n",
    "import numpy as np\n",
    "import matplotlib.pyplot as plt\n",
    "%matplotlib inline\n",
    "from astropy.visualization import LogStretch\n",
    "logstretch = LogStretch()\n",
    "import scipy.stats as st"
   ]
  },
  {
   "cell_type": "markdown",
   "metadata": {
    "slideshow": {
     "slide_type": "-"
    }
   },
   "source": [
    "Modern X-ray CCDs are technologically similar to the CCDs used in optical astronomy: when a photon hits a pixel, one or more electrons are promoted into the conduction band and trapped there until being read out. The main practical difference is that X-ray photons are rarer and their energies much higher.\n",
    "\n",
    "This means that:\n",
    "* Only for exceptionally bright sources will we ever have $>1$ photon hit a given pixel in an integration, if we read out the CCD every few seconds.\n",
    "* We do not get 1 electron promoted per photon, as is the case in visible wavelength CCDs. Instead, the number of electrons is roughly proportional to the photon's energy, which means that these imaging devices are actually imaging spectrometers.\n",
    "* When we say \"counts\" in this context, we mean \"pixel activation events\" rather than number of electrons trapped, so that (as in optical astronomy) we're referring to the number of photons detected (or other events that look like photons to the detector)."
   ]
  },
  {
   "cell_type": "markdown",
   "metadata": {
    "slideshow": {
     "slide_type": "-"
    }
   },
   "source": [
    "Let's look at some processed data from XMM-Newton for galaxy cluster Abell 1835.\n",
    "\n",
    "Here the raw \"event list\" of pixel activations has been processed to form an image, meaning that, other than a broad selection on photon energy, _the spectral information has been discarded_.\n",
    "\n",
    "XMM actually has 3 CCD cameras, but we'll just work with 1 for simplicity, and with just one of the available observations.\n",
    "\n",
    "We'll still need 2 files:\n",
    "* The image, in units of counts\n",
    "* The exposure map (units of seconds), which accounts for the exposure time and the variation in effective collecting area across the field due to vignetting"
   ]
  },
  {
   "cell_type": "markdown",
   "metadata": {},
   "source": [
    "There's a nice web interface that allows one to search the public archives for data, but to save time, just download the particular image and exposure map here:\n",
    "* https://heasarc.gsfc.nasa.gov/FTP/xmm/data/rev0/0098010101/PPS/P0098010101M2U009IMAGE_3000.FTZ\n",
    "* https://heasarc.gsfc.nasa.gov/FTP/xmm/data/rev0/0098010101/PPS/P0098010101M2U009EXPMAP3000.FTZ\n",
    "\n",
    "This is an image produced from 1-3 keV events captured by the MOS2 camera in XMM's first observation of A1835, way back in 2001, and the corresponding exposure map.\n",
    "\n",
    "You can put these files anywhere you want; I will assume they live in a directory called `ignore`, one level up from `tutorials`."
   ]
  },
  {
   "cell_type": "code",
   "execution_count": null,
   "metadata": {
    "slideshow": {
     "slide_type": "-"
    }
   },
   "outputs": [],
   "source": [
    "TBC() # datadir = '../ignore/' # or whatever - path to where you put the downloaded files, including the trailing '/'"
   ]
  },
  {
   "cell_type": "markdown",
   "metadata": {},
   "source": [
    "Both files are in FITS image format, which we can read in using `astropy.io.fits` (here aliased to its older name, `pyfits`)."
   ]
  },
  {
   "cell_type": "code",
   "execution_count": null,
   "metadata": {
    "slideshow": {
     "slide_type": "-"
    }
   },
   "outputs": [],
   "source": [
    "imagefile = datadir + 'P0098010101M2U009IMAGE_3000.FTZ'\n",
    "expmapfile = datadir + 'P0098010101M2U009EXPMAP3000.FTZ'\n",
    "\n",
    "imfits = pyfits.open(imagefile)\n",
    "exfits = pyfits.open(expmapfile)"
   ]
  },
  {
   "cell_type": "markdown",
   "metadata": {
    "slideshow": {
     "slide_type": "-"
    }
   },
   "source": [
    "Let's see what we've got:"
   ]
  },
  {
   "cell_type": "code",
   "execution_count": null,
   "metadata": {
    "slideshow": {
     "slide_type": "-"
    }
   },
   "outputs": [],
   "source": [
    "imfits.info()"
   ]
  },
  {
   "cell_type": "code",
   "execution_count": null,
   "metadata": {
    "slideshow": {
     "slide_type": "-"
    }
   },
   "outputs": [],
   "source": [
    "exfits.info()"
   ]
  },
  {
   "cell_type": "markdown",
   "metadata": {
    "slideshow": {
     "slide_type": "-"
    }
   },
   "source": [
    "`imfits` is a FITS object, containing multiple data structures. The image itself is an array of integer type (remember, counts!), and size 648x648 pixels, stored in the primary \"header data unit\" or HDU, and accessed via the `data` method of the FITS object. The other HDUs hold tables containing the \"good time intervals\" defined in earlier data processing, which we can ignore for our purposes.\n",
    "\n",
    "`exfits` contains only the exposure map, with floating point type.\n",
    "\n",
    "Here we extract the image (that is, the array) data from each object as `numpy` arrays."
   ]
  },
  {
   "cell_type": "code",
   "execution_count": null,
   "metadata": {
    "slideshow": {
     "slide_type": "-"
    }
   },
   "outputs": [],
   "source": [
    "im = imfits[0].data\n",
    "ex = exfits[0].data\n",
    "print(im.shape, im.dtype)\n",
    "print(ex.shape, ex.dtype)"
   ]
  },
  {
   "cell_type": "markdown",
   "metadata": {
    "slideshow": {
     "slide_type": "-"
    }
   },
   "source": [
    "Note: If we wanted `im` to be floating point for some reason, we would need to cast it, as in `im = imfits[0].data.astype('np.float32')`."
   ]
  },
  {
   "cell_type": "markdown",
   "metadata": {
    "slideshow": {
     "slide_type": "fragment"
    }
   },
   "source": [
    "Let's have a look the image and exposure map. It's often helpful to stretch images on a logarithmic scale because some sources can differ in brightness by orders of magnitude. The exposure map varies much less, so a linear scale works better in that case.\n",
    "\n",
    "Some more details: FITS images (and the arrays we read from them) are indexed according to an ancient convention, whereby the first index corresponds to the vertical axis (line) and the second index corresponds to the horizontal axis (sample). This corresponds to the way `matplotlib` interprets arrays as images, although we need to use the `origin='lower'` option to display the image the right way up."
   ]
  },
  {
   "cell_type": "code",
   "execution_count": null,
   "metadata": {
    "slideshow": {
     "slide_type": "-"
    }
   },
   "outputs": [],
   "source": [
    "plt.rcParams['figure.figsize'] = (20.0, 10.0)\n",
    "fig, ax = plt.subplots(1,2);\n",
    "ax[0].imshow(logstretch(im), cmap='gray', origin='lower');\n",
    "ax[0].set_title('image (log scale)');\n",
    "ax[1].imshow(ex, cmap='gray', origin='lower');\n",
    "ax[1].set_title('exposure map');"
   ]
  },
  {
   "cell_type": "markdown",
   "metadata": {
    "slideshow": {
     "slide_type": "-"
    }
   },
   "source": [
    "Note that information from 7 different CCDs in the MOS2 camera have been combined here, and that X and Y in the image arrays correspond to celestial coordinates (right ascension and declination) rather than X and Y on a given detector or in the focal plane.\n",
    "\n",
    "In the image, we can see:\n",
    "1. Galaxy cluster Abell 1835 (the big blob in the center).\n",
    "2. Various other sources (smaller blobs). These are point-like sources - mostly active galactic nuclei (AGN) - that have been smeared out by the telescope's point spread function (PSF).\n",
    "3. A roughly uniform background, consisting of unresolved AGN, diffuse X-rays from the Galactic halo and local hot bubble,  and events due to particles (solar wind protons and cosmic rays) interacting with the CCD.\n",
    "\n",
    "The exposure map shows:\n",
    "1. Clear boundaries between the 7 CCDs that make up the MOS2 camera, and a number of \"bad rows/columns\" where the exposure has been set to zero.\n",
    "2. An overall gradient with radius - this is the vignetting function of the telescope.\n",
    "3. A vaguely circular cut-out shape along the edge. This is applied in preprocessing to eliminate pixels where the effective exposure is essentially zero. All of the CCDs are, in fact, square, and the \"corner\" regions of the field of view are sometimes used to get a measurement of the portion of the background that is not focussed by the optics (e.g. particle-induced events)."
   ]
  },
  {
   "cell_type": "markdown",
   "metadata": {},
   "source": [
    "You probably know that, in python, array indices start from 0. We could choose to work with $x$ and $y$ coordinates that are simply these indices. However, conventionally, astronomical image coordinates are indexed from 1; for example, if we had used the tool `ds9` to define a region of interest in this image, and saved it in \"Image\" coordinates (as opposed to celestial coordinates), the bottom-left pixel in the image would be $(1,1)$. To avoid confusion, we might want to follow this convention.\n",
    "\n",
    "Below is a simple class that should assist in displaying these data, and potentially cutting out \"sub-images\" for local analysis. It holds on to the image and exposure map, and also defines arrays `imx` and `imy` which hold the Image X and Y coordinates of each pixel. (Note: we will use \"pixel\" to refer to an entry in these arrays, as opposed to a physical pixel in one of the CCDs.)"
   ]
  },
  {
   "cell_type": "code",
   "execution_count": null,
   "metadata": {},
   "outputs": [],
   "source": [
    "class Image:\n",
    "    def __init__(self, imdata, exdata, imx=None, imy=None):\n",
    "        self.im = imdata\n",
    "        self.ex = exdata\n",
    "        if imx is None or imy is None:\n",
    "            # add 1 to make IMAGE coordinates\n",
    "            self.imx, self.imy = np.meshgrid(np.arange(imdata.shape[0])+1, np.arange(imdata.shape[1])+1)\n",
    "        else:\n",
    "            self.imx = imx\n",
    "            self.imy = imy\n",
    "    def cutout(self, x0, x1, y0, y1):\n",
    "        # Again note that the arguments are meant to be IMAGE coordinates, indexed starting from 1\n",
    "        return Image(self.im[(y0-1):y1,(x0-1):x1], self.ex[(y0-1):y1,(x0-1):x1], \n",
    "                     self.imx[(y0-1):y1,(x0-1):x1], self.imy[(y0-1):y1,(x0-1):x1])\n",
    "    def extent(self):\n",
    "        return [np.min(self.imx), np.max(self.imx), np.min(self.imy), np.max(self.imy)]\n",
    "    def display(self, log_image=True):\n",
    "        fig, ax = plt.subplots(1,2);\n",
    "        extent = self.extent()\n",
    "        if log_image:\n",
    "            ax[0].imshow(logstretch(self.im), cmap='gray', origin='lower', extent=extent);\n",
    "            ax[0].set_title('image (log scale)');\n",
    "        else:\n",
    "            ax[0].imshow(self.im, cmap='gray', origin='lower', extent=extent);\n",
    "            ax[0].set_title('image');\n",
    "        ax[1].imshow(self.ex, cmap='gray', origin='lower', extent=extent);\n",
    "        ax[1].set_title('exposure map');"
   ]
  },
  {
   "cell_type": "markdown",
   "metadata": {},
   "source": [
    "Let's create such an object holding the original data:"
   ]
  },
  {
   "cell_type": "code",
   "execution_count": null,
   "metadata": {},
   "outputs": [],
   "source": [
    "orig = Image(im, ex)"
   ]
  },
  {
   "cell_type": "markdown",
   "metadata": {},
   "source": [
    "To quickly illustrate what `imx` and `imy` are for, let's look at them:"
   ]
  },
  {
   "cell_type": "code",
   "execution_count": null,
   "metadata": {},
   "outputs": [],
   "source": [
    "plt.rcParams['figure.figsize'] = (10.0, 10.0)\n",
    "fig, ax = plt.subplots(1,2);\n",
    "ax[0].imshow(orig.imx, cmap='gray', origin='lower');\n",
    "ax[0].set_title('imx');\n",
    "ax[1].imshow(orig.imy, cmap='gray', origin='lower');\n",
    "ax[1].set_title('imy');"
   ]
  },
  {
   "cell_type": "markdown",
   "metadata": {},
   "source": [
    "Keeping these arrays around is obviously a little inefficient in terms of memory, but it means we can easily do calculations involving pixel positions with `numpy` array arithmetic.\n",
    "\n",
    "Next, let's make a cut-out (or \"postage stamp\") around roungly the center of the image, and look at it."
   ]
  },
  {
   "cell_type": "code",
   "execution_count": null,
   "metadata": {},
   "outputs": [],
   "source": [
    "stamp = orig.cutout(300, 400, 300, 400)\n",
    "\n",
    "plt.rcParams['figure.figsize'] = (10.0, 10.0)\n",
    "stamp.display()"
   ]
  },
  {
   "cell_type": "markdown",
   "metadata": {},
   "source": [
    "Note that `imx` and `imy` in `stamp` hold the Image coordinates of each pixel with respect to the _original_ image, which seems like a potentially useful thing.\n",
    "\n",
    "Something we might want to do when evaluating a model is to compute the distance of each pixel from some specified position, in units of pixels. As a quick test, complete the following to compute an array holding the distance of each pixel in the `stamp` image from the center of original image. (Remember that Image coordinates start from 1, not 0!)\n",
    "\n",
    "`dist=0` should fall within the stamp, in the bottom-left quadrant as displayed below."
   ]
  },
  {
   "cell_type": "code",
   "execution_count": null,
   "metadata": {},
   "outputs": [],
   "source": [
    "TBC() # dist = something involving stamp.imx and stamp.imy"
   ]
  },
  {
   "cell_type": "code",
   "execution_count": null,
   "metadata": {},
   "outputs": [],
   "source": [
    "plt.rcParams['figure.figsize'] = (5.0, 5.0)\n",
    "plt.imshow(dist, cmap='gray', origin='lower', extent=stamp.extent());"
   ]
  },
  {
   "cell_type": "markdown",
   "metadata": {},
   "source": [
    "So now we can easily compute the distance between all pixels and some reference, in units of the pixel size. Note that the Euclidean distance formula is not exact, since the sky is a sphere and not a plane, but on this scale it's easily good enough. Which prompts the question - just what is the size of a pixel in this image?\n",
    "\n",
    "To find out, we can consult the FITS header of the image. The relevant keywords are near the bottom of the header, and begin `CTYPE`, `CRPIX`, `CVAL`, etc. Note that the exact keywords can vary, since FITS files can have multiple coordinate systems defined. In this case, the header tells us that axis 1 (X) is Right Ascension, axis 2 (Y) is DEClination, and both have a pixel length of 0.0011111... in units of degrees, so 4 arcseconds. (CDELT1 is negative because RA increases to the left by convention.)"
   ]
  },
  {
   "cell_type": "code",
   "execution_count": null,
   "metadata": {},
   "outputs": [],
   "source": [
    "imfits[0].header"
   ]
  },
  {
   "cell_type": "markdown",
   "metadata": {},
   "source": [
    "If we need to, header values can be extracted easily. This extracts the pixel size in the X direction, and converts it to arcseconds (`CUNIT1` tells us that it is originally in units of degrees)."
   ]
  },
  {
   "cell_type": "code",
   "execution_count": null,
   "metadata": {},
   "outputs": [],
   "source": [
    "imfits[0].header['CDELT1'] * 3600"
   ]
  },
  {
   "cell_type": "markdown",
   "metadata": {},
   "source": [
    "We'll pick this up in the next tutorial notebook, [`agn_photometry_grid`](agn_photometry_grid.ipynb), and then continue in the other `agn_photometry_*` tutorials."
   ]
  }
 ],
 "metadata": {
  "anaconda-cloud": {},
  "kernelspec": {
   "display_name": "Python 3",
   "language": "python",
   "name": "python3"
  },
  "language_info": {
   "codemirror_mode": {
    "name": "ipython",
    "version": 3
   },
   "file_extension": ".py",
   "mimetype": "text/x-python",
   "name": "python",
   "nbconvert_exporter": "python",
   "pygments_lexer": "ipython3",
   "version": "3.7.9"
  },
  "livereveal": {
   "scroll": true,
   "start_slideshow_at": "selected"
  }
 },
 "nbformat": 4,
 "nbformat_minor": 1
}
