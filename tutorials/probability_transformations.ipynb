{
 "cells": [
  {
   "cell_type": "markdown",
   "metadata": {},
   "source": [
    "# Tutorial: Probability Transformations\n",
    "\n",
    "In this notebook, we will work through an application of the change of variables formula for probability densities:\n",
    "\n",
    "$p(y) = p(x)\\left|\\frac{dx}{dy}\\right|$.\n",
    "\n",
    "Let $\\theta$ be uniformly distributed on $-0.95\\frac{\\pi}{2} < \\theta < 0.95\\frac{\\pi}{2}$, and consider the function $b(\\theta)=\\tan(\\theta)$."
   ]
  },
  {
   "cell_type": "code",
   "execution_count": null,
   "metadata": {},
   "outputs": [],
   "source": [
    "exec(open('tbc.py').read()) # define TBC and TBC_above\n",
    "import numpy as np\n",
    "import matplotlib\n",
    "matplotlib.use('TkAgg')\n",
    "import matplotlib.pyplot as plt\n",
    "%matplotlib inline"
   ]
  },
  {
   "cell_type": "markdown",
   "metadata": {},
   "source": [
    "## 1. Solve it\n",
    "\n",
    "Given the PDF of $\\theta$ and the function $b(\\theta)$, what is the PDF of $b$, $p(b)$? Fill in an equation below, and also define it as a function. (As simple as it is, you might want to explciitly write down $p(\\theta)$ first.)"
   ]
  },
  {
   "cell_type": "markdown",
   "metadata": {},
   "source": [
    "> $p(\\theta) = $\n",
    "\n",
    "> $p(b) = $"
   ]
  },
  {
   "cell_type": "code",
   "execution_count": null,
   "metadata": {},
   "outputs": [],
   "source": [
    "# p(b) according to the change of variables formula\n",
    "def p_b(b):\n",
    "    return TBC()\n",
    "TBC_above()"
   ]
  },
  {
   "cell_type": "markdown",
   "metadata": {},
   "source": [
    "## 2. Check on a grid\n",
    "\n",
    "We can also do this transformation via numerical calculation done on a grid. This defines a grid of $\\theta$ values on the interval where $p(\\theta)$ is non-zero for us to use."
   ]
  },
  {
   "cell_type": "code",
   "execution_count": null,
   "metadata": {},
   "outputs": [],
   "source": [
    "theta_grid = np.arange(-0.95, 0.96, 0.05)*0.5*np.pi"
   ]
  },
  {
   "cell_type": "markdown",
   "metadata": {},
   "source": [
    "Evaluate $p(\\theta)$ at these points."
   ]
  },
  {
   "cell_type": "code",
   "execution_count": null,
   "metadata": {},
   "outputs": [],
   "source": [
    "TBC() # tgrid_p_theta = "
   ]
  },
  {
   "cell_type": "markdown",
   "metadata": {},
   "source": [
    "If that was done right, a tabular integration of the grid evaluations should return 1.0, or something very close."
   ]
  },
  {
   "cell_type": "code",
   "execution_count": null,
   "metadata": {},
   "outputs": [],
   "source": [
    "# check normalization\n",
    "np.trapz(y=tgrid_p_theta, x=theta_grid)"
   ]
  },
  {
   "cell_type": "markdown",
   "metadata": {},
   "source": [
    "Next, transform the gridded evaluations of $p(\\theta)$ to $p(b)$ by applying the same transformation of variables as before."
   ]
  },
  {
   "cell_type": "code",
   "execution_count": null,
   "metadata": {},
   "outputs": [],
   "source": [
    "# transform to p(b)\n",
    "TBC() # tgrid_p_b = "
   ]
  },
  {
   "cell_type": "markdown",
   "metadata": {},
   "source": [
    "Let's plot the function and grid evaluatations for sanity's sake."
   ]
  },
  {
   "cell_type": "code",
   "execution_count": null,
   "metadata": {},
   "outputs": [],
   "source": [
    "b_grid = np.arange(-13.0, 13.01, 0.01)\n",
    "\n",
    "plt.rcParams['figure.figsize'] = (14.0, 5.0)\n",
    "plt.plot(np.tan(theta_grid), tgrid_p_b, 'bo', label='grid');\n",
    "plt.plot(b_grid, p_b(b_grid), 'r-', label='analytic');\n",
    "plt.xlabel('b');\n",
    "plt.ylabel('p(b)');\n",
    "plt.legend();"
   ]
  },
  {
   "cell_type": "markdown",
   "metadata": {},
   "source": [
    "We can check that the gridded values are still normalized (accounting for the fact that the grid is not evenly spaced in $b$)."
   ]
  },
  {
   "cell_type": "code",
   "execution_count": null,
   "metadata": {},
   "outputs": [],
   "source": [
    "# check normalization\n",
    "np.trapz(y=tgrid_p_b, x=np.tan(theta_grid))"
   ]
  },
  {
   "cell_type": "markdown",
   "metadata": {},
   "source": [
    "As even more of a sanity check, you can compare your solution to one saved below. The difference should be basically zero everywhere."
   ]
  },
  {
   "cell_type": "code",
   "execution_count": null,
   "metadata": {},
   "outputs": [],
   "source": [
    "sol = np.loadtxt('solutions/trans.dat')\n",
    "plt.rcParams['figure.figsize'] = (14.0, 5.0)\n",
    "plt.plot(np.tan(theta_grid), tgrid_p_b-sol, 'bo');\n",
    "plt.xlabel('b');\n",
    "plt.ylabel('my p(b) grid - known solution');"
   ]
  },
  {
   "cell_type": "markdown",
   "metadata": {},
   "source": [
    "## 3. Check with samples\n",
    "\n",
    "This transformation business is kind of a pain, what with the calculus and possibly ending up with non-uniform grid points. It turns out that life is much more straightforward when dealing with _samples_ of a PDF rather than manipulation the PDF itself.\n",
    "\n",
    "To demonstrate, generate a large number (say, $10^5$) of samples from $p(\\theta)$, and straightforwardly transform them to samples of $b$ using the definition of $b(\\theta)$."
   ]
  },
  {
   "cell_type": "code",
   "execution_count": null,
   "metadata": {},
   "outputs": [],
   "source": [
    "TBC()\n",
    "# theta_samples = np.random.uniform( ...\n",
    "# b_samples = "
   ]
  },
  {
   "cell_type": "markdown",
   "metadata": {},
   "source": [
    "We can now compute an estimate of the PDF for $b$ based on these samples, say a histogram. In the limit of many samples, they should agree very well - you can play around with changing the number of samples and histogram bins to see how that changes things."
   ]
  },
  {
   "cell_type": "code",
   "execution_count": null,
   "metadata": {
    "scrolled": true
   },
   "outputs": [],
   "source": [
    "plt.rcParams['figure.figsize'] = (14.0, 5.0)\n",
    "plt.plot(np.tan(theta_grid), tgrid_p_b, 'bo', label='grid');\n",
    "plt.plot(b_grid, p_b(b_grid), 'r-', label='analytic');\n",
    "plt.hist(b_samples, bins=100, density=True, histtype='step', color='k', linewidth=2, label='samples');\n",
    "plt.xlabel('b');\n",
    "plt.ylabel('p(b)');\n",
    "plt.legend();"
   ]
  }
 ],
 "metadata": {
  "kernelspec": {
   "display_name": "Python 3",
   "language": "python",
   "name": "python3"
  },
  "language_info": {
   "codemirror_mode": {
    "name": "ipython",
    "version": 3
   },
   "file_extension": ".py",
   "mimetype": "text/x-python",
   "name": "python",
   "nbconvert_exporter": "python",
   "pygments_lexer": "ipython3",
   "version": "3.7.9"
  }
 },
 "nbformat": 4,
 "nbformat_minor": 2
}
