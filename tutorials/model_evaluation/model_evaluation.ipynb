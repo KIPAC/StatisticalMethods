{
 "cells": [
  {
   "cell_type": "markdown",
   "metadata": {
    "id": "rKkFEHq3Qqfb"
   },
   "source": [
    "# Tutorial: Evaluation of Galaxy Cluster Centering Models\n",
    "\n",
    "Previously, we have mostly done simple, visual comparisons of fitted models or posterior predictions with data. In this notebook, we'll get more quantitative about saying whether a model could plausibly produce the observed data. Specifically, for a simple data set encoding the difference between 2 methods of defining a galaxy cluster's center, you will\n",
    "\n",
    "* fit a simple model, visually compare the posterior to the data, and quantitatively compare posterior predictions of a test statistic with the data;\n",
    "* propose a more complex model and repeat the same comparisons;\n",
    "* compare the 2 models using the Deviance Information Criterion;\n",
    "* compare the 2 models using the Bayesian evidence"
   ]
  },
  {
   "cell_type": "code",
   "execution_count": null,
   "metadata": {
    "id": "aqNSeG_bQqfh"
   },
   "outputs": [],
   "source": [
    "# !pip install emcee incredible pygtc\n",
    "\n",
    "from os import getcwd\n",
    "from os.path import exists as file_exists\n",
    "from yaml import safe_load\n",
    "import numpy as np\n",
    "from scipy.special import logsumexp\n",
    "import scipy.stats as st\n",
    "import matplotlib.pyplot as plt\n",
    "%matplotlib inline\n",
    "\n",
    "import emcee\n",
    "import incredible as cr\n",
    "from pygtc import plotGTC"
   ]
  },
  {
   "cell_type": "code",
   "execution_count": null,
   "metadata": {
    "deletable": false,
    "editable": false,
    "id": "70vBNt9fQqfj",
    "nbgrader": {
     "cell_type": "code",
     "checksum": "8fddf6b55c61656978e56bd251cd7fa4",
     "grade": true,
     "grade_id": "datapath",
     "locked": true,
     "points": 0,
     "schema_version": 3,
     "solution": false,
     "task": false
    },
    "tags": []
   },
   "outputs": [],
   "source": [
    "thisTutorial = 'model_evaluation'\n",
    "if getcwd() == '/content':\n",
    "    # assume we are in Colab, and the user's data directory is linked to their drive/Physics267_data\n",
    "    from google.colab import drive\n",
    "    drive.mount('/content/drive')\n",
    "    datapath = '/content/drive/MyDrive/Physics267_data/' + thisTutorial + '/'\n",
    "else:\n",
    "    # assume we are running locally somewhere and have the data under ./data/\n",
    "    datapath = 'data/'"
   ]
  },
  {
   "cell_type": "markdown",
   "metadata": {
    "id": "IH35Hkj-Qqfk"
   },
   "source": [
    "## The Dataset\n",
    "\n",
    "Our data is just a list of numbers. Each one represents a measured distance, $y$, between two different estimates of the center of a galaxy cluster: the location of the presumed central galaxy and a centroid of the diffuse, emissive gas. The context here is that automated algorithms sometimes fail to chose the central galaxy correctly (because of image artifacts or other problems), whereas the gas centroid is more reliable but also more expensive to measure. Therefore, we'd like to use this data set to _characterize the distribution of mis-centerings_ so that the galaxy-based centers can be used for large sample, with the resulting errors propagated forward through future processing, e.g. weak lensing estimates.\n",
    "\n",
    "Let's load up the data and have a look. Each entry in `y` is an offset in units of kpc. As usual, your particular data set is fictional, but intentionally similar to a real one that has actually been used for this purpose."
   ]
  },
  {
   "cell_type": "code",
   "execution_count": null,
   "metadata": {
    "id": "0XGnFh9JQqfl"
   },
   "outputs": [],
   "source": [
    "y = np.loadtxt(datapath+'offsets.txt')"
   ]
  },
  {
   "cell_type": "markdown",
   "metadata": {
    "id": "Bu_mv7ZkQqfm"
   },
   "source": [
    "Check out a quick histogram of the data."
   ]
  },
  {
   "cell_type": "code",
   "execution_count": null,
   "metadata": {
    "id": "OlQQJw0mQqfm"
   },
   "outputs": [],
   "source": [
    "plt.rcParams['figure.figsize'] = (6.0, 4.0)\n",
    "bins = np.linspace(0,1000,20)\n",
    "plt.hist(y, bins=bins);\n",
    "plt.xlabel(\"Offset $y$ (kpc)\", fontsize=12);\n",
    "plt.ylabel(\"Frequency\", fontsize=12);"
   ]
  },
  {
   "cell_type": "markdown",
   "metadata": {
    "id": "7VJOUdGhQqfm"
   },
   "source": [
    "## 1. Choosing a Test Statistic\n",
    "\n",
    "The model we will test in this tutorial is outlined in the next section - but how well that model fits the data is a question we will answer in part using a _test statistic._\n",
    "\n",
    "In this case, a feature we especially want to capture with our model is the fraction of clusters where $y$ is small (in the context of a galaxy cluster) vs not small. For concreteness, in the work you turn in, make $T$ the number of clusters with $y<100$ kpc. However, you are encouraged to play around with other possibilities to see how the simple model below succeeds or fails to reproduce the corresponding features of the data.\n",
    "\n",
    "Below, define a function that computes this test statistic."
   ]
  },
  {
   "cell_type": "code",
   "execution_count": null,
   "metadata": {
    "deletable": false,
    "id": "5p4NPOc5Qqfn",
    "nbgrader": {
     "cell_type": "code",
     "checksum": "fbda63a9954a4a194f571cb6b62fa1c0",
     "grade": false,
     "grade_id": "testfunc",
     "locked": false,
     "schema_version": 3,
     "solution": true,
     "task": false
    },
    "tags": []
   },
   "outputs": [],
   "source": [
    "def T(yy):\n",
    "    \"\"\"\n",
    "    Argument: a data vector (either the real data or a simulated data set)\n",
    "    Returns: a scalar test statistic computed from the argument\n",
    "    \"\"\"\n",
    "# YOUR CODE HERE\n",
    "raise NotImplementedError()"
   ]
  },
  {
   "cell_type": "markdown",
   "metadata": {
    "id": "s9w0K44LQqfn"
   },
   "source": [
    "Compute the test statistic of the real data to verify that it works."
   ]
  },
  {
   "cell_type": "code",
   "execution_count": null,
   "metadata": {
    "deletable": false,
    "editable": false,
    "id": "Er_ZZakPQqfo",
    "nbgrader": {
     "cell_type": "code",
     "checksum": "6e6b7bce8c7a3433ea6fb3b243cd2573",
     "grade": true,
     "grade_id": "testtest",
     "locked": true,
     "points": 1,
     "schema_version": 3,
     "solution": false,
     "task": false
    },
    "tags": []
   },
   "outputs": [],
   "source": [
    "T_true = T(y)\n",
    "print(\"The test statistic of the real data is T =\", T_true)"
   ]
  },
  {
   "cell_type": "markdown",
   "metadata": {
    "id": "ivXYY1D_Qqfo"
   },
   "source": [
    "## Setting up a Computational Framework\n",
    "\n",
    "Once we define a model to work with (below), we'll want to fit that model to the data, and then evaluate it using the methods we saw in the Model Evaluation notes. These include:\n",
    "\n",
    "* a visual check using replica datasets drawn from the posterior predictive distribution\n",
    "* a quantitative posterior predictive model check using a suitable test statistic $T(y)$\n",
    "\n",
    "In the next notebook, we'll choose and fit a second, alternative model, and compare the two in terms of\n",
    "\n",
    "* the Deviance Information Criterion (DIC), to assess the models' (relative) generalized predictive accuracy\n",
    "* the Bayesian Evidence, to provide insight on the (relative) probability of each model given the data\n",
    "\n",
    "Notice that each of these bulleted operations can be coded as a _function of the model_, $H$ (e.g. a visual check of the model, the evidence of the model, and so on). We will therefore be fancy and write a class that completely describes the model, and also contains a set of functions that act on the model (methods). Since we anticipate looking at multiple models, we'll use inheritance. This allows us to automatically reuse methods that don't depend on the specific model in question. While this level of object oriented programming may not be familiar, it's a good thing to learn, and most of the details are filled in for you below.\n",
    "\n",
    "We start by defining a base class, which contains the functionality common to any model we care to define later. To make it clear what functionality we expect derived classes to provide, we'll include defintions of non-functional methods that the derived classes will need to override. (This is completely unnecessary in Python, but has the benefit of providing a complete list of functions we'll eventually want to fill in.)\n",
    "\n",
    "The functions that are filled in below (towards the bottom) are the ones that we won't need to modify for any particular model. Do take a moment to make sure you understand how they work; they are mostly doing things you've seen before. Wherever you see `**params` here, a derived class would have a specific list of arguments corresponding to the model parameters."
   ]
  },
  {
   "cell_type": "code",
   "execution_count": null,
   "metadata": {
    "id": "-TparfnsQqfp"
   },
   "outputs": [],
   "source": [
    "# This is something we can throw to discourage direct instantiation of the base class\n",
    "class VirtualClassError(Exception):\n",
    "    def __init__(self):\n",
    "        Exception.__init__(self,\"Do not directly instantiate the base Model class!\")\n",
    "\n",
    "class Model:\n",
    "    \"\"\"\n",
    "    Base class for inference and model evaluation in a simple cluster mis-centering analysis.\n",
    "    In all these functions, `params' is a dictionary of model parameters.\n",
    "    \"\"\"\n",
    "    def __init__(self, priors, samples=None):\n",
    "        # Storage for MCMC samples from fitting the model\n",
    "        self.samples = samples\n",
    "        if samples is None:\n",
    "            self.Nsamples = 0\n",
    "        else:\n",
    "            self.Nsamples = samples.shape[0]\n",
    "        # a dictionary of priors (keys match param_names, values should have scipy distribution-like functionality)\n",
    "        # for simplicity, assume independent priors for each parameter\n",
    "        self.priors = priors\n",
    "        # The __init__ for derived classes should not repeat the lines above, but should provide what follows:\n",
    "        # # A name for the model!\n",
    "        # self.name =\n",
    "        # # As part of the model definition, store an ordered list of parameter names (for dictionary keys)\n",
    "        # # Named arguments of other functions that correspond to parameters should appear in this order\n",
    "        # self.param_names =\n",
    "        # # parameter names as display text (for plot labels),\n",
    "        # self.param_labels =\n",
    "        # # The next line finishes initialization by calling the parent class' __init__\n",
    "        # Model.__init__(self, *args, **kwargs)\n",
    "\n",
    "    def log_likelihood(self, **params):\n",
    "        \"\"\"\n",
    "        Return the log of the likelihood function L(params) = p(y|params,H)\n",
    "        \"\"\"\n",
    "        raise VirtualClassError # to be overriden by child classes\n",
    "\n",
    "    def sampling_distribution(self, yy, **params):\n",
    "        \"\"\"\n",
    "        Return the sampling distribution p(yy|params,H) at a point in data space yy given parameter(s) args\n",
    "        We expect a vector input yy, and return the corresponding probabilities.\n",
    "\n",
    "        Note: This is useful for making plots of \"the model\" overlaid on the histogram of the data\n",
    "        \"\"\"\n",
    "        raise VirtualClassError # to be overriden by child classes\n",
    "\n",
    "    def generate_replica_dataset(self, N, **params):\n",
    "        \"\"\"\n",
    "        Return a replica dataset y_rep of length N from the sampling distribution p(y_rep|args,H) as an array.\n",
    "        \"\"\"\n",
    "        raise VirtualClassError # to be overriden by child classes\n",
    "\n",
    "    def log_prior(self, **params):\n",
    "        \"\"\"\n",
    "        Return the log prior PDF p(params|H)\n",
    "        \"\"\"\n",
    "        return np.sum([self.priors[k].logpdf(params[k]) for k in params.keys()])\n",
    "\n",
    "    def draw_samples_from_prior(self, N):\n",
    "        \"\"\"\n",
    "        Return N samples from the prior PDF p(params|H) as a list of dictionaries\n",
    "        \"\"\"\n",
    "        return [{k:self.priors[k].rvs() for k in self.param_names} for i in range(N)]\n",
    "\n",
    "    def log_posterior(self, parameterlist=None, **params):\n",
    "        \"\"\"\n",
    "        Return the log of the (unnormalized) posterior PDF p(params|y,H)\n",
    "\n",
    "        The parameterlist argument is there for compatibility with emcee.\n",
    "        This will be an infinite loop if you named one of your parameters \"parameterlist\", but in that case\n",
    "        you deserve it.\n",
    "        This also means that for even a simple call, we would need to specify the parameter name(s),\n",
    "         i.e. not log_posterior(pval), but log_posterior(param=pval). This doesn't seem unreasonable.\n",
    "        \"\"\"\n",
    "        if parameterlist is not None:\n",
    "            pdict = {k:parameterlist[i] for i,k in enumerate(self.param_names)}\n",
    "            return self.log_posterior(**pdict)\n",
    "        lnp = self.log_prior(**params)\n",
    "        if lnp != -np.inf:\n",
    "            lnp += self.log_likelihood(**params)\n",
    "        return lnp\n",
    "\n",
    "    def draw_samples_from_posterior(self, starting_params, nsteps, nwalkers=8, threads=1):\n",
    "        \"\"\"\n",
    "        Use emcee to draw samples from P(params|y,H). Hopefully it Just Works.\n",
    "        You could try using e.g. threads=4 to speed things up with multiprocessing.\n",
    "        \"\"\"\n",
    "\n",
    "        # The density to sample is this model's own posterior PDF\n",
    "        npars = len(starting_params)\n",
    "        self.sampler = emcee.EnsembleSampler(nwalkers, npars, self.log_posterior, threads=threads)\n",
    "\n",
    "        # Generate an ensemble of walkers within +/-1% of the guess:\n",
    "        theta_0 = np.array([starting_params*(1.0 + 0.01*np.random.randn(npars)) for j in range(nwalkers)])\n",
    "        # Note that the initial parameter array theta_0 should have dimensions nwalkers x npars\n",
    "\n",
    "        # Evolve the ensemble:\n",
    "        self.sampler.run_mcmc(theta_0, nsteps)\n",
    "\n",
    "        # Plot the raw samples:\n",
    "        plt.rcParams['figure.figsize'] = (12.0, 4.0*npars)\n",
    "        fig, ax = plt.subplots(npars, 1);\n",
    "        cr.plot_traces(self.sampler.chain[:min(8,nwalkers),:,:], ax, labels=self.param_labels);\n",
    "\n",
    "    def check_chains(self, burn, maxlag):\n",
    "        '''\n",
    "        Ignoring `burn` samples from the front of each chain, compute convergence criteria and\n",
    "        effective number of samples.\n",
    "        '''\n",
    "        nwalk, nsteps, npars = self.sampler.chain.shape\n",
    "        if burn < 1 or burn >= nsteps:\n",
    "            return\n",
    "        tmp_samples = [self.sampler.chain[i,burn:,:] for i in range(nwalk)]\n",
    "        self.R = cr.GelmanRubinR(tmp_samples)\n",
    "        self.neff = cr.effective_samples(tmp_samples, maxlag=maxlag)\n",
    "        print('R =', self.R)\n",
    "        print('neff =', self.neff)\n",
    "        print('NB: Since walkers are not independent, these will be optimistic!')\n",
    "\n",
    "    def remove_burnin(self, burn):\n",
    "        '''\n",
    "        Remove `burn` samples from the front of each chain, and concatenate\n",
    "        Plot, and store the result in self.samples\n",
    "        '''\n",
    "        nwalk, nsteps, npars = self.sampler.chain.shape\n",
    "        if burn < 1 or burn >= nsteps:\n",
    "            return\n",
    "        self.samples = self.sampler.chain[:,burn:,:].reshape(nwalk*(nsteps-burn), npars)\n",
    "        self.Nsamples = self.samples.shape[0]\n",
    "        plt.rcParams['figure.figsize'] = (12.0, 4.0*npars)\n",
    "        fig, ax = plt.subplots(npars, 1);\n",
    "        cr.plot_traces(self.samples, ax, labels=self.param_labels);\n",
    "\n",
    "    def posterior_mean(self):\n",
    "        '''\n",
    "        Helper function for computing the posterior mean of each parameter (from MCMC samples)\n",
    "        '''\n",
    "        m = np.mean(self.samples, axis=0)\n",
    "        return {k:m[i] for i,k in enumerate(self.param_names)}"
   ]
  },
  {
   "cell_type": "markdown",
   "metadata": {
    "id": "9xFQT9qAQqfq"
   },
   "source": [
    "## 2. Evaluating a Simple Model\n",
    "\n",
    "First, let's assume the simple model $H_1$, that the sampling distribution is an exponential:\n",
    "\n",
    "$p(\\{y_i\\}|a, H_1) = \\prod_i \\frac{1}{a}e^{-y_i/a}$; $y_i\\geq0$\n",
    "\n",
    "Our single parameter is $a$, the mean of the exponential distribution.\n",
    "\n",
    "Note that this is the entirety of the sampling distribution. Don't be scared of the simplicity! Our model is that the data are realizations of some distribution, and we want (initially) to find the parameter(s) of that distribution. There's nothing tricky (but also nothing Gaussian) about this."
   ]
  },
  {
   "cell_type": "markdown",
   "metadata": {
    "id": "aY8P-rKAQqfq"
   },
   "source": [
    "As usual, draw the PGM and specify all the probabilistic relationships in the model. **Note: In class we will discuss and agree on a common set of priors that everyone should use.**"
   ]
  },
  {
   "cell_type": "markdown",
   "metadata": {
    "id": "howd-ipXQqfr",
    "tags": []
   },
   "source": [
    "> Space for PGM and generative model"
   ]
  },
  {
   "cell_type": "markdown",
   "metadata": {
    "id": "k_QiCSwgQqfr"
   },
   "source": [
    "### 2a. Implementation in code\n",
    "\n",
    "We provide an implementation of the `ExponentialModel` class, derived from `Model`, below. As advertized, only the methods that depend on the sampling distribution need to be specifically implemented; the other `Model` methods are still available. You will still need to specify the priors for this model when we instantiate it."
   ]
  },
  {
   "cell_type": "code",
   "execution_count": null,
   "metadata": {
    "id": "VxMlKilPQqfs"
   },
   "outputs": [],
   "source": [
    "class ExponentialModel(Model):\n",
    "    \"\"\"\n",
    "    Simple exponential model for mis-centering.\n",
    "    \"\"\"\n",
    "    def __init__(self, *args, **kwargs):\n",
    "        # A name for the model!\n",
    "        self.name = 'Exponential Model'\n",
    "        # Named arguments of other functions that correspond to parameters should appear in this order\n",
    "        self.param_names = ['a']\n",
    "        # parameter names as display text (for plot labels),\n",
    "        self.param_labels = [r'$a$']\n",
    "        # The next line finishes initialization by calling the parent class' __init__\n",
    "        Model.__init__(self, *args, **kwargs)\n",
    "\n",
    "    def log_likelihood(self, a):\n",
    "        \"\"\"\n",
    "        Evaluate the log of the likelihood function L(a) = p(y|a,H)\n",
    "        \"\"\"\n",
    "        return np.sum(st.expon.logpdf(y, scale=a))\n",
    "\n",
    "    def sampling_distribution(self, yy, a):\n",
    "        \"\"\"\n",
    "        Evaluate the sampling distribution PDF p(yy|a,H) at a point in data space yy given parameter value a\n",
    "        We expect a vector input yy, and return the corresponding probabilities.\n",
    "\n",
    "        Note: This is useful for making plots of \"the model\" overlaid on the histogram of the data\n",
    "        \"\"\"\n",
    "        return st.expon.pdf(yy, scale=a)\n",
    "\n",
    "    def generate_replica_dataset(self, N, a):\n",
    "        \"\"\"\n",
    "        Return a replica data set y_rep of length N from the sampling distribution p(y_rep|a,H).\n",
    "        \"\"\"\n",
    "        return st.expon.rvs(scale=a, size=N)"
   ]
  },
  {
   "cell_type": "markdown",
   "metadata": {
    "id": "Vn9rsKv5Qqfs"
   },
   "source": [
    "Per the comments in `Model.__init__`, define a dictionary whose sole entry, `expon_priors['a']`, specifies the prior distribution for $a$. This will need to be in the form of a `scipy.stats` frozen distribution, or some other object with many of the same methods."
   ]
  },
  {
   "cell_type": "code",
   "execution_count": null,
   "metadata": {
    "deletable": false,
    "id": "jIsFMZnBQqft",
    "nbgrader": {
     "cell_type": "code",
     "checksum": "4d6e0bc1011c66c8ad93e2f3e0c20b86",
     "grade": false,
     "grade_id": "expon_priors",
     "locked": false,
     "schema_version": 3,
     "solution": true,
     "task": false
    },
    "tags": []
   },
   "outputs": [],
   "source": [
    "# expon_priors = {'a':...}\n",
    "# YOUR CODE HERE\n",
    "raise NotImplementedError()"
   ]
  },
  {
   "cell_type": "markdown",
   "metadata": {
    "id": "MUq2plSqQqft"
   },
   "source": [
    "Now try instantiating a model object:"
   ]
  },
  {
   "cell_type": "code",
   "execution_count": null,
   "metadata": {
    "id": "9lMcn84LQqft"
   },
   "outputs": [],
   "source": [
    "Model1 = ExponentialModel(expon_priors)"
   ]
  },
  {
   "cell_type": "markdown",
   "metadata": {
    "id": "igm-m0XgQqfu"
   },
   "source": [
    "Try drawing a dozen samples from its prior as a test:"
   ]
  },
  {
   "cell_type": "code",
   "execution_count": null,
   "metadata": {
    "deletable": false,
    "editable": false,
    "id": "XaOvainRQqfu",
    "nbgrader": {
     "cell_type": "code",
     "checksum": "cc5969ff8328e0133259bf6a06773759",
     "grade": true,
     "grade_id": "prior_test",
     "locked": true,
     "points": 1,
     "schema_version": 3,
     "solution": false,
     "task": false
    },
    "tags": []
   },
   "outputs": [],
   "source": [
    "print(\"12 sample values drawn from the prior of Model1: \", Model1.draw_samples_from_prior(12))"
   ]
  },
  {
   "cell_type": "markdown",
   "metadata": {
    "id": "qA1pczlnQqfv"
   },
   "source": [
    "Test out the log-posterior function to make sure it's not obviously buggy:"
   ]
  },
  {
   "cell_type": "code",
   "execution_count": null,
   "metadata": {
    "id": "1wENtHpPQqfv"
   },
   "outputs": [],
   "source": [
    "for a in [1.0, 10.0, 100.0, -3.14]:\n",
    "    print('Log-posterior for a=', a, ' = ', Model1.log_posterior(a=a))"
   ]
  },
  {
   "cell_type": "markdown",
   "metadata": {
    "id": "NWm__yW9Qqfv"
   },
   "source": [
    "Similarly the mock-data producing function (arbitrarily with $a=500$)."
   ]
  },
  {
   "cell_type": "code",
   "execution_count": null,
   "metadata": {
    "id": "3k5dUuESQqfw"
   },
   "outputs": [],
   "source": [
    "plt.rcParams['figure.figsize'] = (6.0, 4.0)\n",
    "plt.hist(Model1.generate_replica_dataset(N=len(y), a=500.), bins=bins, color=\"lightgray\");\n",
    "plt.xlabel(\"Center offset $y$ (kpc)\", fontsize=12);\n",
    "plt.ylabel(\"Frequency (replica)\", fontsize=12);"
   ]
  },
  {
   "cell_type": "markdown",
   "metadata": {
    "id": "5M3d45gtQqfw"
   },
   "source": [
    "Finally, test the sampling distribution function."
   ]
  },
  {
   "cell_type": "code",
   "execution_count": null,
   "metadata": {
    "id": "tWsuZDMdQqfw"
   },
   "outputs": [],
   "source": [
    "plt.rcParams['figure.figsize'] = (6.0, 4.0)\n",
    "plt.plot(bins, Model1.sampling_distribution(bins, a=500.));\n",
    "plt.xlabel(\"Center offset $y$ (kpc)\", fontsize=12);\n",
    "plt.ylabel(\"$p(y|a)$\", fontsize=12);"
   ]
  },
  {
   "cell_type": "markdown",
   "metadata": {
    "id": "se1_Kq7cQqfx"
   },
   "source": [
    "### 2b. Fit the model to the data\n",
    "\n",
    "The `draw_samples_from_posterior` method carries out a parameter inference with `emcee` and displays its Markov chains. `remove_burnin` removes burn-in and concatenates the chains. Since these step aren't really the point of this problem, we'll just give you the code... for this model. Keep in mind that you're going to choose the alternative model to consider below, so we can't say what values of the keyword arguments used below will be appropriate for that case. Best not to speed through this section without looking at and thinking about what's happening, in other words.\n",
    "\n",
    "The concatenated MCMC samples are eventually stored in the `Model1.samples` array. Since we will be using these to compute p-values, among other things, make sure there are at least $10^3$ effectively independent samples after burn-in."
   ]
  },
  {
   "cell_type": "code",
   "execution_count": null,
   "metadata": {
    "id": "hHBnRrU4Qqfx"
   },
   "outputs": [],
   "source": [
    "%%time\n",
    "Model1.draw_samples_from_posterior(starting_params=[100.0], nsteps=2500, nwalkers=16)"
   ]
  },
  {
   "cell_type": "markdown",
   "metadata": {
    "id": "C1gDqGhxQqfy"
   },
   "source": [
    "This will compute the usual convergence criteria and effective number of samples:"
   ]
  },
  {
   "cell_type": "code",
   "execution_count": null,
   "metadata": {
    "id": "5OZ39MwcQqfz"
   },
   "outputs": [],
   "source": [
    "Model1.check_chains(burn=200, maxlag=200)"
   ]
  },
  {
   "cell_type": "markdown",
   "metadata": {
    "id": "y83tsvXPQqf0"
   },
   "source": [
    "Assuming that looks ok, remove the burn-in for good, and plot the concatenation of what's left."
   ]
  },
  {
   "cell_type": "code",
   "execution_count": null,
   "metadata": {
    "id": "GnYwvCWAQqf1"
   },
   "outputs": [],
   "source": [
    "Model1.remove_burnin(burn=100)"
   ]
  },
  {
   "cell_type": "code",
   "execution_count": null,
   "metadata": {
    "deletable": false,
    "editable": false,
    "id": "Bg4wu0x3Qqf1",
    "nbgrader": {
     "cell_type": "code",
     "checksum": "d0d27fdc96a5a91733c4c0ed65e19e70",
     "grade": true,
     "grade_id": "chainlength",
     "locked": true,
     "points": 1,
     "schema_version": 3,
     "solution": false,
     "task": false
    },
    "tags": []
   },
   "outputs": [],
   "source": [
    "assert Model1.neff[0] >= 1000"
   ]
  },
  {
   "cell_type": "markdown",
   "metadata": {
    "id": "PlnLMy1YQqf2"
   },
   "source": [
    "It will be useful for later to know the mean of the posterior:"
   ]
  },
  {
   "cell_type": "code",
   "execution_count": null,
   "metadata": {
    "id": "5kY-vIcpQqf3"
   },
   "outputs": [],
   "source": [
    "print(\"Posterior mean:\", Model1.posterior_mean())"
   ]
  },
  {
   "cell_type": "code",
   "execution_count": null,
   "metadata": {
    "deletable": false,
    "id": "upGbzEGVQqf4",
    "nbgrader": {
     "cell_type": "code",
     "checksum": "743aa1248d61bfb1ee1cf3bffd5fb8be",
     "grade": false,
     "grade_id": "checkpoint1",
     "locked": false,
     "schema_version": 3,
     "solution": true,
     "task": false
    },
    "tags": []
   },
   "outputs": [],
   "source": [
    "This_all_looks_good = False # change to True when true\n",
    "# YOUR CODE HERE\n",
    "raise NotImplementedError()"
   ]
  },
  {
   "cell_type": "code",
   "execution_count": null,
   "metadata": {
    "deletable": false,
    "editable": false,
    "id": "K8zmb1exQqf5",
    "nbgrader": {
     "cell_type": "code",
     "checksum": "b9c9ff89c0747183efc4062b270b8533",
     "grade": true,
     "grade_id": "check1",
     "locked": true,
     "points": 1,
     "schema_version": 3,
     "solution": false,
     "task": false
    },
    "tags": []
   },
   "outputs": [],
   "source": [
    "assert This_all_looks_good"
   ]
  },
  {
   "cell_type": "markdown",
   "metadata": {
    "id": "HOIMbCxDQqf5"
   },
   "source": [
    "### 2c. Visually compare the posterior predictions with the data.\n",
    "\n",
    "First, let's just plot the posterior-mean model over the data."
   ]
  },
  {
   "cell_type": "code",
   "execution_count": null,
   "metadata": {
    "id": "OXyWTxIMQqf6"
   },
   "outputs": [],
   "source": [
    "plt.rcParams['figure.figsize'] = (6.0, 4.0)\n",
    "\n",
    "# First the histogram of observed data, as backdrop:\n",
    "plt.hist(y, bins=bins, color=\"skyblue\", density=True, label=\"Observed\")\n",
    "\n",
    "# Now overlay a curve following the sampling distribution conditioned on the posterior mean value of a1:\n",
    "yy = np.linspace(bins.min(), bins.max(), len(bins)*10)\n",
    "pp = Model1.sampling_distribution(bins, **Model1.posterior_mean())\n",
    "plt.plot(bins, pp, linestyle=\"dashed\", color=\"red\", label=\"Posterior mean model\")\n",
    "\n",
    "plt.xlabel(\"Offset $y$ (kpc)\", fontsize=12)\n",
    "plt.ylabel(\"Normalized Frequency\", fontsize=12)\n",
    "plt.legend();"
   ]
  },
  {
   "cell_type": "markdown",
   "metadata": {
    "id": "pIaq3peWQqf7"
   },
   "source": [
    "This kind of plot should be familiar: it's often a good idea to evaluate model adequacy in data space. You should already be able to see telling differences between the a well-fitting model's sampling distribution, and the data histogram. However, we don't know to what extent those could be explained simply by the variability in the sampling distribution, let along the posterior uncertainty in $a$.\n",
    "\n",
    "So, next, let's compare a random predicted (\"replica\") data set, drawn from the posterior predictive distribution, with the data. To do this we first draw a parameter value from the posterior PDF, and then generate a dataset from the sampling distribution conditioned on that value. The result is a sample from $p(y_\\mathrm{rep}|y,H_1)$."
   ]
  },
  {
   "cell_type": "code",
   "execution_count": null,
   "metadata": {
    "id": "GoToeb4PQqf7"
   },
   "outputs": [],
   "source": [
    "plt.rcParams['figure.figsize'] = (6.0, 4.0)\n",
    "\n",
    "# First the histogram of observed data, as backdrop:\n",
    "plt.hist(y, bins=bins, color=\"skyblue\", density=True, label=\"Observed\");\n",
    "\n",
    "# Choose a posterior sample at random and generate a replica dataset, and show its histogram\n",
    "j = np.random.randint(0, Model1.Nsamples)\n",
    "mock = Model1.generate_replica_dataset(len(y), *Model1.samples[j,:])\n",
    "plt.hist(mock, bins=bins, alpha=1.0, histtype=\"step\", color=\"red\", density=True, label=\"Sample posterior prediction\")\n",
    "\n",
    "plt.xlabel(\"Offset $y$ (kpc)\", fontsize=12)\n",
    "plt.ylabel(\"Normalized Frequency\", fontsize=12)\n",
    "plt.legend();"
   ]
  },
  {
   "cell_type": "markdown",
   "metadata": {
    "id": "JGvTkXfqQqf8"
   },
   "source": [
    "This plot is nice because it is comparing apples with apples, asking: do mock datasets drawn from our model sampling distribution with any plausible parameter value \"look like\" the real data?\n",
    "\n",
    "However, to best evaluate this, we want to visualize the posterior predictive distribution of replica datasets instead of looking at just one. We can do this by plotting many replica datasets drawn from the posterior predictive PDF. Let's put this plot in a function, so we can re-use it later."
   ]
  },
  {
   "cell_type": "code",
   "execution_count": null,
   "metadata": {
    "id": "xeAyAUKpQqf8"
   },
   "outputs": [],
   "source": [
    "def visual_check(axes, Model, Nreps=None):\n",
    "    # First the histogram of observed data, as backdrop:\n",
    "    axes.hist(y, bins=bins, color=\"skyblue\", density=True, label=\"Observed\");\n",
    "\n",
    "    # Compute the posterior mean parameters\n",
    "    pm = Model.posterior_mean()\n",
    "\n",
    "    # Make a large number of replica datasets, and overlay histograms of them all\n",
    "    if Nreps is None: Nreps = len(Model.samples)\n",
    "    alpha = 5.0 / Nreps\n",
    "    for jj in np.round(np.linspace(0, len(Model.samples), num=Nreps, endpoint=False)):\n",
    "        j = int(jj)\n",
    "        if j==0:\n",
    "            # Plot a dataset drawn from the posterior mean, to give a good legend\n",
    "            mock = Model.generate_replica_dataset(len(y), **pm)\n",
    "            axes.hist(mock, bins=bins, histtype=\"step\", alpha=1.0, color=\"red\", density=True,\n",
    "                     label=\"Sample posterior predictions\");\n",
    "        else:\n",
    "            # Take the next posterior sample a and generate a replica dataset\n",
    "            mock = Model.generate_replica_dataset(len(y), *Model.samples[j,:])\n",
    "            axes.hist(mock, bins=bins, histtype=\"step\", alpha=alpha, color=\"red\", density=True);\n",
    "\n",
    "    # Include the posterior mean model for comparison\n",
    "    yy = np.linspace(bins.min(), bins.max(), len(bins)*10)\n",
    "    pp = Model.sampling_distribution(yy, **pm)\n",
    "    axes.plot(yy, pp, linestyle=\"dashed\", color=\"red\", label=\"Posterior mean model\");\n",
    "\n",
    "    axes.set_title(Model.name, fontsize=14)\n",
    "    axes.set_xlabel(\"Offset $y$ (kpc)\", fontsize=12)\n",
    "    axes.set_ylabel(\"Normalized Frequency\", fontsize=12)\n",
    "    axes.legend();"
   ]
  },
  {
   "cell_type": "markdown",
   "metadata": {
    "id": "7q6zewNAQqf8"
   },
   "source": [
    "The use of transparency above means that the darkness of the red histogram lines below corresponds to the PPD at that offset."
   ]
  },
  {
   "cell_type": "code",
   "execution_count": null,
   "metadata": {
    "id": "wPB8M2QLQqf9"
   },
   "outputs": [],
   "source": [
    "plt.rcParams['figure.figsize'] = (6.0, 4.0)\n",
    "fig, ax = plt.subplots(1)\n",
    "visual_check(ax, Model1, Nreps=100);"
   ]
  },
  {
   "cell_type": "markdown",
   "metadata": {
    "id": "iRJw1x1PQqf9"
   },
   "source": [
    "Based on these visual checks, would you say the model does a good job of predicting the observed data?"
   ]
  },
  {
   "cell_type": "code",
   "execution_count": null,
   "metadata": {
    "deletable": false,
    "id": "CKCSOpBIQqf-",
    "nbgrader": {
     "cell_type": "code",
     "checksum": "8c2ed14c1df0951f2dc5b08b7bb3167f",
     "grade": false,
     "grade_id": "checkpoint2",
     "locked": false,
     "schema_version": 3,
     "solution": true,
     "task": false
    },
    "tags": []
   },
   "outputs": [],
   "source": [
    "I_have_thought_about_the_above_question = False # change to True when true\n",
    "# YOUR CODE HERE\n",
    "raise NotImplementedError()"
   ]
  },
  {
   "cell_type": "code",
   "execution_count": null,
   "metadata": {
    "deletable": false,
    "editable": false,
    "id": "QrHqsi8AQqf-",
    "nbgrader": {
     "cell_type": "code",
     "checksum": "d1a156de0d2e93fb0962a875c504afb4",
     "grade": true,
     "grade_id": "check2",
     "locked": true,
     "points": 1,
     "schema_version": 3,
     "solution": false,
     "task": false
    },
    "tags": []
   },
   "outputs": [],
   "source": [
    "assert I_have_thought_about_the_above_question"
   ]
  },
  {
   "cell_type": "markdown",
   "metadata": {
    "id": "peyjiHg-Qqf_"
   },
   "source": [
    "### 2c. Quantitative posterior predictive model check\n",
    "\n",
    "Now let's quantify the (in)adequacy of the fit with a quantitative posterior predictive model check, based on the `test_statistic` function you've already defined."
   ]
  },
  {
   "cell_type": "markdown",
   "metadata": {
    "id": "DBRnUlFzQqf_"
   },
   "source": [
    "To sample the posterior predictive distribution of test statistics $p[T(y_\\mathrm{rep})|y,H]$, we need to generate replica datasets from the model:"
   ]
  },
  {
   "cell_type": "code",
   "execution_count": null,
   "metadata": {
    "id": "njiilY9JQqf_"
   },
   "outputs": [],
   "source": [
    "def distribution_of_T(Model):\n",
    "    \"\"\"\n",
    "    Compute T(yrep) for each yrep drawn from the posterior predictive distribution,\n",
    "    using parameter samples stored in Model.\n",
    "    \"\"\"\n",
    "    return np.array([T(Model.generate_replica_dataset(len(y), *p)) for p in Model.samples])"
   ]
  },
  {
   "cell_type": "markdown",
   "metadata": {
    "id": "w16MgIYgQqgA"
   },
   "source": [
    "We can now do the following:\n",
    "* plot a histogram of $T(\\mathrm{mock~data})$\n",
    "* compare that distribution with $T(\\mathrm{real~data})$\n",
    "* compute and report the p-value for $T(\\mathrm{real~data})$\n",
    "\n",
    "And we want all of that in packaged in functions of the model, so that we can re-use it later (on different models!).\n",
    "\n",
    "First write a function to estimate the p-value, $P(T > T(y)|y,H)$, based on posterior predictions from the chains you ran above."
   ]
  },
  {
   "cell_type": "code",
   "execution_count": null,
   "metadata": {
    "deletable": false,
    "id": "QPSPO7KiQqgA",
    "nbgrader": {
     "cell_type": "code",
     "checksum": "a50ae6ee334f54dbe3d65716121d4276",
     "grade": false,
     "grade_id": "pvalue_func",
     "locked": false,
     "schema_version": 3,
     "solution": true,
     "task": false
    },
    "tags": []
   },
   "outputs": [],
   "source": [
    "def pvalue(Model):\n",
    "    \"\"\"\n",
    "    Return the posterior predictive p-value, P(T > T(y)|y,H):\n",
    "    \"\"\"\n",
    "    # YOUR CODE HERE\n",
    "    raise NotImplementedError()"
   ]
  },
  {
   "cell_type": "markdown",
   "metadata": {
    "id": "GJH5toX7QqgA"
   },
   "source": [
    "Here's a function that plots the distribution of T, and reports the p-value:"
   ]
  },
  {
   "cell_type": "code",
   "execution_count": null,
   "metadata": {
    "id": "6GE8087iQqgA",
    "tags": []
   },
   "outputs": [],
   "source": [
    "def posterior_predictive_check(Model, nbins=25):\n",
    "    \"\"\"\n",
    "    Compute the posterior predictive distribution of the test statistic T(y_rep), and compare with T(y_obs)\n",
    "    \"\"\"\n",
    "    # Compute distribution of T(yrep):\n",
    "    TT = distribution_of_T(Model)\n",
    "\n",
    "    # Plot:\n",
    "    plt.rcParams['figure.figsize'] = (7.0, 5.0)\n",
    "    plt.hist(TT, bins=nbins, histtype=\"step\", color=\"red\", label=\"$P(T(y_{\\\\rm rep})|y)$\")\n",
    "\n",
    "    # Overlay T(y_obs):\n",
    "    plt.axvline(x=T_true, color=\"gray\", linestyle=\"dashed\", label=\"$T(y_{\\\\rm observed})$\")\n",
    "    plt.xlabel(\"Test statistic T(y)\", fontsize=12)\n",
    "    plt.ylabel(\"Posterior predictive probability density\", fontsize=12)\n",
    "    plt.legend();\n",
    "\n",
    "    # Compute p-value:\n",
    "    p = pvalue(Model)\n",
    "    print(\"p-value =\", p)\n",
    "\n",
    "    return p"
   ]
  },
  {
   "cell_type": "markdown",
   "metadata": {
    "id": "xQIE3BWtQqgB"
   },
   "source": [
    "Let's see how it does:"
   ]
  },
  {
   "cell_type": "code",
   "execution_count": null,
   "metadata": {
    "id": "lcfUvjZqQqgB"
   },
   "outputs": [],
   "source": [
    "p1 = posterior_predictive_check(Model1)"
   ]
  },
  {
   "cell_type": "markdown",
   "metadata": {
    "id": "dYJ3Q8M0QqgC"
   },
   "source": [
    "Your p-value will probably be quite small, of order $10^{-3}$. The precise value will vary because of all the randomization involved in estimating it (and in the data set itself), and the fact that we are out in the tail of the posterior predictive distribution."
   ]
  },
  {
   "cell_type": "code",
   "execution_count": null,
   "metadata": {
    "deletable": false,
    "id": "XJa-i7ggQqgC",
    "nbgrader": {
     "cell_type": "code",
     "checksum": "67fa1b57f47c48fd50a6afa212b7df3b",
     "grade": false,
     "grade_id": "checkpoint3",
     "locked": false,
     "schema_version": 3,
     "solution": true,
     "task": false
    },
    "tags": []
   },
   "outputs": [],
   "source": [
    "This_checks_out_and_makes_sense = False # change to True if true\n",
    "# YOUR CODE HERE\n",
    "raise NotImplementedError()"
   ]
  },
  {
   "cell_type": "code",
   "execution_count": null,
   "metadata": {
    "deletable": false,
    "editable": false,
    "id": "FTesPP8PQqgD",
    "nbgrader": {
     "cell_type": "code",
     "checksum": "1777e5272bb61aee0e6ed170019564bf",
     "grade": true,
     "grade_id": "check3",
     "locked": true,
     "points": 1,
     "schema_version": 3,
     "solution": false,
     "task": false
    },
    "tags": []
   },
   "outputs": [],
   "source": [
    "assert This_checks_out_and_makes_sense"
   ]
  },
  {
   "cell_type": "markdown",
   "metadata": {
    "id": "JaC6kPefQqgD"
   },
   "source": [
    "## 3. Evaluating a more complex model\n",
    "\n",
    "Next, we'll repeat all of that (it should be much easier this time!) with a second model. To make things interesting, we'll make it a model with at least two parameters. Since this is a PDF over distances, it should be defined over the non-negative real line. The test statistic will, of course, have to be the same as before.\n",
    "\n",
    "**Note: We will discuss and agree on an alternative model, including priors, in class.** You are free to experiment with other options on your own, of course, though the notebook you turn in should use the agreed model.\n",
    "\n",
    "Include a PGM and the generative model expressions below:"
   ]
  },
  {
   "cell_type": "markdown",
   "metadata": {
    "id": "1zUwWmSjQqgD"
   },
   "source": [
    "> Space for PGM and generative model"
   ]
  },
  {
   "cell_type": "markdown",
   "metadata": {
    "id": "AEQB9ObkQqgE"
   },
   "source": [
    "Copy/paste the implementation of `ExponentialModel` and edit it accordingly. For grading convenience, we'll call the class `AlternativeModel`, but the `name` attribute set in its constructor can and should be more descriptive."
   ]
  },
  {
   "cell_type": "code",
   "execution_count": null,
   "metadata": {
    "deletable": false,
    "id": "qw_X4MqEQqgE",
    "nbgrader": {
     "cell_type": "code",
     "checksum": "91d1789579370b69fb759e695f9b9c93",
     "grade": false,
     "grade_id": "altmodel",
     "locked": false,
     "schema_version": 3,
     "solution": true,
     "task": false
    },
    "tags": []
   },
   "outputs": [],
   "source": [
    "# class AlternativeModel(Model):\n",
    "#     ....\n",
    "# YOUR CODE HERE\n",
    "raise NotImplementedError()"
   ]
  },
  {
   "cell_type": "markdown",
   "metadata": {
    "id": "xB1iHj96QqgF"
   },
   "source": [
    "We also need a dictionary of prior PDFs, analogous to the first model."
   ]
  },
  {
   "cell_type": "code",
   "execution_count": null,
   "metadata": {
    "deletable": false,
    "id": "aZlX4qMeQqgF",
    "nbgrader": {
     "cell_type": "code",
     "checksum": "3c3e7dbdc98f2937e49c0c55d21076c7",
     "grade": false,
     "grade_id": "altpriors",
     "locked": false,
     "schema_version": 3,
     "solution": true,
     "task": false
    },
    "tags": []
   },
   "outputs": [],
   "source": [
    "# alt_priors = {...}\n",
    "# YOUR CODE HERE\n",
    "raise NotImplementedError()"
   ]
  },
  {
   "cell_type": "markdown",
   "metadata": {
    "id": "lyUl4_FgQqgF"
   },
   "source": [
    "Next we instaniate it"
   ]
  },
  {
   "cell_type": "code",
   "execution_count": null,
   "metadata": {
    "id": "88UNWugEQqgG"
   },
   "outputs": [],
   "source": [
    "Model2 = AlternativeModel(alt_priors)"
   ]
  },
  {
   "cell_type": "markdown",
   "metadata": {
    "id": "e9inUJIjQqgG"
   },
   "source": [
    "... and test the prior sampling function:"
   ]
  },
  {
   "cell_type": "code",
   "execution_count": null,
   "metadata": {
    "deletable": false,
    "editable": false,
    "id": "GlgHCvA0QqgH",
    "nbgrader": {
     "cell_type": "code",
     "checksum": "f15ba2e8c1dc8aa0341465b5b2a5182d",
     "grade": true,
     "grade_id": "altpr_test",
     "locked": true,
     "points": 1,
     "schema_version": 3,
     "solution": false,
     "task": false
    },
    "tags": []
   },
   "outputs": [],
   "source": [
    "for pars in Model2.draw_samples_from_prior(12):\n",
    "    print(pars)"
   ]
  },
  {
   "cell_type": "markdown",
   "metadata": {
    "id": "7mN9MFwMQqgH"
   },
   "source": [
    "Test the posterior function on a couple of these prior samples:"
   ]
  },
  {
   "cell_type": "code",
   "execution_count": null,
   "metadata": {
    "deletable": false,
    "editable": false,
    "id": "JrB8oDc1QqgH",
    "nbgrader": {
     "cell_type": "code",
     "checksum": "39a328faaa8bdfab66b161d3885dcfc7",
     "grade": true,
     "grade_id": "altpost_test",
     "locked": true,
     "points": 1,
     "schema_version": 3,
     "solution": false,
     "task": false
    },
    "tags": []
   },
   "outputs": [],
   "source": [
    "for pars in Model2.draw_samples_from_prior(5):\n",
    "    print('Log-posterior for', pars, '=', Model2.log_posterior(**pars))"
   ]
  },
  {
   "cell_type": "markdown",
   "metadata": {
    "id": "GjZsfsz_QqgI"
   },
   "source": [
    "Test the mock data generator. Here and in the following test, you can replace the call to `draw_samples_from_prior` with specific parameter values if your prior is so wide that you're unlikely to see anything on the plot."
   ]
  },
  {
   "cell_type": "code",
   "execution_count": null,
   "metadata": {
    "id": "AD1Yemo9QqgI"
   },
   "outputs": [],
   "source": [
    "plt.rcParams['figure.figsize'] = (6.0, 4.0)\n",
    "plt.hist(Model2.generate_replica_dataset(len(y), **Model2.draw_samples_from_prior(1)[0]), bins=bins, color=\"lightgray\");\n",
    "plt.xlabel(\"Offset $y$ (kpc)\", fontsize=12);\n",
    "plt.ylabel(\"Frequency (replica)\", fontsize=12);"
   ]
  },
  {
   "cell_type": "markdown",
   "metadata": {
    "id": "bhJLvBzMQqgJ"
   },
   "source": [
    "Test the sampling distribution."
   ]
  },
  {
   "cell_type": "code",
   "execution_count": null,
   "metadata": {
    "id": "kZjIxC7JQqgJ"
   },
   "outputs": [],
   "source": [
    "plt.rcParams['figure.figsize'] = (6.0, 4.0)\n",
    "yy = np.linspace(bins.min(), bins.max(), len(bins)*10)\n",
    "plt.plot(yy, Model2.sampling_distribution(yy, **Model2.draw_samples_from_prior(1)[0]));\n",
    "plt.xlabel(\"Measured distance $y$\", fontsize=12);\n",
    "plt.ylabel(\"$p(y|a)$\", fontsize=12);"
   ]
  },
  {
   "cell_type": "markdown",
   "metadata": {
    "id": "ffgMMwoBQqgJ"
   },
   "source": [
    "Fit the model. Remember that a thoughtless copy/paste of the corresponding Model1 lines above will not work!"
   ]
  },
  {
   "cell_type": "code",
   "execution_count": null,
   "metadata": {
    "deletable": false,
    "id": "PmUoQGcbQqgJ",
    "nbgrader": {
     "cell_type": "code",
     "checksum": "31e7f8a6188b4541cab50df6bf912710",
     "grade": false,
     "grade_id": "fit2",
     "locked": false,
     "schema_version": 3,
     "solution": true,
     "task": false
    },
    "tags": []
   },
   "outputs": [],
   "source": [
    "%%time\n",
    "# Model2.draw_samples_from_posterior(starting_params=[...], nsteps=..., nwalkers=...)\n",
    "# YOUR CODE HERE\n",
    "raise NotImplementedError()"
   ]
  },
  {
   "cell_type": "markdown",
   "metadata": {
    "id": "BUMzDgaCQqgK"
   },
   "source": [
    "Check the convergence"
   ]
  },
  {
   "cell_type": "code",
   "execution_count": null,
   "metadata": {
    "deletable": false,
    "id": "IRymWYiqQqgK",
    "nbgrader": {
     "cell_type": "code",
     "checksum": "7f1cadb656781e614085cfa84206eef1",
     "grade": false,
     "grade_id": "chechchains2",
     "locked": false,
     "schema_version": 3,
     "solution": true,
     "task": false
    },
    "tags": []
   },
   "outputs": [],
   "source": [
    "# Model2.check_chains(burn=..., maxlag=...)\n",
    "# YOUR CODE HERE\n",
    "raise NotImplementedError()"
   ]
  },
  {
   "cell_type": "markdown",
   "metadata": {
    "id": "Fu4vYsqLQqgL"
   },
   "source": [
    "Remove burn-in."
   ]
  },
  {
   "cell_type": "code",
   "execution_count": null,
   "metadata": {
    "deletable": false,
    "id": "IdGUVy_uQqgL",
    "nbgrader": {
     "cell_type": "code",
     "checksum": "e97408d1a6d21632b1ef9c7cff7199d7",
     "grade": false,
     "grade_id": "burn2",
     "locked": false,
     "schema_version": 3,
     "solution": true,
     "task": false
    },
    "tags": []
   },
   "outputs": [],
   "source": [
    "# Model2.remove_burnin(...)\n",
    "# YOUR CODE HERE\n",
    "raise NotImplementedError()"
   ]
  },
  {
   "cell_type": "code",
   "execution_count": null,
   "metadata": {
    "deletable": false,
    "editable": false,
    "id": "1hL9hg-FQqgM",
    "nbgrader": {
     "cell_type": "code",
     "checksum": "df38d6f4c69e199a2400b852bc670664",
     "grade": true,
     "grade_id": "chainlength2",
     "locked": true,
     "points": 1,
     "schema_version": 3,
     "solution": false,
     "task": false
    },
    "tags": []
   },
   "outputs": [],
   "source": [
    "assert np.all(Model2.neff >= 1000)"
   ]
  },
  {
   "cell_type": "markdown",
   "metadata": {
    "id": "zpyxehZpQqgM"
   },
   "source": [
    "Since we have multiple parameters this time around, let's look at their covariances. (The plot size below is good for 2 parameters, but increase it as needed.)"
   ]
  },
  {
   "cell_type": "code",
   "execution_count": null,
   "metadata": {
    "id": "4_kpWmBrQqgM"
   },
   "outputs": [],
   "source": [
    "plotGTC(Model2.samples, paramNames=Model2.param_labels, figureSize=6,\n",
    "        customLabelFont={'size':12}, customTickFont={'size':12}, customLegendFont={'size':16});"
   ]
  },
  {
   "cell_type": "markdown",
   "metadata": {
    "id": "R4rSDMpaQqgN"
   },
   "source": [
    "Print the posterior mean."
   ]
  },
  {
   "cell_type": "code",
   "execution_count": null,
   "metadata": {
    "id": "RG7xiQh9QqgO"
   },
   "outputs": [],
   "source": [
    "print(\"Posterior mean parameters = \", Model2.posterior_mean())"
   ]
  },
  {
   "cell_type": "markdown",
   "metadata": {
    "id": "nUpekyxbQqgO"
   },
   "source": [
    "Visually compare posterior predictions with the data, alongside those of the exponential model."
   ]
  },
  {
   "cell_type": "code",
   "execution_count": null,
   "metadata": {
    "id": "zyWPBbItQqgP"
   },
   "outputs": [],
   "source": [
    "plt.rcParams['figure.figsize'] = (14.0, 5.0)\n",
    "fig, ax = plt.subplots(1,2)\n",
    "visual_check(ax[0], Model1, Nreps=100);\n",
    "visual_check(ax[1], Model2, Nreps=100);"
   ]
  },
  {
   "cell_type": "markdown",
   "metadata": {
    "id": "Grj25pJgQqgP"
   },
   "source": [
    "Finally, compute the p-value for the alternative model."
   ]
  },
  {
   "cell_type": "code",
   "execution_count": null,
   "metadata": {
    "id": "MCHbeDRVQqgQ"
   },
   "outputs": [],
   "source": [
    "p2 = posterior_predictive_check(Model2)"
   ]
  },
  {
   "cell_type": "markdown",
   "metadata": {
    "id": "Y8UPjd42QqgQ"
   },
   "source": [
    "Does your model appear to reproduce the data better than the exponential one? Does it have a \"better\" p-value?"
   ]
  },
  {
   "cell_type": "code",
   "execution_count": null,
   "metadata": {
    "deletable": false,
    "id": "41dy2AgTQqgR",
    "nbgrader": {
     "cell_type": "code",
     "checksum": "7ad960aefe2f7b2121481d3c7378a59d",
     "grade": false,
     "grade_id": "checkpoint4",
     "locked": false,
     "schema_version": 3,
     "solution": true,
     "task": false
    },
    "tags": []
   },
   "outputs": [],
   "source": [
    "I_have_pondered_the_above = False # change to True when true\n",
    "# YOUR CODE HERE\n",
    "raise NotImplementedError()"
   ]
  },
  {
   "cell_type": "code",
   "execution_count": null,
   "metadata": {
    "deletable": false,
    "editable": false,
    "id": "RkQUgCB4QqgR",
    "nbgrader": {
     "cell_type": "code",
     "checksum": "8e0dbf8b6583b20152e2e5144cae4d96",
     "grade": true,
     "grade_id": "check4",
     "locked": true,
     "points": 1,
     "schema_version": 3,
     "solution": false,
     "task": false
    },
    "tags": []
   },
   "outputs": [],
   "source": [
    "assert I_have_pondered_the_above"
   ]
  },
  {
   "cell_type": "markdown",
   "metadata": {
    "id": "GQicLECbQqgS"
   },
   "source": [
    "More to the point, is it a better model, in the sense of being justified by the data? To answer that, we need to keep in mind that a more flexible model (i.e. with more free parameters) will usually be able to fit the data more closely, even if it's only reproducing the particular realization of noise present in our specific data set. In other words, directly comparing the maximum likelihood achieved, or even the p-values, is not enough to say that the more complex model is statistically better at reproducing the features of the observed data. For that, we will need to turn from model evaluation to model comparison."
   ]
  },
  {
   "cell_type": "markdown",
   "metadata": {
    "id": "MeqsReMgQqgV"
   },
   "source": [
    "## 3. Compare the models using the DIC\n",
    "\n",
    "Recall that the Deviance Information Criterion is given by:\n",
    "\n",
    "$\\mathrm{DIC} = D(\\langle\\theta\\rangle) + 2p_D = \\langle D(\\theta) \\rangle + p_D; \\quad p_D = \\langle D(\\theta) \\rangle - D(\\langle\\theta\\rangle)$\n",
    "\n",
    "where $\\theta$ are the parameters of a model, the deviance $D(\\theta)=-2\\log P(\\mathrm{data}|\\theta)$, and averages $\\langle\\rangle$ are over the posterior distribution of $\\theta$.\n",
    "\n",
    "Write a function to compute this from the posterior samples we have generated for a given model."
   ]
  },
  {
   "cell_type": "code",
   "execution_count": null,
   "metadata": {
    "deletable": false,
    "id": "Fp1J07u6QqgV",
    "nbgrader": {
     "cell_type": "code",
     "checksum": "5090a2f5e2dae5b8ac655ab27286ec7b",
     "grade": false,
     "grade_id": "dicfunc",
     "locked": false,
     "schema_version": 3,
     "solution": true,
     "task": false
    },
    "tags": []
   },
   "outputs": [],
   "source": [
    "def DIC(Model):\n",
    "    \"\"\"\n",
    "    Compute the Deviance Information Criterion for the given model.\n",
    "    (In a less pedagogical world, this would logically be a method of the base Model class.)\n",
    "    Return a tuple: (DIC,pD)\n",
    "    \"\"\"\n",
    "    # Compute the deviance D for each sample\n",
    "    D = -2.0*np.array([ Model.log_likelihood(*params) for params in Model.samples ])\n",
    "    #pD =\n",
    "    #DIC =\n",
    "    #return DIC, pD\n",
    "    # YOUR CODE HERE\n",
    "    raise NotImplementedError()"
   ]
  },
  {
   "cell_type": "markdown",
   "metadata": {
    "id": "Z38_Oj-GQqgW"
   },
   "source": [
    "Compute the DIC for each model."
   ]
  },
  {
   "cell_type": "code",
   "execution_count": null,
   "metadata": {
    "deletable": false,
    "editable": false,
    "id": "YuS93TOIQqgW",
    "nbgrader": {
     "cell_type": "code",
     "checksum": "e98f3ccfe6c4bca6aa81c491710a944f",
     "grade": true,
     "grade_id": "dictest",
     "locked": true,
     "points": 1,
     "schema_version": 3,
     "solution": false,
     "task": false
    },
    "tags": []
   },
   "outputs": [],
   "source": [
    "DIC1, pD1 = DIC(Model1)\n",
    "print(Model1.name+':')\n",
    "print(\"Effective number of fitted parameters =\", pD1)\n",
    "print(\"DIC =\", DIC1)"
   ]
  },
  {
   "cell_type": "code",
   "execution_count": null,
   "metadata": {
    "id": "aGd2G9rfQqgX"
   },
   "outputs": [],
   "source": [
    "DIC2, pD2 = DIC(Model2)\n",
    "print(Model2.name+':')\n",
    "print(\"Effective number of fitted parameters =\", pD2)\n",
    "print(\"DIC =\", DIC2)"
   ]
  },
  {
   "cell_type": "markdown",
   "metadata": {
    "id": "0ZT40k01QqgX"
   },
   "source": [
    "Do your values of $p_D$ make sense given the dimensionality of the 2 models and their priors?"
   ]
  },
  {
   "cell_type": "markdown",
   "metadata": {
    "id": "xi_nZJQJQqgY"
   },
   "source": [
    "Now, to interpret this, we can compare the reduction (hopefully) in the DIC of Model 2 compared with Model 1 to the Jeffreys scale (see the Model Evaluation notes). By this metric, is your second model better at explaining the data than the exponential model?"
   ]
  },
  {
   "cell_type": "code",
   "execution_count": null,
   "metadata": {
    "id": "zyDh0PfmQqgY",
    "tags": []
   },
   "outputs": [],
   "source": [
    "DIC1 - DIC2, np.exp(0.5*(DIC1-DIC2))"
   ]
  },
  {
   "cell_type": "code",
   "execution_count": null,
   "metadata": {
    "deletable": false,
    "id": "O_2XWTc0QqgY",
    "nbgrader": {
     "cell_type": "code",
     "checksum": "faa834b3c097298bee253fe603dd830a",
     "grade": false,
     "grade_id": "checkpoint5",
     "locked": false,
     "schema_version": 3,
     "solution": true,
     "task": false
    },
    "tags": []
   },
   "outputs": [],
   "source": [
    "I_have_an_answer = False # change to True when true\n",
    "# YOUR CODE HERE\n",
    "raise NotImplementedError()"
   ]
  },
  {
   "cell_type": "code",
   "execution_count": null,
   "metadata": {
    "deletable": false,
    "editable": false,
    "id": "TT8HUoiDQqgZ",
    "nbgrader": {
     "cell_type": "code",
     "checksum": "a577a8e192683a6940d97c9c1fbcb040",
     "grade": true,
     "grade_id": "check5",
     "locked": true,
     "points": 1,
     "schema_version": 3,
     "solution": false,
     "task": false
    },
    "tags": []
   },
   "outputs": [],
   "source": [
    "assert I_have_an_answer"
   ]
  },
  {
   "cell_type": "markdown",
   "metadata": {
    "id": "sQdmJBx2QqgZ"
   },
   "source": [
    "## 4. Compare the models using the evidence\n",
    "\n",
    "In general, the recommended way to compute the evidence is using a nested sampler like `dynesty`. But this notebook is already getting a bit long, and we shouldn't need to be that sophisticated in this case. So, instead, we will estimate the evidence by direct Monte Carlo integration.\n",
    "\n",
    "To do this, note that\n",
    "\n",
    "$p(\\mathrm{data}|H)=\\int d\\theta \\, p(\\mathrm{data}|\\theta,H) \\, p(\\theta|H)$\n",
    "\n",
    "can be approximated by averaging the likelihood over samples from the prior:\n",
    "\n",
    "$p(\\mathrm{data}|H) \\approx \\frac{1}{m}\\sum_{k=1}^m p(\\mathrm{data}|\\theta_k,H)$, with $\\theta_k\\sim p(\\theta|H)$.\n",
    "\n",
    "This estimate is much more straightforward than trying to use samples from the posterior to calculate the evidence (which would require us to be able to normalize the posterior, which would require an estimate of the evidence, ...). But in general, and especially for large-dimensional parameter spaces, it is very inefficient because the likelihood typically is large in only a small fraction of the prior volume. Still, let's give it a try.\n",
    "\n",
    "Write a function to draw a given number of samples from the prior and use them to calculate the evidence. To avoid numerical over/underflows, use the special `scipy` function `logsumexp` (which we imported directly, way at the top of the notebook) to do the sum of the likelihoods. As the name implies, this function is equivalent to `log(sum(exp(...)))`, but is more numerically stable."
   ]
  },
  {
   "cell_type": "code",
   "execution_count": null,
   "metadata": {
    "deletable": false,
    "id": "D1WXeoARQqga",
    "nbgrader": {
     "cell_type": "code",
     "checksum": "8cbc7ab2efccab9df36a5a90005a6f87",
     "grade": false,
     "grade_id": "evidence",
     "locked": false,
     "schema_version": 3,
     "solution": true,
     "task": false
    },
    "tags": []
   },
   "outputs": [],
   "source": [
    "def log_evidence(Model, N=1000):\n",
    "    \"\"\"\n",
    "    Estimate the log-evidence for the model using N samples from the prior\n",
    "    \"\"\"\n",
    "    # YOUR CODE HERE\n",
    "    raise NotImplementedError()"
   ]
  },
  {
   "cell_type": "markdown",
   "metadata": {
    "id": "9wWD-N2KQqga"
   },
   "source": [
    "Do a quick test to check for NaNs:"
   ]
  },
  {
   "cell_type": "code",
   "execution_count": null,
   "metadata": {
    "deletable": false,
    "editable": false,
    "id": "qhjVG5g3Qqga",
    "nbgrader": {
     "cell_type": "code",
     "checksum": "deee43cd103152a7c0da6f2713496def",
     "grade": true,
     "grade_id": "evidencetest",
     "locked": true,
     "points": 1,
     "schema_version": 3,
     "solution": false,
     "task": false
    },
    "tags": []
   },
   "outputs": [],
   "source": [
    "log_evidence(Model1, N=2), log_evidence(Model2, N=2)"
   ]
  },
  {
   "cell_type": "markdown",
   "metadata": {
    "id": "1G2fhIovQqgb"
   },
   "source": [
    "As with any monte carlo integration, we need to be confident that we have enough samples for our estimates to be usefully accurate. In this context, each estimate needs to be accurate enough that we can tell whether they are different from one another. Get a sense for the convergence of each evidence estimate by looking at how it changes with the value of `N`. If necessary, increase `N` until you are sure the difference between `logE1` and `logE2` is meaningful."
   ]
  },
  {
   "cell_type": "code",
   "execution_count": null,
   "metadata": {
    "id": "xUd8mSQlQqgb"
   },
   "outputs": [],
   "source": [
    "print('Model 1:')\n",
    "for Nevidence in [1, 10, 100, 1000, 10000]:\n",
    "    %time logE1 = log_evidence(Model1, N=Nevidence)\n",
    "    print(\"From\", Nevidence, \"samples, the log-evidence is\", logE1)"
   ]
  },
  {
   "cell_type": "code",
   "execution_count": null,
   "metadata": {
    "id": "cozKjLyHQqgc"
   },
   "outputs": [],
   "source": [
    "print('Model 2:')\n",
    "for Nevidence in [1, 10, 100, 1000, 10000]:\n",
    "    %time logE2 = log_evidence(Model2, N=Nevidence)\n",
    "    print(\"From\", Nevidence, \"samples, the log-evidence is\", logE2)"
   ]
  },
  {
   "cell_type": "code",
   "execution_count": null,
   "metadata": {
    "deletable": false,
    "id": "fo7f4xBfQqgc",
    "nbgrader": {
     "cell_type": "code",
     "checksum": "f66e5fb62cd3c333a3f97caea6e4a6b6",
     "grade": false,
     "grade_id": "checkpoint6",
     "locked": false,
     "schema_version": 3,
     "solution": true,
     "task": false
    },
    "tags": []
   },
   "outputs": [],
   "source": [
    "It_looks_convincingly_converged = False # change to True when true\n",
    "# YOUR CODE HERE\n",
    "raise NotImplementedError()"
   ]
  },
  {
   "cell_type": "code",
   "execution_count": null,
   "metadata": {
    "deletable": false,
    "editable": false,
    "id": "FP_y0SkPQqgc",
    "nbgrader": {
     "cell_type": "code",
     "checksum": "7d542ccae30c025d75331bf186040e7b",
     "grade": true,
     "grade_id": "check6",
     "locked": true,
     "points": 1,
     "schema_version": 3,
     "solution": false,
     "task": false
    },
    "tags": []
   },
   "outputs": [],
   "source": [
    "assert It_looks_convincingly_converged"
   ]
  },
  {
   "cell_type": "markdown",
   "metadata": {
    "id": "tytxBJ0GQqgd"
   },
   "source": [
    "So, we have log evidences computed for each model. Now what? We can compare their difference to the Jeffreys scale again:"
   ]
  },
  {
   "cell_type": "code",
   "execution_count": null,
   "metadata": {
    "id": "sjn65qyiQqgd"
   },
   "outputs": [],
   "source": [
    "logE2 - logE1, np.exp(logE2 - logE1)"
   ]
  },
  {
   "cell_type": "markdown",
   "metadata": {
    "id": "uK3RsugtQqgd"
   },
   "source": [
    "Note that we might end up with a different conclusion as to the strength of any preference of Model 2, compared with the DIC! The reason is that the evidence explicitly accounts for the information in the prior (which, recall, counts as part of the model definition), while the DIC does this much less directly.\n",
    "\n",
    "We could also be good Bayesians and admit that there should be a prior distribution in model space. For example, maybe I have a very compelling theoretical reason why the offset distribution should be exponential (I don't, but just for example). Then, I might need some extra convincing that an alternative model is required.\n",
    "\n",
    "We would then compute the ratio of the posterior probabilities of the models as follows:"
   ]
  },
  {
   "cell_type": "code",
   "execution_count": null,
   "metadata": {
    "id": "mB0GjJx4Qqge"
   },
   "outputs": [],
   "source": [
    "prior_H1 = 0.9 # or your choice\n",
    "prior_H2 = 1.0 - prior_H1 # assuming only these two options\n",
    "\n",
    "log_post_H1 = np.log(prior_H1) + logE1\n",
    "log_post_H2 = np.log(prior_H2) + logE2\n",
    "\n",
    "print('Difference of log posteriors (H2-H1):', log_post_H2-log_post_H1)\n",
    "print('Ratio of posteriors (H2/H1):', np.exp(log_post_H2-log_post_H1)) # NB this one might over/underflow"
   ]
  },
  {
   "cell_type": "markdown",
   "metadata": {
    "id": "921E0hy_Qqge"
   },
   "source": [
    "Depending on the fitness of the alternative model, you may find that only an extremely lopsided prior in model space would influence your conclusion."
   ]
  }
 ],
 "metadata": {
  "anaconda-cloud": {},
  "colab": {
   "provenance": [],
   "toc_visible": true
  },
  "kernelspec": {
   "display_name": "Python 3 (ipykernel)",
   "language": "python",
   "name": "python3"
  },
  "language_info": {
   "codemirror_mode": {
    "name": "ipython",
    "version": 3
   },
   "file_extension": ".py",
   "mimetype": "text/x-python",
   "name": "python",
   "nbconvert_exporter": "python",
   "pygments_lexer": "ipython3",
   "version": "3.12.5"
  }
 },
 "nbformat": 4,
 "nbformat_minor": 4
}
