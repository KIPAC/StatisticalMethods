{
 "cells": [
  {
   "cell_type": "markdown",
   "metadata": {},
   "source": [
    "# Lesson 1\n",
    "\n",
    "## First let's take a look at some SDSS galaxy measurements\n",
    "\n",
    "\n",
    "%load_ext autoreload\n",
    "\n",
    "%autoreload 2\n",
    "\n",
    "import SDSS  - py file in the local folder\n",
    "\n",
    "why take log of size?\n",
    "\n",
    "what does Seaborn do?\n",
    "\n",
    "ra unit?\n",
    "\n",
    "## Summarizing galaxy positions: the \"correlation function\"\n",
    "\n",
    "size and magnitude cuts\n",
    "\n",
    "log size bins, bin_slop"
   ]
  },
  {
   "cell_type": "markdown",
   "metadata": {},
   "source": [
    "# Lesson 2\n",
    "\n",
    "## Last time we made our first generative model, for SDSS galaxy sizes\n",
    "\n",
    "why suppose that the log of size of galaxies is normal, not just size?\n",
    "\n",
    "why population variance instead of sample variance?\n",
    "\n",
    "Var[g(x)+f(y)]=Var[g(x)] + Var[f(y)] but if the sampling size is not big enough, minor differences\n",
    "\n",
    "why Pr(Robs|Rtrue,σ)? why error distribtion depends on Rtrue?\n",
    "\n",
    "where should sigma go?\n",
    "\n",
    "## Let's make another forward model, this time with the X-ray Image dataset\n",
    "\n",
    "exposure map (ex) = map of exposure time of each pixel\n",
    "\n",
    "theta = angle: note, (x,y) -> (r, theta)\n",
    "\n",
    "why no b in the PGM?\n",
    "\n",
    "## Inferring cluster model parameters from the X-ray Image\n",
    "\n",
    "\n",
    "$\\prod_k \\; {\\rm Pr}(N_k\\;|\\;\\mu_k(\\theta),{\\rm ex}_k,{\\rm pb}_k,H) \\; {\\rm Pr}(\\,\\theta\\,|H)$  - isn't it more correct to write $\\prod_k \\; {\\rm Pr}(N_k\\;|\\;\\mu_k(\\theta, {\\rm ex}_k,{\\rm pb}_k),H) \\; {\\rm Pr}(\\,\\theta\\,|H)$?\n",
    "\n",
    "why prob.T?\n",
    "\n"
   ]
  }
 ],
 "metadata": {
  "kernelspec": {
   "display_name": "Python 2",
   "language": "python",
   "name": "python2"
  },
  "language_info": {
   "codemirror_mode": {
    "name": "ipython",
    "version": 2
   },
   "file_extension": ".py",
   "mimetype": "text/x-python",
   "name": "python",
   "nbconvert_exporter": "python",
   "pygments_lexer": "ipython2",
   "version": "2.7.10"
  }
 },
 "nbformat": 4,
 "nbformat_minor": 0
}
