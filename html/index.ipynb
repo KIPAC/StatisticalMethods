{
 "cells": [
  {
   "cell_type": "markdown",
   "metadata": {},
   "source": [
    "# PHYSICS 366: Statistical Methods in Astrophysics\n",
    "\n",
    "All about Stanford University graduate course Physics 366, Winter 2023 edition."
   ]
  },
  {
   "cell_type": "markdown",
   "metadata": {},
   "source": [
    "## Description\n",
    "\n",
    "This course covers the foundations of principled inference from data, primarily in the Bayesian framework, organized around applications in astrophysics and cosmology. Topics include probabilistic modeling of data, parameter constraints and model comparison, numerical methods including Markov Chain Monte Carlo, and connections to frequentist and machine learning frameworks. The course is organized around tutorials that provide hands-on experience with real data.\n",
    "\n",
    "The class was developed for and is aimed at beginning graduate students in astrophysics and cosmology, and we strongly encourage most first and second year students working in KIPAC to take it when offered (normally every 2 years). However, the course materials are provided here for anyone who might want to learn (see the [recommended prerequisites](notes/overview.ipynb#Prerequisites)). Therefore, the usual syllabus information is split into two parts:\n",
    "\n",
    "### Syllabus documents\n",
    "* [An overview of the course](notes/overview.ipynb) for everyone\n",
    "* [Information, logistics and policies](notes/syllabus.ipynb) specifically for enrolled students\n",
    "\n",
    "### Additional quick links\n",
    "* [Stanford course catalog entry](https://explorecourses.stanford.edu/search?view=catalog&filter-coursestatus-Active=on&page=0&catalog=&academicYear=&q=PHYSICS366&collapse=)\n",
    "* [Canvas site](https://canvas.stanford.edu/courses/169098)\n",
    "* [GitHub repository](https://github.com/KIPAC/StatisticalMethods/)"
   ]
  },
  {
   "cell_type": "markdown",
   "metadata": {},
   "source": [
    "## Learning goals (abbreviated)\n",
    "\n",
    "Our aim is to provide students with a foundation of experience in\n",
    "* the reasoning that underlies principled inference from data,\n",
    "* the algorithms and approximations employed for inference, and\n",
    "* the strategies involved in solving realistically complex inference problems using real data.\n",
    "\n",
    "You can find these spelled out in more detail [in the overview](notes/overview.ipynb#Learning-goals)."
   ]
  },
  {
   "cell_type": "markdown",
   "metadata": {},
   "source": [
    "## Content\n",
    "\n",
    "**Start by looking at the [Overview](notes/overview.ipynb) to understand how this course works, and [Getting Started](notes/getting_started.ipynb) to get up and running with Python and Jupyter, if needed.**\n",
    "Enrolled students should also read the [Syllabus](notes/syllabus.ipynb) page to see what is expected.\n",
    "\n",
    "The course content can be browsed here in static HTML format through the hyperlinks below. This is sufficient for the notes, but to do the tutorials you will need to download them in Jupyter notebook format from the [GitHub repository](https://github.com/KIPAC/StatisticalMethods/).\n",
    "\n",
    "A natural progression through the course notes and tutorials is depicted below. If you know the name of the notebook you're looking for, it may be faster to find it in the table farther below, which is also in a reasonable order."
   ]
  },
  {
   "cell_type": "markdown",
   "metadata": {},
   "source": [
    "### Flowchart"
   ]
  },
  {
   "cell_type": "markdown",
   "metadata": {},
   "source": [
    "### Tables\n",
    "\n",
    "#### Principles\n",
    "\n",
    "Notes | Core Tutorials | Optional Tutorials\n",
    ":---- | :------------- | :-----------------\n",
    "[Overview](notes/overview.ipynb) | |\n",
    "[Syllabus](notes/syllabus.ipynb) (for enrolled students) | |\n",
    "[Getting Started](notes/getting_started.ipynb) | | [Demo](tutorials/demo.html) (ungraded)\n",
    "[Essential Probability](notes/essential_probability.html) | [Essential Probability](tutorials/essential_probability.html) | [Probability Transformations](tutorials/probability_transformations.html)\n",
    "| [Working with Samples](tutorials/working_with_samples.html) |\n",
    "[Generative Models](notes/generative_models.html) | [Generative Models](tutorials/generative_models.html) |\n",
    "[Bayes' Law](notes/bayes_law.html) | [Bayes' Law](tutorials/bayes_law.html) |\n",
    "[Credible Regions](notes/credible_regions.html) | [Credible Regions](tutorials/credible_regions.html) |\n",
    "[\"Error Bars\"](notes/errorbars.html) | | [Gaussians and Least Squares](tutorials/gaussians.html)\n",
    "[Model Evaluation and Comparison I](notes/goodness.html) | [Bayes on a Grid](tutorials/toy_photometry_grid.html) |\n",
    "[Frequentism](notes/frequentism.html) | | [Frequestism](tutorials/frequentism.html)"
   ]
  },
  {
   "cell_type": "markdown",
   "metadata": {},
   "source": [
    "#### Methods\n",
    "\n",
    "Notes | Core Tutorials | Optional Tutorials\n",
    ":---- | :------------- | :-----------------\n",
    "[Monte Carlo Sampling](notes/montecarlo.html) | At least one optional $\\rightarrow$ | [Gibbs Sampling](tutorials/toy_photometry_gibbs.html), [Metropolis Sampling](tutorials/toy_photometry_metro.html)\n",
    "[MCMC Diagnostics](notes/mcmc_diagnostics.html) | [MCMC Diagnostics](tutorials/mcmc_diagnostics.html) |\n",
    "[More Sampling Methods](notes/more_samplers.html), [MC packages](notes/MC_packages.html) | [Microlensing/More Samplers](tutorials/microlensing.html) |\n",
    "[Model Evaluation and Comparison II](notes/model_evaluation.html) | [Cluster Centering/Model Evaluation](tutorials/model_evaluation.html) |\n",
    "| [Cluster Centering/Model Comparison](tutorials/model_comparison.html) |"
   ]
  },
  {
   "cell_type": "markdown",
   "metadata": {},
   "source": [
    "#### Practice\n",
    "\n",
    "Notes | Core Tutorials | Optional Tutorials\n",
    ":---- | :------------- | :-----------------\n",
    "[Hierarchical Models](notes/hierarchical.html) | At least one optional (any row) | [Design Your Own!](tutorials/your_own.html)\n",
    "| | [Period-Luminosity Relation/One Galaxy](tutorials/cepheids_one_galaxy.html) ([Cepheid Data Intro](tutorials/cepheids.html))\n",
    "| | [Period-Luminosity Relation/Multiple Galaxies](tutorials/cepheids_all_galaxies.html) ([Cepheid Data Intro](tutorials/cepheids.html))\n",
    "| | [X-ray Photometry](tutorials/xmm_image.html) ([XMM Image Intro](tutorials/xmm_cluster.html))\n",
    "[Missing Data and Selection Effects](notes/missingdata.html) | | [O-Ring Failures/Missing Data](tutorials/missing_data.html)\n",
    "[\"Model-free\" Models](notes/modelfreemodels.html) | | [Cluster Membership/Mixture Models](tutorials/cl_membership.html)\n",
    "[Approximate Methods](notes/approximate_methods.html) | |\n",
    "[How to Avoid Fooling Ourselves](notes/fishing.html) | |"
   ]
  },
  {
   "cell_type": "markdown",
   "metadata": {},
   "source": [
    "### Solutions\n",
    "\n",
    "Solutions to the tutorials are **not** provided. However, there are static pages showing the outputs of correctly [solved tutorials](solved/tutorials/index.html) that you can compare your work to. Keep in mind that your results may not look _identical_, since many algorithms we use invoke random number generators."
   ]
  },
  {
   "cell_type": "markdown",
   "metadata": {},
   "source": [
    "### On the use of Javascript\n",
    "\n",
    "We firmly believe that any website that cannot function without Javascript is not a website. Every page linked here should be basically functional without scripts. However, we do use Javascript in two way that are actually helpful:\n",
    "* to render the flowchart through the course, above (via [Mermaid](https://mermaid-js.github.io/mermaid/))\n",
    "* to render equations using [MathJax](https://www.mathjax.org/)"
   ]
  },
  {
   "cell_type": "markdown",
   "metadata": {},
   "source": [
    "## Copyright statement\n",
    "\n",
    "Unless otherwise noted, all materials are Copyright 2015, 2017, 2019, 2021, 2023 by the contributors (below), and licensed under the Creative Commons CC BY-NC (Attribution-NonCommercial) 4.0 International License. Executable code is additionally covered by the BSD 3-Clause License.\n",
    "\n",
    "Contributors:\n",
    "* 2023: Adam Mantz\n",
    "* 2021: Adam Mantz, Claire Hébert\n",
    "* 2019: Adam Mantz, Phil Marshall\n",
    "* 2017: Adam Mantz, Phil Marshall\n",
    "* 2015: Phil Marshall, Adam Mantz, Elisabeth Krause, Matthew Becker, Eric Charles\n",
    "\n",
    "Please report broken links and similar in the [GitHub](https://github.com/KIPAC/StatisticalMethods/) issues."
   ]
  }
 ],
 "metadata": {
  "kernelspec": {
   "display_name": "Python 3",
   "language": "python",
   "name": "python3"
  },
  "language_info": {
   "codemirror_mode": {
    "name": "ipython",
    "version": 3
   },
   "file_extension": ".py",
   "mimetype": "text/x-python",
   "name": "python",
   "nbconvert_exporter": "python",
   "pygments_lexer": "ipython3",
   "version": "3.7.9"
  }
 },
 "nbformat": 4,
 "nbformat_minor": 2
}
