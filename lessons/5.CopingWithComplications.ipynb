{
 "cells": [
  {
   "cell_type": "markdown",
   "metadata": {},
   "source": [
    "# PHYS366: Statistical Methods in Astrophysics\n",
    "\n",
    "\n",
    "# Lesson 5: Inference in Practice: Coping With ~~Complications~~ Reality"
   ]
  },
  {
   "cell_type": "markdown",
   "metadata": {},
   "source": [
    "### Goals for this session:\n",
    "\n",
    "* Use hierachical models to encode physical relationships among sources\n",
    "* Design models that account for the imperfections of data collection\n",
    "* Cope with situations where we don't know how to build a model\n",
    "\n",
    "#### Related reading:\n",
    "* Bits of Gelman chapters 3, 5 and 7\n",
    "* Hogg et al., [Data analysis recipes: Fitting a model to data](http://arxiv.org/abs/1008.4686)"
   ]
  },
  {
   "cell_type": "markdown",
   "metadata": {
    "collapsed": true
   },
   "source": [
    "## About this session\n",
    "#### We started this course by looking at astronomical data and talking about some of its nasty features. Now that you understand the inferential tools we have at our disposal and have tested them out on relatively simple problems, it's time to get back to the dirty business of drawing conclusions from real data, warts and all."
   ]
  },
  {
   "cell_type": "markdown",
   "metadata": {
    "collapsed": true
   },
   "source": [
    "## Setting the stage\n",
    "\n",
    "#### Below are three real astronomical data sets, all presenting different aspects of the \"line-fit\" problem we've seen before.\n",
    "\n",
    "<table width=\"100%\">\n",
    "    <tr>\n",
    "        <td><img src=\"../notes/CopingExample1.png\" width=320></td>\n",
    "        <td><img src=\"../notes/CopingExample2.png\" width=320></td>\n",
    "        <td><img src=\"../notes/CopingExample3.png\" width=320></td>\n",
    "    </tr>\n",
    "</table>\n",
    "\n",
    "### Question: What features can you identify in these data sets that don't fit into the simple model we've used previously?"
   ]
  },
  {
   "cell_type": "markdown",
   "metadata": {},
   "source": []
  },
  {
   "cell_type": "markdown",
   "metadata": {},
   "source": [
    "<br><br><br><br><br><br><br><br><br>\n",
    "\n",
    "### Let's see how we can include these features in a model. To the whiteboard!"
   ]
  },
  {
   "cell_type": "markdown",
   "metadata": {},
   "source": [
    "<br><br><br><br><br><br><br><br><br>\n",
    "\n",
    "## [Detour: \"less probabilistic\" methods](../notes/bootjackabc.ipynb)"
   ]
  }
 ],
 "metadata": {
  "kernelspec": {
   "display_name": "Python 2",
   "language": "python",
   "name": "python2"
  },
  "language_info": {
   "codemirror_mode": {
    "name": "ipython",
    "version": 2
   },
   "file_extension": ".py",
   "mimetype": "text/x-python",
   "name": "python",
   "nbconvert_exporter": "python",
   "pygments_lexer": "ipython2",
   "version": "2.7.10"
  }
 },
 "nbformat": 4,
 "nbformat_minor": 0
}
