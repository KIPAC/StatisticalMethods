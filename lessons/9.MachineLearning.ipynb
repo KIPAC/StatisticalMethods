{
 "cells": [
  {
   "cell_type": "markdown",
   "metadata": {},
   "source": [
    "# PHYS366: Statistical Methods in Astrophysics\n",
    "\n",
    "\n",
    "# Lesson 9: Machine Learning"
   ]
  },
  {
   "cell_type": "markdown",
   "metadata": {},
   "source": [
    "### Goals for this session:\n",
    "\n",
    "* Use some of the `SciKit-Learn` utilities to apply some Machine Learning solutions to some simple test problems.\n",
    "* Describe the difference in approach taken in Machine Learning compared to the statistical inferences more commonly seen in astronomy to date.\n",
    "\n",
    "#### Related reading:\n",
    "\n",
    "* Ivezic Chapters 6, 7, 8 and 9\n",
    "\n",
    "* Murphy: \"Machine Learning: A Probabilistic Approach\"\n",
    "\n",
    "* The [`SciKit-Learn` documentation](http://scikit-learn.org/stable/documentation.html)\n",
    "\n",
    "#### Credits:\n",
    "\n",
    "* The `SciKit-Learn` tutorial notebooks are based on [Andy Mueller's Astro Hack Week 2015 teaching materials](https://github.com/AstroHackWeek/AstroHackWeek2015/tree/master/day3-machine-learning).\n",
    "\n",
    "* The SDSS catalog regression and classification examples are due to [Josh Bloom (Astro Hack Week 2014)](https://github.com/AstroHackWeek/AstroHackWeek2014/tree/master/day4).\n",
    "\n",
    "See the [LICENSE](../scikit-learn/LICENSE) for details about redistributing the `SciKit-Learn` notebooks.\n",
    "\n",
    "\n",
    "#### Package dependency:\n",
    "\n",
    "* You'll need the `SciKit-Learn` package installed:"
   ]
  },
  {
   "cell_type": "code",
   "execution_count": null,
   "metadata": {
    "collapsed": false
   },
   "outputs": [],
   "source": [
    "!pip install --upgrade scikit-learn"
   ]
  },
  {
   "cell_type": "markdown",
   "metadata": {
    "collapsed": true
   },
   "source": [
    "## Getting Started in Machine Learning with SciKit-Learn\n",
    "\n",
    "[`SciKit-Learn`](http://scikit-learn.org/) is a well-documented, community-built python package to support data analysis via Machine Learning.\n",
    "\n",
    "* Let's jump into a [`SciKit-Learn` tutorial](../SciKit-Learn/Introduction_to_Machine_Learning.ipynb), and work through some simple examples."
   ]
  },
  {
   "cell_type": "markdown",
   "metadata": {
    "collapsed": true
   },
   "source": [
    "## Applications in Astrophysics\n",
    "\n",
    "* Having seen some simple examples from the `SciKit-Learn` tutorial, let's think about how Machine Learning could be applied in astrophysics.\n",
    "\n",
    "\n",
    "* Here are two example applications from the SDSS catalog example dataset, suggested by Josh Bloom: [photometric redshift estimation, and quasar target selection](../examples/SDSSCatalog/Quasars.ipynb)."
   ]
  },
  {
   "cell_type": "markdown",
   "metadata": {},
   "source": [
    "## Recap\n",
    "\n",
    "* [What should we keep in mind](../notes/ML4astro.ipynb) when considering machine learning applications in astrophysics?"
   ]
  }
 ],
 "metadata": {
  "kernelspec": {
   "display_name": "Python 2",
   "language": "python",
   "name": "python2"
  },
  "language_info": {
   "codemirror_mode": {
    "name": "ipython",
    "version": 2
   },
   "file_extension": ".py",
   "mimetype": "text/x-python",
   "name": "python",
   "nbconvert_exporter": "python",
   "pygments_lexer": "ipython2",
   "version": "2.7.10"
  }
 },
 "nbformat": 4,
 "nbformat_minor": 0
}
