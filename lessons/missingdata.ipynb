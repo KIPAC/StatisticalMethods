{
 "cells": [
  {
   "cell_type": "markdown",
   "metadata": {
    "slideshow": {
     "slide_type": "slide"
    }
   },
   "source": [
    "# Missing Information and Selection Effects\n",
    "\n",
    "Goals:\n",
    "* Incorporate models for data selection into our toolkit\n",
    "* Understand when selection effects are ignorable, and when they must be accounted for"
   ]
  },
  {
   "cell_type": "markdown",
   "metadata": {
    "slideshow": {
     "slide_type": "slide"
    }
   },
   "source": [
    "## References\n",
    "\n",
    "* Gelman chapters 7 and 21\n",
    "* [Coping with selection effects: a primer on regression with truncated data](https://ui.adsabs.harvard.edu/abs/2019MNRAS.485.4863M)"
   ]
  },
  {
   "cell_type": "markdown",
   "metadata": {
    "slideshow": {
     "slide_type": "slide"
    }
   },
   "source": [
    "**What does \"missing information\" mean?**\n",
    "\n",
    "In physics, we're used to the idea that we never have complete information about a system."
   ]
  },
  {
   "cell_type": "markdown",
   "metadata": {
    "slideshow": {
     "slide_type": "fragment"
    }
   },
   "source": [
    "Trivial example: non-zero measurement errors mean that we're missing some information, namely the true value of whatever we've measured. We deal with this by incorporating that fact into our model, via the sampling distribution."
   ]
  },
  {
   "cell_type": "markdown",
   "metadata": {
    "slideshow": {
     "slide_type": "fragment"
    }
   },
   "source": [
    "Hierachical models tend to be full of such unobservable parameters, including things like group membership."
   ]
  },
  {
   "cell_type": "markdown",
   "metadata": {
    "slideshow": {
     "slide_type": "slide"
    }
   },
   "source": [
    "**Key messages**\n",
    "\n",
    "1. No data set is perfectly complete (especially in astronomy!)\n",
    "2. It's our job to know whether that incompleteness can be ignored for the purpose of our inference\n",
    "3. If not, we need to model it appropriately and marginalize over our ignorance"
   ]
  },
  {
   "cell_type": "markdown",
   "metadata": {
    "slideshow": {
     "slide_type": "slide"
    }
   },
   "source": [
    "**More missingness mechanisms**\n",
    "\n",
    "Two more ways that data can be missing are extremely common in astrophysics, and especially in surveys. In statistics, these are called **censoring** and **truncation**.\n",
    "\n",
    "These are related (though not one-to-one) with the astronomical terms **Malmquist bias** and **Eddington bias**."
   ]
  },
  {
   "cell_type": "markdown",
   "metadata": {
    "slideshow": {
     "slide_type": "slide"
    }
   },
   "source": [
    "**Censoring**: a given data point (astronomical source) is known to exist, but a relevant measurement for it is not available.\n",
    "\n",
    "This refers both to completely absent measurements and upper limits/non-detections, although in principle the latter case still provides us with a sampling distribution."
   ]
  },
  {
   "cell_type": "markdown",
   "metadata": {
    "slideshow": {
     "slide_type": "fragment"
    }
   },
   "source": [
    "**Truncation**: not only are measurements missing, but the total number of sources that *should* be in the data set is unknown.\n",
    "\n",
    "In other words, the lack of a measurement means that we don't even know about a particular source's existence."
   ]
  },
  {
   "cell_type": "markdown",
   "metadata": {
    "slideshow": {
     "slide_type": "slide"
    }
   },
   "source": [
    "**Malmquist bias** refers to the fact that flux-limited surveys have an effective *luminosity* limit for detection that rises with distance (redshift). Thus, the sample of measured luminosities is not representative of the whole population."
   ]
  },
  {
   "cell_type": "markdown",
   "metadata": {
    "slideshow": {
     "slide_type": "slide"
    }
   },
   "source": [
    "<table>\n",
    "    <tr>\n",
    "        <td><a href=\"graphics/missing_malquist.source\"><img src=\"graphics/missing_malquist.png\" width=100%></a></td>\n",
    "    </tr>\n",
    "</table>"
   ]
  },
  {
   "cell_type": "markdown",
   "metadata": {
    "slideshow": {
     "slide_type": "slide"
    }
   },
   "source": [
    "**Eddington bias** refers to the effect of noise or scatter on a luminosity function, $N(>L)$, the number of sources in some population more luminous than $L$.\n",
    "\n",
    "Because the true $N(>L)$ is usually steeply decreasing in practice, and extends below the survey flux limit, scatter in measurements of $L$ can have a big impact on the measured luminosity function."
   ]
  },
  {
   "cell_type": "markdown",
   "metadata": {
    "slideshow": {
     "slide_type": "slide"
    }
   },
   "source": [
    "This is a histogram rather than $N(>L)$, but you get the idea.\n",
    "\n",
    "<table>\n",
    "    <tr>\n",
    "        <td><a href=\"graphics/missing.R\"><img src=\"graphics/missing_eddington.png\" width=100%></a></td>\n",
    "    </tr>\n",
    "</table>"
   ]
  },
  {
   "cell_type": "markdown",
   "metadata": {
    "slideshow": {
     "slide_type": "slide"
    }
   },
   "source": [
    "The terms Malmquist and Eddington bias were coined in relatively specific contexts. Usually, it's more accurate to say that a given data set is impacted by the selection procedure."
   ]
  },
  {
   "cell_type": "markdown",
   "metadata": {
    "slideshow": {
     "slide_type": "slide"
    }
   },
   "source": [
    "**Example**\n",
    "\n",
    "Consider the (real) case of a flux-limited galaxy cluster survey. Cluster luminosities scale with mass, and the mass function (hence also the luminosity function) is steeply decreasing. The number as a function of mass and redshift, and the luminosity-mass relation, are both of interest."
   ]
  },
  {
   "cell_type": "markdown",
   "metadata": {
    "slideshow": {
     "slide_type": "slide"
    }
   },
   "source": [
    "<a href=\"graphics/missing_RASS_zL.source\"><img src=\"graphics/missing_RASS_zL.png\" width=50%></a>\n",
    "\n",
    "Complilation of ROSAT All-Sky Survey cluster detections"
   ]
  },
  {
   "cell_type": "markdown",
   "metadata": {
    "slideshow": {
     "slide_type": "slide"
    }
   },
   "source": [
    "<table>\n",
    "    <tr>\n",
    "        <td><a href=\"graphics/missing_expn_full.source\"><img src=\"graphics/missing_expn_full.png\" width=90%></a></td>\n",
    "        <td></td>\n",
    "        <td><a href=\"graphics/missing_expn_trun.source\"><img src=\"graphics/missing_expn_trun.png\" width=90%></a></td>\n",
    "    </tr>\n",
    "</table>\n",
    "\n",
    "Fictional luminosity-mass data, applying a threshold for detection"
   ]
  },
  {
   "cell_type": "markdown",
   "metadata": {
    "slideshow": {
     "slide_type": "slide"
    }
   },
   "source": [
    "**Coping with missing information**\n",
    "\n",
    "Ad hoc approaches exist, but won't be covered. You might hear the terms \"debiasing\" or \"deboosting\" in this context.\n",
    "\n",
    "Ideally, we should include the \"selection\" process that determines which data are observed and which are not in our generative model. This may involve expanding the model to include things like undetected sources."
   ]
  },
  {
   "cell_type": "markdown",
   "metadata": {
    "slideshow": {
     "slide_type": "fragment"
    }
   },
   "source": [
    "* Priors (models for things that aren't observed) are going to matter!"
   ]
  },
  {
   "cell_type": "markdown",
   "metadata": {
    "slideshow": {
     "slide_type": "slide"
    }
   },
   "source": [
    "**Formally Modelling Missing Information**\n",
    "\n",
    "Adopting notation from *Bayesian Data Analysis* (Gelman et al. 2004)\n",
    "* $y_\\mathrm{obs}$ and $y_\\mathrm{mis}$ are the observed and unobserved data, and $y=y_\\mathrm{obs}\\cup y_\\mathrm{mis}$\n",
    "* $I$ is a vector of indicator variables (0 or 1) telling us whether a given y is observed or not\n",
    "* $\\theta$ is the set of parameters needed to model a completely observed data set\n",
    "* $\\phi$ are any additional parameters needed to model the selection process"
   ]
  },
  {
   "cell_type": "markdown",
   "metadata": {
    "slideshow": {
     "slide_type": "slide"
    }
   },
   "source": [
    "The likelihood associated with a complete data set would be just\n",
    "\n",
    "$p(y|\\theta)$"
   ]
  },
  {
   "cell_type": "markdown",
   "metadata": {
    "slideshow": {
     "slide_type": "fragment"
    }
   },
   "source": [
    "For our partially missing data set, this needs to also account for the inclusion parameters, $I$\n",
    "\n",
    "$p(y,I|\\theta,\\phi) = p(y|\\theta)\\,P(I|\\phi,y)$\n",
    "\n",
    "In other words, inclusion is part of the observed data vector."
   ]
  },
  {
   "cell_type": "markdown",
   "metadata": {
    "slideshow": {
     "slide_type": "slide"
    }
   },
   "source": [
    "Expanding out the $y$s,\n",
    "\n",
    "$p(y_\\mathrm{obs},y_\\mathrm{mis},I|\\theta,\\phi) = p(y_\\mathrm{obs},y_\\mathrm{mis}|\\theta)\\,P(I|\\phi,y_\\mathrm{obs},y_\\mathrm{mis})$"
   ]
  },
  {
   "cell_type": "markdown",
   "metadata": {
    "slideshow": {
     "slide_type": "fragment"
    }
   },
   "source": [
    "This isn't yet a likelihood for the *observed* data, however. For that we need to marginalize over the  $y_\\mathrm{mis}$.\n",
    "\n",
    "$p(y_\\mathrm{obs},I|\\theta,\\phi) = \\int dy_\\mathrm{mis} \\, p(y_\\mathrm{obs},y_\\mathrm{mis}|\\theta)\\,P(I|\\phi,y_\\mathrm{obs},y_\\mathrm{mis})$"
   ]
  },
  {
   "cell_type": "markdown",
   "metadata": {
    "slideshow": {
     "slide_type": "slide"
    }
   },
   "source": [
    "Note that we no longer have a clean separation between data and parameters in the PGM sense.\n",
    "\n",
    "Thinking of drawing a PGM, the $y$ nodes can be fixed by observation *or* be nuisance parameters, depending on the corresponding element of $I$.\n",
    "\n",
    "Either way they go in a double circle because they come from a sampling distribution. This reflects that our model must include a sampling distribution even for putative sources that aren't in our data set!"
   ]
  },
  {
   "cell_type": "markdown",
   "metadata": {
    "slideshow": {
     "slide_type": "slide"
    }
   },
   "source": [
    "**When can we ignore selection?**\n",
    "\n",
    "Consider the likelihood in this form\n",
    "\n",
    "$p(y_\\mathrm{obs},I|\\theta,\\phi) = \\int dy_\\mathrm{mis} \\, p(y_\\mathrm{obs},y_\\mathrm{mis}|\\theta)\\,P(I|\\phi,y_\\mathrm{obs},y_\\mathrm{mis})$\n",
    "\n",
    "We can get away with ignoring the selection process if the posterior for the parameters of interest $p(\\theta|y_\\mathrm{obs},I)$ is equivalent to simply $p(\\theta|y_\\mathrm{obs})$."
   ]
  },
  {
   "cell_type": "markdown",
   "metadata": {
    "slideshow": {
     "slide_type": "slide"
    }
   },
   "source": [
    "$p(\\theta|y_\\mathrm{obs},I)$\n",
    "\n",
    "$= \\int d\\phi\\int dy_\\mathrm{mis} \\, p(y_\\mathrm{obs},y_\\mathrm{mis}|\\theta) \\, P(I|\\phi,y_\\mathrm{obs},y_\\mathrm{mis}) \\, p(\\theta,\\phi)$\n",
    "\n",
    "$= p(\\theta|y_\\mathrm{obs})$ ?"
   ]
  },
  {
   "cell_type": "markdown",
   "metadata": {
    "slideshow": {
     "slide_type": "fragment"
    }
   },
   "source": [
    "This requires two things to be true:\n",
    "\n",
    "1. Selection doesn't depend on (potentially) unobserved data: $P(I|\\phi,y_\\mathrm{obs},y_\\mathrm{mis}) = P(I|\\phi,y_\\mathrm{obs})$\n",
    "2. Priors for the interesting ($\\theta$) and selection-related ($\\phi$) parameters are independent: $p(\\theta,\\phi)=p(\\theta)p(\\phi)$"
   ]
  },
  {
   "cell_type": "markdown",
   "metadata": {
    "slideshow": {
     "slide_type": "slide"
    }
   },
   "source": [
    "## Example: galaxy cluster scaling relations\n",
    "\n",
    "Imagine we're fitting the relation between mass ($x$) and luminosity ($y$) for clusters. (Fictional, error-free data for illustration.)\n",
    "\n",
    "<a href=\"graphics/missing_complete_xy.source\"><img src=\"graphics/missing_complete_xy.png\" width=50%></a>"
   ]
  },
  {
   "cell_type": "markdown",
   "metadata": {
    "slideshow": {
     "slide_type": "slide"
    }
   },
   "source": [
    "To start with, we'll assume a complete data set. Then the generative model needs\n",
    "* true values of mass ($x$) for the $N$ clusters\n",
    "* true values of luminosity $y$ for each cluster, determined by a mean relation and scatter, parametrized by $\\theta$\n",
    "* sampling distributions for $x$ and $y$, which we'll assume are independent\n",
    "* prior distributions for $x$ (with some parameters $\\Omega$) and $\\theta$"
   ]
  },
  {
   "cell_type": "markdown",
   "metadata": {
    "slideshow": {
     "slide_type": "slide"
    }
   },
   "source": [
    "$p(\\hat{x},\\hat{y},x,y,\\theta,\\Omega)= p(\\theta,\\Omega)\\prod_{k=1}^N p(x_k|\\Omega)\\,p(y_k|x_k,\\theta)\\,p(\\hat{y}_k|y_k)\\,p(\\hat{x}_k|x_k)$\n",
    "\n",
    "<a href=\"graphics/missing_pgms.py\"><img src=\"graphics/missing_complete_pgm.png\" width=70%></a>"
   ]
  },
  {
   "cell_type": "markdown",
   "metadata": {
    "collapsed": true,
    "slideshow": {
     "slide_type": "slide"
    }
   },
   "source": [
    "Now let's imagine we have data only for clusters that exceed some threshold luminosity for detection (blue points).\n",
    "\n",
    "<a href=\"graphics/missing_truncy_xy.source\"><img src=\"graphics/missing_truncy_xy.png\" width=50%></a>"
   ]
  },
  {
   "cell_type": "markdown",
   "metadata": {
    "slideshow": {
     "slide_type": "slide"
    }
   },
   "source": [
    "The data need to be augmented by the inclusion vector, $I$, which implicitly encodes the number of detected clusters, $N_\\mathrm{det}$."
   ]
  },
  {
   "cell_type": "markdown",
   "metadata": {
    "collapsed": true,
    "slideshow": {
     "slide_type": "fragment"
    }
   },
   "source": [
    "The model must expand to contain $\\phi$ and the total number of clusters, $N$ (since this is a truncation problem)."
   ]
  },
  {
   "cell_type": "markdown",
   "metadata": {
    "collapsed": true,
    "slideshow": {
     "slide_type": "slide"
    }
   },
   "source": [
    "Before drawing the PGM, let's have a look at the new likelihood:\n",
    "\n",
    "$P(\\hat{x},\\hat{y},I,N_\\mathrm{det}|x,y,\\theta,\\Omega,\\phi,N)= {N \\choose N_\\mathrm{det}} \\,P(\\mathrm{detected}~\\mathrm{clusters}) \\,P(\\mathrm{missing}~\\mathrm{clusters})$"
   ]
  },
  {
   "cell_type": "markdown",
   "metadata": {
    "slideshow": {
     "slide_type": "slide"
    }
   },
   "source": [
    "Note that a binomial term, ${N \\choose N_\\mathrm{det}}$ has sneakily appeared.\n",
    "\n",
    "The reason for this is subtle, and has to do with the statistical concept of *exchangeability* (a priori equivalence of data points).\n",
    "\n",
    "Here the fully observed data are a priori exchangeable with one another, as are the partially observed data, but the the full data set contains these two non-exchangeable classes."
   ]
  },
  {
   "cell_type": "markdown",
   "metadata": {
    "slideshow": {
     "slide_type": "slide"
    }
   },
   "source": [
    "It helps to think in terms of the generative model here. Namely, because the order of data points holds no meaning for us, the binomial term is there to reflect the number of ways we might generate completely equivalent (except for the ordering) data sets."
   ]
  },
  {
   "cell_type": "markdown",
   "metadata": {
    "slideshow": {
     "slide_type": "slide"
    }
   },
   "source": [
    "The term for detected clusters is what we had before, with the addition of the detection probability:\n",
    "\n",
    "$P(\\mathrm{detected}~\\mathrm{clusters}) =$\n",
    "\n",
    "$\\prod_{k=1}^{N_{det}} p(x_k|\\Omega)\\,p(y_k|x_k,\\theta)\\,p(\\hat{y}_k|y_k)\\,p(\\hat{x}_k|x_k)\\,P(I_k=1|\\hat{y}_k,\\phi)$"
   ]
  },
  {
   "cell_type": "markdown",
   "metadata": {
    "collapsed": true,
    "slideshow": {
     "slide_type": "slide"
    }
   },
   "source": [
    "The term for missing clusters is similar, but must be marginalized over the unobserved $\\hat{x}$ and $\\hat{y}$ subject to the constraint that these clusters not be detectable:\n",
    "\n",
    "$P(\\mathrm{missing}~\\mathrm{clusters}) =$\n",
    "\n",
    "$\\prod_{k=1}^{N-N_{det}} \\int d\\hat{x}\\,d\\hat{y}\\, p(x_k|\\Omega)\\,p(y_k|x_k,\\theta)\\,p(\\hat{y}_k|y_k)\\,p(\\hat{x}_k|x_k)\\,P(I_k=0|\\hat{y}_k,\\phi)$."
   ]
  },
  {
   "cell_type": "markdown",
   "metadata": {
    "collapsed": true,
    "slideshow": {
     "slide_type": "fragment"
    }
   },
   "source": [
    "All terms in the product are equal once we marginalize over $x_k$ and $y_k$, so this is will simplify to\n",
    "\n",
    "$P_{mis}^{N_{mis}}$\n",
    "\n",
    "with $N_{mis}=N-N_{det}$ and $P_{mis}$ the a priori probability of a cluster going undetected."
   ]
  },
  {
   "cell_type": "markdown",
   "metadata": {
    "slideshow": {
     "slide_type": "slide"
    }
   },
   "source": [
    "Rather than going on to manipulate this further, just note that the additions to the data/model boil down to\n",
    "1. A $P(I_k|\\ldots)$ term within the product over clusters\n",
    "1. Additional terms depending on $N$, $N_{det}$, $\\phi$ and other global parameters."
   ]
  },
  {
   "cell_type": "markdown",
   "metadata": {
    "slideshow": {
     "slide_type": "slide"
    }
   },
   "source": [
    "Hence the PGM:\n",
    "\n",
    "<a href=\"graphics/missing_pgms.py\"><img src=\"graphics/missing_truncy_pgm.png\" width=70%></a>"
   ]
  },
  {
   "cell_type": "markdown",
   "metadata": {
    "slideshow": {
     "slide_type": "slide"
    }
   },
   "source": [
    "For comparison\n",
    "\n",
    "<table>\n",
    "<tr>\n",
    "<td><a href=\"graphics/missing_pgms.py\"><img src=\"graphics/missing_complete_pgm.png\" width=100%></a></td>\n",
    "<td><a href=\"graphics/missing_pgms.py\"><img src=\"graphics/missing_truncy_pgm.png\" width=100%></a></td>\n",
    "</tr>\n",
    "</table>"
   ]
  },
  {
   "cell_type": "markdown",
   "metadata": {
    "collapsed": true,
    "slideshow": {
     "slide_type": "slide"
    }
   },
   "source": [
    "Now the big question: is selection ignorable? Do we need all this formalism to do inference on $\\Omega$ and/or $\\theta$?\n",
    "\n",
    "<a href=\"graphics/missing_truncy_xy.source\"><img src=\"graphics/missing_truncy_xy.png\" width=50%></a>"
   ]
  },
  {
   "cell_type": "markdown",
   "metadata": {
    "slideshow": {
     "slide_type": "slide"
    }
   },
   "source": [
    "**Are the priors for $\\theta$ and $\\phi$ independent?**"
   ]
  },
  {
   "cell_type": "markdown",
   "metadata": {
    "slideshow": {
     "slide_type": "fragment"
    }
   },
   "source": [
    "Yes, at least as drawn in the PGM. And usually this is the assumption."
   ]
  },
  {
   "cell_type": "markdown",
   "metadata": {
    "slideshow": {
     "slide_type": "slide"
    }
   },
   "source": [
    "**Is selection independent of (potentially) unobserved data ($\\hat{x}_k$ and $\\hat{y}_k$)?**"
   ]
  },
  {
   "cell_type": "markdown",
   "metadata": {
    "slideshow": {
     "slide_type": "fragment"
    }
   },
   "source": [
    "Hell, no. The detection probability explicitly depends on $\\hat{y}_k$."
   ]
  },
  {
   "cell_type": "markdown",
   "metadata": {
    "slideshow": {
     "slide_type": "slide"
    }
   },
   "source": [
    "## Exercise: data missing at random\n",
    "\n",
    "Let's say there somehow isn't a threshold for detection in the above problem. Ignoring large scale correlations (pretty accurate for clusters) the a priori probability of detecting a cluster is simply $f_{sky}$, the fraction of the sky surveyed.\n",
    "\n",
    "Is selection ignorable in this case? This is not a trick question, but justify the answer in terms of the discussion above."
   ]
  },
  {
   "cell_type": "markdown",
   "metadata": {
    "slideshow": {
     "slide_type": "slide"
    }
   },
   "source": [
    "## Exercise: other truncation mechanisms\n",
    "\n",
    "Consider the following variants of the galaxy cluster example:\n",
    "1. Selection is on the observed mass ($\\hat{x}$)\n",
    "1. Selection is on $\\hat{y}\\rightarrow\\hat{y}_2$ as before, and for detected clusters we have an additional measured observable $y_1$ whose scaling with $x$ is interesting\n",
    "\n",
    "In each case, sketch the PGM and decide whether selection effects are ignorable for inference about\n",
    "1. The distribution of $x$ (parametrized by $\\Omega$)\n",
    "2. The scaling relation parameters $\\theta$ (for $y_1$ and $y_2$ or $y_1$ alone in case 2)\n",
    "\n",
    "If not, can you identify special cases where selection becomes ignorable?\n",
    "\n",
    "<table>\n",
    "    <tr>\n",
    "        <td><a href=\"graphics/missing_truncx_xy.source\"><img src=\"graphics/missing_truncx_xy.png\" width=90%></a></td>\n",
    "        <td></td>\n",
    "        <td><a href=\"graphics/missing_truncy2_xy.source\"><img src=\"graphics/missing_truncy2_xy.png\" width=90%></a></td>\n",
    "    </tr>\n",
    "</table>\n"
   ]
  },
  {
   "cell_type": "markdown",
   "metadata": {
    "slideshow": {
     "slide_type": "slide"
    }
   },
   "source": [
    "## Parting words\n",
    "\n",
    "* We haven't worked one of these probems fully, but typically (when we assume independently occuring sources) our likelihood only becomes a little more complicated due to selection. We just need to be able to evaluate the selection probability and predict the number of selected sources from the model.\n",
    "\n",
    "* The need to model a hidden population places additional demands on our data, so the size/quality of data set required to get a data-dominated (rather than prior-dominated) answer can be non-intuitive. Be careful."
   ]
  }
 ],
 "metadata": {
  "anaconda-cloud": {},
  "celltoolbar": "Slideshow",
  "kernelspec": {
   "display_name": "Python [conda env:miniconda2]",
   "language": "python",
   "name": "conda-env-miniconda2-py"
  },
  "language_info": {
   "codemirror_mode": {
    "name": "ipython",
    "version": 2
   },
   "file_extension": ".py",
   "mimetype": "text/x-python",
   "name": "python",
   "nbconvert_exporter": "python",
   "pygments_lexer": "ipython2",
   "version": "2.7.6"
  },
  "livereveal": {
   "scroll": true,
   "start_slideshow_at": "selected"
  }
 },
 "nbformat": 4,
 "nbformat_minor": 1
}
