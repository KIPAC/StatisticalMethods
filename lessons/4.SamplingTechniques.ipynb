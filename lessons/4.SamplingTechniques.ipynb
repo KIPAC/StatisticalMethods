{
 "cells": [
  {
   "cell_type": "markdown",
   "metadata": {},
   "source": [
    "# PHYS366: Statistical Methods in Astrophysics\n",
    "\n",
    "\n",
    "# Lesson 4: Inference in Practice: Sampling Techniques"
   ]
  },
  {
   "cell_type": "markdown",
   "metadata": {},
   "source": [
    "### Goals for this session:\n",
    "\n",
    "* Brainstorm, implement, and test methods of accelerating the convergence of Metropolis-based MCMC.\n",
    "* Explore the common and uncommon failure modes of MCMC.\n",
    "* Learn about the advanced techniques that address these problems (or don't!), and the available software packages implementing them.\n",
    "\n",
    "#### Related reading:\n",
    "* Ivezic section 5.8\n",
    "* MacKay chapters 29-30\n",
    "* Gelman chapters 11 and 13\n",
    "* Online resources (reading and software)\n",
    "    * A seemingly random subset of the [Handbook of MCMC](http://www.mcmchandbook.net/HandbookTableofContents.html) (Brooks, Gelman, Jones and Meng, eds.) is online.\n",
    "    * Notes on `CosmoMC` by Antony Lewis: [recent](http://arxiv.org/abs/1304.4473) and [less recent](http://cosmologist.info/notes/MCMC.ppt)\n",
    "    * `MultiNest` paper by [Feroz et al.](http://arxiv.org/abs/0809.3437) ([for python](https://github.com/JohannesBuchner/PyMultiNest))\n",
    "    * `emcee` paper by [Foreman-Makey et al.](http://arxiv.org/abs/1202.3665) ([for python](http://dan.iel.fm/emcee/current/))\n",
    "    * [`pymc`](https://github.com/pymc-devs/pymc), which is, yes, for python\n",
    "    * [BUGS](http://openbugs.net/w/FrontPage), [JAGS](http://mcmc-jags.sourceforge.net/) and [STAN](http://mc-stan.org/)\n",
    "    * `kombine` [for python](http://home.uchicago.edu/~farr/kombine/index.html)"
   ]
  },
  {
   "cell_type": "markdown",
   "metadata": {
    "collapsed": true
   },
   "source": [
    "## About this session\n",
    "### Have you played with MCMC sampling before? If so, sit next to someone who hasn't!\n",
    "#### By now, you know that the main practical challenge of doing Bayesian inference is obtaining samples from the posterior distribution. Today's class is all about the nuts and bolts of sampling from probability distributions that, in general, we don't know very much about ahead of time. We'll start out by playing around with a case where we know the right answer analytically, namely the posterior from fitting a linear model to data with Gaussian uncertainites.\n",
    "\n",
    "* [Recap of the linear model](../notes/LMreview4.ipynb)"
   ]
  },
  {
   "cell_type": "markdown",
   "metadata": {
    "collapsed": true
   },
   "source": [
    "## Accelerating Metropolis sampling\n",
    "* [Enter the Inference Sandbox](../notes/InferenceSandbox.ipynb)\n",
    "\n",
    "#### Discussion points:\n",
    "* What decisions did you have to make before running the sampler, and did they influence the convergence/efficiency?\n",
    "* What if anything did you do/change to improve these metrics?\n",
    "* Brainstorm: what else can we do to improve the acceptance ratio and convergence rate?"
   ]
  },
  {
   "cell_type": "markdown",
   "metadata": {
    "collapsed": true
   },
   "source": [
    "## [Difficult densities](../notes/DifficultDensities.ipynb)\n",
    "\n",
    "#### Think-pair-share: what strategies can/should we employ when approaching a new posterior function that we know nothing about, and which may have nasty features like local maxima and narrow degeneracies?"
   ]
  },
  {
   "cell_type": "markdown",
   "metadata": {
    "collapsed": true
   },
   "source": [
    "## [More advanced sampling techniques](../notes/AdvancedSampling.ipynb)"
   ]
  },
  {
   "cell_type": "markdown",
   "metadata": {},
   "source": [
    "## [Importance sampling](../notes/ImportanceSampling.ipynb)"
   ]
  }
 ],
 "metadata": {
  "kernelspec": {
   "display_name": "Python 2",
   "language": "python",
   "name": "python2"
  },
  "language_info": {
   "codemirror_mode": {
    "name": "ipython",
    "version": 2
   },
   "file_extension": ".py",
   "mimetype": "text/x-python",
   "name": "python",
   "nbconvert_exporter": "python",
   "pygments_lexer": "ipython2",
   "version": "2.7.10"
  }
 },
 "nbformat": 4,
 "nbformat_minor": 0
}
