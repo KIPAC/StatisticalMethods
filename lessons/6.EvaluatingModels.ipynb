{
 "cells": [
  {
   "cell_type": "markdown",
   "metadata": {},
   "source": [
    "# PHYS366: Statistical Methods in Astrophysics\n",
    "\n",
    "\n",
    "# Lesson 6: Inference in Practice: Evaluating Models"
   ]
  },
  {
   "cell_type": "markdown",
   "metadata": {},
   "source": [
    "### Goals for this session:\n",
    "\n",
    "* Design and carry out a posterior predictive model check, and describe its relationship to a classical significance test\n",
    "\n",
    "* Recognize the Bayesian Evidence, know how it is computed, and describe the difference between a Bayes Factor and a likelihood ratio\n",
    "\n",
    "* Assign priors in various different ways\n",
    " \n",
    " \n",
    "#### Related reading:\n",
    "\n",
    "* Mackay, Chapters 3 and 28\n",
    "\n",
    "* Gelman et al, Chapters 6 and 7"
   ]
  },
  {
   "cell_type": "markdown",
   "metadata": {},
   "source": [
    "## Model Checking, Expansion and Comparison\n",
    "\n",
    "* Let's revisit the straight line problem, generating some data and sampling the gradient and intercept again. \n",
    "\n",
    "\n",
    "* Inferring model parameters involves making assumptions. [Let's test those assumptions by checking the model for the accuracy of its predictions](../examples/StraightLine/ModelEvaluation.ipynb).\n",
    "\n",
    "\n",
    "* If our model is inadequate, we'll need an alternative. How should we compare it to our first one? Accuracy is not the only consideration: [efficiency is also important](../notes/Evidence.ipynb).\n",
    "\n",
    "\n",
    "* Returning to the straight line problem, let's [compare two models via the Bayesian evidence](../examples/StraightLine/ModelEvaluation.ipynb#Model-Expansion)."
   ]
  },
  {
   "cell_type": "markdown",
   "metadata": {
    "collapsed": true
   },
   "source": [
    "* The Bayesian Evidence can be used to good effect in model comparison. It depends on the priors we assume - so let's go back and look at [prior assignment](../notes/Priors.ipynb) in more detail.\n",
    "\n",
    "\n",
    "* How is model comparison with the Bayesian evidence related to classical hypothesis testing? Let's take a quick look at an example: [feature detection](../notes/Detection.ipynb)."
   ]
  },
  {
   "cell_type": "markdown",
   "metadata": {
    "collapsed": true
   },
   "source": [
    "## Recap\n",
    "\n",
    "* [What did we learn?](../notes/ModelEvalReview.ipynb)"
   ]
  },
  {
   "cell_type": "code",
   "execution_count": null,
   "metadata": {
    "collapsed": true
   },
   "outputs": [],
   "source": []
  }
 ],
 "metadata": {
  "kernelspec": {
   "display_name": "Python 2",
   "language": "python",
   "name": "python2"
  },
  "language_info": {
   "codemirror_mode": {
    "name": "ipython",
    "version": 2
   },
   "file_extension": ".py",
   "mimetype": "text/x-python",
   "name": "python",
   "nbconvert_exporter": "python",
   "pygments_lexer": "ipython2",
   "version": "2.7.10"
  }
 },
 "nbformat": 4,
 "nbformat_minor": 0
}
