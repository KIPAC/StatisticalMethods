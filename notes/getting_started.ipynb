{
 "cells": [
  {
   "cell_type": "markdown",
   "metadata": {},
   "source": [
    "# Notes: Getting Started\n",
    "\n",
    "We will be using [Jupyter Notebooks](https://jupyter.org/) with [IPython](http://ipython.org/) extensively in this course. It would probably be best to have these things running on your local machine, if possible. The [Stanford Unix compute system](https://uit.stanford.edu/service/sharedcomputing) is also available to students, although we can't say how well Jupyter notebooks work remotely. An alternative, which we have not attempted at this writing, might be to import notebooks to [Google Colaboratory](https://colab.research.google.com) and work with them in the cloud. Suffice to say that if you have computing issues, we will figure them out somehow.\n",
    "\n",
    "## Python\n",
    "\n",
    "Assuming you will be using a system that you have administrative access to, the first thing you will need is Python (versions >= 3). Note that the Python included as part of MacOS doesn't count - it is highly restricted due to being part of the OS, so you will want to install a separate copy if you are using a Mac.\n",
    "\n",
    "The fastest way to get up and running is with [Miniconda](https://conda.io/en/latest/miniconda.html). This provides a user-specific installation, so there is no possibility of conflicts or permissions issues with the system you are working on.\n",
    "\n",
    "### If you are completely new to Python\n",
    "\n",
    "... then you have a steep learning curve ahead of you, even though there will be a lot of example code to learn from. We recommend checking out the Python [tutorial](https://docs.python.org/3/tutorial/index.html). Everyone can do doubt also appreciate the documentation for the [Python standard library](https://docs.python.org/3/library/index.html), [NumPy](https://docs.scipy.org/doc/numpy/reference/) and [SciPy](https://docs.scipy.org/doc/scipy/reference/).\n",
    "\n",
    "\n",
    "## Jupyter\n",
    "\n",
    "Once you have Python and either the `conda` or `pip` package manager (which you almost certainly will for no additional effort), you should be able to install and run either JupyterLab or classic Jupyter Notebook (your choice) following [these instructions](https://jupyter.org/install.html).\n",
    "\n",
    "## Additional Python packages\n",
    "\n",
    "You'll need a number of python packages in this course. The shopping list is given in the [`requirements.txt`](../requirements.txt) file.\n",
    "\n",
    "If you have `conda`, you should first try installing each these with e.g.:\n",
    "```bash\n",
    "conda install astropy\n",
    "```\n",
    "Otherwise, or for some of these packages that are not in conda, try:\n",
    "```bash\n",
    "pip install corner\n",
    "```"
   ]
  }
 ],
 "metadata": {
  "kernelspec": {
   "display_name": "Python 3",
   "language": "python",
   "name": "python3"
  },
  "language_info": {
   "codemirror_mode": {
    "name": "ipython",
    "version": 3
   },
   "file_extension": ".py",
   "mimetype": "text/x-python",
   "name": "python",
   "nbconvert_exporter": "python",
   "pygments_lexer": "ipython3",
   "version": "3.7.9"
  }
 },
 "nbformat": 4,
 "nbformat_minor": 2
}
