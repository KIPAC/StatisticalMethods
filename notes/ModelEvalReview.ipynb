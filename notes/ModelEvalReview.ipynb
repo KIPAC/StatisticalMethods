{
 "cells": [
  {
   "cell_type": "markdown",
   "metadata": {},
   "source": [
    "# Model Evaluation\n",
    "\n",
    "* It is necessary but not sufficient to write down our model assumptions: we must also test them.\n",
    "\n",
    "\n",
    "* Model checking, for prediction accuracy (or \"goodness of fit\") is best first done visually, in the data space.  Posterior predictive checks, using well-designed test statistics and discrepancy measures, can then quantify the innaccuracy.\n",
    "\n",
    "\n",
    "* The next step is typically model expansion: improving the model's ability to fit the data by changing its form, perhaps adding more parameters. \n",
    "\n",
    "\n",
    "* Comparing alternative models against each other can be done just with accuracy (via the check results), or with efficiency considerations as well, using the Bayesian evidence.\n",
    "\n"
   ]
  }
 ],
 "metadata": {
  "kernelspec": {
   "display_name": "Python 2",
   "language": "python",
   "name": "python2"
  },
  "language_info": {
   "codemirror_mode": {
    "name": "ipython",
    "version": 2
   },
   "file_extension": ".py",
   "mimetype": "text/x-python",
   "name": "python",
   "nbconvert_exporter": "python",
   "pygments_lexer": "ipython2",
   "version": "2.7.10"
  }
 },
 "nbformat": 4,
 "nbformat_minor": 0
}
