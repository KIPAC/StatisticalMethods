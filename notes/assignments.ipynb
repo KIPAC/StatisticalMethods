{
 "cells": [
  {
   "cell_type": "markdown",
   "metadata": {},
   "source": [
    "# Notes: Assignments"
   ]
  },
  {
   "cell_type": "markdown",
   "metadata": {},
   "source": [
    "## Reading quizzes\n",
    "\n",
    "Quizzes will be handled through the class [Canvas](https://canvas.stanford.edu/courses/137245) site."
   ]
  },
  {
   "cell_type": "markdown",
   "metadata": {},
   "source": [
    "## Tutorials\n",
    "\n",
    "To get the tutorial notebooks and supporting files, the easiest option is to download the current version of the course's [GitHub repository](https://github.com/KIPAC/StatisticalMethods). From the linked page, click the green \"Code\" button and select \"Download ZIP\". Files can also be downloaded individually, but since some notebooks depend on additional files, it's simplest to get everything at once. We don't particularly advise _cloning_ the repository, because it's unnecessarily very large compared with what we actually need.\n",
    "\n",
    "Tutorial notebooks will be turned in on [Canvas](https://canvas.stanford.edu/courses/137245).\n",
    "\n",
    "The [demo notebook](../tutorials/demo.ipynb) says more about specifically how to complete missing code and answer posed questions, although we hope it will be intuitive. However, we emphasize that completed notebooks should\n",
    "* Be readable. Include enough explanatory comments (and even non-comment prose in the case of involved solutions) that we can understand what you're doing. Please do not assume that _any_ code is self explanatory.\n",
    "* Be functional. It should be possible for us to run a notebook from top to bottom to reproduce your results. In general, running through should not take more than a minute (we'll leave warnings in the rare places where this might require a last-minute change before turning a notebook in).\n",
    "* Be complete. That is, questions to be answered in Markdown cells rather than code should be answered, even though they aren't necessary to make the notebook functional in a narrow sense.\n",
    "* Have all Python outputs deleted.\n",
    "\n",
    "Naturally, if you are stuck and are submitting the notebook to seek feedback, some of those requirements can be loosened."
   ]
  },
  {
   "cell_type": "markdown",
   "metadata": {},
   "source": [
    "## Projects\n",
    "\n",
    "We anticipate significant variety in the projects people pursue. Broadly speaking, the only requirements are that they must represent an application of the principles we cover in class, and be original work. Projects absolutely **can** be part of your own research, and/or something you were going to do anyway (provided you haven't _already_ done it). Projects can also _not_ be part of your own research; that's obviously fine. You can also design a project without a specific research application in mind, simply to explore some concept or methodology that goes beyond what's in the tutorials. Frequently, especially when dealing with research-relavent projects, it will be necessary to scale back ambitions and solve a simplified version (e.g. on simulated data). We will be consulting with you to help define projects and scope.\n",
    "\n",
    "Though one can imagine exceptions, normally a project would include the same elements that are present in many of the tutorials:\n",
    "  * an introduction to the data being analyzed;\n",
    "  * an explanation of the model being investigated;\n",
    "  * discussion of how the inference was accomplished computationally, including any approximations that were necessary;\n",
    "  * visualization of the results, including vetting for convergence;\n",
    "  * discussion of how you would, given more time, extend this analysis - including conclusions of what worked well, and what did not.\n",
    "  \n",
    "About halfway through the course, we will collectively brainstorm project ideas, so that you can identify teams if desired. Thereafter, there will be a few _very brief_ in-class status updates to make sure things are on track (and more extensive consultations outside of class, if needed). The final deliverables will be\n",
    "* A presentation, normally to be delivered in the final class meeting (or the penultimate class, depending on how many projects there are). Presentations can optionally be scheduled earlier than this, if you want to get early feedback from the class. The presentation should be pitched at a level understandable to your classmates, and cover the points above. The time available will depend on the class size, but typically we expect about 10 minutes minimum per project, or about 5 minutes per team member, with 5 minutes for questions afterwards.\n",
    "* A written report, produced using LaTeX (a markup language used for most physics publications). While the report's format is broadly that of a journal article, you should provide adequate detail throughout (as described above) even though this may go beyond what would normally appear in a journal. All members of the group are coauthors of the report, and any substantive contributions from other students (e.g. through discussions) should be acknowledged. There is no required length to the report, other than \"as long as it needs to be\"; typically they come in at 5-10 pages (longer if there are tons of figures).\n",
    "\n",
    "All reports will be composed as \"chapters\" within the same Overleaf project, which you will be given access to. Some more specific instructions as to how this works, and a very basic introduction to LaTeX, can be found there. Consequently, there is nothing special you need to do to turn in the report; we will simply download the entire project at the appropriate time. Do ensure that your project's report compiles, and refrain from breaking any code elsewhere in the repository. Once the quarter is over, we'll compile all the reports into a snazzy and nearly professional-looking booklet, and distribute it to the class. Please note that the titles and abstracts of the reports will be shared with future students to stimulate their creativity (though the reports' content will not be).\n",
    "\n",
    "### Proprietary data\n",
    "\n",
    "While the opportunity to collaborate with your classmates on a genuine research project is, we think, beneficial, be aware that real research often involves data that is proprietary to an existing collaboration. Collaborations vary as to how open they are to allowing outsiders access to the data, or involving them in any sort of analysis. The last thing we want is for one of you to provide genuinely useful contributions to some research project, potentially leading to authorship/coauthorship of a publication, only to find the wrath of bureaucracy coming down on you. Please be sure to check (probably with your advisor) if you think an issue like this might arise. Normally, they can be dealt with, as long as they are identified in advance."
   ]
  }
 ],
 "metadata": {
  "kernelspec": {
   "display_name": "Python 3",
   "language": "python",
   "name": "python3"
  },
  "language_info": {
   "codemirror_mode": {
    "name": "ipython",
    "version": 3
   },
   "file_extension": ".py",
   "mimetype": "text/x-python",
   "name": "python",
   "nbconvert_exporter": "python",
   "pygments_lexer": "ipython3",
   "version": "3.7.9"
  }
 },
 "nbformat": 4,
 "nbformat_minor": 2
}
