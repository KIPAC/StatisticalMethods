{
 "cells": [
  {
   "cell_type": "markdown",
   "metadata": {
    "slideshow": {
     "slide_type": "slide"
    }
   },
   "source": [
    "# Statistical Methods in Astrophysics\n",
    "\n",
    "## Physics 366\n",
    "\n",
    "Instructor: Adam Mantz\n",
    "\n",
    "TA: Claire Hébert\n",
    "\n",
    "Class meetings: Mondays & Wednesdays 11:30-12:50 PDT (remotely - see the course [Canvas](https://canvas.stanford.edu/courses/137245) site)"
   ]
  },
  {
   "cell_type": "markdown",
   "metadata": {
    "slideshow": {
     "slide_type": "slide"
    }
   },
   "source": [
    "# Notes: About this course\n",
    "\n",
    "Containing:\n",
    "* What the course is and how it works\n",
    "* Some kind of larger context for the class\n",
    "* Brief overview of what's coming"
   ]
  },
  {
   "cell_type": "markdown",
   "metadata": {},
   "source": [
    "This class was first offered as a 5-week \"half course\" in 2015, in response to KIPAC graduate students' request for a course covering statistical techniques used in the field that are not typically taught elsewhere. This (2021) is now the 4th time it will be taught, and the format has evolved fairly significantly each time. More on this later."
   ]
  },
  {
   "cell_type": "markdown",
   "metadata": {
    "slideshow": {
     "slide_type": "slide"
    }
   },
   "source": [
    "## Who we are\n",
    "\n",
    "**Adam Mantz** is a Research Scientist in the Kavli Institute for Particle Astrophysics and Cosmology (KIPAC). He has a background in observational astrophysics and cosmology, specializing in studies of clusters of galaxies and the intracluster medium. He has been involved in the development and teaching of this course since its inception, and has adapted parts of it for the [LSSTC Data Science Fellowship Program](https://ciera.northwestern.edu/programs/lsstc-data-science-fellowship-program/). These days, he splits his time between KIPAC (staring at X-ray images of galaxy clusters) and the Division of Oncology in the School of Medicine (staring at MR images of cancerous brains). He moonlights as a fitness and yoga instructor, or at least did so in the halcyon pre-COVID days when that was a thing. Any time the first-person \"I\" appears in these notes, you may blame him. Any time the first-person \"we\" appears, it's probably still him being presumptuous.\n",
    "\n",
    "**Claire Hébert** is a 5th year graduate student in the Applied Physics department who aced the crap out of this course in 2019. Her research is in observational cosmology, focused on the characterisation/mitigation of systematic effects for LSST dark energy science. She also really likes statistics, and took a break from cosmology to spend four months with the Statistical Sciences group at Los Alamos National Laboratory in 2018-19, developing statistical analysis methods for the ChemCam instrument on the Mars Rover. Outside of work life, she enjoys cycling/running, hiking with her dog Roo, and baking pastries. \n",
    "\n",
    "Much of the course content has benefited from the involvement of SLAC Sr. Staff Scientist **Phil Marshall** in previous years.\n",
    "\n",
    "_Office hours:_ Since we anticipate a significant amount of interaction during class (see below), we are not initially scheduling fixed office hours. Feel free to contact us on Slack or by email if you want to chat about something, and we'll set up a meeting if needed. This plan could change as we figure out what works best in this flipped-classroom format."
   ]
  },
  {
   "cell_type": "markdown",
   "metadata": {
    "slideshow": {
     "slide_type": "slide"
    }
   },
   "source": [
    "## What the course is\n",
    "\n",
    "In a nutshell, this class is about *how data are turned into conclusions*. The examples and tutorials are taken from astrophysics, but otherwise the content is extremely general.\n",
    "\n",
    "To be a little more concrete, consider this cartoon of the scientific process:\n",
    "* Propose observations/experiment\n",
    "* Collect and \"reduce\" data\n",
    "* **Explore and summarize the data**\n",
    "* **Hypothesize and test**\n",
    "* **Interpret, conclude**, speculate\n",
    "* Report\n",
    "\n",
    "\"Turning data into conclusions\" broadly refers to the **bold** items. In particular, we will not spend time on \"data reduction\", by which we mean the initial processing steps applied to raw data recorded by some instrument. These details tend to be highly specific to a given detector (type), wavelength range, telescope system, and so on. On the other hand, we will be introducing and working with real astronomical data, so you'll get some experience with it if this is new to you. (Even so, there's far too much variety for us to touch on every type of data you might encounter!)\n",
    "\n",
    "This course will also be focused on a particular approach to drawing conclusions from data, known as Bayesian Analysis. This is because, as we'll see, Bayes' Law provides a rigorous basis for formalizing what the phrase \"turning data into conclusions\" (more properly called _inference_) actually means. The upshot is that we will not be marching through a survey of ad hoc methods and the problems they might be applied to. Instead, the goal will be to carefully define the question we are asking of the data, and then decide what techniques and/or (justifiable) approximations will get us to an answer. This, we hope, will be appealing to students with a physics background.\n",
    "\n",
    "Finally, this course aims to be _practical_. So, lest the previous paragraph give you the wrong idea, we will not have problem sets where you are asked to prove theorems or show that such-and-such is true. With the exception of a bit of review at the start, the assigned problems will be tutorials that walk through a real-life analysis (albeit possibly a simplified one) so that you gain experience putting the methods we will discuss into practice. The goal is that, by the end, you will be able to apply the reasoning and methods of Bayesian analysis in your own work.\n",
    "\n",
    "To summarize, our collective goals are:\n",
    "* to be exposed to various types of common astronomical data,\n",
    "* to understand the reasoning that underlies principled inference from data,\n",
    "* to gain practical experience with some of the common algorithms and approximations employed for inference."
   ]
  },
  {
   "cell_type": "markdown",
   "metadata": {},
   "source": [
    "### Aside: What this course is not\n",
    "\n",
    "Strictly speaking, any procedure applied to data could be called a \"statistical method\". However, not all such methods allow us to rigorously draw conclusions of interest - in full generality, all we can conclude from the application of some method is what the output of that method is. In contrast, our goal with inference is usually to learn something about a model from the data, not just what an algorithm turns the data into. This requires quantifying the probability of various possibilities in light of the data, and this in turn means applying a principled, mathematical framework (or at least starting from there, even if we end up making approximations). That isn't to say that there's no place for other methods, but we think it's important and generally useful to understand Bayesian reasoning, regardless. Not to mention, it's enough to fill a quarter on its own.\n",
    "\n",
    "So, to be perfectly upfront, this class will not significantly delve into\n",
    "* \"classical\" statistics (e.g. generalized linear models)\n",
    "* frequentist estimation\n",
    "* so-called \"machine learning\" algorithms\n",
    "\n",
    "Again, all of these methods have their uses (and can be interpreted in the Bayesian framework in the right limits), but will not be a major focus."
   ]
  },
  {
   "cell_type": "markdown",
   "metadata": {},
   "source": [
    "### Prerequisites\n",
    "\n",
    "We use the Python programing language extensively, and it is _not_ generally feasible to substitute a different language. Some previous experience with Python, or the capacity and desire to pick it up _really, really_ fast, is therefore required. You do not need to have any particular experience beyond the basics, or with any specific packages like `numpy` or `scipy`, though it doesn't hurt.\n",
    "\n",
    "Previous exposure to the concepts and calculus of probability would be very helpful, though we will review them briefly. In this context, undergratuate quantum mechanics or statistical mechanics will do, as would (naturally) an undergraduate statistics/probability course."
   ]
  },
  {
   "cell_type": "markdown",
   "metadata": {},
   "source": [
    "## How it will work\n",
    "\n",
    "### In class\n",
    "\n",
    "Partly because of the COVID-19 pandemic, but mostly because we believe it's good pedagogy, the latest evolution of this course is towards being lecture-free. These notes are intended to be read on your own - _they will not be read to you in class_. Instead of the combined interpretive dance and nap that normally comprise a lecture, I expect that we will use class times for three purposes:\n",
    "1. questions and answers related to the reading or tutorials (see below),\n",
    "2. pair or group work on the tutorials that form the core of the class,\n",
    "3. collectively reviewing the tutorials as they are completed.\n",
    "\n",
    "Since the class has never been taught this way before, we'll be figuring out how much time to spend on each of these things as we go.\n",
    "\n",
    "**Attendance and participation in class is generally expected** (see below) - if this poses a special difficulty, contact me directly and we'll figure out how to proceed."
   ]
  },
  {
   "cell_type": "markdown",
   "metadata": {},
   "source": [
    "### Outside of class\n",
    "\n",
    "The aforementioned tutorials essentially fill the function of problem sets for the class, so you'll (hopefully) make some progress during class time, where it should be most straightforward to put your heads together, but will also be working on them outside of class. As usual, the work that you turn in should be your own, but collaboration with other students is strongly encouraged.\n",
    "\n",
    "There will be a final project that ramps up during the second half of the quarter, while the other assigned work winds down.\n",
    "\n",
    "Minuscule \"quizzes\" associated with the reading will periodically be due the night before class. Most often, these will ask \"What questions do you have after reading?\", but there may be occasional lightweight brain teasers to keep things interesting."
   ]
  },
  {
   "cell_type": "markdown",
   "metadata": {},
   "source": [
    "### Course components\n",
    "\n",
    "As alluded to above, the principle components of the class are\n",
    "\n",
    "**Notes:** There will be assigned (light) reading from the course notes. If you're reading this, then you know where to find them already. Nano-quizzes will be due **the night before** we are scheduled to discuss a given topic in class; these are primarily to gather common questions from the class while we still have time to prepare thorough responses, if needed. However, we reserve the right to include a substantive question, if it's an interesting one.\n",
    "\n",
    "**Tutorials** refer to Python-language Jupyter notebooks where you will put the subject of the reading into practice. Often these will consist of a partially worked inference problem, where the code required to illustrate an understanding of the subject at hand is left out, and most other \"background noise\" code (the kind that doesn't demonstrate an understanding of statistics, yet is annoying to write) is provided. Normally, a tutorial notebook will have at least one \"self-check\" point where you can compare your results to a known solution to make sure that you're on the right track. As mentioned above, you are encouraged to collaborate on the notebooks, but the work you turn in must be your own. See [Assignments](assignments.ipynb) for logistics and expectations.\n",
    "\n",
    "As you might guess, the reading and tutorials are intended to be proceeded through in series. That said, there will _not_ be a strict set of due dates for the tutorials. To get credit for the course, they must all be turned in, complete and working, _at some point_ before 5pm June 4th. Naturally, we don't recommend procrastinating. We will be, together, discovering the right pace for the class in this format, so the nominal schedule will inevitably change. When the time seems right, we'll discuss the main points (and sticking points) of a given tutorial in class - it's fine if not everyone has completed it by then, and it can be turned in or revised later. If you're having serious difficulties, you can always submit an incomplete turorial notebook along with questions, with the aim of finishing it later (though another medium, like Slack, might end up being more efficient for that - TBD). Conversely, we might (hopefully rarely) send a notebook back with a suggested revision or fix. This might all sound intimidating, but our aim with these notebooks is to make them illuminating rather than onerous. We want you to get your hands dirty analyzing data, and as long as that happens we'll be happy. Given all this flexibility, and since everyone should have working and complete notebooks by the time we're done, we are not planning on providing \"solutions\".\n",
    "\n",
    "Please understand that the above plan is aspirational, and will only work with your active collaboration. If it proves necessary, and we hope it won't, we will revert to enforcing regular due dates for the tutorials.\n",
    "\n",
    "**Final project:** This will be your opportunity to apply what you've learned without the prescribed \"walkthrough\" format of the tutorials. Projects include a written report, due at 5pm May 28th, and a short presentation nominally during the last week of class (Jue 2nd). Note that there is some possibility of the report and presentation dates  changing once the size of the class and number of distinct projects are known. As always, you may work in groups, although we expect the ambition of the project, and consequently the length of the presentation and write-up, to reflect the number of people working on it. About halfway through the course, we will collectively brainstorm project ideas, so that you can identify teams if desired. See [Assignments](assignments.ipynb) for more specifics.\n",
    "\n",
    "**Textbook:** None! I recommend [_Bayesian Data Analysis_](http://www.stat.columbia.edu/~gelman/book/) by Gelman et al. as a generally useful reference, but you don't need it for the class. (Note that it is not aimed at a physics audience.)"
   ]
  },
  {
   "cell_type": "markdown",
   "metadata": {},
   "source": [
    "### Class participation\n",
    "\n",
    "Interacting with others in the class is important both for your learning and for theirs. The same can be true of interactions outside of class, such as collaborating on problems or projects, but class is the best opportunity we have to collectively get on the same page and test our understanding of the material. The default expectation is that everyone will attend and participate in class.\n",
    "\n",
    "If attending class at the scheduled time represents a genuine barrier, please contact me directly. We'll try to figure out a way for you to participate as fully as possible under the circumstances. Similarly, exceptions can be made for conflicts with specific class days (e.g. due to a conference); these should be brought to our attention ahead of time.\n",
    "\n",
    "Please observe good Zoom etiquette. In particular,\n",
    "* muting your microphone when not speaking;\n",
    "* streaming video if feasible (if not, providing an appropriate avatar such as a photo);\n",
    "* setting the displayed name to your actual name (and consider adding your personal pronouns);\n",
    "* avoiding talking over others - I imagine that breaking in to ask questions will normally be fine, but if that becomes chaotic we will resort to the \"raise hand\" feature;\n",
    "* _asking_ questions rather than posting them in the chat, which is the equivalent of whispering distractingly in the back of the room.\n",
    "\n",
    "In addition, we expect everyone to contribute to a positive and collaborative culture, regardless of the mode of communication involved, by\n",
    "* promoting questions - we _all_ have questions when seeing something new, and it's usually pointless to forge ahead without addressing them. Asking provides all of us the opportunity to pause, consider and digest, rather than blundering forward with misconceptions intact, and then having to find our way back later. (This includes the ur-question, which goes, \"Wait... could you explain that again?\")\n",
    "* being respectful - while of course you _are_ respectful, we all sometimes need a little reminder of how to best interact with others. We especially like the description of the \"lightweight social rules\" of the [Recurse Center](https://www.recurse.com/manual#sec-environment)."
   ]
  },
  {
   "cell_type": "markdown",
   "metadata": {},
   "source": [
    "### Grading\n",
    "\n",
    "Final grades are an equally weighted combination of\n",
    "1. Class participation\n",
    "2. Tutorials\n",
    "3. Final project"
   ]
  },
  {
   "cell_type": "markdown",
   "metadata": {},
   "source": [
    "### Students with Documented Disabilities\n",
    "\n",
    "Students who may need an academic accommodation based on the impact of a disability must initiate the request with the Office of Accessible Education (OAE). Professional staff will evaluate the request with required documentation, recommend reasonable accommodations, and prepare an Accommodation Letter for faculty. Unless the student has a temporary disability, accommodation letters are issued for the entire academic year. Students should contact the OAE as soon as possible since timely notice is needed to coordinate accommodations. The OAE is located at 563 Salvatierra Walk (phone: 650-723-1066, URL: https://oae.stanford.edu/)."
   ]
  },
  {
   "cell_type": "markdown",
   "metadata": {
    "slideshow": {
     "slide_type": "slide"
    }
   },
   "source": [
    "## Some key ideas\n",
    "\n",
    "Here is a very abbreviated summary of some of the critical ideas in this course. If they don't make sense now, don't worry; we'll be unpacking them much more later on."
   ]
  },
  {
   "cell_type": "markdown",
   "metadata": {},
   "source": [
    "**i) All data we collect include some degree of randomness**\n",
    "\n",
    "This can be intrinsic to the source, a result of the measurement process, or _effective_ randomness due to the involvement of some process we don't know or understand perfectly."
   ]
  },
  {
   "cell_type": "markdown",
   "metadata": {
    "slideshow": {
     "slide_type": "fragment"
    }
   },
   "source": [
    "**ii) Any conclusions we draw must therefore incorporate uncertainty**\n",
    "\n",
    "This means we should describe both the data and conclusions in the language of mathematical probability.\n",
    "\n",
    "Our *conclusion* will take the form: the probability that something is true in light of (given) the data we collected,\n",
    "\n",
    "$P(\\mathrm{something}|\\mathrm{data})$.\n",
    "\n",
    "By the basic laws of probability, this can be written\n",
    "\n",
    "$P(\\mathrm{something}|\\mathrm{data}) = \\frac{P(\\mathrm{data}|\\mathrm{something}) \\, P(\\mathrm{something})}{P(\\mathrm{data})}$.\n",
    "\n",
    "We'll spend  much more time understanding this later, but, importantly, it means that"
   ]
  },
  {
   "cell_type": "markdown",
   "metadata": {
    "slideshow": {
     "slide_type": "slide"
    }
   },
   "source": [
    "**iii) There is a correct answer**\n",
    "\n",
    "As in physics, the theory tells us the solution. The challenge is in *evaluating it*.\n",
    "\n",
    "In other words, we aren't free to pick or dream up a procedure that kinda, sorta feels like it should be about right. The equation above is indisputably correct, but how to use it, and when/how to approximate it, is something to be learned.\n",
    "\n",
    "Within this framework,"
   ]
  },
  {
   "cell_type": "markdown",
   "metadata": {
    "slideshow": {
     "slide_type": "slide"
    }
   },
   "source": [
    "**iv) Data are constants**\n",
    "\n",
    "Even though they are generated randomly by the Universe, *data that we have already collected are fixed numbers*.\n",
    "\n",
    "Much of our job boils down to building a model that predicts, probabilistically, what data we might have measured instead."
   ]
  },
  {
   "cell_type": "markdown",
   "metadata": {
    "slideshow": {
     "slide_type": "slide"
    }
   },
   "source": [
    "**v) Things we don't know with perfect precision can be mathematically described as \"random\"**\n",
    "\n",
    "That is, we use probabilities to model things that are uncertain, even if they are not \"truly\" random."
   ]
  },
  {
   "cell_type": "markdown",
   "metadata": {
    "collapsed": true,
    "slideshow": {
     "slide_type": "slide"
    }
   },
   "source": [
    "As the quarter unfolds, we will cover\n",
    "1. Fundamentals of probability theory (a brief review)\n",
    "2. Bayesian analysis, and how it relates to other approaches\n",
    "3. Algorithmic tools used for Bayesian inference\n",
    "4. Applications to several types of astronomical data\n",
    "5. Advanced modeling strategies\n",
    "6. Ways to evaluate and compare models\n",
    "7. Other topics, as time permits"
   ]
  }
 ],
 "metadata": {
  "kernelspec": {
   "display_name": "Python 3",
   "language": "python",
   "name": "python3"
  },
  "language_info": {
   "codemirror_mode": {
    "name": "ipython",
    "version": 3
   },
   "file_extension": ".py",
   "mimetype": "text/x-python",
   "name": "python",
   "nbconvert_exporter": "python",
   "pygments_lexer": "ipython3",
   "version": "3.7.9"
  },
  "livereveal": {
   "scroll": true,
   "start_slideshow_at": "selected"
  }
 },
 "nbformat": 4,
 "nbformat_minor": 1
}
