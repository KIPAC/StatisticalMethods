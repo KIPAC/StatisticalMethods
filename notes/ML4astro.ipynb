{
 "cells": [
  {
   "cell_type": "markdown",
   "metadata": {},
   "source": [
    "# Machine Learning in Astronomy\n",
    "\n",
    "* A wide range of powerful \"machine learning\" algorithms have been developed by computer scientists and statisticians, in an attempt to automate the analysis of data, especially large datasets.\n",
    "\n",
    "\n",
    "* Machine learning has emerged from the world of *engineering*, where *costly decisions* have to be made: here, accuracy of prediction is at a premium, and academic understanding of the system is of secondary importance. \n",
    "\n",
    "\n",
    "* **When will machine learning be most useful?**\n",
    "\n",
    "  * When you suspect the data can provide more information about the uncertainties than you can via your physical assumptions;\n",
    "  \n",
    "  * When the size and/or complexity of the data means that simple physical models for it are unlikely to yield meaningful results;\n",
    "  \n",
    "  * When you want to go one further in your initial data exploration and visualization (we didn't get into unsupervised machine learning here, but exploration is a good way of thinking about this class of methods).\n",
    "\n",
    "  * When you need to make reliable predictions (think: photo-z's) or decisions (think: quasar target selection) based on large and or complex data. Much of industrial data science is occupied with this activity.\n",
    "\n",
    "\n",
    "* **When might more thought be required, in an astrophysical context?**\n",
    "\n",
    "  * When you bring significant prior *physical* knowledge to the problem. Can you adapt a  machine learning algorithm to accommodate your prior knowledge?\n",
    "  \n",
    "  * When the *uncertainty* on an inference (or prediction) is as important as the parameter value itself. Can you unpack the hidden assumptions in a machine learning algorithm, and then make sure the uncertainties correctly propagate the information you have?\n",
    "  \n",
    "  \n",
    "  \n",
    "* Machine learning in astronomy is a growing field: there are some very interesting opportunities here!\n",
    "  "
   ]
  }
 ],
 "metadata": {
  "kernelspec": {
   "display_name": "Python 2",
   "language": "python",
   "name": "python2"
  },
  "language_info": {
   "codemirror_mode": {
    "name": "ipython",
    "version": 2
   },
   "file_extension": ".py",
   "mimetype": "text/x-python",
   "name": "python",
   "nbconvert_exporter": "python",
   "pygments_lexer": "ipython2",
   "version": "2.7.10"
  }
 },
 "nbformat": 4,
 "nbformat_minor": 0
}
