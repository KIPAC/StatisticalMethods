{
 "cells": [
  {
   "cell_type": "markdown",
   "metadata": {},
   "source": [
    "# Notes: Syllabus\n",
    "\n",
    "Containing information specifically for enrolled Stanford students that is not covered in the [overview](overview.ipynb):\n",
    "* how we will spend our time\n",
    "* how assignments and grades work\n",
    "* other policies"
   ]
  },
  {
   "cell_type": "markdown",
   "metadata": {},
   "source": [
    "## Key course information\n",
    "\n",
    "* Course: Physics 366\n",
    "* Units: 3 (letter of credit/no credit)\n",
    "* Prerequisites: Programming in Python or a similar language at the level of CS 106A. Recommended but not required: probability at the level of STATS 116, CS 109 or PHYSICS 166/266. (See the [overview](overview.ipynb#Prerequisites) for what this actually means.)\n",
    "* Class meetings: Mondays & Wednesdays 1:30-2:50 PM PST in [Physics and Astrophysics room 214](https://campus-map.stanford.edu/?srch=04-470)\n",
    "* Canvas site: [here](https://canvas.stanford.edu/courses/169098)\n",
    "\n",
    "The course is pitched at a graduate level, albeit an unusual one in (for Physics) that doesn't assume much in the way of previous coursework. Undergraduates are welcome to join, and have been known to use the class to satisfy the Physics major's practicum requirement (with a waiver), but are reminded that this is not officially a cross-listed undergrad/grad class. The upshot of this is that the pace is typical of a graduate course, i.e. faster than a typical undergraduate course.\n",
    "\n",
    "Students and postdocs may audit **with the instructor's approval**. They will be expected to engage with the course at the same level as an enrolled student. If you're not prepared to do so, you may as well read/work through the materials on the web at your own pace, which is why they're there."
   ]
  },
  {
   "cell_type": "markdown",
   "metadata": {},
   "source": [
    "## Instructor contact information\n",
    "\n",
    "Instructor: [Adam Mantz](https://profiles.stanford.edu/adam-mantz)\n",
    "\n",
    "Contact info, \"office\" hours, etc.: see [Canvas](https://canvas.stanford.edu/courses/169098)"
   ]
  },
  {
   "cell_type": "markdown",
   "metadata": {},
   "source": [
    "## Course materials\n",
    "\n",
    "As described in the [overview](overview.ipynb#Course-materials), this website and [Canvas](https://canvas.stanford.edu/courses/169098) will provide you with the notes and tutorials that are the key materials for the course. Anything else that needs to be distributed will also be made available on [Canvas](https://canvas.stanford.edu/courses/169098).\n",
    "\n",
    "There is no textbook. As a generally useful reference, I like [_Bayesian Data Analysis_](http://www.stat.columbia.edu/~gelman/book/) by Gelman et al., but you don't need it for the class. Note that it is not aimed at a physics audience.\n",
    "\n",
    "### Technology\n",
    "You will need to have access to a device with an internet connection to access Canvas, email and Slack. Students can borrow equipment and access other learning technology from the [Lathrop Learning Hub](https://thehub.stanford.edu/services/computers-software-equipment/borrow-equipment). We will also use Python and Jupyter Notebooks extensively. These can be installed on your own device (see [Getting Started](getting_started.ipynb); we will have a tutorial in class to help if needed); alternatively, notebooks can be completed on Google Collab (to be confirmed), which is accessible from any web browser."
   ]
  },
  {
   "cell_type": "markdown",
   "metadata": {},
   "source": [
    "## Course format\n",
    "\n",
    "### In class\n",
    "\n",
    "The course uses a lecture-free (also known as flipped-classroom) format. These notes are intended to be read on your own - **they will not be read to you in class**. Instead of the combined interpretive dance and nap that normally comprise a lecture, I expect that we will use class times for three purposes:\n",
    "\n",
    "1. questions and answers related to the reading or tutorials,\n",
    "2. pair or group work on the tutorials that form the core of the class,\n",
    "3. collectively reviewing the tutorials as they are completed.\n",
    "\n",
    "While the previous (2021) offering of the course was similarly lecture-free, this is the first time we will be adapting the format to an in-person class where collaboration is relatively easier. That is to say, to some extent we'll be figuring out how much time to spend on each of these things as we go.\n",
    "\n",
    "**Attendance and participation in class is generally expected** (see [below](#Class-participation)) - if this poses a special difficulty, contact me directly and we'll figure out how to proceed."
   ]
  },
  {
   "cell_type": "markdown",
   "metadata": {},
   "source": [
    "### Outside of class\n",
    "\n",
    "There will be regularly assigned (light) reading from the course notes. Tiny \"nano-quizzes\" will be due **the night before** we are scheduled to discuss a given topic in class; these are primarily to gather common questions from the class while we still have time to prepare thorough responses, if needed. However, we reserve the right to include a substantive question, if we can think of an interesting one.\n",
    "\n",
    "The aforementioned tutorials essentially fill the function of problem sets for the class. We'll be starting them during class time, where it should be most straightforward to put your heads together and get immediate questions answered wuickly, but you will also be working on them outside of class. As usual, the work that you turn in should be your own, but collaboration with other students is strongly encouraged."
   ]
  },
  {
   "cell_type": "markdown",
   "metadata": {},
   "source": [
    "### Class participation\n",
    "\n",
    "Interacting with others in the class is important both for your learning and for theirs. The same can be true of interactions outside of class, such as collaborating on problems, but class is the best opportunity we have to collectively get on the same page and test our understanding of the material. It's also when we will launch new tutorials, so it's an invaluable opportunity to get any immediate questions answered in real time. The default expectation is that everyone will attend and participate in class.\n",
    "\n",
    "If attending class at the scheduled time represents a genuine barrier, please contact me directly. We'll try to figure out a way for you to participate as fully as possible under the circumstances. Similarly, exceptions can be made for conflicts with specific class days (e.g. due to a conference); these should be brought to our attention ahead of time. Remote access via Zoom will not be available as a matter of course, but similarly can be provided on an as-needed basis, with prior arrangement. We emphasize that illness, especially but not only with COVID-19, qualifies as a need for absence and/or remote access.\n",
    "\n",
    "**Classroom norms:** Regardless of the mode of communication involved, we expect everyone to contribute to a positive and collaborative culture by\n",
    "* promoting questions - we _all_ have questions when seeing something new, and it's usually pointless to forge ahead without addressing them. Asking provides all of us the opportunity to pause, consider and digest, rather than blundering forward with misconceptions intact, and then having to find our way back later. (This includes the ur-question, which goes, \"Wait... could you explain that again?\")[$^1$](#Note-1)\n",
    "* avoiding interrupting or talking over others - it can take more or less time to turn thoughts into words, especially when trying to simultaneously absorb new information. Before inserting yourself into or diverting a discussion, check whether others are still engaged with the last point.\n",
    "* being respectful - while of course you _are_ respectful, we all sometimes need a little reminder of how to best interact with others. We especially like the description of the \"lightweight social rules\" of the [Recurse Center](https://www.recurse.com/manual#sec-environment), since linking to it allows us to keep this bullet list relatively short."
   ]
  },
  {
   "cell_type": "markdown",
   "metadata": {},
   "source": [
    "### Masking policy\n",
    "\n",
    "As of this writing, University policy no longer requires masks to be worn in classrooms, but individual instructors retain the option to require them. Recognizing that we all have different circumstances implying different levels of risk, and different comfort levels with risk, in the context of the ongoing COVID-19 epidemic, I intend to determine whether masks will be optional or required on the basis of an anonymous survey in the first week of class. Until otherwise decided, masks will be optional.\n",
    "\n",
    "This approach is a compromise between the de-facto standard set the broad University policy and the real possibility that some may be unable or unwilling to attend a mask-optional class. Please do reach out to me directly and **early** if a mask-optional classroom would represent a barrier to attendance.\n",
    "\n",
    "Conversely, in a mask-optional setting, please recognize and respect that others may make choices different from yours based on their own circumstances, which might vary with time."
   ]
  },
  {
   "cell_type": "markdown",
   "metadata": {},
   "source": [
    "## Assignments"
   ]
  },
  {
   "cell_type": "markdown",
   "metadata": {},
   "source": [
    "### Reading quizzes\n",
    "\n",
    "Quizzes will be handled through the class [Canvas](https://canvas.stanford.edu/courses/169098) site. They will technically be due early in the morning before we have class, although I strongly urge you to do the reading and the quiz a little farther ahead of time (and, incidentally, to maintain healthy sleeping habits). Quizzes are graded on a complete/not complete basis."
   ]
  },
  {
   "cell_type": "markdown",
   "metadata": {},
   "source": [
    "### Tutorials\n",
    "\n",
    "To get the tutorial notebooks and supporting files, the easiest option is to download them from the \"Files\" page of the course's [Canvas](https://canvas.stanford.edu/courses/169098) site.\n",
    "\n",
    "The [demo notebook](../tutorials/demo.ipynb) says more about specifically how to complete missing code and answer posed questions, although we hope it will be intuitive. However, we emphasize that completed notebooks should\n",
    "* Be readable. Include enough explanatory comments (and even non-comment prose in the case of involved solutions) that we can understand what you're doing. **Please do not assume that _any_ code you write is self explanatory.**\n",
    "* Be functional. It should be possible for us to run a notebook from top to bottom to reproduce your results (and we will do so). With few exceptions, running through an entire notebook should never take more than about a minute.\n",
    "* Be complete. That is, questions to be answered in Markdown cells rather than code should be answered, even though they aren't necessary to make the notebook functional in a narrow sense.\n",
    "* Because we know how tempting it is to skip over them, we will repeat: non-code questions to be answered in Markdown cells are still questions, and must still be answered for the tutorial to be deemed complete.\n",
    "\n",
    "Tutorial notebooks will be turned in on [Canvas](https://canvas.stanford.edu/courses/169098). Please \"Restart & Run All\" before saving and submitting them (that is, turn in notebooks that include outputs and have been run in order, top to bottom).\n",
    "\n",
    "Like quizzes, tutorials are graded on a complete/not complete basis. They can be revised and resubmitted after the nominal due date without penalty, provided there is evidence of bona fide effort put in before the initial due date. The admittedly fuzzy term \"bona fide effort\" should be taken to mean substantial progress towards a complete notebook and/or attempts to get help with sticking points _before the last minute_. The reason for this caveat is that, once a tutorial is due, we will be discussing the important points in class - this is a potentially valuable activity that will be worth significantly less if you haven't at least made a real attempt to work through the notebook. **Update to describe check-in quizzes rather than \"due dates\"**\n",
    "\n",
    "After the due date, we might send a notebook back with a requested revision or fix required for it to be deemed complete (usually with some advice about how to proceed).\n",
    "\n",
    "This might all sound intimidating, but our aim with these notebooks is to make them illuminating rather than onerous. We want you to get your hands dirty analyzing data, and as long as that happens we'll be happy. Given all this flexibility, and since everyone should have working and complete notebooks by the time we're done, we are not planning on providing \"solutions\". You can, however, find html pages showing the outputs of solved tutorials linked from the main github.io page, to compare your work to."
   ]
  },
  {
   "cell_type": "markdown",
   "metadata": {},
   "source": [
    "#### Collaboration and acknowledgement\n",
    "\n",
    "You are encouraged to collaborate with other students on the tutorials, but any work you turn in must be your own.\n",
    "In keeping with the [Stanford Honor Code](http://studentaffairs.stanford.edu/communitystandards/honorcode), as well as professional best practice, you will be asked to briefly acknowledge those that you collaborated with when submitting assignments. You are encouraged to make these acknowledgements non-minimal, though not exhaustive, e.g. \"so-and-so helped me understand this part, which I had been stuck on\"."
   ]
  },
  {
   "cell_type": "markdown",
   "metadata": {},
   "source": [
    "#### Peer review\n",
    "\n",
    "**If** it's simple enough to set up on Canvas, you will have the option of helping to review and provide feedback on your peers' tutorials. This is not a required part of the course.\n",
    "\n",
    "As part of the tutorial submission, you would have the option to volunteer to do peer review. This would only apply if your own tutorial is complete and functional at that point. You could expect to be sent no more than 3 peer tutorials. Responsibilities would include\n",
    "* verifying that the notebook runs top-to-bottom and produces correct results\n",
    "* verifying that all checkpoints have been passed\n",
    "* verifying that all non-code questions are adequately responded to\n",
    "\n",
    "If any of these are not the case, you would be expected to provide feedback to the author on how to improve their work to complete the tutorial, within reason. You will not be on the hook for laboriously debugging others' code; cases where the author needs significant help should be escalated to the instructor. "
   ]
  },
  {
   "cell_type": "markdown",
   "metadata": {},
   "source": [
    "### Course schedule\n",
    "\n",
    "The [Canvas](https://canvas.stanford.edu/courses/169098) site shall serve as the official calendar for reading and tutorial assignments."
   ]
  },
  {
   "cell_type": "markdown",
   "metadata": {},
   "source": [
    "## Grades\n",
    "\n",
    "Final grades will be determined by the following rubric. We reserve the right to revise this at any time, but only in the direction of greater leniency.\n",
    "\n",
    "As depicted on the main course [page](../index.html), certain tutorials are optional in the sense that a passing grade (or a specific letter grade) can be achieved without completing them. Conversely, \"core\" tutorials must be completed to recieve a passing grade. Note that the required core includes a choice of tutorials that are otherwise optional (e.g. one of _Gibbs Sampling_ or _Metropolis Sampling_ is required; doing both counts as 1 optional tutorial).\n",
    "\n",
    "Requirement                                          | CR/C | C+ | B- | B | B+ | A- | A | A+\n",
    "-----------                                          | ---- | -- | -- | - | -- | -- | - | --\n",
    "Adherence to the Stanford Honor Code                 | y    | y  | y  | y | y  | y  | y | y\n",
    "Observance of classroom norms                        | y    | y  | y  | y | y  | y  | y | y\n",
    "Maximum unexcused absences*                          | 3    | 3  | 2  | 2 | 2  | 1  | 1 | 1\n",
    "Maximum unexcused missing reading quizzes*           | 3    | 3  | 2  | 2 | 2  | 1  | 1 | 1\n",
    "Maximum unexcused missing tutorial check-ins*        | 3    | 3  | 2  | 2 | 2  | 1  | 1 | 1\n",
    "All core tutorials                                   | y    | y  | y  | y | y  | y  | y | y\n",
    "Minimum optional tutorials  (Principles/Methods)     | 0    | 1  | 2  | 2 | 2  | 3  | 3 | 4\n",
    "Minimum optional tutorials  (Practice)               | 0    | 0  | 0  | 1 | 2  | 3  | 4 | 5\n",
    "\"Design your own\" tutorial**                         | -    | -  | -  | - | y  | y  | y | y\n",
    "Minimum tutorials peer reviewed                      | 0    | 0  | 0  | 0 | 0  | 1  | 1 | 2\n",
    "\n",
    "*To provide some flexibility, unexcused absences, missed reading quizzes and/or missed tutorial check-ins can be canceled out at the rate of up to 2 missed things per 1 additional optional tutorial completed. Items canceled in this way no longer count towards the totals above.\n",
    "\n",
    "**Design Your Own Tutorials (DYOTs) count as optional Practice-level tutorials in addition to satisfying their own requirement for a B+ or higher grade. A sufficiently involved/awesome DYOT may even be counted as more than one optional tutorial. Multiple, different DYOTs can also be completed. See the [DYOT page](../tutorials/your_own.ipynb) for more information."
   ]
  },
  {
   "cell_type": "markdown",
   "metadata": {},
   "source": [
    "## Academic accomodations\n",
    "\n",
    "Stanford is committed to providing equal educational opportunities for disabled students. Disabled students are a valued and essential part of the Stanford community. We welcome you to our class.\n",
    " \n",
    "If you experience disability, please register with the Office of Accessible Education (OAE). Professional staff will evaluate your needs, support appropriate and reasonable accommodations, and prepare an Academic Accommodation Letter for faculty. To get started, or to re-initiate services, please visit https://oae.stanford.edu.\n",
    " \n",
    "If you already have an Academic Accommodation Letter, please send them to us. Letters are preferred by the end of week 2, and at least two weeks in advance of any exam, so we may partner with you and OAE to identify any barriers to access and inclusion that might be encountered in your experience of this course. New accommodation letters, or revised letters, are welcome throughout the quarter; please note that there may be constraints in fulfilling last-minute requests."
   ]
  },
  {
   "cell_type": "markdown",
   "metadata": {},
   "source": [
    "#### Endnotes\n",
    "\n",
    "##### Note 1\n",
    "\n",
    "At some point in your life, a well meaning person has probably professed to you that there is no such thing as a stupid question. Bull poop. There certainly are stupid questions, **and every one of us has asked them**. The asking of a stupid question is not evidence of the stupidity of the asker. Usually it means that something has been explained badly, or too quickly, or even misleadingly, and so the asking does a service to everyone else (including those who shared the question but were less brave).\n",
    "\n",
    "Relatedly, if I ever appear baffled by (that is, unable to even understand) a question, please don't assume that it was too stupid to ask and withdraw it. Usually, this means we have gotten so far out of sync that it will take a minute to backtrack to the point where we're on the same page, and can re-ask and answer the question, at which point we'll all be happier about it (including, again, those who had the same question but were not brave enough to ask)."
   ]
  }
 ],
 "metadata": {
  "kernelspec": {
   "display_name": "Python 3 (ipykernel)",
   "language": "python",
   "name": "python3"
  },
  "language_info": {
   "codemirror_mode": {
    "name": "ipython",
    "version": 3
   },
   "file_extension": ".py",
   "mimetype": "text/x-python",
   "name": "python",
   "nbconvert_exporter": "python",
   "pygments_lexer": "ipython3",
   "version": "3.10.8"
  }
 },
 "nbformat": 4,
 "nbformat_minor": 2
}
