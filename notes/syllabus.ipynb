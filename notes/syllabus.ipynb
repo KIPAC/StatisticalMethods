{
 "cells": [
  {
   "cell_type": "markdown",
   "metadata": {},
   "source": [
    "# Notes: Syllabus\n",
    "\n",
    "Containing information specifically for enrolled Stanford students that is not covered in the [overview](overview.ipynb):\n",
    "* how we will spend our time\n",
    "* how assignments and grades work\n",
    "* other policies"
   ]
  },
  {
   "cell_type": "markdown",
   "metadata": {},
   "source": [
    "## Key course information\n",
    "\n",
    "* Course: Physics 267\n",
    "* Units: 3 (letter of credit/no credit)\n",
    "* Prerequisites: Programming in Python or a similar language at the level of CS 106A. Recommended but not required: probability at the level of STATS 116, CS 109 or PHYSICS 166/266. (See the [overview](overview.ipynb#Prerequisites) for what this actually means.)\n",
    "* Class meetings: Mondays & Wednesdays 1:30-2:50 PM in [Building 160 Room 314](https://campus-map.stanford.edu/?srch=160-314)\n",
    "* [Canvas site](https://canvas.stanford.edu/courses/198587)\n",
    "\n",
    "The course is pitched at a graduate level, albeit an unusual one (for Physics) in that it doesn't assume much in the way of previous coursework. Undergraduates are welcome to join, and have been known to use the class to satisfy the Physics major's practicum requirement (with a waiver), but are reminded that this is not officially a cross-listed undergrad/grad class. The upshot of this is that the pace is typical of a graduate course, i.e. faster than a typical undergraduate course.\n",
    "\n",
    "For physics graduate students: this course is considered \"Other\" for the purposes of the breadth requirement. That is, it counts as breadth even for those specializing in astrophysics. This, we claim, is because we do not actually cover any astrophysics in this class.\n",
    "\n",
    "Students and postdocs may audit **with the instructor's approval**. They will be expected to engage with the course at the same level as an enrolled student. If you're not prepared to do so, you may as well read/work through the materials on the web at your own pace, which is why they're there."
   ]
  },
  {
   "cell_type": "markdown",
   "metadata": {},
   "source": [
    "## Instructor contact information\n",
    "\n",
    "Instructor: [Adam Mantz](https://profiles.stanford.edu/adam-mantz)\n",
    "\n",
    "Contact info, office hours: see Canvas page at the above link"
   ]
  },
  {
   "cell_type": "markdown",
   "metadata": {},
   "source": [
    "## Course materials\n",
    "\n",
    "This website and a [Google Drive folder](https://drive.google.com/drive/folders/1XHFb-RKXuJ2-wvn4SVZmenhe5YIW4_Y1?usp=share_link) will respectively provide you with the notes and tutorials that are the key materials for the course.\n",
    "\n",
    "There is no textbook. As a generally useful reference, I like [_Bayesian Data Analysis_](http://www.stat.columbia.edu/~gelman/book/) by Gelman et al., but you don't need it for the class. Note that this book is not aimed at a physics audience.\n",
    "\n",
    "### Technology\n",
    "You will need to have access to a device with an internet connection to access Canvas, email, Slack and more. Students can borrow equipment and access other learning technology from the [Lathrop Learning Hub](https://thehub.stanford.edu/services/computers-software-equipment/borrow-equipment). We will also use Python and Jupyter Notebooks extensively. These can be installed on your own device (see [Getting Started](getting_started.ipynb)); alternatively, notebooks can be completed on [Google Collab](http://colab.research.google.com), which is accessible from any web browser."
   ]
  },
  {
   "cell_type": "markdown",
   "metadata": {},
   "source": [
    "## Course format\n",
    "\n",
    "### In class\n",
    "\n",
    "The course uses a lecture-free (also known as flipped-classroom) format. These notes are intended to be read on your own - **they will not be read to you in class**. Instead of the combined interpretive dance and nap that normally comprise a lecture, I expect that we will use class times for three purposes:\n",
    "\n",
    "1. questions and answers related to the reading or tutorials,\n",
    "2. collaborative work on the tutorials that form the core of the class,\n",
    "3. peer review the tutorials as they are completed.\n",
    "\n",
    "The class format has varied widely over the years. In 2021 it was necessarily revamped as entirely virtual, and much of that flexibility was retained in 2023. This year, we shifting in the direction of again making the most of in-person interaction, which means that **in-person attendance and participation in class is expected** and is part of the final grade (see [below](#Class-participation)). Should this poses a special difficulty, contact me directly and we'll figure out how to proceed."
   ]
  },
  {
   "cell_type": "markdown",
   "metadata": {},
   "source": [
    "### Outside of class\n",
    "\n",
    "There will be regularly assigned (light) reading from the course notes. Tiny \"nano-quizzes\" will be due **the night before** we are scheduled to discuss a given topic in class; these are primarily to gather common questions from the class while we still have time to prepare thorough responses, if needed. However, we reserve the right to include a substantive question, if we can think of an interesting one.\n",
    "\n",
    "The aforementioned tutorials essentially fill the function of problem sets for the class. We'll be starting them during class time, where it should be most straightforward to put your heads together and get immediate questions answered quickly, but you will also be working on them outside of class. As usual, the work that you turn in should be your own, but collaboration with other students is strongly encouraged."
   ]
  },
  {
   "cell_type": "markdown",
   "metadata": {},
   "source": [
    "### Class participation\n",
    "\n",
    "Interacting with others in the class is important both for your learning and for theirs. The same can be true of interactions outside of class, such as collaborating on problems, but class is the best opportunity we have to collectively get on the same page and test our understanding of the material. It's also when we will launch new tutorials, so it's an invaluable opportunity to get any immediate questions answered in real time. The default expectation is that everyone will attend and participate in class. Exceptions can be made for conflicts with specific class days (e.g. due to conference travel); these should be brought to our attention ahead of time. It goes without saying that illness is an acceptable reason to miss class. Remote participation in class via Zoom is not workable as a matter of course, though limited collaboration may be possible under special circumstances. \n",
    "\n",
    "**Classroom norms:** Regardless of the mode of communication involved, we expect everyone to contribute to a positive and collaborative culture by\n",
    "* promoting questions - we _all_ have questions when seeing something new, and it's usually pointless to forge ahead without addressing them. Asking provides all of us the opportunity to pause, consider and digest, rather than blundering forward with misconceptions intact, and then having to find our way back later. (This includes the ur-question, which goes, \"Wait... could you explain that again?\")[$^1$](#Note-1)\n",
    "* avoiding interrupting or talking over others - it can take more or less time to turn thoughts into words, especially when trying to simultaneously absorb new information. Before inserting yourself into or diverting a discussion, check whether others are still engaged with the last point.\n",
    "* being respectful - while of course you _are_ respectful, we all sometimes need a little reminder of how to best interact with others. We especially like the description of the \"lightweight social rules\" of the [Recurse Center](https://www.recurse.com/manual#sec-environment), since linking to it allows us to keep this bullet list relatively short."
   ]
  },
  {
   "cell_type": "markdown",
   "metadata": {},
   "source": [
    "## Assignments"
   ]
  },
  {
   "cell_type": "markdown",
   "metadata": {},
   "source": [
    "### Reading quizzes\n",
    "\n",
    "Quizzes will be handled through the class Canvas site. They will technically be due early in the morning before we have class, although I strongly urge you to do the reading and the quiz a little farther ahead of time (and, incidentally, to maintain healthy sleeping habits). Quizzes are graded on a complete/not complete basis."
   ]
  },
  {
   "cell_type": "markdown",
   "metadata": {},
   "source": [
    "### Tutorials\n",
    "\n",
    "You will recieve two Google Drive links: one for obtaining the tutorial notebooks, and one with the unique data assigned to you. The latter will be sent by private message, and requires Stanford authentification.\n",
    "\n",
    "The [Getting Started](getting_started.ipynb) notes and [demo tutorial](../tutorials/demo/demo.ipynb) say more about how to work with these files, and how to complete missing code and answer posed questions, although we hope it will be intuitive. However, we emphasize that completed notebooks should\n",
    "* Be readable. Include enough explanatory comments (and even non-comment prose in the case of involved solutions) that we can understand what you're doing. **Please do not assume that _any_ code you write is self explanatory.**\n",
    "* Be functional. It should be possible for us to run a notebook from top to bottom to reproduce your results (and we will do so). With few exceptions, running through an entire completed notebook should never take more than about a minute.\n",
    "\n",
    "It is not _strictly_ necessary to answer non-code questions in the notebook itself, although we strongly encourage it. This will help you if you ever need to refer back to it, and will help us help you if you run into any problems.\n",
    "\n",
    "Tutorial notebooks will be turned in on Canvas. We encourage you to leave the outputs from a top-to-bottom run in the notebook file you submit. This is again not strictly required, but will help to identify any issues if something is incorrect. \n",
    "\n",
    "Like quizzes, tutorials are graded on a complete/not complete basis. The final due date for all tutorials is the last day of classes for the quarter (except for projects, which can be turned in during the exam period); until then they can be revised and resubmitted without penalty. We might send a submitted notebook back with a requested revision or fix required for it to be deemed complete (usually with some advice about how to proceed). However, please do not turn in notebooks that you _know_ are not complete in order to get feedback from us. Reaching out on Slack or in class is much more efficient for all of us.\n",
    "\n",
    "While the final due date for completed tutorials is late, we do have a schedule of when we will collectively begin and review each tutorial (usually a week apart), and we require evidence of bona fide effort put in before the review date. The admittedly fuzzy term \"bona fide effort\" should be taken to mean substantial progress towards a complete notebook and/or attempts to get help with sticking points _before the last minute_. Very simply, you will not be able to participate effectively in the review if you are seeing the tutorial for the first time at that point.\n",
    "\n",
    "This might all sound intimidating, but our aim with these notebooks is to make them illuminating rather than onerous. We want you to get your hands dirty analyzing data, and as long as that happens we'll be happy. Given all this flexibility, and since everyone should have working and complete notebooks by the time we're done, we are not planning on providing \"solutions\". You can, however, find html pages showing the outputs of solved tutorials linked from the main github.io page, to compare your work to."
   ]
  },
  {
   "cell_type": "markdown",
   "metadata": {},
   "source": [
    "#### Collaboration with and acknowledgement of humans\n",
    "\n",
    "You are encouraged to collaborate with other students on the tutorials, but any work you turn in must be your own.\n",
    "In keeping with the [Stanford Honor Code](http://studentaffairs.stanford.edu/communitystandards/honorcode), as well as professional best practice, you will be asked to briefly acknowledge those that you collaborated with when submitting assignments. You are encouraged to make these acknowledgements non-minimal, though not exhaustive, e.g. \"so-and-so helped me understand this part, which I had been stuck on\"."
   ]
  },
  {
   "cell_type": "markdown",
   "metadata": {},
   "source": [
    "#### Use of generative AI and other internet resources\n",
    "\n",
    "Wikipedia, StackOverflow, and search engines may be used to explore concepts relevant to the course, to find code examples not instantly related to the course (e.g., how to use `**kwargs` in python, how to write a class with inheritance), and to help debug coding errors. Generative artificial \"intelligence\" tools (e.g. ChatGPT, Gemini and GitHub Copilot) are permitted for the same purposes. On the other hand, using any of these to substantially complete part of an assignment - e.g., by entering the question and copying the answer, even with edits or paraphrasing - is equivalent to having another person write your solution, and is not permitted. Our learning goals for this course are best served by using your own brain to implement and assess the various analysis techniques that we cover. For more context, see the Office of Community Standards' pae on [Generative AI Policy Guidance](https://communitystandards.stanford.edu/generative-ai-policy-guidance)."
   ]
  },
  {
   "cell_type": "markdown",
   "metadata": {},
   "source": [
    "### Course schedule\n",
    "\n",
    "You can find a tentative schedule [here](https://drive.google.com/file/d/1Xsahog9pETHXqJLTlMSAc6OI2l8VGRVV/view?usp=sharing). You should interpret this as showing the recommended time to work on various reading and tutorials, with the last day for a given task being the class when we will discuss it. However, of necessity, Canvas shall be the ultimate arbiter of when things are due."
   ]
  },
  {
   "cell_type": "markdown",
   "metadata": {},
   "source": [
    "## Grades\n",
    "\n",
    "Final grades will be determined by the following rubric, which we reserve the right to revise if circumstances require it.\n",
    "\n",
    "Letter | CR/NC | Points\n",
    ":----- | :---: | :----:\n",
    "A+ | CR | 17\n",
    "A  | CR | 16\n",
    "A- | CR | 15\n",
    "B+ | CR | 14\n",
    "B  | CR | 13\n",
    "B- | CR | 12\n",
    "C+ | CR | 11\n",
    "C  | CR | 10\n",
    "C- | NC | 9\n",
    "D+ | NC | 8\n",
    "D  | NC | 7\n",
    "D- | NC | 6\n",
    "F  | NC | <6\n",
    "\n",
    "In determining these \"points\":\n",
    "* each complete tutorial is worth 1 (even the absurdly short ones, which do exist);\n",
    "* the optional project's value is variable, but would normally be worth at least 1;\n",
    "* class participation (including reading quizzes) is collectively worth 4."
   ]
  },
  {
   "cell_type": "markdown",
   "metadata": {},
   "source": [
    "## Academic accommodations\n",
    "\n",
    "Stanford is committed to providing equal educational opportunities for disabled students. Disabled students are a valued and essential part of the Stanford community. We welcome you to our class.\n",
    " \n",
    "If you experience disability, please register with the Office of Accessible Education (OAE). Professional staff will evaluate your needs, support appropriate and reasonable accommodations, and prepare an Academic Accommodation Letter for faculty. To get started, or to re-initiate services, please visit https://oae.stanford.edu.\n",
    " \n",
    "If you already have an Academic Accommodation Letter, please send them to us. Letters are preferred by the end of week 2, and at least two weeks in advance of any exam, so we may partner with you and OAE to identify any barriers to access and inclusion that might be encountered in your experience of this course. New accommodation letters, or revised letters, are welcome throughout the quarter; please note that there may be constraints in fulfilling last-minute requests."
   ]
  },
  {
   "cell_type": "markdown",
   "metadata": {},
   "source": [
    "#### Endnotes\n",
    "\n",
    "##### Note 1\n",
    "\n",
    "At some point in your life, a well meaning person has probably professed to you that there is no such thing as a stupid question. Bull poop. There certainly are stupid questions, **and every one of us has asked them**. The asking of a stupid question is not evidence of the stupidity of the asker. Usually it means that something has been explained badly, or too quickly, or even misleadingly, and so the asking does a service to everyone else (including those who shared the question but were less brave).\n",
    "\n",
    "Relatedly, if I ever appear baffled by (that is, unable to even understand) a question, please don't assume that it was too stupid to ask and withdraw it. Usually, this means we have gotten so far out of sync that it will take a minute to backtrack to the point where we're on the same page, and can re-ask and answer the question, at which point we'll all be happier about it (including, again, those who had the same question but were not brave enough to ask)."
   ]
  }
 ],
 "metadata": {
  "kernelspec": {
   "display_name": "Python 3 (ipykernel)",
   "language": "python",
   "name": "python3"
  },
  "language_info": {
   "codemirror_mode": {
    "name": "ipython",
    "version": 3
   },
   "file_extension": ".py",
   "mimetype": "text/x-python",
   "name": "python",
   "nbconvert_exporter": "python",
   "pygments_lexer": "ipython3",
   "version": "3.12.5"
  }
 },
 "nbformat": 4,
 "nbformat_minor": 4
}
