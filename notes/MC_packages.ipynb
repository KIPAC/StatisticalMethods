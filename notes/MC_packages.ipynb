{
 "cells": [
  {
   "cell_type": "markdown",
   "metadata": {},
   "source": [
    "# MC Sampling packages\n",
    "\n",
    "An incomplete listing of potentially useful `Python` packages that perform Markov Chain Monte Carlo or otherwise do Monte Carlo sampling and/or evidence calculation:\n",
    "\n",
    "Code | Algorithm | Bonus link\n",
    "---- | --------- | -----\n",
    "[`dynesty`](https://github.com/joshspeagle/dynesty) | nested sampling | \n",
    "[`emcee`](http://dan.iel.fm/emcee/current/) | Goodman-Weare | [paper](http://arxiv.org/abs/1202.3665)\n",
    "[`kombine`](http://home.uchicago.edu/~farr/kombine/index.html) | briefly tempered Metropolis-Hastings | [paper](https://arxiv.org/abs/1309.7709)\n",
    "[`lmc`](https://github.com/abmantz/lmc) | Metropolis-Hastings, Goodman-Weare |\n",
    "[`MultiNest`](https://github.com/JohannesBuchner/PyMultiNest) | nested sampling | papers [1](http://arxiv.org/abs/0809.3437) [2](http://arxiv.org/abs/1306.2144)\n",
    "[`pymc`](https://github.com/pymc-devs/pymc) | Metropolis-Hastings | \n",
    "[`pymc3`](https://github.com/pymc-devs/pymc3) | Metropolis-Hastings, HMC |\n",
    "[`PyStan`](http://mc-stan.org) | HMC |\n",
    "\n",
    "For `R` users, there are numerous options on [CRAN](https://cran.r-project.org/), but we list only a couple that we know or have heard of being used:\n",
    "\n",
    "Code | Algorithm | Bonus link\n",
    "---- | --------- | -----\n",
    "[`rgw`](https://github.com/abmantz/rgw) | Goodman-Weare | [CRAN](https://cran.r-project.org/package=rgw)\n",
    "[`LaplacesDemon`](https://github.com/LaplacesDemonR/LaplacesDemon) | many | [CRAN](https://cran.r-project.org/package=LaplacesDemon)\n",
    "[`RStan`](http://mc-stan.org) | HMC |\n",
    "\n",
    "Gibbs samplers that analyze models to determine conjugacy relations (some have `Python`/`R` interfaces):\n",
    "\n",
    "* [BUGS](http://openbugs.net/w/FrontPage)\n",
    "* [JAGS](http://mcmc-jags.sourceforge.net/)\n",
    "\n",
    "\n",
    "Gibbs samplers specifically for linear regression:\n",
    "\n",
    "Code | Language | multiple $x$'s | multiple $y$'s\n",
    "---- | :------: | :------------: | :------------:\n",
    "[`linmix_err`](http://idlastro.gsfc.nasa.gov/ftp/pro/math/linmix_err.pro) | IDL | no | no\n",
    "[`mlinmix_err`](http://idlastro.gsfc.nasa.gov/ftp/pro/math/mlinmix_err.pro) | IDL | yes | no\n",
    "[`linmix`](https://github.com/jmeyers314/linmix) | Python | no | no\n",
    "[`lrgs`](https://github.com/abmantz/lrgs) | R, Python | yes | yes\n"
   ]
  }
 ],
 "metadata": {
  "kernelspec": {
   "display_name": "Python 3",
   "language": "python",
   "name": "python3"
  },
  "language_info": {
   "codemirror_mode": {
    "name": "ipython",
    "version": 3
   },
   "file_extension": ".py",
   "mimetype": "text/x-python",
   "name": "python",
   "nbconvert_exporter": "python",
   "pygments_lexer": "ipython3",
   "version": "3.6.10"
  }
 },
 "nbformat": 4,
 "nbformat_minor": 2
}
