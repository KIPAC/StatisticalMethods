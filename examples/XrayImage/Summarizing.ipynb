{
 "cells": [
  {
   "cell_type": "markdown",
   "metadata": {},
   "source": [
    "# Summarizing Images"
   ]
  },
  {
   "cell_type": "markdown",
   "metadata": {},
   "source": [
    "Images are _high dimensional_ objects: our XMM image contains `648*648 = ` datapoints (the pixel values).\n",
    "\n",
    "Visualizing the data is an extremely important first step: the next is _summarizing_, which can be thought of as _dimensionality reduction_.\n",
    "\n",
    "Let's dust off some standard statistics and put them to good use in summarizing this X-ray image.\n",
    "\n"
   ]
  },
  {
   "cell_type": "code",
   "execution_count": null,
   "metadata": {
    "collapsed": false
   },
   "outputs": [],
   "source": [
    "import astropy.io.fits as pyfits\n",
    "import numpy as np\n",
    "import astropy.visualization as viz\n",
    "import matplotlib.pyplot as plt\n",
    "%matplotlib inline\n",
    "plt.rcParams['figure.figsize'] = (10.0, 10.0) "
   ]
  },
  {
   "cell_type": "code",
   "execution_count": null,
   "metadata": {
    "collapsed": false
   },
   "outputs": [],
   "source": [
    "targdir = 'a1835_xmm/'\n",
    "imagefile = targdir+'P0098010101M2U009IMAGE_3000.FTZ'\n",
    "expmapfile = targdir+'P0098010101M2U009EXPMAP3000.FTZ'\n",
    "bkgmapfile = targdir+'P0098010101M2X000BKGMAP3000.FTZ'\n",
    "\n",
    "!du -sch $targdir/*"
   ]
  },
  {
   "cell_type": "markdown",
   "metadata": {},
   "source": [
    "## How Many Photons Came From the Cluster?\n",
    "\n",
    "Let's estimate the total counts due to the cluster.\n",
    "\n",
    "That means we need to somehow ignore\n",
    "\n",
    "* all the other objects in the field\n",
    "\n",
    "* the diffuse X-ray \"background\"\n",
    "\n",
    "Let's start by _masking_ various regions of the image to separate cluster from background."
   ]
  },
  {
   "cell_type": "code",
   "execution_count": null,
   "metadata": {
    "collapsed": false
   },
   "outputs": [],
   "source": [
    "imfits = pyfits.open(imagefile)\n",
    "im = imfits[0].data\n",
    "plt.imshow(viz.scale_image(im, scale='log', max_cut=40), cmap='gray', origin='lower');"
   ]
  },
  {
   "cell_type": "markdown",
   "metadata": {},
   "source": [
    "### Estimating the background\n",
    "\n",
    "Now let's look at the outer parts of the image, far from the cluster, and estimate the background level there."
   ]
  },
  {
   "cell_type": "code",
   "execution_count": null,
   "metadata": {
    "collapsed": true
   },
   "outputs": [],
   "source": [
    "maskedimage = im.copy()\n",
    "\n",
    "# First make some coordinate arrays, including polar r from the cluster center:\n",
    "(ny,nx) = maskedimage.shape\n",
    "centroid = np.where(maskedimage == np.max(maskedimage))\n",
    "x = np.linspace(0, nx-1, nx)\n",
    "y = np.linspace(0, ny-1, ny)\n",
    "dx, dy = np.meshgrid(x,y)\n",
    "dx = dx - centroid[1]\n",
    "dy = dy - centroid[0]\n",
    "r = np.sqrt(dx*dx + dy*dy)"
   ]
  },
  {
   "cell_type": "code",
   "execution_count": null,
   "metadata": {
    "collapsed": true
   },
   "outputs": [],
   "source": [
    "# Now select an outer annulus, for the background and an inner circle, for the cluster: \n",
    "background = maskedimage.copy()\n",
    "background[r < 100] = -3\n",
    "background[r > 150] = -3\n",
    "signal = maskedimage.copy()\n",
    "signal[r > 100] = -3"
   ]
  },
  {
   "cell_type": "code",
   "execution_count": null,
   "metadata": {
    "collapsed": false
   },
   "outputs": [],
   "source": [
    "plt.imshow(viz.scale_image(background, scale='log', max_cut=40), cmap='gray', origin='lower')"
   ]
  },
  {
   "cell_type": "markdown",
   "metadata": {},
   "source": [
    "Let's look at the _mean_ and _median_ of the pixels in this image that have non-negative values."
   ]
  },
  {
   "cell_type": "code",
   "execution_count": null,
   "metadata": {
    "collapsed": false
   },
   "outputs": [],
   "source": [
    "meanbackground = np.mean(background[background > -1])\n",
    "medianbackground = np.median(background[background > -1])\n",
    "\n",
    "print \"Mean background counts per pixel = \",meanbackground\n",
    "print \"Median background counts per pixel = \",medianbackground"
   ]
  },
  {
   "cell_type": "markdown",
   "metadata": {},
   "source": [
    "### Exercise: \n",
    "\n",
    "Why do you think there is a difference? Talk to your neighbor for a minute, and be ready to suggest an answer."
   ]
  },
  {
   "cell_type": "markdown",
   "metadata": {},
   "source": [
    "To understand the difference in these two estimates, lets look at a _pixel histogram_ for this annulus."
   ]
  },
  {
   "cell_type": "code",
   "execution_count": null,
   "metadata": {
    "collapsed": false
   },
   "outputs": [],
   "source": [
    "plt.figure(figsize=(10,7))\n",
    "n, bins, patches = plt.hist(background[background > -1], bins=np.linspace(-3.5,29.5,34))\n",
    "# plt.yscale('log', nonposy='clip')\n",
    "plt.xlabel('Background annulus pixel value (counts)')\n",
    "plt.ylabel('Frequency')\n",
    "plt.axis([-3.0, 30.0, 0, 40000])\n",
    "plt.grid(True)\n",
    "plt.show()"
   ]
  },
  {
   "cell_type": "code",
   "execution_count": null,
   "metadata": {
    "collapsed": false
   },
   "outputs": [],
   "source": [
    "stdevbackground = np.std(background[background > -1])\n",
    "print \"Standard deviation: \",stdevbackground"
   ]
  },
  {
   "cell_type": "markdown",
   "metadata": {},
   "source": [
    "### Exercise:\n",
    "\n",
    "_\"The background level in this image is approximately $0.09 \\pm 0.66$ counts\"_\n",
    "\n",
    "What's wrong with this statement?\n",
    "\n",
    "Talk to your neighbor for a few minutes, and see if you can come up with a better version."
   ]
  },
  {
   "cell_type": "markdown",
   "metadata": {},
   "source": [
    "### Estimating the Cluster  Counts\n",
    "\n",
    "Now let's summarize the circular region centered on the cluster."
   ]
  },
  {
   "cell_type": "code",
   "execution_count": null,
   "metadata": {
    "collapsed": false
   },
   "outputs": [],
   "source": [
    "plt.imshow(viz.scale_image(signal, scale='log', max_cut=40), cmap='gray', origin='lower')"
   ]
  },
  {
   "cell_type": "code",
   "execution_count": null,
   "metadata": {
    "collapsed": false
   },
   "outputs": [],
   "source": [
    "plt.figure(figsize=(10,7))\n",
    "n, bins, patches = plt.hist(signal[signal > -1], bins=np.linspace(-3.5,29.5,34), color='red')\n",
    "plt.yscale('log', nonposy='clip')\n",
    "plt.xlabel('Signal region pixel value (counts)')\n",
    "plt.ylabel('Frequency')\n",
    "plt.axis([-3.0, 30.0, 0, 500000])\n",
    "plt.grid(True)\n",
    "plt.show()"
   ]
  },
  {
   "cell_type": "markdown",
   "metadata": {},
   "source": [
    "Now we can make our estimates: "
   ]
  },
  {
   "cell_type": "code",
   "execution_count": null,
   "metadata": {
    "collapsed": false
   },
   "outputs": [],
   "source": [
    "# Total counts in signal region:\n",
    "Ntotal = np.sum(signal[signal > -1])\n",
    "\n",
    "# Background counts: mean in annulus, multiplied by number of pixels in signal region:\n",
    "N = signal.copy()*0.0\n",
    "N[signal > -1] = 1.0\n",
    "Nbackground = np.sum(N)*meanbackground  # Is this a good choice?\n",
    "\n",
    "# Difference is the cluster counts:\n",
    "Ncluster = Ntotal - Nbackground\n",
    "\n",
    "print \"Counts in signal region: \",Ntotal\n",
    "print \"Approximate counts due to background: \",Nbackground\n",
    "print \"Approximate counts due to cluster: \",Ncluster"
   ]
  },
  {
   "cell_type": "markdown",
   "metadata": {},
   "source": [
    "## Lessons\n",
    "\n",
    "Summary statistics are how we:\n",
    "\n",
    "* _reduce the dimensionality_ of datasets to a level where we can make sense of what is going on\n",
    "\n",
    "* make _rough estimates_ of important quantities we are interested in\n",
    "\n",
    "But:\n",
    "\n",
    "* their _uncertainty_ is non-trivial to estimate, and at least requires more information"
   ]
  },
  {
   "cell_type": "code",
   "execution_count": null,
   "metadata": {
    "collapsed": true
   },
   "outputs": [],
   "source": []
  }
 ],
 "metadata": {
  "kernelspec": {
   "display_name": "Python 2",
   "language": "python",
   "name": "python2"
  },
  "language_info": {
   "codemirror_mode": {
    "name": "ipython",
    "version": 2
   },
   "file_extension": ".py",
   "mimetype": "text/x-python",
   "name": "python",
   "nbconvert_exporter": "python",
   "pygments_lexer": "ipython2",
   "version": "2.7.10"
  }
 },
 "nbformat": 4,
 "nbformat_minor": 0
}
